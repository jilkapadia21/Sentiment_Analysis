{
  "cells": [
    {
      "cell_type": "markdown",
      "metadata": {
        "id": "view-in-github",
        "colab_type": "text"
      },
      "source": [
        "<a href=\"https://colab.research.google.com/github/ChrisDc777/SentimentAnalysis/blob/main/Org_notbal.ipynb\" target=\"_parent\"><img src=\"https://colab.research.google.com/assets/colab-badge.svg\" alt=\"Open In Colab\"/></a>"
      ]
    },
    {
      "cell_type": "markdown",
      "metadata": {
        "id": "AY2NhfjOrKJi"
      },
      "source": [
        "# Sentiment Analysis on Tourist Accomodation Reviews"
      ]
    },
    {
      "cell_type": "code",
      "execution_count": null,
      "metadata": {
        "colab": {
          "base_uri": "https://localhost:8080/"
        },
        "id": "BciyvlJDEvCo",
        "outputId": "f45d4c5b-fb3b-48ec-abd3-e7e3231e4949"
      },
      "outputs": [
        {
          "output_type": "stream",
          "name": "stderr",
          "text": [
            "[nltk_data] Downloading package stopwords to /root/nltk_data...\n",
            "[nltk_data]   Unzipping corpora/stopwords.zip.\n"
          ]
        }
      ],
      "source": [
        "import nltk\n",
        "import pandas as pd\n",
        "import matplotlib.pyplot as plt\n",
        "nltk.download('stopwords')\n",
        "from nltk.corpus import stopwords\n",
        "import re\n",
        "%matplotlib inline\n",
        "import numpy as np\n",
        "seed_val = 0\n",
        "np.random.seed(seed_val)"
      ]
    },
    {
      "cell_type": "markdown",
      "metadata": {
        "id": "WNJ0COjnWwMI"
      },
      "source": [
        "# i. Introduction\n",
        "\n",
        "## 1. Domain Specific Area\n",
        "Holidays are precious days in our lives that are full of experiences. Experiences that we gain by seeing different places, meeting with different people from different cultures, eating different food and staying overnight in a different environment. Tourists always have things to say about their holidays, whether they are good or bad. Tourist online platforms take advantage of this and encourage tourists to leave reviews about the tourism products they consumed while on holiday. These reviews are considered as a rich data source of information both for the tourism industry and for future travellers.\n",
        "\n",
        "For the tourism industry, it is important to analyse the textual reviews so they can improve their products and offer better services which can then lead to attracting more customers and increasing their revenues. Moreover, they can improve their customer relationship management to provide better support and services. Additionally, some tourism businesses can learn, not only from their customers' experiences but also from their competitors’ customers who may leave reviews on the same platform.\n",
        "\n",
        "However, the number of reviews that exist on a single platform is too high to be analysed manually by a team of people. Hence, Natural Language Processing (NLP) techniques together with Machine Learning methods, which were developed in recent years, can help in the analysis process by creating models, classifying texts and presenting the key insights from the huge amount of text data. Working on the task of extracting information about the contentment of the person reflected on the written text, is defined as sentiment analysis.\n",
        "\n",
        "According to Ozen, I. A. (2021), sentiment analysis, which is a sub-field of text mining, is a field of study that analyses people's ideas and thoughts from text-based comments. Sentiment analysis can be applied at the document level, sentence level and aspect-based sentiment levels. Additionally, Jurafsky et al (2021) consider sentiment analysis, as a subfield of text categorisation, where the main task is the extraction of sentiment, which can be either the positive or negative orientation that a writer expresses toward some object.\n",
        "\n",
        "Although the online reviews can benefit a tourism business, they can create the opposite effect: A particular business may receive a low ranking by the tourists, or its competitors receive a much higher ranking. This increase the competitiveness between the tourist product providers. Additionally, the whole touristic industry has tremendously suffered during the COVID-19 pandemic, and it is trying to recover. This is still difficult, as some travel restrictions are still in place and there is still some fear in the society. Therefore, the tourism business, such as accommodation providers should take advantage of the new data science technologies and the existing publicly available reviews datasets to create sentiment analysis models that could help them position themselves ahead in this market.\n",
        "\n",
        "## 2. Objectives\n",
        "The objective of this work is to create a sentiment analysis model for the tourism industry, especially for the accommodation sector which includes hotels, hostels, B&Bs and holidays resorts among others.\n",
        "The model will have two main functions:\n",
        "\n",
        "1.\tIt will potentially show the keywords that are used in negative and positive reviews and\n",
        "2.\tIt will serve as a predictor for the positivity or negativity of future textual reviews from future customers.\n",
        "\n",
        "A business within the tourism industry could potentially understand better what are the main things that affect a tourist experience in holiday accommodation. For example, if many positive reviews have to do with the breakfast, the business could put emphasis on the breakfast, or if it is the bed quality, then the business should realise that it is important to have a good quality mattresses and do replace them when they are worn off. Similarly, if the bad reviews have to do with noise, the business should keep their accommodation as quiet as possible. The model insights will be useful for any tourism business.\n",
        "\n",
        "The second function of the model will be an essential part of the plan in the continuous improvement team of the tourism business.\n",
        "The business could politely request from the customers to write or voice record their experience in their hotel or resort. The business should store this as a privately owned database. Then, they could predict the sentiment analysis from their customers without asking them to give them a ranking, as this could be predicted from the model. These insights could be very useful, so the business, could add this information to other internal work-recording datasets and they would be able to detect specific areas of concern or for improvement within the business, for example, if there was a problem with the reception not being available for public, or if the cleaning staff hasn’t done the job correctly on specific times.\n",
        "\n",
        "## 3. Dataset\n",
        "\n",
        "The dataset is publicly available and it was extracted from Kaggle as a CSV file (Trip Advisor Hotel Reviews, 2020). The dataset was provided by the TripAdvisor Website. TripAdvisor is a leading web platform where people can get information and advice about different tourist destinations, products and services as well as about entertainment activities and restaurants. It is user-generated content as users both look for information and share their experiences and reviews about the different touristic products.\n",
        "This specific dataset contains reviews, which were left by users in TripAdvisor, about different accommodation places around the globe."
      ]
    },
    {
      "cell_type": "code",
      "source": [
        "import pandas as pd\n",
        "from google.colab import drive\n",
        "drive.mount('/content/drive')"
      ],
      "metadata": {
        "colab": {
          "base_uri": "https://localhost:8080/"
        },
        "id": "oQeNTz8ymgET",
        "outputId": "04286332-c051-4758-c5aa-8533bb89573c"
      },
      "execution_count": null,
      "outputs": [
        {
          "output_type": "stream",
          "name": "stdout",
          "text": [
            "Mounted at /content/drive\n"
          ]
        }
      ]
    },
    {
      "cell_type": "code",
      "execution_count": null,
      "metadata": {
        "id": "a-TkUhy_EvC0"
      },
      "outputs": [],
      "source": [
        "#load the dataset\n",
        "df=pd.read_csv('/content/drive/MyDrive/Dataset/tripadvisor_hotel_reviews.csv')"
      ]
    },
    {
      "cell_type": "code",
      "execution_count": null,
      "metadata": {
        "colab": {
          "base_uri": "https://localhost:8080/",
          "height": 206
        },
        "id": "0LXclxPkEvC2",
        "outputId": "ebf44784-b00b-4862-e33e-61ec0cb04f04"
      },
      "outputs": [
        {
          "output_type": "execute_result",
          "data": {
            "text/plain": [
              "                                              Review  Rating sentiment  \\\n",
              "0  nice hotel expensive parking got good deal sta...       4       Pos   \n",
              "1  ok nothing special charge diamond member hilto...       2       Neg   \n",
              "2  nice rooms not 4* experience hotel monaco seat...       3       Neu   \n",
              "3  unique, great stay, wonderful time hotel monac...       5       Pos   \n",
              "4  great stay great stay, went seahawk game aweso...       5       Pos   \n",
              "\n",
              "                              simple_cleaned_reviews  \n",
              "0  nice hotel expensive parking got good deal sta...  \n",
              "1  ok nothing special charge diamond member hilto...  \n",
              "2  nice rooms not    experience hotel monaco seat...  \n",
              "3  unique  great stay  wonderful time hotel monac...  \n",
              "4  great stay great stay  went seahawk game aweso...  "
            ],
            "text/html": [
              "\n",
              "  <div id=\"df-9503ac87-cdc9-4be4-9860-f913ca07532d\">\n",
              "    <div class=\"colab-df-container\">\n",
              "      <div>\n",
              "<style scoped>\n",
              "    .dataframe tbody tr th:only-of-type {\n",
              "        vertical-align: middle;\n",
              "    }\n",
              "\n",
              "    .dataframe tbody tr th {\n",
              "        vertical-align: top;\n",
              "    }\n",
              "\n",
              "    .dataframe thead th {\n",
              "        text-align: right;\n",
              "    }\n",
              "</style>\n",
              "<table border=\"1\" class=\"dataframe\">\n",
              "  <thead>\n",
              "    <tr style=\"text-align: right;\">\n",
              "      <th></th>\n",
              "      <th>Review</th>\n",
              "      <th>Rating</th>\n",
              "      <th>sentiment</th>\n",
              "      <th>simple_cleaned_reviews</th>\n",
              "    </tr>\n",
              "  </thead>\n",
              "  <tbody>\n",
              "    <tr>\n",
              "      <th>0</th>\n",
              "      <td>nice hotel expensive parking got good deal sta...</td>\n",
              "      <td>4</td>\n",
              "      <td>Pos</td>\n",
              "      <td>nice hotel expensive parking got good deal sta...</td>\n",
              "    </tr>\n",
              "    <tr>\n",
              "      <th>1</th>\n",
              "      <td>ok nothing special charge diamond member hilto...</td>\n",
              "      <td>2</td>\n",
              "      <td>Neg</td>\n",
              "      <td>ok nothing special charge diamond member hilto...</td>\n",
              "    </tr>\n",
              "    <tr>\n",
              "      <th>2</th>\n",
              "      <td>nice rooms not 4* experience hotel monaco seat...</td>\n",
              "      <td>3</td>\n",
              "      <td>Neu</td>\n",
              "      <td>nice rooms not    experience hotel monaco seat...</td>\n",
              "    </tr>\n",
              "    <tr>\n",
              "      <th>3</th>\n",
              "      <td>unique, great stay, wonderful time hotel monac...</td>\n",
              "      <td>5</td>\n",
              "      <td>Pos</td>\n",
              "      <td>unique  great stay  wonderful time hotel monac...</td>\n",
              "    </tr>\n",
              "    <tr>\n",
              "      <th>4</th>\n",
              "      <td>great stay great stay, went seahawk game aweso...</td>\n",
              "      <td>5</td>\n",
              "      <td>Pos</td>\n",
              "      <td>great stay great stay  went seahawk game aweso...</td>\n",
              "    </tr>\n",
              "  </tbody>\n",
              "</table>\n",
              "</div>\n",
              "      <button class=\"colab-df-convert\" onclick=\"convertToInteractive('df-9503ac87-cdc9-4be4-9860-f913ca07532d')\"\n",
              "              title=\"Convert this dataframe to an interactive table.\"\n",
              "              style=\"display:none;\">\n",
              "        \n",
              "  <svg xmlns=\"http://www.w3.org/2000/svg\" height=\"24px\"viewBox=\"0 0 24 24\"\n",
              "       width=\"24px\">\n",
              "    <path d=\"M0 0h24v24H0V0z\" fill=\"none\"/>\n",
              "    <path d=\"M18.56 5.44l.94 2.06.94-2.06 2.06-.94-2.06-.94-.94-2.06-.94 2.06-2.06.94zm-11 1L8.5 8.5l.94-2.06 2.06-.94-2.06-.94L8.5 2.5l-.94 2.06-2.06.94zm10 10l.94 2.06.94-2.06 2.06-.94-2.06-.94-.94-2.06-.94 2.06-2.06.94z\"/><path d=\"M17.41 7.96l-1.37-1.37c-.4-.4-.92-.59-1.43-.59-.52 0-1.04.2-1.43.59L10.3 9.45l-7.72 7.72c-.78.78-.78 2.05 0 2.83L4 21.41c.39.39.9.59 1.41.59.51 0 1.02-.2 1.41-.59l7.78-7.78 2.81-2.81c.8-.78.8-2.07 0-2.86zM5.41 20L4 18.59l7.72-7.72 1.47 1.35L5.41 20z\"/>\n",
              "  </svg>\n",
              "      </button>\n",
              "      \n",
              "  <style>\n",
              "    .colab-df-container {\n",
              "      display:flex;\n",
              "      flex-wrap:wrap;\n",
              "      gap: 12px;\n",
              "    }\n",
              "\n",
              "    .colab-df-convert {\n",
              "      background-color: #E8F0FE;\n",
              "      border: none;\n",
              "      border-radius: 50%;\n",
              "      cursor: pointer;\n",
              "      display: none;\n",
              "      fill: #1967D2;\n",
              "      height: 32px;\n",
              "      padding: 0 0 0 0;\n",
              "      width: 32px;\n",
              "    }\n",
              "\n",
              "    .colab-df-convert:hover {\n",
              "      background-color: #E2EBFA;\n",
              "      box-shadow: 0px 1px 2px rgba(60, 64, 67, 0.3), 0px 1px 3px 1px rgba(60, 64, 67, 0.15);\n",
              "      fill: #174EA6;\n",
              "    }\n",
              "\n",
              "    [theme=dark] .colab-df-convert {\n",
              "      background-color: #3B4455;\n",
              "      fill: #D2E3FC;\n",
              "    }\n",
              "\n",
              "    [theme=dark] .colab-df-convert:hover {\n",
              "      background-color: #434B5C;\n",
              "      box-shadow: 0px 1px 3px 1px rgba(0, 0, 0, 0.15);\n",
              "      filter: drop-shadow(0px 1px 2px rgba(0, 0, 0, 0.3));\n",
              "      fill: #FFFFFF;\n",
              "    }\n",
              "  </style>\n",
              "\n",
              "      <script>\n",
              "        const buttonEl =\n",
              "          document.querySelector('#df-9503ac87-cdc9-4be4-9860-f913ca07532d button.colab-df-convert');\n",
              "        buttonEl.style.display =\n",
              "          google.colab.kernel.accessAllowed ? 'block' : 'none';\n",
              "\n",
              "        async function convertToInteractive(key) {\n",
              "          const element = document.querySelector('#df-9503ac87-cdc9-4be4-9860-f913ca07532d');\n",
              "          const dataTable =\n",
              "            await google.colab.kernel.invokeFunction('convertToInteractive',\n",
              "                                                     [key], {});\n",
              "          if (!dataTable) return;\n",
              "\n",
              "          const docLinkHtml = 'Like what you see? Visit the ' +\n",
              "            '<a target=\"_blank\" href=https://colab.research.google.com/notebooks/data_table.ipynb>data table notebook</a>'\n",
              "            + ' to learn more about interactive tables.';\n",
              "          element.innerHTML = '';\n",
              "          dataTable['output_type'] = 'display_data';\n",
              "          await google.colab.output.renderOutput(dataTable, element);\n",
              "          const docLink = document.createElement('div');\n",
              "          docLink.innerHTML = docLinkHtml;\n",
              "          element.appendChild(docLink);\n",
              "        }\n",
              "      </script>\n",
              "    </div>\n",
              "  </div>\n",
              "  "
            ]
          },
          "metadata": {},
          "execution_count": 320
        }
      ],
      "source": [
        "#look at the dataset\n",
        "df.head()"
      ]
    },
    {
      "cell_type": "code",
      "execution_count": null,
      "metadata": {
        "colab": {
          "base_uri": "https://localhost:8080/"
        },
        "id": "kY-V1VffEvC9",
        "outputId": "f1c628c1-1921-4033-c208-7bcee01ac772"
      },
      "outputs": [
        {
          "output_type": "execute_result",
          "data": {
            "text/plain": [
              "20491"
            ]
          },
          "metadata": {},
          "execution_count": 74
        }
      ],
      "source": [
        "#look at the numbers of samples\n",
        "len(df)"
      ]
    },
    {
      "cell_type": "code",
      "execution_count": null,
      "metadata": {
        "colab": {
          "base_uri": "https://localhost:8080/"
        },
        "id": "bNUL0x_JdByh",
        "outputId": "c7dbab8d-3b85-47f8-f06a-30553b52b8d8"
      },
      "outputs": [
        {
          "output_type": "execute_result",
          "data": {
            "text/plain": [
              "Review    object\n",
              "Rating     int64\n",
              "dtype: object"
            ]
          },
          "metadata": {},
          "execution_count": 6
        }
      ],
      "source": [
        "#look at the data types\n",
        "df.dtypes"
      ]
    },
    {
      "cell_type": "code",
      "execution_count": null,
      "metadata": {
        "id": "17suZ2-HrKJp",
        "outputId": "0ebdc7ae-6301-4c37-bb5a-84c2f4c6e85a",
        "colab": {
          "base_uri": "https://localhost:8080/"
        }
      },
      "outputs": [
        {
          "output_type": "execute_result",
          "data": {
            "text/plain": [
              "0"
            ]
          },
          "metadata": {},
          "execution_count": 10
        }
      ],
      "source": [
        "#checking that there is no missing data\n",
        "df[\"Review\"].isna().sum()\n"
      ]
    },
    {
      "cell_type": "code",
      "execution_count": null,
      "metadata": {
        "id": "j3TlY77CrKJp",
        "outputId": "abf15c26-07eb-4b36-8df0-91656ce91e63",
        "colab": {
          "base_uri": "https://localhost:8080/"
        }
      },
      "outputs": [
        {
          "output_type": "execute_result",
          "data": {
            "text/plain": [
              "0"
            ]
          },
          "metadata": {},
          "execution_count": 9
        }
      ],
      "source": [
        "#checking that there is no missing data\n",
        "df[\"Rating\"].isna().sum()"
      ]
    },
    {
      "cell_type": "code",
      "execution_count": null,
      "metadata": {
        "colab": {
          "base_uri": "https://localhost:8080/"
        },
        "id": "E3VkeGhgY4hP",
        "outputId": "d0584331-1789-4047-d2fe-14ff4308e7e6"
      },
      "outputs": [
        {
          "output_type": "stream",
          "name": "stdout",
          "text": [
            "[1, 2, 3, 4, 5]\n"
          ]
        }
      ],
      "source": [
        "#checking the existing values of 'Rating'\n",
        "print(sorted(df['Rating'].unique()))"
      ]
    },
    {
      "cell_type": "code",
      "execution_count": null,
      "metadata": {
        "colab": {
          "base_uri": "https://localhost:8080/",
          "height": 428
        },
        "id": "a1OvuaTTZKTa",
        "outputId": "a3c48d9b-f459-4a91-81fd-a376944ef868"
      },
      "outputs": [
        {
          "output_type": "display_data",
          "data": {
            "text/plain": [
              "<Figure size 640x480 with 1 Axes>"
            ],
            "image/png": "[encoded data removed]"
          },
          "metadata": {}
        }
      ],
      "source": [
        "#looking at the distribution of the different values in rating\n",
        "df['Rating'].value_counts().plot.pie(autopct='%1.1f%%')\n",
        "plt.title('Distribution of the ranking values on the dataset')\n",
        "plt.show()"
      ]
    },
    {
      "cell_type": "code",
      "source": [
        "sns.distplot(df['Rating'])\n",
        "plt.show()"
      ],
      "metadata": {
        "colab": {
          "base_uri": "https://localhost:8080/",
          "height": 640
        },
        "id": "xpR9h2XQoDFo",
        "outputId": "04a3a71f-6329-4195-db6d-7f4f5c4d7c6b"
      },
      "execution_count": null,
      "outputs": [
        {
          "output_type": "stream",
          "name": "stderr",
          "text": [
            "<ipython-input-10-cc046c843659>:1: UserWarning: \n",
            "\n",
            "`distplot` is a deprecated function and will be removed in seaborn v0.14.0.\n",
            "\n",
            "Please adapt your code to use either `displot` (a figure-level function with\n",
            "similar flexibility) or `histplot` (an axes-level function for histograms).\n",
            "\n",
            "For a guide to updating your code to use the new functions, please see\n",
            "https://gist.github.com/mwaskom/de44147ed2974457ad6372750bbe5751\n",
            "\n",
            "  sns.distplot(df['Rating'])\n"
          ]
        },
        {
          "output_type": "display_data",
          "data": {
            "text/plain": [
              "<Figure size 640x480 with 1 Axes>"
            ],
            "image/png": "[encoded data removed]"
          },
          "metadata": {}
        }
      ]
    },
    {
      "cell_type": "markdown",
      "metadata": {
        "id": "_JiFfL8dYiUm"
      },
      "source": [
        "It contains almost twenty thousand five hundred reviews. Each of them consists of two items, one for the textual review and the second is the rating, which is an integer value from 1 to 5.\n",
        "From the above pie chart, we can see that the percentage corresponding to each value increases with its ranking. Fewer people give low values reviews and more people give good values reviews. From this, we can conclude that the people are generally happy with the product and services they receive in a holiday accommodation."
      ]
    },
    {
      "cell_type": "markdown",
      "metadata": {
        "id": "7aLToxwRA1tU"
      },
      "source": [
        "## 4. Evaluation method\n",
        "The most common evaluation parameter for classification problems, such as sentiment analysis, is the accuracy percentage. However, it is not a sufficient metric for the efficiency of the model when the data that the model is based on, is unbalanced. In these cases, there are many other metrics that can help determine whether the model is good.  \n",
        "\n",
        "First, we can create a confusion matrix.  It is a 2-dimensional array, where the rows represent the predicted values for each class and the columns represent the true values for each class and the cell is the count of the samples which were originally classified as their column class and predicted as its raw class. Hence, for a model that has a 100% accuracy, we would see numbers in the diagonal from top left to right bottom, and zeros all around the matrix. Similarly, for good models, we would expect high-value numbers in the diagonal and low-value numbers and zeros around.\n",
        "\n",
        "From the confusion matrix, we could calculate the recall and precision as well. The recall (R )  is the percentage of the total number of correctly classified items of a specific class out of all the present items for this class.  The precision (P) is the percentage of the correctly classified items for a particular class out of all the items that were classified as this class. From these two parameters, we can define a third metric that combines the two of them, the F-measure.\n",
        "\n",
        "When we are working with more than two classes, we could calculate an f1 by microaveraging or macroaveraging, when we calculate it by macroaveraging, we average the f1 that was calculated for each class and average them. This way, all the classes have the same weight. On the other hand, if we use the microaverage, we will take into account the initial weight of each class in the dataset, hence, it will be dominated by the most frequent one.\n",
        "\n",
        "For this work, it was decided to take into account both the accuracy and the f1 which was calculated by macroaveraging, as well as the f1 for each of the classes.\n"
      ]
    },
    {
      "cell_type": "markdown",
      "metadata": {
        "id": "uScZ3sGQrKJr"
      },
      "source": [
        "# ii. Implementation\n",
        "### 5. Pre-processing\n",
        "First of all, we would simplify the sentiment analysis task by classifying rankings 4 and 5 as positive sentiments, 1 and 2 as negative sentiments and 3 as neutral sentiments."
      ]
    },
    {
      "cell_type": "code",
      "execution_count": null,
      "metadata": {
        "id": "QwuGZ-qvEvC5"
      },
      "outputs": [],
      "source": [
        "#generate the new 'sentiment' column\n",
        "classification=[]\n",
        "for i in range(len(df)):\n",
        "    if df['Rating'][i]>=4:\n",
        "        rev='Pos'\n",
        "    elif df['Rating'][i]==3:\n",
        "        rev='Neu'\n",
        "    else:\n",
        "        rev='Neg'\n",
        "    classification.append(rev)\n",
        "df['sentiment']=classification"
      ]
    },
    {
      "cell_type": "code",
      "execution_count": null,
      "metadata": {
        "colab": {
          "base_uri": "https://localhost:8080/",
          "height": 206
        },
        "id": "00yQlribEvC7",
        "outputId": "5de113df-3e61-4ef6-c74d-3196c9f5a9bf"
      },
      "outputs": [
        {
          "output_type": "execute_result",
          "data": {
            "text/plain": [
              "                                              Review  Rating sentiment\n",
              "0  nice hotel expensive parking got good deal sta...       4       Pos\n",
              "1  ok nothing special charge diamond member hilto...       2       Neg\n",
              "2  nice rooms not 4* experience hotel monaco seat...       3       Neu\n",
              "3  unique, great stay, wonderful time hotel monac...       5       Pos\n",
              "4  great stay great stay, went seahawk game aweso...       5       Pos"
            ],
            "text/html": [
              "\n",
              "  <div id=\"df-6b4e7b8f-0905-4692-8e4e-fb171cfaa2dd\">\n",
              "    <div class=\"colab-df-container\">\n",
              "      <div>\n",
              "<style scoped>\n",
              "    .dataframe tbody tr th:only-of-type {\n",
              "        vertical-align: middle;\n",
              "    }\n",
              "\n",
              "    .dataframe tbody tr th {\n",
              "        vertical-align: top;\n",
              "    }\n",
              "\n",
              "    .dataframe thead th {\n",
              "        text-align: right;\n",
              "    }\n",
              "</style>\n",
              "<table border=\"1\" class=\"dataframe\">\n",
              "  <thead>\n",
              "    <tr style=\"text-align: right;\">\n",
              "      <th></th>\n",
              "      <th>Review</th>\n",
              "      <th>Rating</th>\n",
              "      <th>sentiment</th>\n",
              "    </tr>\n",
              "  </thead>\n",
              "  <tbody>\n",
              "    <tr>\n",
              "      <th>0</th>\n",
              "      <td>nice hotel expensive parking got good deal sta...</td>\n",
              "      <td>4</td>\n",
              "      <td>Pos</td>\n",
              "    </tr>\n",
              "    <tr>\n",
              "      <th>1</th>\n",
              "      <td>ok nothing special charge diamond member hilto...</td>\n",
              "      <td>2</td>\n",
              "      <td>Neg</td>\n",
              "    </tr>\n",
              "    <tr>\n",
              "      <th>2</th>\n",
              "      <td>nice rooms not 4* experience hotel monaco seat...</td>\n",
              "      <td>3</td>\n",
              "      <td>Neu</td>\n",
              "    </tr>\n",
              "    <tr>\n",
              "      <th>3</th>\n",
              "      <td>unique, great stay, wonderful time hotel monac...</td>\n",
              "      <td>5</td>\n",
              "      <td>Pos</td>\n",
              "    </tr>\n",
              "    <tr>\n",
              "      <th>4</th>\n",
              "      <td>great stay great stay, went seahawk game aweso...</td>\n",
              "      <td>5</td>\n",
              "      <td>Pos</td>\n",
              "    </tr>\n",
              "  </tbody>\n",
              "</table>\n",
              "</div>\n",
              "      <button class=\"colab-df-convert\" onclick=\"convertToInteractive('df-6b4e7b8f-0905-4692-8e4e-fb171cfaa2dd')\"\n",
              "              title=\"Convert this dataframe to an interactive table.\"\n",
              "              style=\"display:none;\">\n",
              "        \n",
              "  <svg xmlns=\"http://www.w3.org/2000/svg\" height=\"24px\"viewBox=\"0 0 24 24\"\n",
              "       width=\"24px\">\n",
              "    <path d=\"M0 0h24v24H0V0z\" fill=\"none\"/>\n",
              "    <path d=\"M18.56 5.44l.94 2.06.94-2.06 2.06-.94-2.06-.94-.94-2.06-.94 2.06-2.06.94zm-11 1L8.5 8.5l.94-2.06 2.06-.94-2.06-.94L8.5 2.5l-.94 2.06-2.06.94zm10 10l.94 2.06.94-2.06 2.06-.94-2.06-.94-.94-2.06-.94 2.06-2.06.94z\"/><path d=\"M17.41 7.96l-1.37-1.37c-.4-.4-.92-.59-1.43-.59-.52 0-1.04.2-1.43.59L10.3 9.45l-7.72 7.72c-.78.78-.78 2.05 0 2.83L4 21.41c.39.39.9.59 1.41.59.51 0 1.02-.2 1.41-.59l7.78-7.78 2.81-2.81c.8-.78.8-2.07 0-2.86zM5.41 20L4 18.59l7.72-7.72 1.47 1.35L5.41 20z\"/>\n",
              "  </svg>\n",
              "      </button>\n",
              "      \n",
              "  <style>\n",
              "    .colab-df-container {\n",
              "      display:flex;\n",
              "      flex-wrap:wrap;\n",
              "      gap: 12px;\n",
              "    }\n",
              "\n",
              "    .colab-df-convert {\n",
              "      background-color: #E8F0FE;\n",
              "      border: none;\n",
              "      border-radius: 50%;\n",
              "      cursor: pointer;\n",
              "      display: none;\n",
              "      fill: #1967D2;\n",
              "      height: 32px;\n",
              "      padding: 0 0 0 0;\n",
              "      width: 32px;\n",
              "    }\n",
              "\n",
              "    .colab-df-convert:hover {\n",
              "      background-color: #E2EBFA;\n",
              "      box-shadow: 0px 1px 2px rgba(60, 64, 67, 0.3), 0px 1px 3px 1px rgba(60, 64, 67, 0.15);\n",
              "      fill: #174EA6;\n",
              "    }\n",
              "\n",
              "    [theme=dark] .colab-df-convert {\n",
              "      background-color: #3B4455;\n",
              "      fill: #D2E3FC;\n",
              "    }\n",
              "\n",
              "    [theme=dark] .colab-df-convert:hover {\n",
              "      background-color: #434B5C;\n",
              "      box-shadow: 0px 1px 3px 1px rgba(0, 0, 0, 0.15);\n",
              "      filter: drop-shadow(0px 1px 2px rgba(0, 0, 0, 0.3));\n",
              "      fill: #FFFFFF;\n",
              "    }\n",
              "  </style>\n",
              "\n",
              "      <script>\n",
              "        const buttonEl =\n",
              "          document.querySelector('#df-6b4e7b8f-0905-4692-8e4e-fb171cfaa2dd button.colab-df-convert');\n",
              "        buttonEl.style.display =\n",
              "          google.colab.kernel.accessAllowed ? 'block' : 'none';\n",
              "\n",
              "        async function convertToInteractive(key) {\n",
              "          const element = document.querySelector('#df-6b4e7b8f-0905-4692-8e4e-fb171cfaa2dd');\n",
              "          const dataTable =\n",
              "            await google.colab.kernel.invokeFunction('convertToInteractive',\n",
              "                                                     [key], {});\n",
              "          if (!dataTable) return;\n",
              "\n",
              "          const docLinkHtml = 'Like what you see? Visit the ' +\n",
              "            '<a target=\"_blank\" href=https://colab.research.google.com/notebooks/data_table.ipynb>data table notebook</a>'\n",
              "            + ' to learn more about interactive tables.';\n",
              "          element.innerHTML = '';\n",
              "          dataTable['output_type'] = 'display_data';\n",
              "          await google.colab.output.renderOutput(dataTable, element);\n",
              "          const docLink = document.createElement('div');\n",
              "          docLink.innerHTML = docLinkHtml;\n",
              "          element.appendChild(docLink);\n",
              "        }\n",
              "      </script>\n",
              "    </div>\n",
              "  </div>\n",
              "  "
            ]
          },
          "metadata": {},
          "execution_count": 16
        }
      ],
      "source": [
        "df.head()"
      ]
    },
    {
      "cell_type": "markdown",
      "metadata": {
        "id": "7d41B_UNrKJr"
      },
      "source": [
        "We look back at the distribution of the new feature \"sentiment\""
      ]
    },
    {
      "cell_type": "code",
      "execution_count": null,
      "metadata": {
        "colab": {
          "base_uri": "https://localhost:8080/",
          "height": 428
        },
        "id": "r_lVQBC0EvC-",
        "outputId": "86f957ea-c3c9-4a24-b66f-cdf48a666a84"
      },
      "outputs": [
        {
          "output_type": "display_data",
          "data": {
            "text/plain": [
              "<Figure size 640x480 with 1 Axes>"
            ],
            "image/png": "[encoded data removed]"
          },
          "metadata": {}
        }
      ],
      "source": [
        "df['sentiment'].value_counts().plot.pie(autopct='%1.1f%%')\n",
        "plt.title('Distribution of sentiments on the dataset')\n",
        "plt.savefig('sentimentDistribution.png')\n",
        "plt.show()"
      ]
    },
    {
      "cell_type": "markdown",
      "metadata": {
        "id": "77lpG0YDrKJs"
      },
      "source": [
        "We look at one positive example and one negative example"
      ]
    },
    {
      "cell_type": "code",
      "execution_count": null,
      "metadata": {
        "colab": {
          "base_uri": "https://localhost:8080/"
        },
        "id": "16FiOMs1EvDB",
        "outputId": "8e8895d1-a7c6-46b7-aae3-8975cd73390a"
      },
      "outputs": [
        {
          "output_type": "stream",
          "name": "stdout",
          "text": [
            "nice hotel expensive parking got good deal stay hotel anniversary, arrived late evening took advice previous reviews did valet parking, check quick easy, little disappointed non-existent view room room clean nice size, bed comfortable woke stiff neck high pillows, not soundproof like heard music room night morning loud bangs doors opening closing hear people talking hallway, maybe just noisy neighbors, aveda bath products nice, did not goldfish stay nice touch taken advantage staying longer, location great walking distance shopping, overall nice experience having pay 40 parking night,  \n",
            "Pos\n"
          ]
        }
      ],
      "source": [
        "print(df['Review'][0])\n",
        "print(df['sentiment'][0])"
      ]
    },
    {
      "cell_type": "code",
      "execution_count": null,
      "metadata": {
        "id": "GG-dgobkrKJs",
        "outputId": "72c650e3-5e8c-47eb-8f6b-e478f07a2450",
        "colab": {
          "base_uri": "https://localhost:8080/"
        }
      },
      "outputs": [
        {
          "output_type": "stream",
          "name": "stdout",
          "text": [
            "ok nothing special charge diamond member hilton decided chain shot 20th anniversary seattle, start booked suite paid extra website description not, suite bedroom bathroom standard hotel room, took printed reservation desk showed said things like tv couch ect desk clerk told oh mixed suites description kimpton website sorry free breakfast, got kidding, embassy suits sitting room bathroom bedroom unlike kimpton calls suite, 5 day stay offer correct false advertising, send kimpton preferred guest website email asking failure provide suite advertised website reservation description furnished hard copy reservation printout website desk manager duty did not reply solution, send email trip guest survey did not follow email mail, guess tell concerned guest.the staff ranged indifferent not helpful, asked desk good breakfast spots neighborhood hood told no hotels, gee best breakfast spots seattle 1/2 block away convenient hotel does not know exist, arrived late night 11 pm inside run bellman busy chating cell phone help bags.prior arrival emailed hotel inform 20th anniversary half really picky wanted make sure good, got nice email saying like deliver bottle champagne chocolate covered strawberries room arrival celebrate, told needed foam pillows, arrival no champagne strawberries no foam pillows great room view alley high rise building good not better housekeeping staff cleaner room property, impressed left morning shopping room got short trips 2 hours, beds comfortable.not good ac-heat control 4 x 4 inch screen bring green shine directly eyes night, light sensitive tape controls.this not 4 start hotel clean business hotel super high rates, better chain hotels seattle,  \n",
            "Neg\n"
          ]
        }
      ],
      "source": [
        "print(df['Review'][1])\n",
        "print(df['sentiment'][1])"
      ]
    },
    {
      "cell_type": "markdown",
      "metadata": {
        "id": "xJZujl2-rKJs"
      },
      "source": [
        "### Text preprocessing strategies\n",
        "We plan different strategies of preprocessing text with modelling and then evaluate all of them together.\n",
        "##### 5.1. Simple clean and bag of words for the baseline model\n",
        "##### 5.2. Simple clean, adding embeddings of adjectives in the text and lemmatisation on the text and then proceed with a bag of words, while excluding \"stop words\".\n",
        " This type of preprocessing is generally used for text classification tasks.\n",
        "##### 5.3. Simple clean and lemmatisation, removal of \"stop words\" and counting only once each word that appears in the review, extracting only a few of the most common words in the full text.\n",
        "This type of preprocessing is generally used for sentiment analysis tasks.\n",
        "##### 5.4. No pre-process\n",
        "The un-processed reviews will be used with pre-prepared lexicon-based models for sentiment analysis\n",
        "\n",
        "Along with the work, we will do the preprocessing techniques and apply different machine models to the pre-processed data.\n",
        "We will start with the simple preprocessing strategy that will be used to create a baseline model.\n",
        "##### 5.1. Simple clean and bag of words for the baseline model"
      ]
    },
    {
      "cell_type": "code",
      "execution_count": null,
      "metadata": {
        "id": "uPSsGKGIEvDD"
      },
      "outputs": [],
      "source": [
        "#define the funcrion for initial cleaning\n",
        "def clean_rev_1(text):\n",
        "    text.lower()\n",
        "    #remove everything that are not letters\n",
        "    text=re.sub('[^a-z]', \" \", text)\n",
        "    return text"
      ]
    },
    {
      "cell_type": "code",
      "source": [
        "# Define the text cleaning function\n",
        "def clean_rev_2(text):\n",
        "    # Remove HTML tags\n",
        "    text = re.sub('<[^<]+?>', '', text)\n",
        "    # Remove punctuation and special characters\n",
        "    text = re.sub('[^a-zA-Z0-9\\s]', '', text)\n",
        "    # Convert to lowercase\n",
        "    text = text.lower()\n",
        "    # Remove extra whitespace\n",
        "    text = re.sub('\\s+', ' ', text).strip()\n",
        "\n",
        "    return text"
      ],
      "metadata": {
        "id": "WYNcink46X4h"
      },
      "execution_count": null,
      "outputs": []
    },
    {
      "cell_type": "code",
      "execution_count": null,
      "metadata": {
        "id": "2gF4NiZTEvDG"
      },
      "outputs": [],
      "source": [
        "#apply cleaning function to the reviews\n",
        "simple_cleaned_reviews=[clean_rev_1(df['Review'][i]) for i in range(len(df))]"
      ]
    },
    {
      "cell_type": "code",
      "execution_count": null,
      "metadata": {
        "id": "VmmY7gZVEvDI"
      },
      "outputs": [],
      "source": [
        "#store in the same DataFrame\n",
        "df['simple_cleaned_reviews']=simple_cleaned_reviews"
      ]
    },
    {
      "cell_type": "code",
      "execution_count": null,
      "metadata": {
        "colab": {
          "base_uri": "https://localhost:8080/",
          "height": 206
        },
        "id": "CVt8W_M7EvDK",
        "outputId": "efe69dd7-1b83-451d-b4de-82d367221a7b"
      },
      "outputs": [
        {
          "output_type": "execute_result",
          "data": {
            "text/plain": [
              "                                              Review  Rating sentiment  \\\n",
              "0  nice hotel expensive parking got good deal sta...       4       Pos   \n",
              "1  ok nothing special charge diamond member hilto...       2       Neg   \n",
              "2  nice rooms not 4* experience hotel monaco seat...       3       Neu   \n",
              "3  unique, great stay, wonderful time hotel monac...       5       Pos   \n",
              "4  great stay great stay, went seahawk game aweso...       5       Pos   \n",
              "\n",
              "                              simple_cleaned_reviews  \n",
              "0  nice hotel expensive parking got good deal sta...  \n",
              "1  ok nothing special charge diamond member hilto...  \n",
              "2  nice rooms not    experience hotel monaco seat...  \n",
              "3  unique  great stay  wonderful time hotel monac...  \n",
              "4  great stay great stay  went seahawk game aweso...  "
            ],
            "text/html": [
              "\n",
              "  <div id=\"df-88ec8aa1-39c7-4db7-b710-9b07116611f3\">\n",
              "    <div class=\"colab-df-container\">\n",
              "      <div>\n",
              "<style scoped>\n",
              "    .dataframe tbody tr th:only-of-type {\n",
              "        vertical-align: middle;\n",
              "    }\n",
              "\n",
              "    .dataframe tbody tr th {\n",
              "        vertical-align: top;\n",
              "    }\n",
              "\n",
              "    .dataframe thead th {\n",
              "        text-align: right;\n",
              "    }\n",
              "</style>\n",
              "<table border=\"1\" class=\"dataframe\">\n",
              "  <thead>\n",
              "    <tr style=\"text-align: right;\">\n",
              "      <th></th>\n",
              "      <th>Review</th>\n",
              "      <th>Rating</th>\n",
              "      <th>sentiment</th>\n",
              "      <th>simple_cleaned_reviews</th>\n",
              "    </tr>\n",
              "  </thead>\n",
              "  <tbody>\n",
              "    <tr>\n",
              "      <th>0</th>\n",
              "      <td>nice hotel expensive parking got good deal sta...</td>\n",
              "      <td>4</td>\n",
              "      <td>Pos</td>\n",
              "      <td>nice hotel expensive parking got good deal sta...</td>\n",
              "    </tr>\n",
              "    <tr>\n",
              "      <th>1</th>\n",
              "      <td>ok nothing special charge diamond member hilto...</td>\n",
              "      <td>2</td>\n",
              "      <td>Neg</td>\n",
              "      <td>ok nothing special charge diamond member hilto...</td>\n",
              "    </tr>\n",
              "    <tr>\n",
              "      <th>2</th>\n",
              "      <td>nice rooms not 4* experience hotel monaco seat...</td>\n",
              "      <td>3</td>\n",
              "      <td>Neu</td>\n",
              "      <td>nice rooms not    experience hotel monaco seat...</td>\n",
              "    </tr>\n",
              "    <tr>\n",
              "      <th>3</th>\n",
              "      <td>unique, great stay, wonderful time hotel monac...</td>\n",
              "      <td>5</td>\n",
              "      <td>Pos</td>\n",
              "      <td>unique  great stay  wonderful time hotel monac...</td>\n",
              "    </tr>\n",
              "    <tr>\n",
              "      <th>4</th>\n",
              "      <td>great stay great stay, went seahawk game aweso...</td>\n",
              "      <td>5</td>\n",
              "      <td>Pos</td>\n",
              "      <td>great stay great stay  went seahawk game aweso...</td>\n",
              "    </tr>\n",
              "  </tbody>\n",
              "</table>\n",
              "</div>\n",
              "      <button class=\"colab-df-convert\" onclick=\"convertToInteractive('df-88ec8aa1-39c7-4db7-b710-9b07116611f3')\"\n",
              "              title=\"Convert this dataframe to an interactive table.\"\n",
              "              style=\"display:none;\">\n",
              "        \n",
              "  <svg xmlns=\"http://www.w3.org/2000/svg\" height=\"24px\"viewBox=\"0 0 24 24\"\n",
              "       width=\"24px\">\n",
              "    <path d=\"M0 0h24v24H0V0z\" fill=\"none\"/>\n",
              "    <path d=\"M18.56 5.44l.94 2.06.94-2.06 2.06-.94-2.06-.94-.94-2.06-.94 2.06-2.06.94zm-11 1L8.5 8.5l.94-2.06 2.06-.94-2.06-.94L8.5 2.5l-.94 2.06-2.06.94zm10 10l.94 2.06.94-2.06 2.06-.94-2.06-.94-.94-2.06-.94 2.06-2.06.94z\"/><path d=\"M17.41 7.96l-1.37-1.37c-.4-.4-.92-.59-1.43-.59-.52 0-1.04.2-1.43.59L10.3 9.45l-7.72 7.72c-.78.78-.78 2.05 0 2.83L4 21.41c.39.39.9.59 1.41.59.51 0 1.02-.2 1.41-.59l7.78-7.78 2.81-2.81c.8-.78.8-2.07 0-2.86zM5.41 20L4 18.59l7.72-7.72 1.47 1.35L5.41 20z\"/>\n",
              "  </svg>\n",
              "      </button>\n",
              "      \n",
              "  <style>\n",
              "    .colab-df-container {\n",
              "      display:flex;\n",
              "      flex-wrap:wrap;\n",
              "      gap: 12px;\n",
              "    }\n",
              "\n",
              "    .colab-df-convert {\n",
              "      background-color: #E8F0FE;\n",
              "      border: none;\n",
              "      border-radius: 50%;\n",
              "      cursor: pointer;\n",
              "      display: none;\n",
              "      fill: #1967D2;\n",
              "      height: 32px;\n",
              "      padding: 0 0 0 0;\n",
              "      width: 32px;\n",
              "    }\n",
              "\n",
              "    .colab-df-convert:hover {\n",
              "      background-color: #E2EBFA;\n",
              "      box-shadow: 0px 1px 2px rgba(60, 64, 67, 0.3), 0px 1px 3px 1px rgba(60, 64, 67, 0.15);\n",
              "      fill: #174EA6;\n",
              "    }\n",
              "\n",
              "    [theme=dark] .colab-df-convert {\n",
              "      background-color: #3B4455;\n",
              "      fill: #D2E3FC;\n",
              "    }\n",
              "\n",
              "    [theme=dark] .colab-df-convert:hover {\n",
              "      background-color: #434B5C;\n",
              "      box-shadow: 0px 1px 3px 1px rgba(0, 0, 0, 0.15);\n",
              "      filter: drop-shadow(0px 1px 2px rgba(0, 0, 0, 0.3));\n",
              "      fill: #FFFFFF;\n",
              "    }\n",
              "  </style>\n",
              "\n",
              "      <script>\n",
              "        const buttonEl =\n",
              "          document.querySelector('#df-88ec8aa1-39c7-4db7-b710-9b07116611f3 button.colab-df-convert');\n",
              "        buttonEl.style.display =\n",
              "          google.colab.kernel.accessAllowed ? 'block' : 'none';\n",
              "\n",
              "        async function convertToInteractive(key) {\n",
              "          const element = document.querySelector('#df-88ec8aa1-39c7-4db7-b710-9b07116611f3');\n",
              "          const dataTable =\n",
              "            await google.colab.kernel.invokeFunction('convertToInteractive',\n",
              "                                                     [key], {});\n",
              "          if (!dataTable) return;\n",
              "\n",
              "          const docLinkHtml = 'Like what you see? Visit the ' +\n",
              "            '<a target=\"_blank\" href=https://colab.research.google.com/notebooks/data_table.ipynb>data table notebook</a>'\n",
              "            + ' to learn more about interactive tables.';\n",
              "          element.innerHTML = '';\n",
              "          dataTable['output_type'] = 'display_data';\n",
              "          await google.colab.output.renderOutput(dataTable, element);\n",
              "          const docLink = document.createElement('div');\n",
              "          docLink.innerHTML = docLinkHtml;\n",
              "          element.appendChild(docLink);\n",
              "        }\n",
              "      </script>\n",
              "    </div>\n",
              "  </div>\n",
              "  "
            ]
          },
          "metadata": {},
          "execution_count": 323
        }
      ],
      "source": [
        "df.head()"
      ]
    },
    {
      "cell_type": "code",
      "execution_count": null,
      "metadata": {
        "id": "NkpKG8Q0EvDL"
      },
      "outputs": [],
      "source": [
        "#shuffle the data\n",
        "df_shuffled = df.sample(frac=1).reset_index(drop=True)"
      ]
    },
    {
      "cell_type": "markdown",
      "metadata": {
        "id": "nbjQ95TpEvDN"
      },
      "source": [
        "### 6. Build a baseline classifier\n",
        "In this part we will build a baseline model with Naive Bayes, using a Gaussian distribution and 'Bag of words' as preprocessing technique removing the most common words which are generally called \"stop words\".\n",
        "The Naive Bayes model works by calculating the posterior probability of a review to be considered as a specific class, given the evidence of certain features which are the bag of words or scientificaly known tfidf(*term frequency X inverse document frequency*) for each review."
      ]
    },
    {
      "cell_type": "code",
      "execution_count": null,
      "metadata": {
        "id": "3kgzCOJLEvDR"
      },
      "outputs": [],
      "source": [
        "#import the relevant libraries\n",
        "from sklearn.feature_extraction.text import TfidfVectorizer\n",
        "from sklearn.naive_bayes import GaussianNB"
      ]
    },
    {
      "cell_type": "code",
      "execution_count": null,
      "metadata": {
        "id": "wo8yOHdKEvDS"
      },
      "outputs": [],
      "source": [
        "#create a bag of words, which is vectorising the data, we will take the 1500 most commmon features\n",
        "vectorised_data=TfidfVectorizer(max_features=1500, stop_words='english').fit_transform(df_shuffled['simple_cleaned_reviews']).toarray()"
      ]
    },
    {
      "cell_type": "code",
      "execution_count": null,
      "metadata": {
        "id": "3c9Sx69wEvDT"
      },
      "outputs": [],
      "source": [
        "#Create an array with the labels\n",
        "labels=df_shuffled['sentiment'].values"
      ]
    },
    {
      "cell_type": "code",
      "execution_count": null,
      "metadata": {
        "id": "FXQmHzVwEvDV"
      },
      "outputs": [],
      "source": [
        "#Define the sentiment labels in 'sentiment order'\n",
        "unique_labels=['Pos', 'Neu','Neg']"
      ]
    },
    {
      "cell_type": "code",
      "execution_count": null,
      "metadata": {
        "id": "AK9GqvN3EvDW"
      },
      "outputs": [],
      "source": [
        "#split the data into train x and y sets and test x and y sets\n",
        "x_train=vectorised_data[:int(len(df)*0.75)]\n",
        "y_train=labels[:int(len(df)*0.75)]\n",
        "x_test=vectorised_data[int(len(df)*0.75):]\n",
        "y_test=labels[int(len(df)*0.75):]"
      ]
    },
    {
      "cell_type": "code",
      "execution_count": null,
      "metadata": {
        "id": "zYZC9RudEvDX"
      },
      "outputs": [],
      "source": [
        "#Define the classifier, train the classifier and get the predicted values for the x test set\n",
        "clf=GaussianNB()\n",
        "clf.fit(x_train, y_train)\n",
        "y_pred=clf.predict(x_test)"
      ]
    },
    {
      "cell_type": "code",
      "execution_count": null,
      "metadata": {
        "colab": {
          "base_uri": "https://localhost:8080/"
        },
        "id": "A_CUPDSUEvDZ",
        "outputId": "5f54c34b-ff05-42b2-a627-cd4af231dbf1"
      },
      "outputs": [
        {
          "output_type": "stream",
          "name": "stdout",
          "text": [
            "[[2849  691  272]\n",
            " [ 130  241  164]\n",
            " [  43  151  582]]\n"
          ]
        }
      ],
      "source": [
        "#create a confusion matrix\n",
        "from sklearn.metrics import confusion_matrix\n",
        "matrix=confusion_matrix(y_test,y_pred, labels=unique_labels)\n",
        "print(matrix)"
      ]
    },
    {
      "cell_type": "code",
      "execution_count": null,
      "metadata": {
        "colab": {
          "base_uri": "https://localhost:8080/",
          "height": 458
        },
        "id": "tUsAiZ9KEvDb",
        "outputId": "b5455c71-e58d-42f7-a0f6-b930d529f901"
      },
      "outputs": [
        {
          "output_type": "display_data",
          "data": {
            "text/plain": [
              "<Figure size 640x480 with 1 Axes>"
            ],
            "image/png": "[encoded data removed]"
          },
          "metadata": {}
        }
      ],
      "source": [
        "#visualise the confusion matrix\n",
        "import seaborn as sns\n",
        "sns.set()\n",
        "sns.heatmap(matrix.T, square=True, annot=True, fmt='d', cbar=False,\n",
        "            xticklabels=unique_labels, yticklabels=unique_labels)\n",
        "plt.xlabel('true label')\n",
        "plt.ylabel('predicted label')\n",
        "plt.show()"
      ]
    },
    {
      "cell_type": "code",
      "execution_count": null,
      "metadata": {
        "id": "nxVvq4JJEvDd"
      },
      "outputs": [],
      "source": [
        "#import the specific metrics to meausure\n",
        "from sklearn.metrics import f1_score, accuracy_score"
      ]
    },
    {
      "cell_type": "code",
      "execution_count": null,
      "metadata": {
        "colab": {
          "base_uri": "https://localhost:8080/"
        },
        "id": "6WSbC4mxEvDe",
        "outputId": "16e07b15-0148-473f-be1c-263be6027543"
      },
      "outputs": [
        {
          "output_type": "execute_result",
          "data": {
            "text/plain": [
              "0.5935001288769658"
            ]
          },
          "metadata": {},
          "execution_count": 94
        }
      ],
      "source": [
        "f1_macroNB=f1_score(y_test, y_pred, average='macro')\n",
        "f1_macroNB"
      ]
    },
    {
      "cell_type": "code",
      "execution_count": null,
      "metadata": {
        "colab": {
          "base_uri": "https://localhost:8080/"
        },
        "id": "SWJaYUq2z9Ng",
        "outputId": "19fbb230-4d1b-465f-d8b2-927f817583b1"
      },
      "outputs": [
        {
          "output_type": "execute_result",
          "data": {
            "text/plain": [
              "array([0.64882943, 0.29789864, 0.83377231])"
            ]
          },
          "metadata": {},
          "execution_count": 95
        }
      ],
      "source": [
        "f1NB=f1_score(y_test, y_pred, average=None)\n",
        "f1NB"
      ]
    },
    {
      "cell_type": "code",
      "execution_count": null,
      "metadata": {
        "colab": {
          "base_uri": "https://localhost:8080/"
        },
        "id": "m1SBgxHA0ZcT",
        "outputId": "66c01d6a-f5b6-4877-b285-caf3582a9212"
      },
      "outputs": [
        {
          "output_type": "execute_result",
          "data": {
            "text/plain": [
              "0.7167675190318173"
            ]
          },
          "metadata": {},
          "execution_count": 96
        }
      ],
      "source": [
        "accuracyNB=accuracy_score(y_test, y_pred)\n",
        "accuracyNB"
      ]
    },
    {
      "cell_type": "markdown",
      "metadata": {
        "id": "Vz22_HgnrKJx"
      },
      "source": [
        "From the above confusion matrix, we can see that the baseline classifier has done an acceptable job, classifying well most of the 'reviews'.\n",
        "There was mostly confusion in a big part of the reviews that were classified as neutral while they were positive, and a relatively small amount of the positive was mistakenly classified as negative. Additionally, most of the negatives were correctly classified. Furthermore, the accuracy was around 72% which is acceptable, however, we expect to have an overall accuracy higher than 73.7% which is the percentage of all the positive reviews. The f1 scores are also considered ok and will be used as a comparison point for the newly created models."
      ]
    },
    {
      "cell_type": "markdown",
      "metadata": {
        "id": "4xcVdKbUEvDl"
      },
      "source": [
        "### 7. Developing a better classifier\n",
        "#### Actually removed embeddings too cause of errors and long processing time.\n",
        "From this part, we will look at the different pre-processing strategies with the different classification methods and evaluate them to get the best model.\n",
        "\n",
        "We will start by applying the second pre-processing strategy:\n",
        "##### 5.2. Simple clean, using lemmatisation on the text and then proceed with a bag of words, while excluding \"stop words\".\n",
        "\n",
        "In the first part of the pre-processing, we will lemmatise each of the words to get only the important stem of the word.\n",
        "\n",
        "In the last stage, we will create a bag of words, while removing the stop words.\n",
        "\n",
        "Finally, we will separate the data into the training and test sets, separating them into the xs and ys, the xs are the preprocessed text data and the ys are the sentiment labels."
      ]
    },
    {
      "cell_type": "code",
      "execution_count": null,
      "metadata": {
        "id": "2X4SYZICrKJy",
        "outputId": "0e0c7cce-23f1-4c3e-eb83-d934b00a5b56",
        "colab": {
          "base_uri": "https://localhost:8080/"
        }
      },
      "outputs": [
        {
          "output_type": "stream",
          "name": "stdout",
          "text": [
            "Simple cleaned review:\n",
            "fab friendly hotel just stayed friendly efficient hotel berlin  good location quite central useful public transport strike  delux roof room bath room well worth nice touch luxury  breakfast buffet best ive seen dinner restaurant excellent roof open warm weather  bar funky serves great cocktails shame wasnt people fact hotel quiet overall add atmosphere  love berlin summer stay   \n"
          ]
        }
      ],
      "source": [
        "#visualise the reviews\n",
        "print('Simple cleaned review:')\n",
        "print(df_shuffled['simple_cleaned_reviews'][15])\n"
      ]
    },
    {
      "cell_type": "code",
      "execution_count": null,
      "metadata": {
        "id": "ufo9xvwJEvDp",
        "outputId": "7e77d77c-ac9d-4518-e36f-1a677b2a03e1",
        "colab": {
          "base_uri": "https://localhost:8080/"
        }
      },
      "outputs": [
        {
          "output_type": "stream",
          "name": "stderr",
          "text": [
            "[nltk_data] Downloading package wordnet to /root/nltk_data...\n",
            "[nltk_data]   Package wordnet is already up-to-date!\n",
            "[nltk_data] Downloading package punkt to /root/nltk_data...\n",
            "[nltk_data]   Package punkt is already up-to-date!\n"
          ]
        }
      ],
      "source": [
        "from nltk.stem import WordNetLemmatizer\n",
        "from nltk import wordnet\n",
        "nltk.download('wordnet')\n",
        "nltk.download('punkt')\n",
        "wnl=WordNetLemmatizer()"
      ]
    },
    {
      "cell_type": "code",
      "source": [
        "df_shuffled.head()"
      ],
      "metadata": {
        "colab": {
          "base_uri": "https://localhost:8080/",
          "height": 206
        },
        "id": "OhIMW_R6bPcJ",
        "outputId": "212e5cee-e13d-42af-fb6d-23387b1fe44c"
      },
      "execution_count": null,
      "outputs": [
        {
          "output_type": "execute_result",
          "data": {
            "text/plain": [
              "                                              Review  Rating sentiment  \\\n",
              "0  best ok restaurant food good housekeeping staf...       2       Neg   \n",
              "1  lovely hotel bit expensive liked hotel, nice e...       4       Pos   \n",
              "2  oasis ny stayed hotel long weekend sightseeing...       4       Pos   \n",
              "3  no breakfast just returned home san francisco ...       3       Neu   \n",
              "4  noise door spent nights acevi villarroel hotel...       3       Neu   \n",
              "\n",
              "                              simple_cleaned_reviews  \n",
              "0  best ok restaurant food good housekeeping staf...  \n",
              "1  lovely hotel bit expensive liked hotel  nice e...  \n",
              "2  oasis ny stayed hotel long weekend sightseeing...  \n",
              "3  no breakfast just returned home san francisco ...  \n",
              "4  noise door spent nights acevi villarroel hotel...  "
            ],
            "text/html": [
              "\n",
              "  <div id=\"df-3f73726f-d6e3-4c2b-a14e-e45d900f8067\">\n",
              "    <div class=\"colab-df-container\">\n",
              "      <div>\n",
              "<style scoped>\n",
              "    .dataframe tbody tr th:only-of-type {\n",
              "        vertical-align: middle;\n",
              "    }\n",
              "\n",
              "    .dataframe tbody tr th {\n",
              "        vertical-align: top;\n",
              "    }\n",
              "\n",
              "    .dataframe thead th {\n",
              "        text-align: right;\n",
              "    }\n",
              "</style>\n",
              "<table border=\"1\" class=\"dataframe\">\n",
              "  <thead>\n",
              "    <tr style=\"text-align: right;\">\n",
              "      <th></th>\n",
              "      <th>Review</th>\n",
              "      <th>Rating</th>\n",
              "      <th>sentiment</th>\n",
              "      <th>simple_cleaned_reviews</th>\n",
              "    </tr>\n",
              "  </thead>\n",
              "  <tbody>\n",
              "    <tr>\n",
              "      <th>0</th>\n",
              "      <td>best ok restaurant food good housekeeping staf...</td>\n",
              "      <td>2</td>\n",
              "      <td>Neg</td>\n",
              "      <td>best ok restaurant food good housekeeping staf...</td>\n",
              "    </tr>\n",
              "    <tr>\n",
              "      <th>1</th>\n",
              "      <td>lovely hotel bit expensive liked hotel, nice e...</td>\n",
              "      <td>4</td>\n",
              "      <td>Pos</td>\n",
              "      <td>lovely hotel bit expensive liked hotel  nice e...</td>\n",
              "    </tr>\n",
              "    <tr>\n",
              "      <th>2</th>\n",
              "      <td>oasis ny stayed hotel long weekend sightseeing...</td>\n",
              "      <td>4</td>\n",
              "      <td>Pos</td>\n",
              "      <td>oasis ny stayed hotel long weekend sightseeing...</td>\n",
              "    </tr>\n",
              "    <tr>\n",
              "      <th>3</th>\n",
              "      <td>no breakfast just returned home san francisco ...</td>\n",
              "      <td>3</td>\n",
              "      <td>Neu</td>\n",
              "      <td>no breakfast just returned home san francisco ...</td>\n",
              "    </tr>\n",
              "    <tr>\n",
              "      <th>4</th>\n",
              "      <td>noise door spent nights acevi villarroel hotel...</td>\n",
              "      <td>3</td>\n",
              "      <td>Neu</td>\n",
              "      <td>noise door spent nights acevi villarroel hotel...</td>\n",
              "    </tr>\n",
              "  </tbody>\n",
              "</table>\n",
              "</div>\n",
              "      <button class=\"colab-df-convert\" onclick=\"convertToInteractive('df-3f73726f-d6e3-4c2b-a14e-e45d900f8067')\"\n",
              "              title=\"Convert this dataframe to an interactive table.\"\n",
              "              style=\"display:none;\">\n",
              "        \n",
              "  <svg xmlns=\"http://www.w3.org/2000/svg\" height=\"24px\"viewBox=\"0 0 24 24\"\n",
              "       width=\"24px\">\n",
              "    <path d=\"M0 0h24v24H0V0z\" fill=\"none\"/>\n",
              "    <path d=\"M18.56 5.44l.94 2.06.94-2.06 2.06-.94-2.06-.94-.94-2.06-.94 2.06-2.06.94zm-11 1L8.5 8.5l.94-2.06 2.06-.94-2.06-.94L8.5 2.5l-.94 2.06-2.06.94zm10 10l.94 2.06.94-2.06 2.06-.94-2.06-.94-.94-2.06-.94 2.06-2.06.94z\"/><path d=\"M17.41 7.96l-1.37-1.37c-.4-.4-.92-.59-1.43-.59-.52 0-1.04.2-1.43.59L10.3 9.45l-7.72 7.72c-.78.78-.78 2.05 0 2.83L4 21.41c.39.39.9.59 1.41.59.51 0 1.02-.2 1.41-.59l7.78-7.78 2.81-2.81c.8-.78.8-2.07 0-2.86zM5.41 20L4 18.59l7.72-7.72 1.47 1.35L5.41 20z\"/>\n",
              "  </svg>\n",
              "      </button>\n",
              "      \n",
              "  <style>\n",
              "    .colab-df-container {\n",
              "      display:flex;\n",
              "      flex-wrap:wrap;\n",
              "      gap: 12px;\n",
              "    }\n",
              "\n",
              "    .colab-df-convert {\n",
              "      background-color: #E8F0FE;\n",
              "      border: none;\n",
              "      border-radius: 50%;\n",
              "      cursor: pointer;\n",
              "      display: none;\n",
              "      fill: #1967D2;\n",
              "      height: 32px;\n",
              "      padding: 0 0 0 0;\n",
              "      width: 32px;\n",
              "    }\n",
              "\n",
              "    .colab-df-convert:hover {\n",
              "      background-color: #E2EBFA;\n",
              "      box-shadow: 0px 1px 2px rgba(60, 64, 67, 0.3), 0px 1px 3px 1px rgba(60, 64, 67, 0.15);\n",
              "      fill: #174EA6;\n",
              "    }\n",
              "\n",
              "    [theme=dark] .colab-df-convert {\n",
              "      background-color: #3B4455;\n",
              "      fill: #D2E3FC;\n",
              "    }\n",
              "\n",
              "    [theme=dark] .colab-df-convert:hover {\n",
              "      background-color: #434B5C;\n",
              "      box-shadow: 0px 1px 3px 1px rgba(0, 0, 0, 0.15);\n",
              "      filter: drop-shadow(0px 1px 2px rgba(0, 0, 0, 0.3));\n",
              "      fill: #FFFFFF;\n",
              "    }\n",
              "  </style>\n",
              "\n",
              "      <script>\n",
              "        const buttonEl =\n",
              "          document.querySelector('#df-3f73726f-d6e3-4c2b-a14e-e45d900f8067 button.colab-df-convert');\n",
              "        buttonEl.style.display =\n",
              "          google.colab.kernel.accessAllowed ? 'block' : 'none';\n",
              "\n",
              "        async function convertToInteractive(key) {\n",
              "          const element = document.querySelector('#df-3f73726f-d6e3-4c2b-a14e-e45d900f8067');\n",
              "          const dataTable =\n",
              "            await google.colab.kernel.invokeFunction('convertToInteractive',\n",
              "                                                     [key], {});\n",
              "          if (!dataTable) return;\n",
              "\n",
              "          const docLinkHtml = 'Like what you see? Visit the ' +\n",
              "            '<a target=\"_blank\" href=https://colab.research.google.com/notebooks/data_table.ipynb>data table notebook</a>'\n",
              "            + ' to learn more about interactive tables.';\n",
              "          element.innerHTML = '';\n",
              "          dataTable['output_type'] = 'display_data';\n",
              "          await google.colab.output.renderOutput(dataTable, element);\n",
              "          const docLink = document.createElement('div');\n",
              "          docLink.innerHTML = docLinkHtml;\n",
              "          element.appendChild(docLink);\n",
              "        }\n",
              "      </script>\n",
              "    </div>\n",
              "  </div>\n",
              "  "
            ]
          },
          "metadata": {},
          "execution_count": 330
        }
      ]
    },
    {
      "cell_type": "code",
      "execution_count": null,
      "metadata": {
        "id": "WxO3ys25EvDq"
      },
      "outputs": [],
      "source": [
        "def lemmatise_review(review):\n",
        "    word_list = nltk.word_tokenize(review)\n",
        "    lemmatized_review = ' '.join([wnl.lemmatize(w, pos='v') for w in word_list])\n",
        "    return lemmatized_review"
      ]
    },
    {
      "cell_type": "code",
      "execution_count": null,
      "metadata": {
        "id": "QY8e1tFbEvDs"
      },
      "outputs": [],
      "source": [
        "lemmatized_reviewes=[lemmatise_review(df_shuffled['simple_cleaned_reviews'][i]) for i in range(len(df_shuffled))]\n",
        "df_shuffled['lemmatized_reviews']=lemmatized_reviewes"
      ]
    },
    {
      "cell_type": "code",
      "execution_count": null,
      "metadata": {
        "id": "gnAgTJSGrKJy",
        "outputId": "8393ceb1-d287-4ac8-d463-388ed8708102",
        "colab": {
          "base_uri": "https://localhost:8080/"
        }
      },
      "outputs": [
        {
          "output_type": "stream",
          "name": "stdout",
          "text": [
            "Simple cleaned reviews:\n",
            "fab friendly hotel just stayed friendly efficient hotel berlin  good location quite central useful public transport strike  delux roof room bath room well worth nice touch luxury  breakfast buffet best ive seen dinner restaurant excellent roof open warm weather  bar funky serves great cocktails shame wasnt people fact hotel quiet overall add atmosphere  love berlin summer stay   \n",
            "-----\n",
            "lemmatised review:\n",
            "fab friendly hotel just stay friendly efficient hotel berlin good location quite central useful public transport strike delux roof room bath room well worth nice touch luxury breakfast buffet best ive see dinner restaurant excellent roof open warm weather bar funky serve great cocktails shame wasnt people fact hotel quiet overall add atmosphere love berlin summer stay\n"
          ]
        }
      ],
      "source": [
        "print('Simple cleaned reviews:')\n",
        "print(df_shuffled['simple_cleaned_reviews'][15])\n",
        "print('-----')\n",
        "print('lemmatised review:')\n",
        "print(df_shuffled['lemmatized_reviews'][15])"
      ]
    },
    {
      "cell_type": "code",
      "execution_count": null,
      "metadata": {
        "id": "XHil5z9GEvDu",
        "outputId": "df2c5fe2-452a-45a4-ba4d-8af2dfcdf3da",
        "colab": {
          "base_uri": "https://localhost:8080/",
          "height": 206
        }
      },
      "outputs": [
        {
          "output_type": "execute_result",
          "data": {
            "text/plain": [
              "                                              Review  Rating sentiment  \\\n",
              "0  best ok restaurant food good housekeeping staf...       2       Neg   \n",
              "1  lovely hotel bit expensive liked hotel, nice e...       4       Pos   \n",
              "2  oasis ny stayed hotel long weekend sightseeing...       4       Pos   \n",
              "3  no breakfast just returned home san francisco ...       3       Neu   \n",
              "4  noise door spent nights acevi villarroel hotel...       3       Neu   \n",
              "\n",
              "                              simple_cleaned_reviews  \\\n",
              "0  best ok restaurant food good housekeeping staf...   \n",
              "1  lovely hotel bit expensive liked hotel  nice e...   \n",
              "2  oasis ny stayed hotel long weekend sightseeing...   \n",
              "3  no breakfast just returned home san francisco ...   \n",
              "4  noise door spent nights acevi villarroel hotel...   \n",
              "\n",
              "                                  lemmatized_reviews  \n",
              "0  best ok restaurant food good housekeep staff f...  \n",
              "1  lovely hotel bite expensive like hotel nice el...  \n",
              "2  oasis ny stay hotel long weekend sightsee new ...  \n",
              "3  no breakfast just return home san francisco st...  \n",
              "4  noise door spend nights acevi villarroel hotel...  "
            ],
            "text/html": [
              "\n",
              "  <div id=\"df-6b62dc10-8d12-49bc-92f6-82b47e781652\">\n",
              "    <div class=\"colab-df-container\">\n",
              "      <div>\n",
              "<style scoped>\n",
              "    .dataframe tbody tr th:only-of-type {\n",
              "        vertical-align: middle;\n",
              "    }\n",
              "\n",
              "    .dataframe tbody tr th {\n",
              "        vertical-align: top;\n",
              "    }\n",
              "\n",
              "    .dataframe thead th {\n",
              "        text-align: right;\n",
              "    }\n",
              "</style>\n",
              "<table border=\"1\" class=\"dataframe\">\n",
              "  <thead>\n",
              "    <tr style=\"text-align: right;\">\n",
              "      <th></th>\n",
              "      <th>Review</th>\n",
              "      <th>Rating</th>\n",
              "      <th>sentiment</th>\n",
              "      <th>simple_cleaned_reviews</th>\n",
              "      <th>lemmatized_reviews</th>\n",
              "    </tr>\n",
              "  </thead>\n",
              "  <tbody>\n",
              "    <tr>\n",
              "      <th>0</th>\n",
              "      <td>best ok restaurant food good housekeeping staf...</td>\n",
              "      <td>2</td>\n",
              "      <td>Neg</td>\n",
              "      <td>best ok restaurant food good housekeeping staf...</td>\n",
              "      <td>best ok restaurant food good housekeep staff f...</td>\n",
              "    </tr>\n",
              "    <tr>\n",
              "      <th>1</th>\n",
              "      <td>lovely hotel bit expensive liked hotel, nice e...</td>\n",
              "      <td>4</td>\n",
              "      <td>Pos</td>\n",
              "      <td>lovely hotel bit expensive liked hotel  nice e...</td>\n",
              "      <td>lovely hotel bite expensive like hotel nice el...</td>\n",
              "    </tr>\n",
              "    <tr>\n",
              "      <th>2</th>\n",
              "      <td>oasis ny stayed hotel long weekend sightseeing...</td>\n",
              "      <td>4</td>\n",
              "      <td>Pos</td>\n",
              "      <td>oasis ny stayed hotel long weekend sightseeing...</td>\n",
              "      <td>oasis ny stay hotel long weekend sightsee new ...</td>\n",
              "    </tr>\n",
              "    <tr>\n",
              "      <th>3</th>\n",
              "      <td>no breakfast just returned home san francisco ...</td>\n",
              "      <td>3</td>\n",
              "      <td>Neu</td>\n",
              "      <td>no breakfast just returned home san francisco ...</td>\n",
              "      <td>no breakfast just return home san francisco st...</td>\n",
              "    </tr>\n",
              "    <tr>\n",
              "      <th>4</th>\n",
              "      <td>noise door spent nights acevi villarroel hotel...</td>\n",
              "      <td>3</td>\n",
              "      <td>Neu</td>\n",
              "      <td>noise door spent nights acevi villarroel hotel...</td>\n",
              "      <td>noise door spend nights acevi villarroel hotel...</td>\n",
              "    </tr>\n",
              "  </tbody>\n",
              "</table>\n",
              "</div>\n",
              "      <button class=\"colab-df-convert\" onclick=\"convertToInteractive('df-6b62dc10-8d12-49bc-92f6-82b47e781652')\"\n",
              "              title=\"Convert this dataframe to an interactive table.\"\n",
              "              style=\"display:none;\">\n",
              "        \n",
              "  <svg xmlns=\"http://www.w3.org/2000/svg\" height=\"24px\"viewBox=\"0 0 24 24\"\n",
              "       width=\"24px\">\n",
              "    <path d=\"M0 0h24v24H0V0z\" fill=\"none\"/>\n",
              "    <path d=\"M18.56 5.44l.94 2.06.94-2.06 2.06-.94-2.06-.94-.94-2.06-.94 2.06-2.06.94zm-11 1L8.5 8.5l.94-2.06 2.06-.94-2.06-.94L8.5 2.5l-.94 2.06-2.06.94zm10 10l.94 2.06.94-2.06 2.06-.94-2.06-.94-.94-2.06-.94 2.06-2.06.94z\"/><path d=\"M17.41 7.96l-1.37-1.37c-.4-.4-.92-.59-1.43-.59-.52 0-1.04.2-1.43.59L10.3 9.45l-7.72 7.72c-.78.78-.78 2.05 0 2.83L4 21.41c.39.39.9.59 1.41.59.51 0 1.02-.2 1.41-.59l7.78-7.78 2.81-2.81c.8-.78.8-2.07 0-2.86zM5.41 20L4 18.59l7.72-7.72 1.47 1.35L5.41 20z\"/>\n",
              "  </svg>\n",
              "      </button>\n",
              "      \n",
              "  <style>\n",
              "    .colab-df-container {\n",
              "      display:flex;\n",
              "      flex-wrap:wrap;\n",
              "      gap: 12px;\n",
              "    }\n",
              "\n",
              "    .colab-df-convert {\n",
              "      background-color: #E8F0FE;\n",
              "      border: none;\n",
              "      border-radius: 50%;\n",
              "      cursor: pointer;\n",
              "      display: none;\n",
              "      fill: #1967D2;\n",
              "      height: 32px;\n",
              "      padding: 0 0 0 0;\n",
              "      width: 32px;\n",
              "    }\n",
              "\n",
              "    .colab-df-convert:hover {\n",
              "      background-color: #E2EBFA;\n",
              "      box-shadow: 0px 1px 2px rgba(60, 64, 67, 0.3), 0px 1px 3px 1px rgba(60, 64, 67, 0.15);\n",
              "      fill: #174EA6;\n",
              "    }\n",
              "\n",
              "    [theme=dark] .colab-df-convert {\n",
              "      background-color: #3B4455;\n",
              "      fill: #D2E3FC;\n",
              "    }\n",
              "\n",
              "    [theme=dark] .colab-df-convert:hover {\n",
              "      background-color: #434B5C;\n",
              "      box-shadow: 0px 1px 3px 1px rgba(0, 0, 0, 0.15);\n",
              "      filter: drop-shadow(0px 1px 2px rgba(0, 0, 0, 0.3));\n",
              "      fill: #FFFFFF;\n",
              "    }\n",
              "  </style>\n",
              "\n",
              "      <script>\n",
              "        const buttonEl =\n",
              "          document.querySelector('#df-6b62dc10-8d12-49bc-92f6-82b47e781652 button.colab-df-convert');\n",
              "        buttonEl.style.display =\n",
              "          google.colab.kernel.accessAllowed ? 'block' : 'none';\n",
              "\n",
              "        async function convertToInteractive(key) {\n",
              "          const element = document.querySelector('#df-6b62dc10-8d12-49bc-92f6-82b47e781652');\n",
              "          const dataTable =\n",
              "            await google.colab.kernel.invokeFunction('convertToInteractive',\n",
              "                                                     [key], {});\n",
              "          if (!dataTable) return;\n",
              "\n",
              "          const docLinkHtml = 'Like what you see? Visit the ' +\n",
              "            '<a target=\"_blank\" href=https://colab.research.google.com/notebooks/data_table.ipynb>data table notebook</a>'\n",
              "            + ' to learn more about interactive tables.';\n",
              "          element.innerHTML = '';\n",
              "          dataTable['output_type'] = 'display_data';\n",
              "          await google.colab.output.renderOutput(dataTable, element);\n",
              "          const docLink = document.createElement('div');\n",
              "          docLink.innerHTML = docLinkHtml;\n",
              "          element.appendChild(docLink);\n",
              "        }\n",
              "      </script>\n",
              "    </div>\n",
              "  </div>\n",
              "  "
            ]
          },
          "metadata": {},
          "execution_count": 334
        }
      ],
      "source": [
        "df_shuffled.head()"
      ]
    },
    {
      "cell_type": "code",
      "execution_count": null,
      "metadata": {
        "id": "Yc_SZxKVEvDu"
      },
      "outputs": [],
      "source": [
        "vectorised_cured_data=TfidfVectorizer(max_features=1500, stop_words='english').fit_transform(df_shuffled['lemmatized_reviews']).toarray()"
      ]
    },
    {
      "cell_type": "code",
      "execution_count": null,
      "metadata": {
        "id": "ZMsrCLj6EvDv"
      },
      "outputs": [],
      "source": [
        "x_train=vectorised_cured_data[:int(len(df)*0.75)]\n",
        "y_train=labels[:int(len(df)*0.75)]\n",
        "x_test=vectorised_cured_data[int(len(df)*0.75):]\n",
        "y_test=labels[int(len(df)*0.75):]"
      ]
    },
    {
      "cell_type": "markdown",
      "metadata": {
        "id": "P8QvK3MOrKJz"
      },
      "source": [
        "#### Building the models\n",
        "We choose different machine learning models that we could use to evaluate.\n",
        "##### 1. Gaussian Naive Bayes\n",
        "This is the same model as was used in the baseline, it is generally used for NLP tasks as it can deal with a large number of features and does have many hyperparameters to modify.\n",
        "##### 2. Multinomial Naive Bayes\n",
        "This model works as well with Naive Bayes probability but this time, it assumes a multinomial distribution, which is more suitable for this type of dataset.\n",
        "##### 3. Decision Tree\n",
        "This model works by generating simple rules with True/False decisions on the given data. It can give sometimes good results however, it may suffer from overfitting.\n",
        "##### 4. Suport Vector Machine\n",
        "This model generates a classifier by creating hyperplanes on the operational space while maximising the gap between the different classes. It is known to be one of the most powerful machine learning methods.\n",
        "##### 5. Weighted Support Vector Machine\n",
        "As our dataset is unbalanced, we give this additional information as a hyperparameter in the model to maximise its performance.\n",
        "\n",
        "We will train and test each of the models, visualising the confusion matrix and saving the evaluation metric parameters, we will evaluate and compare all the models together at the latest stage, comparing them to the baseline model and will choose the best model.\n",
        "\n",
        "\n",
        "\n",
        "We start with the first model:\n",
        "#### 1. Gaussian Naive Bayes"
      ]
    },
    {
      "cell_type": "code",
      "execution_count": null,
      "metadata": {
        "id": "NrcHcND1hjws",
        "outputId": "4a0197e6-ea55-4fd3-d4d4-ad4400a7f093",
        "colab": {
          "base_uri": "https://localhost:8080/",
          "height": 74
        }
      },
      "outputs": [
        {
          "output_type": "execute_result",
          "data": {
            "text/plain": [
              "GaussianNB()"
            ],
            "text/html": [
              "<style>#sk-container-id-19 {color: black;background-color: white;}#sk-container-id-19 pre{padding: 0;}#sk-container-id-19 div.sk-toggleable {background-color: white;}#sk-container-id-19 label.sk-toggleable__label {cursor: pointer;display: block;width: 100%;margin-bottom: 0;padding: 0.3em;box-sizing: border-box;text-align: center;}#sk-container-id-19 label.sk-toggleable__label-arrow:before {content: \"▸\";float: left;margin-right: 0.25em;color: #696969;}#sk-container-id-19 label.sk-toggleable__label-arrow:hover:before {color: black;}#sk-container-id-19 div.sk-estimator:hover label.sk-toggleable__label-arrow:before {color: black;}#sk-container-id-19 div.sk-toggleable__content {max-height: 0;max-width: 0;overflow: hidden;text-align: left;background-color: #f0f8ff;}#sk-container-id-19 div.sk-toggleable__content pre {margin: 0.2em;color: black;border-radius: 0.25em;background-color: #f0f8ff;}#sk-container-id-19 input.sk-toggleable__control:checked~div.sk-toggleable__content {max-height: 200px;max-width: 100%;overflow: auto;}#sk-container-id-19 input.sk-toggleable__control:checked~label.sk-toggleable__label-arrow:before {content: \"▾\";}#sk-container-id-19 div.sk-estimator input.sk-toggleable__control:checked~label.sk-toggleable__label {background-color: #d4ebff;}#sk-container-id-19 div.sk-label input.sk-toggleable__control:checked~label.sk-toggleable__label {background-color: #d4ebff;}#sk-container-id-19 input.sk-hidden--visually {border: 0;clip: rect(1px 1px 1px 1px);clip: rect(1px, 1px, 1px, 1px);height: 1px;margin: -1px;overflow: hidden;padding: 0;position: absolute;width: 1px;}#sk-container-id-19 div.sk-estimator {font-family: monospace;background-color: #f0f8ff;border: 1px dotted black;border-radius: 0.25em;box-sizing: border-box;margin-bottom: 0.5em;}#sk-container-id-19 div.sk-estimator:hover {background-color: #d4ebff;}#sk-container-id-19 div.sk-parallel-item::after {content: \"\";width: 100%;border-bottom: 1px solid gray;flex-grow: 1;}#sk-container-id-19 div.sk-label:hover label.sk-toggleable__label {background-color: #d4ebff;}#sk-container-id-19 div.sk-serial::before {content: \"\";position: absolute;border-left: 1px solid gray;box-sizing: border-box;top: 0;bottom: 0;left: 50%;z-index: 0;}#sk-container-id-19 div.sk-serial {display: flex;flex-direction: column;align-items: center;background-color: white;padding-right: 0.2em;padding-left: 0.2em;position: relative;}#sk-container-id-19 div.sk-item {position: relative;z-index: 1;}#sk-container-id-19 div.sk-parallel {display: flex;align-items: stretch;justify-content: center;background-color: white;position: relative;}#sk-container-id-19 div.sk-item::before, #sk-container-id-19 div.sk-parallel-item::before {content: \"\";position: absolute;border-left: 1px solid gray;box-sizing: border-box;top: 0;bottom: 0;left: 50%;z-index: -1;}#sk-container-id-19 div.sk-parallel-item {display: flex;flex-direction: column;z-index: 1;position: relative;background-color: white;}#sk-container-id-19 div.sk-parallel-item:first-child::after {align-self: flex-end;width: 50%;}#sk-container-id-19 div.sk-parallel-item:last-child::after {align-self: flex-start;width: 50%;}#sk-container-id-19 div.sk-parallel-item:only-child::after {width: 0;}#sk-container-id-19 div.sk-dashed-wrapped {border: 1px dashed gray;margin: 0 0.4em 0.5em 0.4em;box-sizing: border-box;padding-bottom: 0.4em;background-color: white;}#sk-container-id-19 div.sk-label label {font-family: monospace;font-weight: bold;display: inline-block;line-height: 1.2em;}#sk-container-id-19 div.sk-label-container {text-align: center;}#sk-container-id-19 div.sk-container {/* jupyter's `normalize.less` sets `[hidden] { display: none; }` but bootstrap.min.css set `[hidden] { display: none !important; }` so we also need the `!important` here to be able to override the default hidden behavior on the sphinx rendered scikit-learn.org. See: https://github.com/scikit-learn/scikit-learn/issues/21755 */display: inline-block !important;position: relative;}#sk-container-id-19 div.sk-text-repr-fallback {display: none;}</style><div id=\"sk-container-id-19\" class=\"sk-top-container\"><div class=\"sk-text-repr-fallback\"><pre>GaussianNB()</pre><b>In a Jupyter environment, please rerun this cell to show the HTML representation or trust the notebook. <br />On GitHub, the HTML representation is unable to render, please try loading this page with nbviewer.org.</b></div><div class=\"sk-container\" hidden><div class=\"sk-item\"><div class=\"sk-estimator sk-toggleable\"><input class=\"sk-toggleable__control sk-hidden--visually\" id=\"sk-estimator-id-19\" type=\"checkbox\" checked><label for=\"sk-estimator-id-19\" class=\"sk-toggleable__label sk-toggleable__label-arrow\">GaussianNB</label><div class=\"sk-toggleable__content\"><pre>GaussianNB()</pre></div></div></div></div></div>"
            ]
          },
          "metadata": {},
          "execution_count": 337
        }
      ],
      "source": [
        "#train the model\n",
        "clfGNB=GaussianNB()\n",
        "clfGNB.fit(x_train,y_train)"
      ]
    },
    {
      "cell_type": "code",
      "execution_count": null,
      "metadata": {
        "id": "YuuS61aJh35h",
        "outputId": "25209512-78d0-4683-eabc-38f4a010dddb",
        "colab": {
          "base_uri": "https://localhost:8080/",
          "height": 480
        }
      },
      "outputs": [
        {
          "output_type": "display_data",
          "data": {
            "text/plain": [
              "<Figure size 640x480 with 1 Axes>"
            ],
            "image/png": "[encoded data removed]"
          },
          "metadata": {}
        }
      ],
      "source": [
        "#get the predictions and generate the matrix\n",
        "y_pred=clfGNB.predict(x_test)\n",
        "matrix1=confusion_matrix(y_test,y_pred, labels=unique_labels)\n",
        "sns.heatmap(matrix1.T, square=True, annot=True, fmt='d', cbar=False,\n",
        "            xticklabels=unique_labels, yticklabels=unique_labels)\n",
        "plt.xlabel('true label')\n",
        "plt.ylabel('predicted label')\n",
        "plt.title('Gausian Naive Bayes model')\n",
        "plt.show()"
      ]
    },
    {
      "cell_type": "code",
      "execution_count": null,
      "metadata": {
        "id": "o7W0byYMjIPp",
        "outputId": "a290245c-51ba-4159-a736-f0b119c80eea",
        "colab": {
          "base_uri": "https://localhost:8080/"
        }
      },
      "outputs": [
        {
          "output_type": "execute_result",
          "data": {
            "text/plain": [
              "0.5917715060010651"
            ]
          },
          "metadata": {},
          "execution_count": 271
        }
      ],
      "source": [
        "#calculate the evaluation metrics\n",
        "f1_macroGNB=f1_score(y_test, y_pred, average='macro')\n",
        "f1_macroGNB"
      ]
    },
    {
      "cell_type": "code",
      "execution_count": null,
      "metadata": {
        "id": "VNZPmIw-jkXm",
        "outputId": "0e2dc749-d2e3-4762-f05d-3e7e86c44051",
        "colab": {
          "base_uri": "https://localhost:8080/"
        }
      },
      "outputs": [
        {
          "output_type": "execute_result",
          "data": {
            "text/plain": [
              "0.7073980089791138"
            ]
          },
          "metadata": {},
          "execution_count": 272
        }
      ],
      "source": [
        "accuracyGNB=accuracy_score(y_test, y_pred)\n",
        "accuracyGNB"
      ]
    },
    {
      "cell_type": "code",
      "execution_count": null,
      "metadata": {
        "id": "DW5gkfhSj3KN",
        "outputId": "31a8cf17-3b0f-4634-ed93-144843bc6915",
        "colab": {
          "base_uri": "https://localhost:8080/"
        }
      },
      "outputs": [
        {
          "output_type": "execute_result",
          "data": {
            "text/plain": [
              "array([0.65283231, 0.29782225, 0.82465996])"
            ]
          },
          "metadata": {},
          "execution_count": 273
        }
      ],
      "source": [
        "f1_GNB=f1_score(y_test, y_pred, average=None)\n",
        "f1_GNB"
      ]
    },
    {
      "cell_type": "markdown",
      "metadata": {
        "id": "eoHDA2aPrKJ0"
      },
      "source": [
        "#### 2. Multinomial Naive Bayes"
      ]
    },
    {
      "cell_type": "code",
      "execution_count": null,
      "metadata": {
        "id": "DZGZN7htEvDw",
        "outputId": "8cc04c0b-6a1e-4e1b-e629-32801a1eb3e9",
        "colab": {
          "base_uri": "https://localhost:8080/",
          "height": 74
        }
      },
      "outputs": [
        {
          "output_type": "execute_result",
          "data": {
            "text/plain": [
              "MultinomialNB()"
            ],
            "text/html": [
              "<style>#sk-container-id-16 {color: black;background-color: white;}#sk-container-id-16 pre{padding: 0;}#sk-container-id-16 div.sk-toggleable {background-color: white;}#sk-container-id-16 label.sk-toggleable__label {cursor: pointer;display: block;width: 100%;margin-bottom: 0;padding: 0.3em;box-sizing: border-box;text-align: center;}#sk-container-id-16 label.sk-toggleable__label-arrow:before {content: \"▸\";float: left;margin-right: 0.25em;color: #696969;}#sk-container-id-16 label.sk-toggleable__label-arrow:hover:before {color: black;}#sk-container-id-16 div.sk-estimator:hover label.sk-toggleable__label-arrow:before {color: black;}#sk-container-id-16 div.sk-toggleable__content {max-height: 0;max-width: 0;overflow: hidden;text-align: left;background-color: #f0f8ff;}#sk-container-id-16 div.sk-toggleable__content pre {margin: 0.2em;color: black;border-radius: 0.25em;background-color: #f0f8ff;}#sk-container-id-16 input.sk-toggleable__control:checked~div.sk-toggleable__content {max-height: 200px;max-width: 100%;overflow: auto;}#sk-container-id-16 input.sk-toggleable__control:checked~label.sk-toggleable__label-arrow:before {content: \"▾\";}#sk-container-id-16 div.sk-estimator input.sk-toggleable__control:checked~label.sk-toggleable__label {background-color: #d4ebff;}#sk-container-id-16 div.sk-label input.sk-toggleable__control:checked~label.sk-toggleable__label {background-color: #d4ebff;}#sk-container-id-16 input.sk-hidden--visually {border: 0;clip: rect(1px 1px 1px 1px);clip: rect(1px, 1px, 1px, 1px);height: 1px;margin: -1px;overflow: hidden;padding: 0;position: absolute;width: 1px;}#sk-container-id-16 div.sk-estimator {font-family: monospace;background-color: #f0f8ff;border: 1px dotted black;border-radius: 0.25em;box-sizing: border-box;margin-bottom: 0.5em;}#sk-container-id-16 div.sk-estimator:hover {background-color: #d4ebff;}#sk-container-id-16 div.sk-parallel-item::after {content: \"\";width: 100%;border-bottom: 1px solid gray;flex-grow: 1;}#sk-container-id-16 div.sk-label:hover label.sk-toggleable__label {background-color: #d4ebff;}#sk-container-id-16 div.sk-serial::before {content: \"\";position: absolute;border-left: 1px solid gray;box-sizing: border-box;top: 0;bottom: 0;left: 50%;z-index: 0;}#sk-container-id-16 div.sk-serial {display: flex;flex-direction: column;align-items: center;background-color: white;padding-right: 0.2em;padding-left: 0.2em;position: relative;}#sk-container-id-16 div.sk-item {position: relative;z-index: 1;}#sk-container-id-16 div.sk-parallel {display: flex;align-items: stretch;justify-content: center;background-color: white;position: relative;}#sk-container-id-16 div.sk-item::before, #sk-container-id-16 div.sk-parallel-item::before {content: \"\";position: absolute;border-left: 1px solid gray;box-sizing: border-box;top: 0;bottom: 0;left: 50%;z-index: -1;}#sk-container-id-16 div.sk-parallel-item {display: flex;flex-direction: column;z-index: 1;position: relative;background-color: white;}#sk-container-id-16 div.sk-parallel-item:first-child::after {align-self: flex-end;width: 50%;}#sk-container-id-16 div.sk-parallel-item:last-child::after {align-self: flex-start;width: 50%;}#sk-container-id-16 div.sk-parallel-item:only-child::after {width: 0;}#sk-container-id-16 div.sk-dashed-wrapped {border: 1px dashed gray;margin: 0 0.4em 0.5em 0.4em;box-sizing: border-box;padding-bottom: 0.4em;background-color: white;}#sk-container-id-16 div.sk-label label {font-family: monospace;font-weight: bold;display: inline-block;line-height: 1.2em;}#sk-container-id-16 div.sk-label-container {text-align: center;}#sk-container-id-16 div.sk-container {/* jupyter's `normalize.less` sets `[hidden] { display: none; }` but bootstrap.min.css set `[hidden] { display: none !important; }` so we also need the `!important` here to be able to override the default hidden behavior on the sphinx rendered scikit-learn.org. See: https://github.com/scikit-learn/scikit-learn/issues/21755 */display: inline-block !important;position: relative;}#sk-container-id-16 div.sk-text-repr-fallback {display: none;}</style><div id=\"sk-container-id-16\" class=\"sk-top-container\"><div class=\"sk-text-repr-fallback\"><pre>MultinomialNB()</pre><b>In a Jupyter environment, please rerun this cell to show the HTML representation or trust the notebook. <br />On GitHub, the HTML representation is unable to render, please try loading this page with nbviewer.org.</b></div><div class=\"sk-container\" hidden><div class=\"sk-item\"><div class=\"sk-estimator sk-toggleable\"><input class=\"sk-toggleable__control sk-hidden--visually\" id=\"sk-estimator-id-16\" type=\"checkbox\" checked><label for=\"sk-estimator-id-16\" class=\"sk-toggleable__label sk-toggleable__label-arrow\">MultinomialNB</label><div class=\"sk-toggleable__content\"><pre>MultinomialNB()</pre></div></div></div></div></div>"
            ]
          },
          "metadata": {},
          "execution_count": 274
        }
      ],
      "source": [
        "#train the model\n",
        "from sklearn.naive_bayes import MultinomialNB\n",
        "clf=MultinomialNB()\n",
        "clf.fit(x_train,y_train)"
      ]
    },
    {
      "cell_type": "code",
      "execution_count": null,
      "metadata": {
        "id": "hxTJR31hEvDy"
      },
      "outputs": [],
      "source": [
        "#get the predictions\n",
        "y_pred=clf.predict(x_test)"
      ]
    },
    {
      "cell_type": "code",
      "execution_count": null,
      "metadata": {
        "id": "iPf9s-WCEvDz"
      },
      "outputs": [],
      "source": [
        " #generate the matrix\n",
        "matrix2=confusion_matrix(y_test,y_pred, labels=unique_labels)\n"
      ]
    },
    {
      "cell_type": "code",
      "execution_count": null,
      "metadata": {
        "id": "Ac1UTXzyEvD0",
        "outputId": "217fe3a6-bb4e-455c-e356-90bdbb36dab4",
        "colab": {
          "base_uri": "https://localhost:8080/",
          "height": 480
        }
      },
      "outputs": [
        {
          "output_type": "display_data",
          "data": {
            "text/plain": [
              "<Figure size 640x480 with 1 Axes>"
            ],
            "image/png": "[encoded data removed]"
          },
          "metadata": {}
        }
      ],
      "source": [
        "#visualise the matrix\n",
        "sns.heatmap(matrix2.T, square=True, annot=True, fmt='d', cbar=False,\n",
        "            xticklabels=unique_labels, yticklabels=unique_labels)\n",
        "plt.xlabel('true label')\n",
        "plt.ylabel('predicted label')\n",
        "plt.title('Multinomial NB model')\n",
        "plt.show()"
      ]
    },
    {
      "cell_type": "code",
      "execution_count": null,
      "metadata": {
        "id": "_rYnepg3DBhr",
        "outputId": "a43b84c2-3cf7-4fb3-d39a-3feb133dc307",
        "colab": {
          "base_uri": "https://localhost:8080/"
        }
      },
      "outputs": [
        {
          "output_type": "execute_result",
          "data": {
            "text/plain": [
              "0.5199915519942898"
            ]
          },
          "metadata": {},
          "execution_count": 278
        }
      ],
      "source": [
        "#calculate the evaluation metrics\n",
        "f1_macroMNNB=f1_score(y_test, y_pred, average='macro')\n",
        "f1_macroMNNB"
      ]
    },
    {
      "cell_type": "code",
      "execution_count": null,
      "metadata": {
        "id": "mi_Q5oPbDkkU",
        "outputId": "035a98d7-d655-43be-c76c-2c03cb05c554",
        "colab": {
          "base_uri": "https://localhost:8080/"
        }
      },
      "outputs": [
        {
          "output_type": "execute_result",
          "data": {
            "text/plain": [
              "array([0.65871122, 0.00372439, 0.89753904])"
            ]
          },
          "metadata": {},
          "execution_count": 280
        }
      ],
      "source": [
        "f1_MNNB=f1_score(y_test, y_pred, average=None)\n",
        "f1_MNNB"
      ]
    },
    {
      "cell_type": "code",
      "execution_count": null,
      "metadata": {
        "id": "b8woq7fDDzDy",
        "outputId": "254ebff1-3251-493a-dab3-c65571538c77",
        "colab": {
          "base_uri": "https://localhost:8080/"
        }
      },
      "outputs": [
        {
          "output_type": "execute_result",
          "data": {
            "text/plain": [
              "0.8213937146203396"
            ]
          },
          "metadata": {},
          "execution_count": 279
        }
      ],
      "source": [
        "accuracyMNNB=accuracy_score(y_test, y_pred)\n",
        "accuracyMNNB"
      ]
    },
    {
      "cell_type": "markdown",
      "metadata": {
        "id": "yUCTtxTJrKJ1"
      },
      "source": [
        "#### 3. Decision Tree"
      ]
    },
    {
      "cell_type": "code",
      "execution_count": null,
      "metadata": {
        "id": "belzhaU8EvD1"
      },
      "outputs": [],
      "source": [
        "#import and create the classifier\n",
        "from sklearn.tree import DecisionTreeClassifier\n",
        "DTclf=DecisionTreeClassifier()"
      ]
    },
    {
      "cell_type": "code",
      "execution_count": null,
      "metadata": {
        "id": "9jtXABpyEvD1",
        "outputId": "1ab9cb07-c52f-40c1-dc9e-0d9ca68532ba",
        "colab": {
          "base_uri": "https://localhost:8080/",
          "height": 74
        }
      },
      "outputs": [
        {
          "output_type": "execute_result",
          "data": {
            "text/plain": [
              "DecisionTreeClassifier()"
            ],
            "text/html": [
              "<style>#sk-container-id-17 {color: black;background-color: white;}#sk-container-id-17 pre{padding: 0;}#sk-container-id-17 div.sk-toggleable {background-color: white;}#sk-container-id-17 label.sk-toggleable__label {cursor: pointer;display: block;width: 100%;margin-bottom: 0;padding: 0.3em;box-sizing: border-box;text-align: center;}#sk-container-id-17 label.sk-toggleable__label-arrow:before {content: \"▸\";float: left;margin-right: 0.25em;color: #696969;}#sk-container-id-17 label.sk-toggleable__label-arrow:hover:before {color: black;}#sk-container-id-17 div.sk-estimator:hover label.sk-toggleable__label-arrow:before {color: black;}#sk-container-id-17 div.sk-toggleable__content {max-height: 0;max-width: 0;overflow: hidden;text-align: left;background-color: #f0f8ff;}#sk-container-id-17 div.sk-toggleable__content pre {margin: 0.2em;color: black;border-radius: 0.25em;background-color: #f0f8ff;}#sk-container-id-17 input.sk-toggleable__control:checked~div.sk-toggleable__content {max-height: 200px;max-width: 100%;overflow: auto;}#sk-container-id-17 input.sk-toggleable__control:checked~label.sk-toggleable__label-arrow:before {content: \"▾\";}#sk-container-id-17 div.sk-estimator input.sk-toggleable__control:checked~label.sk-toggleable__label {background-color: #d4ebff;}#sk-container-id-17 div.sk-label input.sk-toggleable__control:checked~label.sk-toggleable__label {background-color: #d4ebff;}#sk-container-id-17 input.sk-hidden--visually {border: 0;clip: rect(1px 1px 1px 1px);clip: rect(1px, 1px, 1px, 1px);height: 1px;margin: -1px;overflow: hidden;padding: 0;position: absolute;width: 1px;}#sk-container-id-17 div.sk-estimator {font-family: monospace;background-color: #f0f8ff;border: 1px dotted black;border-radius: 0.25em;box-sizing: border-box;margin-bottom: 0.5em;}#sk-container-id-17 div.sk-estimator:hover {background-color: #d4ebff;}#sk-container-id-17 div.sk-parallel-item::after {content: \"\";width: 100%;border-bottom: 1px solid gray;flex-grow: 1;}#sk-container-id-17 div.sk-label:hover label.sk-toggleable__label {background-color: #d4ebff;}#sk-container-id-17 div.sk-serial::before {content: \"\";position: absolute;border-left: 1px solid gray;box-sizing: border-box;top: 0;bottom: 0;left: 50%;z-index: 0;}#sk-container-id-17 div.sk-serial {display: flex;flex-direction: column;align-items: center;background-color: white;padding-right: 0.2em;padding-left: 0.2em;position: relative;}#sk-container-id-17 div.sk-item {position: relative;z-index: 1;}#sk-container-id-17 div.sk-parallel {display: flex;align-items: stretch;justify-content: center;background-color: white;position: relative;}#sk-container-id-17 div.sk-item::before, #sk-container-id-17 div.sk-parallel-item::before {content: \"\";position: absolute;border-left: 1px solid gray;box-sizing: border-box;top: 0;bottom: 0;left: 50%;z-index: -1;}#sk-container-id-17 div.sk-parallel-item {display: flex;flex-direction: column;z-index: 1;position: relative;background-color: white;}#sk-container-id-17 div.sk-parallel-item:first-child::after {align-self: flex-end;width: 50%;}#sk-container-id-17 div.sk-parallel-item:last-child::after {align-self: flex-start;width: 50%;}#sk-container-id-17 div.sk-parallel-item:only-child::after {width: 0;}#sk-container-id-17 div.sk-dashed-wrapped {border: 1px dashed gray;margin: 0 0.4em 0.5em 0.4em;box-sizing: border-box;padding-bottom: 0.4em;background-color: white;}#sk-container-id-17 div.sk-label label {font-family: monospace;font-weight: bold;display: inline-block;line-height: 1.2em;}#sk-container-id-17 div.sk-label-container {text-align: center;}#sk-container-id-17 div.sk-container {/* jupyter's `normalize.less` sets `[hidden] { display: none; }` but bootstrap.min.css set `[hidden] { display: none !important; }` so we also need the `!important` here to be able to override the default hidden behavior on the sphinx rendered scikit-learn.org. See: https://github.com/scikit-learn/scikit-learn/issues/21755 */display: inline-block !important;position: relative;}#sk-container-id-17 div.sk-text-repr-fallback {display: none;}</style><div id=\"sk-container-id-17\" class=\"sk-top-container\"><div class=\"sk-text-repr-fallback\"><pre>DecisionTreeClassifier()</pre><b>In a Jupyter environment, please rerun this cell to show the HTML representation or trust the notebook. <br />On GitHub, the HTML representation is unable to render, please try loading this page with nbviewer.org.</b></div><div class=\"sk-container\" hidden><div class=\"sk-item\"><div class=\"sk-estimator sk-toggleable\"><input class=\"sk-toggleable__control sk-hidden--visually\" id=\"sk-estimator-id-17\" type=\"checkbox\" checked><label for=\"sk-estimator-id-17\" class=\"sk-toggleable__label sk-toggleable__label-arrow\">DecisionTreeClassifier</label><div class=\"sk-toggleable__content\"><pre>DecisionTreeClassifier()</pre></div></div></div></div></div>"
            ]
          },
          "metadata": {},
          "execution_count": 282
        }
      ],
      "source": [
        "#train the classifier\n",
        "DTclf.fit(x_train,y_train)"
      ]
    },
    {
      "cell_type": "code",
      "execution_count": null,
      "metadata": {
        "id": "7K77Cn03EvD2"
      },
      "outputs": [],
      "source": [
        "#predict the values\n",
        "y_pred=DTclf.predict(x_test)"
      ]
    },
    {
      "cell_type": "code",
      "execution_count": null,
      "metadata": {
        "id": "Kj680zLPEvD3",
        "outputId": "68cf53b1-6241-48a4-9dbd-65293ed3df7d",
        "colab": {
          "base_uri": "https://localhost:8080/",
          "height": 480
        }
      },
      "outputs": [
        {
          "output_type": "display_data",
          "data": {
            "text/plain": [
              "<Figure size 640x480 with 1 Axes>"
            ],
            "image/png": "[encoded data removed]"
          },
          "metadata": {}
        }
      ],
      "source": [
        "matrix3=confusion_matrix(y_test,y_pred, labels=unique_labels)\n",
        "sns.heatmap(matrix3.T, square=True, annot=True, fmt='d', cbar=False,\n",
        "            xticklabels=unique_labels, yticklabels=unique_labels)\n",
        "plt.xlabel('true label')\n",
        "plt.ylabel('predicted label')\n",
        "plt.title('Decision Tree Model') #just simple cleaned reviews in this\n",
        "plt.show()"
      ]
    },
    {
      "cell_type": "code",
      "execution_count": null,
      "metadata": {
        "id": "aCoQX-jEEjmw",
        "outputId": "3aec0ce3-1f59-4b34-a7f1-0aae67bf155c",
        "colab": {
          "base_uri": "https://localhost:8080/"
        }
      },
      "outputs": [
        {
          "output_type": "execute_result",
          "data": {
            "text/plain": [
              "0.5235125164697623"
            ]
          },
          "metadata": {},
          "execution_count": 286
        }
      ],
      "source": [
        "#get the evaluation metrics\n",
        "f1_macroDT=f1_score(y_test, y_pred, average='macro')\n",
        "f1_macroDT"
      ]
    },
    {
      "cell_type": "code",
      "execution_count": null,
      "metadata": {
        "id": "bnaAI7o6E2PO",
        "outputId": "696c4e40-dc82-4307-89c5-cbc818b885da",
        "colab": {
          "base_uri": "https://localhost:8080/"
        }
      },
      "outputs": [
        {
          "output_type": "execute_result",
          "data": {
            "text/plain": [
              "array([0.5218509 , 0.1972093 , 0.85147735])"
            ]
          },
          "metadata": {},
          "execution_count": 285
        }
      ],
      "source": [
        "f1_DT=f1_score(y_test, y_pred, average=None)\n",
        "f1_DT"
      ]
    },
    {
      "cell_type": "code",
      "execution_count": null,
      "metadata": {
        "id": "A5I5h1-iFGSX",
        "outputId": "62ff2bc3-1417-4e61-f053-90d7cd3f3239",
        "colab": {
          "base_uri": "https://localhost:8080/"
        }
      },
      "outputs": [
        {
          "output_type": "execute_result",
          "data": {
            "text/plain": [
              "0.7327737653718525"
            ]
          },
          "metadata": {},
          "execution_count": 284
        }
      ],
      "source": [
        "accuracyDT=accuracy_score(y_test, y_pred)\n",
        "accuracyDT"
      ]
    },
    {
      "cell_type": "markdown",
      "metadata": {
        "id": "JepfLCd8rKJ2"
      },
      "source": [
        "#### 4. Suport Vector Machine"
      ]
    },
    {
      "cell_type": "code",
      "execution_count": null,
      "metadata": {
        "id": "yc0xEGJGEvD4"
      },
      "outputs": [],
      "source": [
        "#import and create a classifier\n",
        "from sklearn import svm\n",
        "clfsvc = svm.SVC(decision_function_shape='ovo')"
      ]
    },
    {
      "cell_type": "code",
      "execution_count": null,
      "metadata": {
        "id": "OKvjhMJwEvD5",
        "outputId": "850764ef-d64b-4fbd-9e82-13113c03df1b",
        "colab": {
          "base_uri": "https://localhost:8080/",
          "height": 74
        }
      },
      "outputs": [
        {
          "output_type": "execute_result",
          "data": {
            "text/plain": [
              "SVC(decision_function_shape='ovo')"
            ],
            "text/html": [
              "<style>#sk-container-id-18 {color: black;background-color: white;}#sk-container-id-18 pre{padding: 0;}#sk-container-id-18 div.sk-toggleable {background-color: white;}#sk-container-id-18 label.sk-toggleable__label {cursor: pointer;display: block;width: 100%;margin-bottom: 0;padding: 0.3em;box-sizing: border-box;text-align: center;}#sk-container-id-18 label.sk-toggleable__label-arrow:before {content: \"▸\";float: left;margin-right: 0.25em;color: #696969;}#sk-container-id-18 label.sk-toggleable__label-arrow:hover:before {color: black;}#sk-container-id-18 div.sk-estimator:hover label.sk-toggleable__label-arrow:before {color: black;}#sk-container-id-18 div.sk-toggleable__content {max-height: 0;max-width: 0;overflow: hidden;text-align: left;background-color: #f0f8ff;}#sk-container-id-18 div.sk-toggleable__content pre {margin: 0.2em;color: black;border-radius: 0.25em;background-color: #f0f8ff;}#sk-container-id-18 input.sk-toggleable__control:checked~div.sk-toggleable__content {max-height: 200px;max-width: 100%;overflow: auto;}#sk-container-id-18 input.sk-toggleable__control:checked~label.sk-toggleable__label-arrow:before {content: \"▾\";}#sk-container-id-18 div.sk-estimator input.sk-toggleable__control:checked~label.sk-toggleable__label {background-color: #d4ebff;}#sk-container-id-18 div.sk-label input.sk-toggleable__control:checked~label.sk-toggleable__label {background-color: #d4ebff;}#sk-container-id-18 input.sk-hidden--visually {border: 0;clip: rect(1px 1px 1px 1px);clip: rect(1px, 1px, 1px, 1px);height: 1px;margin: -1px;overflow: hidden;padding: 0;position: absolute;width: 1px;}#sk-container-id-18 div.sk-estimator {font-family: monospace;background-color: #f0f8ff;border: 1px dotted black;border-radius: 0.25em;box-sizing: border-box;margin-bottom: 0.5em;}#sk-container-id-18 div.sk-estimator:hover {background-color: #d4ebff;}#sk-container-id-18 div.sk-parallel-item::after {content: \"\";width: 100%;border-bottom: 1px solid gray;flex-grow: 1;}#sk-container-id-18 div.sk-label:hover label.sk-toggleable__label {background-color: #d4ebff;}#sk-container-id-18 div.sk-serial::before {content: \"\";position: absolute;border-left: 1px solid gray;box-sizing: border-box;top: 0;bottom: 0;left: 50%;z-index: 0;}#sk-container-id-18 div.sk-serial {display: flex;flex-direction: column;align-items: center;background-color: white;padding-right: 0.2em;padding-left: 0.2em;position: relative;}#sk-container-id-18 div.sk-item {position: relative;z-index: 1;}#sk-container-id-18 div.sk-parallel {display: flex;align-items: stretch;justify-content: center;background-color: white;position: relative;}#sk-container-id-18 div.sk-item::before, #sk-container-id-18 div.sk-parallel-item::before {content: \"\";position: absolute;border-left: 1px solid gray;box-sizing: border-box;top: 0;bottom: 0;left: 50%;z-index: -1;}#sk-container-id-18 div.sk-parallel-item {display: flex;flex-direction: column;z-index: 1;position: relative;background-color: white;}#sk-container-id-18 div.sk-parallel-item:first-child::after {align-self: flex-end;width: 50%;}#sk-container-id-18 div.sk-parallel-item:last-child::after {align-self: flex-start;width: 50%;}#sk-container-id-18 div.sk-parallel-item:only-child::after {width: 0;}#sk-container-id-18 div.sk-dashed-wrapped {border: 1px dashed gray;margin: 0 0.4em 0.5em 0.4em;box-sizing: border-box;padding-bottom: 0.4em;background-color: white;}#sk-container-id-18 div.sk-label label {font-family: monospace;font-weight: bold;display: inline-block;line-height: 1.2em;}#sk-container-id-18 div.sk-label-container {text-align: center;}#sk-container-id-18 div.sk-container {/* jupyter's `normalize.less` sets `[hidden] { display: none; }` but bootstrap.min.css set `[hidden] { display: none !important; }` so we also need the `!important` here to be able to override the default hidden behavior on the sphinx rendered scikit-learn.org. See: https://github.com/scikit-learn/scikit-learn/issues/21755 */display: inline-block !important;position: relative;}#sk-container-id-18 div.sk-text-repr-fallback {display: none;}</style><div id=\"sk-container-id-18\" class=\"sk-top-container\"><div class=\"sk-text-repr-fallback\"><pre>SVC(decision_function_shape=&#x27;ovo&#x27;)</pre><b>In a Jupyter environment, please rerun this cell to show the HTML representation or trust the notebook. <br />On GitHub, the HTML representation is unable to render, please try loading this page with nbviewer.org.</b></div><div class=\"sk-container\" hidden><div class=\"sk-item\"><div class=\"sk-estimator sk-toggleable\"><input class=\"sk-toggleable__control sk-hidden--visually\" id=\"sk-estimator-id-18\" type=\"checkbox\" checked><label for=\"sk-estimator-id-18\" class=\"sk-toggleable__label sk-toggleable__label-arrow\">SVC</label><div class=\"sk-toggleable__content\"><pre>SVC(decision_function_shape=&#x27;ovo&#x27;)</pre></div></div></div></div></div>"
            ]
          },
          "metadata": {},
          "execution_count": 289
        }
      ],
      "source": [
        "#train the classifier #takes 3 mins\n",
        "clfsvc.fit(x_train,y_train)"
      ]
    },
    {
      "cell_type": "code",
      "execution_count": null,
      "metadata": {
        "id": "fQ3AOvxZEvD6"
      },
      "outputs": [],
      "source": [
        "#get predictions\n",
        "y_pred=clfsvc.predict(x_test)"
      ]
    },
    {
      "cell_type": "code",
      "execution_count": null,
      "metadata": {
        "id": "6h7EDrMvEvD6",
        "outputId": "3627f115-9a99-41c9-926a-557135f37c1a",
        "colab": {
          "base_uri": "https://localhost:8080/",
          "height": 480
        }
      },
      "outputs": [
        {
          "output_type": "display_data",
          "data": {
            "text/plain": [
              "<Figure size 640x480 with 1 Axes>"
            ],
            "image/png": "[encoded data removed]"
          },
          "metadata": {}
        }
      ],
      "source": [
        "#create and visualise the confusion matrix\n",
        "matrix4=confusion_matrix(y_test,y_pred, labels=unique_labels)\n",
        "sns.heatmap(matrix4.T, square=True, annot=True, fmt='d', cbar=False,\n",
        "            xticklabels=unique_labels, yticklabels=unique_labels)\n",
        "plt.xlabel('true label')\n",
        "plt.ylabel('predicted label')\n",
        "plt.title('Support Vector Machine model')\n",
        "plt.savefig('svmConfMatrix.png')\n",
        "plt.show()"
      ]
    },
    {
      "cell_type": "code",
      "execution_count": null,
      "metadata": {
        "id": "UX28ZMBz2i1r",
        "outputId": "8bc5f313-760d-43b5-91f5-271434d5713b",
        "colab": {
          "base_uri": "https://localhost:8080/"
        }
      },
      "outputs": [
        {
          "output_type": "execute_result",
          "data": {
            "text/plain": [
              "0.6403898428468172"
            ]
          },
          "metadata": {},
          "execution_count": 294
        }
      ],
      "source": [
        "#get the evaluation metrics\n",
        "f1_macroSVM=f1_score(y_test, y_pred, average='macro')\n",
        "f1_macroSVM"
      ]
    },
    {
      "cell_type": "code",
      "execution_count": null,
      "metadata": {
        "id": "X0dvMqsk22Tj",
        "outputId": "dc14772c-66b4-4d18-f8fa-e28a6119cc33",
        "colab": {
          "base_uri": "https://localhost:8080/"
        }
      },
      "outputs": [
        {
          "output_type": "execute_result",
          "data": {
            "text/plain": [
              "array([0.77293429, 0.21818182, 0.93005342])"
            ]
          },
          "metadata": {},
          "execution_count": 293
        }
      ],
      "source": [
        "f1_SVM=f1_score(y_test, y_pred, average=None)\n",
        "f1_SVM"
      ]
    },
    {
      "cell_type": "code",
      "execution_count": null,
      "metadata": {
        "id": "Br2j3rYY3Eu0",
        "outputId": "efe1c36d-7d7d-4151-b672-fa67be2b5527",
        "colab": {
          "base_uri": "https://localhost:8080/"
        }
      },
      "outputs": [
        {
          "output_type": "execute_result",
          "data": {
            "text/plain": [
              "0.8606285379660356"
            ]
          },
          "metadata": {},
          "execution_count": 292
        }
      ],
      "source": [
        "accuracySVM=accuracy_score(y_test, y_pred)\n",
        "accuracySVM"
      ]
    },
    {
      "cell_type": "markdown",
      "metadata": {
        "id": "uJBk11MmrKJ3"
      },
      "source": [
        "#### 5. Weighted Support Vector Machine"
      ]
    },
    {
      "cell_type": "code",
      "execution_count": null,
      "metadata": {
        "id": "YC9i8pQVEvD7"
      },
      "outputs": [],
      "source": [
        "#create the classifier with class weight\n",
        "clfsvcW = svm.SVC(decision_function_shape='ovo', class_weight={'Pos':7, 'Neu':1, 'Neg':1.5 })"
      ]
    },
    {
      "cell_type": "code",
      "execution_count": null,
      "metadata": {
        "id": "EG4PB0vhEvD8"
      },
      "outputs": [],
      "source": [
        "#train and predict #takes 5 mins\n",
        "clfsvcW.fit(x_train,y_train)\n",
        "y_pred=clfsvcW.predict(x_test)"
      ]
    },
    {
      "cell_type": "code",
      "execution_count": null,
      "metadata": {
        "id": "ktjqEdq_EvD8",
        "outputId": "5cb040b8-acd1-4470-bc6c-fbae87fc5845",
        "colab": {
          "base_uri": "https://localhost:8080/",
          "height": 480
        }
      },
      "outputs": [
        {
          "output_type": "display_data",
          "data": {
            "text/plain": [
              "<Figure size 640x480 with 1 Axes>"
            ],
            "image/png": "[encoded data removed]"
          },
          "metadata": {}
        }
      ],
      "source": [
        "#create and visualise matrix\n",
        "matrix5=confusion_matrix(y_test,y_pred, labels=unique_labels)\n",
        "sns.heatmap(matrix5.T, square=True, annot=True, fmt='d', cbar=False,\n",
        "            xticklabels=unique_labels, yticklabels=unique_labels)\n",
        "plt.xlabel('true label')\n",
        "plt.ylabel('predicted label')\n",
        "plt.title('Suport Vector Machine model for unbalanced dataset')\n",
        "plt.show()"
      ]
    },
    {
      "cell_type": "code",
      "execution_count": null,
      "metadata": {
        "id": "wHL-sZEQEvD9",
        "outputId": "a745a7d6-297a-4686-9b93-b8be2b850958",
        "colab": {
          "base_uri": "https://localhost:8080/"
        }
      },
      "outputs": [
        {
          "output_type": "execute_result",
          "data": {
            "text/plain": [
              "0.6218468033693209"
            ]
          },
          "metadata": {},
          "execution_count": 301
        }
      ],
      "source": [
        "#get the evaluation metrics\n",
        "f1_macroSVMW=f1_score(y_test, y_pred, average='macro')\n",
        "f1_macroSVMW"
      ]
    },
    {
      "cell_type": "code",
      "execution_count": null,
      "metadata": {
        "id": "GHojmRcm5ZME",
        "outputId": "dc603b8d-8b50-4d59-a1ae-8586460f8d8e",
        "colab": {
          "base_uri": "https://localhost:8080/"
        }
      },
      "outputs": [
        {
          "output_type": "execute_result",
          "data": {
            "text/plain": [
              "array([0.78039465, 0.15384615, 0.9312996 ])"
            ]
          },
          "metadata": {},
          "execution_count": 300
        }
      ],
      "source": [
        "f1_SVMW=f1_score(y_test, y_pred, average=None)\n",
        "f1_SVMW"
      ]
    },
    {
      "cell_type": "code",
      "execution_count": null,
      "metadata": {
        "id": "Hm2iW1WEEvD_",
        "outputId": "a5a23875-b0a4-4a8a-fe8c-516881b60573",
        "colab": {
          "base_uri": "https://localhost:8080/"
        }
      },
      "outputs": [
        {
          "output_type": "execute_result",
          "data": {
            "text/plain": [
              "0.8617997267226235"
            ]
          },
          "metadata": {},
          "execution_count": 299
        }
      ],
      "source": [
        "accuracySVMW=accuracy_score(y_test, y_pred)\n",
        "accuracySVMW"
      ]
    },
    {
      "cell_type": "markdown",
      "source": [
        "#### 6. Logistic Regression"
      ],
      "metadata": {
        "id": "KZTyVhHrFlXw"
      }
    },
    {
      "cell_type": "code",
      "source": [
        "from sklearn.linear_model import LogisticRegression"
      ],
      "metadata": {
        "id": "taktErbrFprw"
      },
      "execution_count": null,
      "outputs": []
    },
    {
      "cell_type": "code",
      "source": [
        "# Define the logistic regression model\n",
        "LRclf = LogisticRegression()\n",
        "\n",
        "# Train the model on the training data\n",
        "LRclf.fit(x_train, y_train)"
      ],
      "metadata": {
        "id": "IXdy8BFuF4vH",
        "colab": {
          "base_uri": "https://localhost:8080/",
          "height": 213
        },
        "outputId": "f59636a8-c4c6-4d4e-ae45-a245372dcbd3"
      },
      "execution_count": null,
      "outputs": [
        {
          "output_type": "stream",
          "name": "stderr",
          "text": [
            "/usr/local/lib/python3.9/dist-packages/sklearn/linear_model/_logistic.py:458: ConvergenceWarning: lbfgs failed to converge (status=1):\n",
            "STOP: TOTAL NO. of ITERATIONS REACHED LIMIT.\n",
            "\n",
            "Increase the number of iterations (max_iter) or scale the data as shown in:\n",
            "    https://scikit-learn.org/stable/modules/preprocessing.html\n",
            "Please also refer to the documentation for alternative solver options:\n",
            "    https://scikit-learn.org/stable/modules/linear_model.html#logistic-regression\n",
            "  n_iter_i = _check_optimize_result(\n"
          ]
        },
        {
          "output_type": "execute_result",
          "data": {
            "text/plain": [
              "LogisticRegression()"
            ],
            "text/html": [
              "<style>#sk-container-id-9 {color: black;background-color: white;}#sk-container-id-9 pre{padding: 0;}#sk-container-id-9 div.sk-toggleable {background-color: white;}#sk-container-id-9 label.sk-toggleable__label {cursor: pointer;display: block;width: 100%;margin-bottom: 0;padding: 0.3em;box-sizing: border-box;text-align: center;}#sk-container-id-9 label.sk-toggleable__label-arrow:before {content: \"▸\";float: left;margin-right: 0.25em;color: #696969;}#sk-container-id-9 label.sk-toggleable__label-arrow:hover:before {color: black;}#sk-container-id-9 div.sk-estimator:hover label.sk-toggleable__label-arrow:before {color: black;}#sk-container-id-9 div.sk-toggleable__content {max-height: 0;max-width: 0;overflow: hidden;text-align: left;background-color: #f0f8ff;}#sk-container-id-9 div.sk-toggleable__content pre {margin: 0.2em;color: black;border-radius: 0.25em;background-color: #f0f8ff;}#sk-container-id-9 input.sk-toggleable__control:checked~div.sk-toggleable__content {max-height: 200px;max-width: 100%;overflow: auto;}#sk-container-id-9 input.sk-toggleable__control:checked~label.sk-toggleable__label-arrow:before {content: \"▾\";}#sk-container-id-9 div.sk-estimator input.sk-toggleable__control:checked~label.sk-toggleable__label {background-color: #d4ebff;}#sk-container-id-9 div.sk-label input.sk-toggleable__control:checked~label.sk-toggleable__label {background-color: #d4ebff;}#sk-container-id-9 input.sk-hidden--visually {border: 0;clip: rect(1px 1px 1px 1px);clip: rect(1px, 1px, 1px, 1px);height: 1px;margin: -1px;overflow: hidden;padding: 0;position: absolute;width: 1px;}#sk-container-id-9 div.sk-estimator {font-family: monospace;background-color: #f0f8ff;border: 1px dotted black;border-radius: 0.25em;box-sizing: border-box;margin-bottom: 0.5em;}#sk-container-id-9 div.sk-estimator:hover {background-color: #d4ebff;}#sk-container-id-9 div.sk-parallel-item::after {content: \"\";width: 100%;border-bottom: 1px solid gray;flex-grow: 1;}#sk-container-id-9 div.sk-label:hover label.sk-toggleable__label {background-color: #d4ebff;}#sk-container-id-9 div.sk-serial::before {content: \"\";position: absolute;border-left: 1px solid gray;box-sizing: border-box;top: 0;bottom: 0;left: 50%;z-index: 0;}#sk-container-id-9 div.sk-serial {display: flex;flex-direction: column;align-items: center;background-color: white;padding-right: 0.2em;padding-left: 0.2em;position: relative;}#sk-container-id-9 div.sk-item {position: relative;z-index: 1;}#sk-container-id-9 div.sk-parallel {display: flex;align-items: stretch;justify-content: center;background-color: white;position: relative;}#sk-container-id-9 div.sk-item::before, #sk-container-id-9 div.sk-parallel-item::before {content: \"\";position: absolute;border-left: 1px solid gray;box-sizing: border-box;top: 0;bottom: 0;left: 50%;z-index: -1;}#sk-container-id-9 div.sk-parallel-item {display: flex;flex-direction: column;z-index: 1;position: relative;background-color: white;}#sk-container-id-9 div.sk-parallel-item:first-child::after {align-self: flex-end;width: 50%;}#sk-container-id-9 div.sk-parallel-item:last-child::after {align-self: flex-start;width: 50%;}#sk-container-id-9 div.sk-parallel-item:only-child::after {width: 0;}#sk-container-id-9 div.sk-dashed-wrapped {border: 1px dashed gray;margin: 0 0.4em 0.5em 0.4em;box-sizing: border-box;padding-bottom: 0.4em;background-color: white;}#sk-container-id-9 div.sk-label label {font-family: monospace;font-weight: bold;display: inline-block;line-height: 1.2em;}#sk-container-id-9 div.sk-label-container {text-align: center;}#sk-container-id-9 div.sk-container {/* jupyter's `normalize.less` sets `[hidden] { display: none; }` but bootstrap.min.css set `[hidden] { display: none !important; }` so we also need the `!important` here to be able to override the default hidden behavior on the sphinx rendered scikit-learn.org. See: https://github.com/scikit-learn/scikit-learn/issues/21755 */display: inline-block !important;position: relative;}#sk-container-id-9 div.sk-text-repr-fallback {display: none;}</style><div id=\"sk-container-id-9\" class=\"sk-top-container\"><div class=\"sk-text-repr-fallback\"><pre>LogisticRegression()</pre><b>In a Jupyter environment, please rerun this cell to show the HTML representation or trust the notebook. <br />On GitHub, the HTML representation is unable to render, please try loading this page with nbviewer.org.</b></div><div class=\"sk-container\" hidden><div class=\"sk-item\"><div class=\"sk-estimator sk-toggleable\"><input class=\"sk-toggleable__control sk-hidden--visually\" id=\"sk-estimator-id-9\" type=\"checkbox\" checked><label for=\"sk-estimator-id-9\" class=\"sk-toggleable__label sk-toggleable__label-arrow\">LogisticRegression</label><div class=\"sk-toggleable__content\"><pre>LogisticRegression()</pre></div></div></div></div></div>"
            ]
          },
          "metadata": {},
          "execution_count": 147
        }
      ]
    },
    {
      "cell_type": "code",
      "source": [
        "# Predict the labels of the test data\n",
        "y_pred = LRclf.predict(x_test)"
      ],
      "metadata": {
        "id": "fJfUU4ejF8bH"
      },
      "execution_count": null,
      "outputs": []
    },
    {
      "cell_type": "code",
      "source": [
        "#generate the matrix\n",
        "matrix6=confusion_matrix(y_test,y_pred, labels=unique_labels)\n",
        "sns.heatmap(matrix6.T, square=True, annot=True, fmt='d', cbar=False,\n",
        "            xticklabels=unique_labels, yticklabels=unique_labels)\n",
        "plt.xlabel('true label')\n",
        "plt.ylabel('predicted label')\n",
        "plt.title('Suport Vector Machine model for unbalanced dataset, reviews with embeddings')\n",
        "plt.show()"
      ],
      "metadata": {
        "colab": {
          "base_uri": "https://localhost:8080/",
          "height": 480
        },
        "id": "y_4TqvjcZ6Kx",
        "outputId": "de3c5ce4-82e4-4d2a-8821-eb45a4dc1f47"
      },
      "execution_count": null,
      "outputs": [
        {
          "output_type": "display_data",
          "data": {
            "text/plain": [
              "<Figure size 640x480 with 1 Axes>"
            ],
            "image/png": "[encoded data removed]"
          },
          "metadata": {}
        }
      ]
    },
    {
      "cell_type": "code",
      "source": [
        "#get the evaluation metrics\n",
        "f1_macroLogReg=f1_score(y_test, y_pred, average='macro')\n",
        "f1_macroLogReg"
      ],
      "metadata": {
        "colab": {
          "base_uri": "https://localhost:8080/"
        },
        "id": "5HTp7oHGPgCk",
        "outputId": "307dc182-e9f4-4d3f-f229-3b52cb2fe578"
      },
      "execution_count": null,
      "outputs": [
        {
          "output_type": "execute_result",
          "data": {
            "text/plain": [
              "0.6737684608951238"
            ]
          },
          "metadata": {},
          "execution_count": 149
        }
      ]
    },
    {
      "cell_type": "code",
      "source": [
        "f1_LogReg=f1_score(y_test, y_pred, average=None)\n",
        "f1_LogReg"
      ],
      "metadata": {
        "colab": {
          "base_uri": "https://localhost:8080/"
        },
        "id": "2Rw4-mApPhaz",
        "outputId": "6670387a-428a-4504-cc1f-96be95cee8e3"
      },
      "execution_count": null,
      "outputs": [
        {
          "output_type": "execute_result",
          "data": {
            "text/plain": [
              "array([0.78322581, 0.30581867, 0.9322609 ])"
            ]
          },
          "metadata": {},
          "execution_count": 150
        }
      ]
    },
    {
      "cell_type": "code",
      "source": [
        "accuracyLogReg=accuracy_score(y_test, y_pred)\n",
        "accuracyLogReg"
      ],
      "metadata": {
        "colab": {
          "base_uri": "https://localhost:8080/"
        },
        "id": "NcuYTf2SPlaj",
        "outputId": "283af4b0-12c5-4d7a-c74b-fdfd7ac9e8ef"
      },
      "execution_count": null,
      "outputs": [
        {
          "output_type": "execute_result",
          "data": {
            "text/plain": [
              "0.8645325004879953"
            ]
          },
          "metadata": {},
          "execution_count": 151
        }
      ]
    },
    {
      "cell_type": "markdown",
      "source": [
        "#### 7. Random Forest\n",
        "\n"
      ],
      "metadata": {
        "id": "TQKoO0z1YCpJ"
      }
    },
    {
      "cell_type": "code",
      "source": [
        "from sklearn.ensemble import RandomForestClassifier\n",
        "\n",
        "# Define the Random Forest model\n",
        "RFclf = RandomForestClassifier(n_estimators=100, max_depth=10, random_state=42)"
      ],
      "metadata": {
        "id": "Zk7CqvVeXpQ5"
      },
      "execution_count": null,
      "outputs": []
    },
    {
      "cell_type": "code",
      "source": [
        "# Train the model on the training data\n",
        "RFclf.fit(x_train, y_train)"
      ],
      "metadata": {
        "colab": {
          "base_uri": "https://localhost:8080/",
          "height": 74
        },
        "id": "SBqC96JAYsGp",
        "outputId": "e8b966a5-25c6-43c4-97d8-2b0b2b028aee"
      },
      "execution_count": null,
      "outputs": [
        {
          "output_type": "execute_result",
          "data": {
            "text/plain": [
              "RandomForestClassifier(max_depth=10, random_state=42)"
            ],
            "text/html": [
              "<style>#sk-container-id-10 {color: black;background-color: white;}#sk-container-id-10 pre{padding: 0;}#sk-container-id-10 div.sk-toggleable {background-color: white;}#sk-container-id-10 label.sk-toggleable__label {cursor: pointer;display: block;width: 100%;margin-bottom: 0;padding: 0.3em;box-sizing: border-box;text-align: center;}#sk-container-id-10 label.sk-toggleable__label-arrow:before {content: \"▸\";float: left;margin-right: 0.25em;color: #696969;}#sk-container-id-10 label.sk-toggleable__label-arrow:hover:before {color: black;}#sk-container-id-10 div.sk-estimator:hover label.sk-toggleable__label-arrow:before {color: black;}#sk-container-id-10 div.sk-toggleable__content {max-height: 0;max-width: 0;overflow: hidden;text-align: left;background-color: #f0f8ff;}#sk-container-id-10 div.sk-toggleable__content pre {margin: 0.2em;color: black;border-radius: 0.25em;background-color: #f0f8ff;}#sk-container-id-10 input.sk-toggleable__control:checked~div.sk-toggleable__content {max-height: 200px;max-width: 100%;overflow: auto;}#sk-container-id-10 input.sk-toggleable__control:checked~label.sk-toggleable__label-arrow:before {content: \"▾\";}#sk-container-id-10 div.sk-estimator input.sk-toggleable__control:checked~label.sk-toggleable__label {background-color: #d4ebff;}#sk-container-id-10 div.sk-label input.sk-toggleable__control:checked~label.sk-toggleable__label {background-color: #d4ebff;}#sk-container-id-10 input.sk-hidden--visually {border: 0;clip: rect(1px 1px 1px 1px);clip: rect(1px, 1px, 1px, 1px);height: 1px;margin: -1px;overflow: hidden;padding: 0;position: absolute;width: 1px;}#sk-container-id-10 div.sk-estimator {font-family: monospace;background-color: #f0f8ff;border: 1px dotted black;border-radius: 0.25em;box-sizing: border-box;margin-bottom: 0.5em;}#sk-container-id-10 div.sk-estimator:hover {background-color: #d4ebff;}#sk-container-id-10 div.sk-parallel-item::after {content: \"\";width: 100%;border-bottom: 1px solid gray;flex-grow: 1;}#sk-container-id-10 div.sk-label:hover label.sk-toggleable__label {background-color: #d4ebff;}#sk-container-id-10 div.sk-serial::before {content: \"\";position: absolute;border-left: 1px solid gray;box-sizing: border-box;top: 0;bottom: 0;left: 50%;z-index: 0;}#sk-container-id-10 div.sk-serial {display: flex;flex-direction: column;align-items: center;background-color: white;padding-right: 0.2em;padding-left: 0.2em;position: relative;}#sk-container-id-10 div.sk-item {position: relative;z-index: 1;}#sk-container-id-10 div.sk-parallel {display: flex;align-items: stretch;justify-content: center;background-color: white;position: relative;}#sk-container-id-10 div.sk-item::before, #sk-container-id-10 div.sk-parallel-item::before {content: \"\";position: absolute;border-left: 1px solid gray;box-sizing: border-box;top: 0;bottom: 0;left: 50%;z-index: -1;}#sk-container-id-10 div.sk-parallel-item {display: flex;flex-direction: column;z-index: 1;position: relative;background-color: white;}#sk-container-id-10 div.sk-parallel-item:first-child::after {align-self: flex-end;width: 50%;}#sk-container-id-10 div.sk-parallel-item:last-child::after {align-self: flex-start;width: 50%;}#sk-container-id-10 div.sk-parallel-item:only-child::after {width: 0;}#sk-container-id-10 div.sk-dashed-wrapped {border: 1px dashed gray;margin: 0 0.4em 0.5em 0.4em;box-sizing: border-box;padding-bottom: 0.4em;background-color: white;}#sk-container-id-10 div.sk-label label {font-family: monospace;font-weight: bold;display: inline-block;line-height: 1.2em;}#sk-container-id-10 div.sk-label-container {text-align: center;}#sk-container-id-10 div.sk-container {/* jupyter's `normalize.less` sets `[hidden] { display: none; }` but bootstrap.min.css set `[hidden] { display: none !important; }` so we also need the `!important` here to be able to override the default hidden behavior on the sphinx rendered scikit-learn.org. See: https://github.com/scikit-learn/scikit-learn/issues/21755 */display: inline-block !important;position: relative;}#sk-container-id-10 div.sk-text-repr-fallback {display: none;}</style><div id=\"sk-container-id-10\" class=\"sk-top-container\"><div class=\"sk-text-repr-fallback\"><pre>RandomForestClassifier(max_depth=10, random_state=42)</pre><b>In a Jupyter environment, please rerun this cell to show the HTML representation or trust the notebook. <br />On GitHub, the HTML representation is unable to render, please try loading this page with nbviewer.org.</b></div><div class=\"sk-container\" hidden><div class=\"sk-item\"><div class=\"sk-estimator sk-toggleable\"><input class=\"sk-toggleable__control sk-hidden--visually\" id=\"sk-estimator-id-10\" type=\"checkbox\" checked><label for=\"sk-estimator-id-10\" class=\"sk-toggleable__label sk-toggleable__label-arrow\">RandomForestClassifier</label><div class=\"sk-toggleable__content\"><pre>RandomForestClassifier(max_depth=10, random_state=42)</pre></div></div></div></div></div>"
            ]
          },
          "metadata": {},
          "execution_count": 153
        }
      ]
    },
    {
      "cell_type": "code",
      "source": [
        "# Predict the labels of the test data\n",
        "y_pred = RFclf.predict(x_test)"
      ],
      "metadata": {
        "id": "_Hm3Dv2cYuc-"
      },
      "execution_count": null,
      "outputs": []
    },
    {
      "cell_type": "code",
      "source": [
        "#generate the matrix\n",
        "matrix7=confusion_matrix(y_test,y_pred, labels=unique_labels)\n",
        "sns.heatmap(matrix7.T, square=True, annot=True, fmt='d', cbar=False,\n",
        "            xticklabels=unique_labels, yticklabels=unique_labels)\n",
        "plt.xlabel('true label')\n",
        "plt.ylabel('predicted label')\n",
        "plt.title('Suport Vector Machine model for unbalanced dataset')\n",
        "plt.show()"
      ],
      "metadata": {
        "colab": {
          "base_uri": "https://localhost:8080/",
          "height": 480
        },
        "id": "XRhilgsyaSga",
        "outputId": "d866f173-e4b9-4210-85a2-cc14bb2ec5fa"
      },
      "execution_count": null,
      "outputs": [
        {
          "output_type": "display_data",
          "data": {
            "text/plain": [
              "<Figure size 640x480 with 1 Axes>"
            ],
            "image/png": "[encoded data removed]"
          },
          "metadata": {}
        }
      ]
    },
    {
      "cell_type": "code",
      "source": [
        "#get the evaluation metrics\n",
        "f1_macroRanFor=f1_score(y_test, y_pred, average='macro')\n",
        "f1_macroRanFor"
      ],
      "metadata": {
        "colab": {
          "base_uri": "https://localhost:8080/"
        },
        "id": "oPqgbK2wY0CU",
        "outputId": "6752aff2-a4fa-40be-bc2f-966d773a1154"
      },
      "execution_count": null,
      "outputs": [
        {
          "output_type": "execute_result",
          "data": {
            "text/plain": [
              "0.3616202760805612"
            ]
          },
          "metadata": {},
          "execution_count": 155
        }
      ]
    },
    {
      "cell_type": "code",
      "source": [
        "f1_RanFor=f1_score(y_test, y_pred, average=None)\n",
        "f1_RanFor"
      ],
      "metadata": {
        "colab": {
          "base_uri": "https://localhost:8080/"
        },
        "id": "fw8Kx-yjY7-d",
        "outputId": "0fd1ff25-f668-43f2-eba7-466a1a4e7b0e"
      },
      "execution_count": null,
      "outputs": [
        {
          "output_type": "execute_result",
          "data": {
            "text/plain": [
              "array([0.22222222, 0.        , 0.86263861])"
            ]
          },
          "metadata": {},
          "execution_count": 156
        }
      ]
    },
    {
      "cell_type": "code",
      "source": [
        "accuracyRanFor=accuracy_score(y_test, y_pred)\n",
        "accuracyRanFor"
      ],
      "metadata": {
        "colab": {
          "base_uri": "https://localhost:8080/"
        },
        "id": "68UoUsvUY-jE",
        "outputId": "1ee3deaf-accd-4916-dfe0-03bd42bc0105"
      },
      "execution_count": null,
      "outputs": [
        {
          "output_type": "execute_result",
          "data": {
            "text/plain": [
              "0.7630294749170408"
            ]
          },
          "metadata": {},
          "execution_count": 157
        }
      ]
    },
    {
      "cell_type": "markdown",
      "source": [
        "#### 8. KNN\n"
      ],
      "metadata": {
        "id": "14AEM-VkZJ4e"
      }
    },
    {
      "cell_type": "code",
      "source": [
        "from sklearn.neighbors import KNeighborsClassifier\n",
        "\n",
        "# Define the K-Nearest Neighbors model\n",
        "KNNclf = KNeighborsClassifier(n_neighbors=5)"
      ],
      "metadata": {
        "id": "gjF8ipRtYjlZ"
      },
      "execution_count": null,
      "outputs": []
    },
    {
      "cell_type": "code",
      "source": [
        "# Train the model on the training data\n",
        "KNNclf.fit(x_train, y_train)"
      ],
      "metadata": {
        "colab": {
          "base_uri": "https://localhost:8080/",
          "height": 74
        },
        "id": "q7QdheESZOyg",
        "outputId": "181b9831-aa66-4e82-bc64-0b2a7c90a981"
      },
      "execution_count": null,
      "outputs": [
        {
          "output_type": "execute_result",
          "data": {
            "text/plain": [
              "KNeighborsClassifier()"
            ],
            "text/html": [
              "<style>#sk-container-id-11 {color: black;background-color: white;}#sk-container-id-11 pre{padding: 0;}#sk-container-id-11 div.sk-toggleable {background-color: white;}#sk-container-id-11 label.sk-toggleable__label {cursor: pointer;display: block;width: 100%;margin-bottom: 0;padding: 0.3em;box-sizing: border-box;text-align: center;}#sk-container-id-11 label.sk-toggleable__label-arrow:before {content: \"▸\";float: left;margin-right: 0.25em;color: #696969;}#sk-container-id-11 label.sk-toggleable__label-arrow:hover:before {color: black;}#sk-container-id-11 div.sk-estimator:hover label.sk-toggleable__label-arrow:before {color: black;}#sk-container-id-11 div.sk-toggleable__content {max-height: 0;max-width: 0;overflow: hidden;text-align: left;background-color: #f0f8ff;}#sk-container-id-11 div.sk-toggleable__content pre {margin: 0.2em;color: black;border-radius: 0.25em;background-color: #f0f8ff;}#sk-container-id-11 input.sk-toggleable__control:checked~div.sk-toggleable__content {max-height: 200px;max-width: 100%;overflow: auto;}#sk-container-id-11 input.sk-toggleable__control:checked~label.sk-toggleable__label-arrow:before {content: \"▾\";}#sk-container-id-11 div.sk-estimator input.sk-toggleable__control:checked~label.sk-toggleable__label {background-color: #d4ebff;}#sk-container-id-11 div.sk-label input.sk-toggleable__control:checked~label.sk-toggleable__label {background-color: #d4ebff;}#sk-container-id-11 input.sk-hidden--visually {border: 0;clip: rect(1px 1px 1px 1px);clip: rect(1px, 1px, 1px, 1px);height: 1px;margin: -1px;overflow: hidden;padding: 0;position: absolute;width: 1px;}#sk-container-id-11 div.sk-estimator {font-family: monospace;background-color: #f0f8ff;border: 1px dotted black;border-radius: 0.25em;box-sizing: border-box;margin-bottom: 0.5em;}#sk-container-id-11 div.sk-estimator:hover {background-color: #d4ebff;}#sk-container-id-11 div.sk-parallel-item::after {content: \"\";width: 100%;border-bottom: 1px solid gray;flex-grow: 1;}#sk-container-id-11 div.sk-label:hover label.sk-toggleable__label {background-color: #d4ebff;}#sk-container-id-11 div.sk-serial::before {content: \"\";position: absolute;border-left: 1px solid gray;box-sizing: border-box;top: 0;bottom: 0;left: 50%;z-index: 0;}#sk-container-id-11 div.sk-serial {display: flex;flex-direction: column;align-items: center;background-color: white;padding-right: 0.2em;padding-left: 0.2em;position: relative;}#sk-container-id-11 div.sk-item {position: relative;z-index: 1;}#sk-container-id-11 div.sk-parallel {display: flex;align-items: stretch;justify-content: center;background-color: white;position: relative;}#sk-container-id-11 div.sk-item::before, #sk-container-id-11 div.sk-parallel-item::before {content: \"\";position: absolute;border-left: 1px solid gray;box-sizing: border-box;top: 0;bottom: 0;left: 50%;z-index: -1;}#sk-container-id-11 div.sk-parallel-item {display: flex;flex-direction: column;z-index: 1;position: relative;background-color: white;}#sk-container-id-11 div.sk-parallel-item:first-child::after {align-self: flex-end;width: 50%;}#sk-container-id-11 div.sk-parallel-item:last-child::after {align-self: flex-start;width: 50%;}#sk-container-id-11 div.sk-parallel-item:only-child::after {width: 0;}#sk-container-id-11 div.sk-dashed-wrapped {border: 1px dashed gray;margin: 0 0.4em 0.5em 0.4em;box-sizing: border-box;padding-bottom: 0.4em;background-color: white;}#sk-container-id-11 div.sk-label label {font-family: monospace;font-weight: bold;display: inline-block;line-height: 1.2em;}#sk-container-id-11 div.sk-label-container {text-align: center;}#sk-container-id-11 div.sk-container {/* jupyter's `normalize.less` sets `[hidden] { display: none; }` but bootstrap.min.css set `[hidden] { display: none !important; }` so we also need the `!important` here to be able to override the default hidden behavior on the sphinx rendered scikit-learn.org. See: https://github.com/scikit-learn/scikit-learn/issues/21755 */display: inline-block !important;position: relative;}#sk-container-id-11 div.sk-text-repr-fallback {display: none;}</style><div id=\"sk-container-id-11\" class=\"sk-top-container\"><div class=\"sk-text-repr-fallback\"><pre>KNeighborsClassifier()</pre><b>In a Jupyter environment, please rerun this cell to show the HTML representation or trust the notebook. <br />On GitHub, the HTML representation is unable to render, please try loading this page with nbviewer.org.</b></div><div class=\"sk-container\" hidden><div class=\"sk-item\"><div class=\"sk-estimator sk-toggleable\"><input class=\"sk-toggleable__control sk-hidden--visually\" id=\"sk-estimator-id-11\" type=\"checkbox\" checked><label for=\"sk-estimator-id-11\" class=\"sk-toggleable__label sk-toggleable__label-arrow\">KNeighborsClassifier</label><div class=\"sk-toggleable__content\"><pre>KNeighborsClassifier()</pre></div></div></div></div></div>"
            ]
          },
          "metadata": {},
          "execution_count": 161
        }
      ]
    },
    {
      "cell_type": "code",
      "source": [
        "# Predict the labels of the test data\n",
        "y_pred = KNNclf.predict(x_test)"
      ],
      "metadata": {
        "id": "yVU-I_eZZQA5"
      },
      "execution_count": null,
      "outputs": []
    },
    {
      "cell_type": "code",
      "source": [
        "#generate the matrix\n",
        "matrix8=confusion_matrix(y_test,y_pred, labels=unique_labels)\n",
        "sns.heatmap(matrix8.T, square=True, annot=True, fmt='d', cbar=False,\n",
        "            xticklabels=unique_labels, yticklabels=unique_labels)\n",
        "plt.xlabel('true label')\n",
        "plt.ylabel('predicted label')\n",
        "plt.title('KNN model for unbalanced dataset')\n",
        "plt.show()"
      ],
      "metadata": {
        "colab": {
          "base_uri": "https://localhost:8080/",
          "height": 480
        },
        "id": "EgQ1TZnqaYTo",
        "outputId": "f9e02288-6bc2-4bfe-9630-54359fe9ed49"
      },
      "execution_count": null,
      "outputs": [
        {
          "output_type": "display_data",
          "data": {
            "text/plain": [
              "<Figure size 640x480 with 1 Axes>"
            ],
            "image/png": "[encoded data removed]"
          },
          "metadata": {}
        }
      ]
    },
    {
      "cell_type": "code",
      "source": [
        "#get the evaluation metrics\n",
        "f1_macroKNN=f1_score(y_test, y_pred, average='macro')\n",
        "f1_macroKNN"
      ],
      "metadata": {
        "colab": {
          "base_uri": "https://localhost:8080/"
        },
        "id": "uOg36uE7ZWmV",
        "outputId": "94f06636-9f06-46bb-8a8e-dd286fd4948b"
      },
      "execution_count": null,
      "outputs": [
        {
          "output_type": "execute_result",
          "data": {
            "text/plain": [
              "0.5370149899755823"
            ]
          },
          "metadata": {},
          "execution_count": 163
        }
      ]
    },
    {
      "cell_type": "code",
      "source": [
        "f1_KNN=f1_score(y_test, y_pred, average=None)\n",
        "f1_KNN"
      ],
      "metadata": {
        "colab": {
          "base_uri": "https://localhost:8080/"
        },
        "id": "OKq9dbdoZWtF",
        "outputId": "7d049e14-9cd3-46bc-c176-ac4d5af289f6"
      },
      "execution_count": null,
      "outputs": [
        {
          "output_type": "execute_result",
          "data": {
            "text/plain": [
              "array([0.57142857, 0.15089163, 0.88872477])"
            ]
          },
          "metadata": {},
          "execution_count": 164
        }
      ]
    },
    {
      "cell_type": "code",
      "source": [
        "accuracyKNN=accuracy_score(y_test, y_pred)\n",
        "accuracyKNN"
      ],
      "metadata": {
        "colab": {
          "base_uri": "https://localhost:8080/"
        },
        "id": "XYH2YRGyZdq5",
        "outputId": "31b5f0fb-c27f-4098-8c4b-396976bc85dc"
      },
      "execution_count": null,
      "outputs": [
        {
          "output_type": "execute_result",
          "data": {
            "text/plain": [
              "0.7930899863361311"
            ]
          },
          "metadata": {},
          "execution_count": 165
        }
      ]
    },
    {
      "cell_type": "markdown",
      "metadata": {
        "id": "u4FCpwx956NI"
      },
      "source": [
        "#### 5.3. Simple clean and lemmatisation, removal of \"stop words\" and counting only once each word that appears in the review, extracting only a few of the most common words in the full text.\n",
        "In this section, we will proceed with the third pre-processing technique, this technique is generally used for sentiment analysis tasks. It consists in generating a list of the most common words in the text, selecting an 'N' number of the most common words or features, and then generating a dictionary for every review where the keys are the words and the values are a Boolean value indicating whether the feature appears in the review.\n",
        "This method differs from the previous one as we work with a smaller number of features and \"count\" each feature only once, hence there is no need for embeddings.\n",
        "\n",
        "To do this, we start by lemmatising the reviews while removing the \"stop words\". Then we join all the reviews and create a frequency distribution of all the corpus. Then we create a list of the N most common words, in this case, we will use N=500.\n",
        "Then we will extract the features from each review creating a dictionary for each of them.\n",
        "Finally, to process the data in the NLTK machine learning methods, we will create a set of the dictionary with the extracted features together with the review label. Similarly, as in the previous part, we would separate the data into training and test sets."
      ]
    },
    {
      "cell_type": "code",
      "execution_count": null,
      "metadata": {
        "id": "62MuDLCpEvED"
      },
      "outputs": [],
      "source": [
        "#get the stop words\n",
        "stops=set(stopwords.words('english'))"
      ]
    },
    {
      "cell_type": "code",
      "execution_count": null,
      "metadata": {
        "id": "iI1vBs18EvEE"
      },
      "outputs": [],
      "source": [
        "#define a function to lemmatise the reviews\n",
        "def lemmatise_clean_review(review):\n",
        "    word_list = nltk.word_tokenize(review)\n",
        "    lemmatized_review = ' '.join([wnl.lemmatize(w) for w in word_list if w not in stops])\n",
        "    return lemmatized_review"
      ]
    },
    {
      "cell_type": "code",
      "execution_count": null,
      "metadata": {
        "id": "jsoBkxXgEvEE"
      },
      "outputs": [],
      "source": [
        "#lemmatise the reviews\n",
        "cleaned_reviews= [lemmatise_clean_review(review) for review in simple_cleaned_reviews]"
      ]
    },
    {
      "cell_type": "code",
      "execution_count": null,
      "metadata": {
        "id": "NtxO-Ox-EvEF"
      },
      "outputs": [],
      "source": [
        "#join all the corpus in a single string\n",
        "all_reviews=' '.join(cleaned_reviews)"
      ]
    },
    {
      "cell_type": "code",
      "execution_count": null,
      "metadata": {
        "id": "Zw6JVIy2EvEF"
      },
      "outputs": [],
      "source": [
        "#Create a frequency distribution of the words in the corpus\n",
        "all_words = nltk.FreqDist(w for w in all_reviews.split())"
      ]
    },
    {
      "cell_type": "code",
      "execution_count": null,
      "metadata": {
        "id": "Wtac6k5mrKJ6",
        "outputId": "4e8ccc1e-d908-4f86-fee1-3948f0bbc87c",
        "colab": {
          "base_uri": "https://localhost:8080/"
        }
      },
      "outputs": [
        {
          "output_type": "execute_result",
          "data": {
            "text/plain": [
              "FreqDist({'hotel': 54050, 'room': 47779, 'great': 21485, 'n': 19112, 'good': 17491, 'staff': 16706, 'stay': 15601, 'night': 14577, 'day': 13484, 'time': 12981, ...})"
            ]
          },
          "metadata": {},
          "execution_count": 181
        }
      ],
      "source": [
        "all_words"
      ]
    },
    {
      "cell_type": "code",
      "execution_count": null,
      "metadata": {
        "id": "StC_0j24EvEH"
      },
      "outputs": [],
      "source": [
        "#generate a list of the 500 most common words\n",
        "N=500\n",
        "word_features = list(all_words)[:N]"
      ]
    },
    {
      "cell_type": "code",
      "execution_count": null,
      "metadata": {
        "id": "zepWdu2TrKJ6",
        "outputId": "d7e09831-8d81-43ef-a88b-b4146ccbcc43",
        "colab": {
          "base_uri": "https://localhost:8080/"
        }
      },
      "outputs": [
        {
          "output_type": "execute_result",
          "data": {
            "text/plain": [
              "['hotel',\n",
              " 'room',\n",
              " 'great',\n",
              " 'n',\n",
              " 'good',\n",
              " 'staff',\n",
              " 'stay',\n",
              " 'night',\n",
              " 'day',\n",
              " 'time',\n",
              " 'nice',\n",
              " 'location',\n",
              " 'service',\n",
              " 'beach',\n",
              " 'stayed',\n",
              " 'restaurant',\n",
              " 'breakfast',\n",
              " 'food',\n",
              " 'clean',\n",
              " 'place',\n",
              " 'resort',\n",
              " 'pool',\n",
              " 'like',\n",
              " 'really',\n",
              " 'bed',\n",
              " 'area',\n",
              " 'bar',\n",
              " 'friendly',\n",
              " 'people',\n",
              " 'small']"
            ]
          },
          "metadata": {},
          "execution_count": 183
        }
      ],
      "source": [
        "#show the 30 most common features\n",
        "word_features[:30]"
      ]
    },
    {
      "cell_type": "code",
      "execution_count": null,
      "metadata": {
        "id": "kMSw4VzGEvEI"
      },
      "outputs": [],
      "source": [
        "# build a function to extract the features from each review\n",
        "def review_features(review):\n",
        "    words = nltk.word_tokenize(review)\n",
        "    features = {}\n",
        "    for word in word_features:\n",
        "        features['contains({})'.format(word)] = (word in words)\n",
        "    return features"
      ]
    },
    {
      "cell_type": "code",
      "execution_count": null,
      "metadata": {
        "id": "nqXGiTpNEvEJ"
      },
      "outputs": [],
      "source": [
        "#extract the features from each review and store this in a list\n",
        "feature_reviews =[review_features(df_shuffled['simple_cleaned_reviews'][i]) for i in range(len(df))]"
      ]
    },
    {
      "cell_type": "code",
      "execution_count": null,
      "metadata": {
        "id": "tMH6Ic1WEvEJ"
      },
      "outputs": [],
      "source": [
        "#generate a list of sets\n",
        "features_labels_set=[(feature_reviews[i],df_shuffled['sentiment'][i]) for i in range(len(df))]"
      ]
    },
    {
      "cell_type": "code",
      "execution_count": null,
      "metadata": {
        "id": "t-ebSr6LEvEK"
      },
      "outputs": [],
      "source": [
        "#splitting the data into training and test sets\n",
        "train_data=features_labels_set[:int(len(df)*0.75)]\n",
        "test_data=features_labels_set[int(len(df)*0.75):]"
      ]
    },
    {
      "cell_type": "code",
      "execution_count": null,
      "metadata": {
        "id": "ibYkzGwmEvEN"
      },
      "outputs": [],
      "source": [
        "#generating only the x test set so we will be able to predict the values and evaluate the models on the same way as the previous models\n",
        "x_test=feature_reviews[int(len(df)*0.75):]"
      ]
    },
    {
      "cell_type": "markdown",
      "metadata": {
        "id": "m1Pn0qS9rKJ7"
      },
      "source": [
        "#### Building the models\n",
        "As in the previous section, we will work with similar models as previously used.\n",
        "\n",
        "##### 1. Naive Bayes\n",
        "##### 2. Decision Tree\n",
        "##### 3. Support Vector Machine\n",
        "\n",
        "For the first two, we will use the models as they come from the NLTK library which handles this type of organisation of the data,\n",
        "for the third one, we will process it further to apply it in the sklearn model as this model is not available in NLTK anymore.\n",
        "\n",
        "\n",
        "We will start with Naive Bayes\n",
        "#### 1. Naive Bayes"
      ]
    },
    {
      "cell_type": "code",
      "execution_count": null,
      "metadata": {
        "id": "crS56TLUEvEL"
      },
      "outputs": [],
      "source": [
        "#Generate the model and train it\n",
        "NBclassifier = nltk.NaiveBayesClassifier.train(train_data)"
      ]
    },
    {
      "cell_type": "code",
      "execution_count": null,
      "metadata": {
        "id": "mJk_kqy472Sm"
      },
      "outputs": [],
      "source": [
        "#generate the prediction for the test data\n",
        "y_pred=[NBclassifier.classify(review) for review in x_test]"
      ]
    },
    {
      "cell_type": "code",
      "execution_count": null,
      "metadata": {
        "id": "Ht1NWmND77RY"
      },
      "outputs": [],
      "source": [
        "#transfer it as an array\n",
        "y_pred_array=np.array(y_pred)"
      ]
    },
    {
      "cell_type": "code",
      "execution_count": null,
      "metadata": {
        "id": "MQ6twdEO8D33"
      },
      "outputs": [],
      "source": [
        "#get the real test labels so we will be able to compare\n",
        "y_test=df_shuffled['sentiment'][int(len(df)*0.75):].values"
      ]
    },
    {
      "cell_type": "code",
      "execution_count": null,
      "metadata": {
        "id": "NwF2iMRf8GWn",
        "outputId": "0a34b555-b609-41c3-d2c1-d0a6d778bdb5",
        "colab": {
          "base_uri": "https://localhost:8080/",
          "height": 480
        }
      },
      "outputs": [
        {
          "output_type": "display_data",
          "data": {
            "text/plain": [
              "<Figure size 640x480 with 1 Axes>"
            ],
            "image/png": "[encoded data removed]"
          },
          "metadata": {}
        }
      ],
      "source": [
        "#generate the confusion matrix to evaluate\n",
        "matrix9=confusion_matrix(y_test,y_pred_array, labels=unique_labels)\n",
        "sns.heatmap(matrix9.T, square=True, annot=True, fmt='d', cbar=False,\n",
        "            xticklabels=unique_labels, yticklabels=unique_labels)\n",
        "plt.xlabel('true label')\n",
        "plt.ylabel('predicted label')\n",
        "plt.title('Naive Bayes, 500 features extraction')\n",
        "plt.show()"
      ]
    },
    {
      "cell_type": "code",
      "execution_count": null,
      "metadata": {
        "id": "9TY5lwj88p0h",
        "outputId": "f478abf0-3727-4da4-c500-902d0a8713ed",
        "colab": {
          "base_uri": "https://localhost:8080/"
        }
      },
      "outputs": [
        {
          "output_type": "execute_result",
          "data": {
            "text/plain": [
              "0.7630294749170408"
            ]
          },
          "metadata": {},
          "execution_count": 209
        }
      ],
      "source": [
        "accuracyNBFeatureExtraction=nltk.classify.accuracy(NBclassifier, test_data)\n",
        "accuracyNBFeatureExtraction"
      ]
    },
    {
      "cell_type": "code",
      "execution_count": null,
      "metadata": {
        "id": "rUYQ3gaiFFtD",
        "outputId": "b9858a19-05b3-498e-cec9-8082f43c03e9",
        "colab": {
          "base_uri": "https://localhost:8080/"
        }
      },
      "outputs": [
        {
          "output_type": "execute_result",
          "data": {
            "text/plain": [
              "0.5978625218154416"
            ]
          },
          "metadata": {},
          "execution_count": 210
        }
      ],
      "source": [
        "f1_macroNBFeatureExtraction=f1_score(y_test,y_pred_array, average='macro')\n",
        "f1_macroNBFeatureExtraction"
      ]
    },
    {
      "cell_type": "code",
      "execution_count": null,
      "metadata": {
        "id": "UtnjX3VKCILe",
        "outputId": "a99333b7-80c0-4163-e27f-ae8a7939d3a5",
        "colab": {
          "base_uri": "https://localhost:8080/"
        }
      },
      "outputs": [
        {
          "output_type": "execute_result",
          "data": {
            "text/plain": [
              "array([0.65794637, 0.27160494, 0.86403626])"
            ]
          },
          "metadata": {},
          "execution_count": 211
        }
      ],
      "source": [
        "f1_NBFeatureExtraction=f1_score(y_test,y_pred_array, average=None)\n",
        "f1_NBFeatureExtraction"
      ]
    },
    {
      "cell_type": "markdown",
      "metadata": {
        "id": "jxSdK8OZrKJ9"
      },
      "source": [
        "#### The Naive Bayes classifier is capable of presenting the most informative features"
      ]
    },
    {
      "cell_type": "code",
      "execution_count": null,
      "metadata": {
        "id": "4QGxmWkOH1wA",
        "outputId": "e7abb18b-f777-4980-ee56-1499a91890eb",
        "colab": {
          "base_uri": "https://localhost:8080/"
        }
      },
      "outputs": [
        {
          "output_type": "stream",
          "name": "stdout",
          "text": [
            "Most Informative Features\n",
            "         contains(dirty) = True              Neg : Pos    =     14.5 : 1.0\n",
            "         contains(worst) = True              Neg : Pos    =     13.5 : 1.0\n",
            "          contains(rude) = True              Neg : Pos    =      9.6 : 1.0\n",
            "       contains(perfect) = True              Pos : Neg    =      6.5 : 1.0\n",
            "         contains(loved) = True              Pos : Neg    =      6.2 : 1.0\n",
            "       contains(finally) = True              Neg : Pos    =      5.9 : 1.0\n",
            "        contains(superb) = True              Pos : Neg    =      5.8 : 1.0\n",
            "          contains(poor) = True              Neg : Pos    =      5.7 : 1.0\n",
            "          contains(told) = True              Neg : Pos    =      5.5 : 1.0\n",
            "      contains(spacious) = True              Pos : Neg    =      4.8 : 1.0\n",
            "     contains(fantastic) = True              Pos : Neg    =      4.8 : 1.0\n",
            "        contains(highly) = True              Pos : Neu    =      4.5 : 1.0\n",
            "        contains(modern) = True              Pos : Neg    =      4.4 : 1.0\n",
            "         contains(smell) = True              Neg : Pos    =      4.3 : 1.0\n",
            "       contains(manager) = True              Neg : Pos    =      4.3 : 1.0\n",
            "      contains(fabulous) = True              Pos : Neg    =      4.2 : 1.0\n",
            "         contains(paris) = True              Pos : Neg    =      4.2 : 1.0\n",
            "            contains(ok) = True              Neu : Pos    =      4.1 : 1.0\n",
            "        contains(toilet) = True              Neg : Pos    =      4.0 : 1.0\n",
            "     contains(excellent) = True              Pos : Neg    =      4.0 : 1.0\n",
            "     contains(wonderful) = True              Pos : Neg    =      4.0 : 1.0\n",
            "        contains(london) = True              Pos : Neg    =      3.9 : 1.0\n",
            "      contains(customer) = True              Neg : Pos    =      3.8 : 1.0\n",
            "         contains(phone) = True              Neg : Pos    =      3.8 : 1.0\n",
            "     contains(decorated) = True              Pos : Neg    =      3.6 : 1.0\n",
            "          contains(tiny) = True              Neg : Pos    =      3.6 : 1.0\n",
            "         contains(quiet) = True              Pos : Neg    =      3.5 : 1.0\n",
            "   contains(comfortable) = True              Pos : Neg    =      3.5 : 1.0\n",
            "       contains(average) = True              Neu : Pos    =      3.5 : 1.0\n",
            "        contains(square) = True              Pos : Neg    =      3.4 : 1.0\n",
            "         contains(metro) = True              Pos : Neg    =      3.2 : 1.0\n",
            "       contains(amazing) = True              Pos : Neg    =      3.1 : 1.0\n",
            "       contains(helpful) = True              Pos : Neg    =      3.0 : 1.0\n",
            "           contains(bad) = True              Neg : Pos    =      3.0 : 1.0\n",
            "         contains(later) = True              Neg : Pos    =      2.9 : 1.0\n",
            "   contains(reservation) = True              Neg : Pos    =      2.9 : 1.0\n",
            "      contains(distance) = True              Pos : Neg    =      2.9 : 1.0\n",
            "        contains(called) = True              Neg : Pos    =      2.9 : 1.0\n",
            "         contains(value) = True              Pos : Neg    =      2.9 : 1.0\n",
            "          contains(easy) = True              Pos : Neg    =      2.9 : 1.0\n",
            "          contains(sick) = True              Neg : Pos    =      2.9 : 1.0\n",
            "       contains(enjoyed) = True              Pos : Neg    =      2.9 : 1.0\n",
            "         contains(basic) = True              Neu : Pos    =      2.9 : 1.0\n",
            "        contains(trying) = True              Neg : Pos    =      2.8 : 1.0\n",
            "          contains(card) = True              Neg : Pos    =      2.8 : 1.0\n",
            "       contains(awesome) = True              Pos : Neg    =      2.8 : 1.0\n",
            "          contains(said) = True              Neg : Pos    =      2.8 : 1.0\n",
            "         contains(asked) = True              Neg : Pos    =      2.8 : 1.0\n",
            "     contains(selection) = True              Pos : Neg    =      2.8 : 1.0\n",
            "      contains(shopping) = True              Pos : Neg    =      2.8 : 1.0\n"
          ]
        }
      ],
      "source": [
        "NBclassifier.show_most_informative_features(50)"
      ]
    },
    {
      "cell_type": "markdown",
      "metadata": {
        "id": "atRM_Ma1rKJ9"
      },
      "source": [
        "It is interesting to see that some words are obvious to be in a specific class such as: 'perfect', 'loved', 'superb' as keywords for positive reviews and words such as 'worst','poor','dirty' for negatives but some words that we wouldn't expect, are actually key to classify a class. For example: 'finally' appears to be one of the keywords for negative reviews, meaning that people wrote an experience and commented how it finished. In the same way, the words 'told', 'said' and 'manager' have to do with negative reviews, as people had such bad experiences that needed to speak with the accommodation manager and they write what they were 'told'. Another interesting insight is to see 'Paris' and 'London' as keywords for positive reviews. Obviously, there are good and not so good hotels in both cities, however, people have mainly positive experiences while staying in these cities, this could be due to the high competitiveness in the touristic market and the need to provide higher than expected services to the tourists."
      ]
    },
    {
      "cell_type": "markdown",
      "metadata": {
        "id": "dwwJAZcerKJ9"
      },
      "source": [
        "#### 2. Decision Tree"
      ]
    },
    {
      "cell_type": "code",
      "execution_count": null,
      "metadata": {
        "id": "e3yxSHe_IOJO"
      },
      "outputs": [],
      "source": [
        "#Create the Decision Tree classifier, train the data and predict the values for the x_test dataset. # 2 mins\n",
        "DTclassifier = nltk.DecisionTreeClassifier.train(train_data)\n",
        "y_pred=[DTclassifier.classify(review) for review in x_test]"
      ]
    },
    {
      "cell_type": "code",
      "execution_count": null,
      "metadata": {
        "id": "NdWNl3fYI7qW"
      },
      "outputs": [],
      "source": [
        "y_pred_array=np.array(y_pred)"
      ]
    },
    {
      "cell_type": "code",
      "execution_count": null,
      "metadata": {
        "id": "-P9nY_KiJBQ8",
        "outputId": "1d828d60-4c82-4492-8980-0ba5c8c5eb5a",
        "colab": {
          "base_uri": "https://localhost:8080/",
          "height": 480
        }
      },
      "outputs": [
        {
          "output_type": "display_data",
          "data": {
            "text/plain": [
              "<Figure size 640x480 with 1 Axes>"
            ],
            "image/png": "[encoded data removed]"
          },
          "metadata": {}
        }
      ],
      "source": [
        "#visualise the results\n",
        "matrix10=confusion_matrix(y_test,y_pred_array, labels=unique_labels)\n",
        "sns.heatmap(matrix10.T, square=True, annot=True, fmt='d', cbar=False,\n",
        "            xticklabels=unique_labels, yticklabels=unique_labels)\n",
        "plt.xlabel('true label')\n",
        "plt.ylabel('predicted label')\n",
        "plt.title('Decision Tree model, 500 feature extraction')\n",
        "plt.show()"
      ]
    },
    {
      "cell_type": "code",
      "execution_count": null,
      "metadata": {
        "id": "ZcRwNePwLusr",
        "outputId": "7a006368-e57b-4469-9ff6-ff1183b83eeb",
        "colab": {
          "base_uri": "https://localhost:8080/"
        }
      },
      "outputs": [
        {
          "output_type": "execute_result",
          "data": {
            "text/plain": [
              "0.777083739996096"
            ]
          },
          "metadata": {},
          "execution_count": 226
        }
      ],
      "source": [
        "accuracyDTFeatureExtraction=nltk.classify.accuracy(DTclassifier, test_data)\n",
        "accuracyDTFeatureExtraction"
      ]
    },
    {
      "cell_type": "code",
      "execution_count": null,
      "metadata": {
        "id": "1N9pZlaIL0xb",
        "outputId": "f939a3aa-c58f-4ab7-ea4b-e4d0d512c73b",
        "colab": {
          "base_uri": "https://localhost:8080/"
        }
      },
      "outputs": [
        {
          "output_type": "execute_result",
          "data": {
            "text/plain": [
              "0.42781704049491814"
            ]
          },
          "metadata": {},
          "execution_count": 227
        }
      ],
      "source": [
        "f1_macroDTFeatureExtraction=f1_score(y_test,y_pred_array, average='macro')\n",
        "f1_macroDTFeatureExtraction"
      ]
    },
    {
      "cell_type": "code",
      "execution_count": null,
      "metadata": {
        "id": "e7Cka4dpMC4t",
        "outputId": "2d178591-4ff3-4ba7-884f-fce032eedc2b",
        "colab": {
          "base_uri": "https://localhost:8080/"
        }
      },
      "outputs": [
        {
          "output_type": "execute_result",
          "data": {
            "text/plain": [
              "array([0.39814815, 0.01069519, 0.87460779])"
            ]
          },
          "metadata": {},
          "execution_count": 228
        }
      ],
      "source": [
        "f1_DTFeatureExtraction=f1_score(y_test,y_pred_array, average=None)\n",
        "f1_DTFeatureExtraction"
      ]
    },
    {
      "cell_type": "markdown",
      "metadata": {
        "id": "ogNHCh3HrKJ-"
      },
      "source": [
        "#### 3. Suport Vector Machine\n",
        "As the SVM classifier within NLTK library was deprecated, we should use the SVM from sklearn.\n",
        "But first, we need to convert the list of feature extraction dictionaries into an numpy array.\n",
        "Then, we can split the data as similarly done in the previous sections."
      ]
    },
    {
      "cell_type": "code",
      "execution_count": null,
      "metadata": {
        "id": "lCkcBO4zO2s8"
      },
      "outputs": [],
      "source": [
        "feature_reviews_list_of_list=[list(review.values()) for review in feature_reviews ]"
      ]
    },
    {
      "cell_type": "code",
      "execution_count": null,
      "metadata": {
        "id": "fLCtlrtsPMpM"
      },
      "outputs": [],
      "source": [
        "feature_reviews_array=np.array(feature_reviews_list_of_list)"
      ]
    },
    {
      "cell_type": "code",
      "execution_count": null,
      "metadata": {
        "id": "iuWPZS09PPXG"
      },
      "outputs": [],
      "source": [
        "x_train=feature_reviews_array[:int(len(df)*0.75)]\n",
        "x_test=feature_reviews_array[int(len(df)*0.75):]\n",
        "y_train=labels[:int(len(df)*0.75)]\n",
        "y_test=labels[int(len(df)*0.75):]"
      ]
    },
    {
      "cell_type": "code",
      "execution_count": null,
      "metadata": {
        "id": "norXu_sHPVy8",
        "outputId": "02857772-b348-4c78-f435-47c9010108b9",
        "colab": {
          "base_uri": "https://localhost:8080/",
          "height": 74
        }
      },
      "outputs": [
        {
          "output_type": "execute_result",
          "data": {
            "text/plain": [
              "SVC(decision_function_shape='ovo')"
            ],
            "text/html": [
              "<style>#sk-container-id-12 {color: black;background-color: white;}#sk-container-id-12 pre{padding: 0;}#sk-container-id-12 div.sk-toggleable {background-color: white;}#sk-container-id-12 label.sk-toggleable__label {cursor: pointer;display: block;width: 100%;margin-bottom: 0;padding: 0.3em;box-sizing: border-box;text-align: center;}#sk-container-id-12 label.sk-toggleable__label-arrow:before {content: \"▸\";float: left;margin-right: 0.25em;color: #696969;}#sk-container-id-12 label.sk-toggleable__label-arrow:hover:before {color: black;}#sk-container-id-12 div.sk-estimator:hover label.sk-toggleable__label-arrow:before {color: black;}#sk-container-id-12 div.sk-toggleable__content {max-height: 0;max-width: 0;overflow: hidden;text-align: left;background-color: #f0f8ff;}#sk-container-id-12 div.sk-toggleable__content pre {margin: 0.2em;color: black;border-radius: 0.25em;background-color: #f0f8ff;}#sk-container-id-12 input.sk-toggleable__control:checked~div.sk-toggleable__content {max-height: 200px;max-width: 100%;overflow: auto;}#sk-container-id-12 input.sk-toggleable__control:checked~label.sk-toggleable__label-arrow:before {content: \"▾\";}#sk-container-id-12 div.sk-estimator input.sk-toggleable__control:checked~label.sk-toggleable__label {background-color: #d4ebff;}#sk-container-id-12 div.sk-label input.sk-toggleable__control:checked~label.sk-toggleable__label {background-color: #d4ebff;}#sk-container-id-12 input.sk-hidden--visually {border: 0;clip: rect(1px 1px 1px 1px);clip: rect(1px, 1px, 1px, 1px);height: 1px;margin: -1px;overflow: hidden;padding: 0;position: absolute;width: 1px;}#sk-container-id-12 div.sk-estimator {font-family: monospace;background-color: #f0f8ff;border: 1px dotted black;border-radius: 0.25em;box-sizing: border-box;margin-bottom: 0.5em;}#sk-container-id-12 div.sk-estimator:hover {background-color: #d4ebff;}#sk-container-id-12 div.sk-parallel-item::after {content: \"\";width: 100%;border-bottom: 1px solid gray;flex-grow: 1;}#sk-container-id-12 div.sk-label:hover label.sk-toggleable__label {background-color: #d4ebff;}#sk-container-id-12 div.sk-serial::before {content: \"\";position: absolute;border-left: 1px solid gray;box-sizing: border-box;top: 0;bottom: 0;left: 50%;z-index: 0;}#sk-container-id-12 div.sk-serial {display: flex;flex-direction: column;align-items: center;background-color: white;padding-right: 0.2em;padding-left: 0.2em;position: relative;}#sk-container-id-12 div.sk-item {position: relative;z-index: 1;}#sk-container-id-12 div.sk-parallel {display: flex;align-items: stretch;justify-content: center;background-color: white;position: relative;}#sk-container-id-12 div.sk-item::before, #sk-container-id-12 div.sk-parallel-item::before {content: \"\";position: absolute;border-left: 1px solid gray;box-sizing: border-box;top: 0;bottom: 0;left: 50%;z-index: -1;}#sk-container-id-12 div.sk-parallel-item {display: flex;flex-direction: column;z-index: 1;position: relative;background-color: white;}#sk-container-id-12 div.sk-parallel-item:first-child::after {align-self: flex-end;width: 50%;}#sk-container-id-12 div.sk-parallel-item:last-child::after {align-self: flex-start;width: 50%;}#sk-container-id-12 div.sk-parallel-item:only-child::after {width: 0;}#sk-container-id-12 div.sk-dashed-wrapped {border: 1px dashed gray;margin: 0 0.4em 0.5em 0.4em;box-sizing: border-box;padding-bottom: 0.4em;background-color: white;}#sk-container-id-12 div.sk-label label {font-family: monospace;font-weight: bold;display: inline-block;line-height: 1.2em;}#sk-container-id-12 div.sk-label-container {text-align: center;}#sk-container-id-12 div.sk-container {/* jupyter's `normalize.less` sets `[hidden] { display: none; }` but bootstrap.min.css set `[hidden] { display: none !important; }` so we also need the `!important` here to be able to override the default hidden behavior on the sphinx rendered scikit-learn.org. See: https://github.com/scikit-learn/scikit-learn/issues/21755 */display: inline-block !important;position: relative;}#sk-container-id-12 div.sk-text-repr-fallback {display: none;}</style><div id=\"sk-container-id-12\" class=\"sk-top-container\"><div class=\"sk-text-repr-fallback\"><pre>SVC(decision_function_shape=&#x27;ovo&#x27;)</pre><b>In a Jupyter environment, please rerun this cell to show the HTML representation or trust the notebook. <br />On GitHub, the HTML representation is unable to render, please try loading this page with nbviewer.org.</b></div><div class=\"sk-container\" hidden><div class=\"sk-item\"><div class=\"sk-estimator sk-toggleable\"><input class=\"sk-toggleable__control sk-hidden--visually\" id=\"sk-estimator-id-12\" type=\"checkbox\" checked><label for=\"sk-estimator-id-12\" class=\"sk-toggleable__label sk-toggleable__label-arrow\">SVC</label><div class=\"sk-toggleable__content\"><pre>SVC(decision_function_shape=&#x27;ovo&#x27;)</pre></div></div></div></div></div>"
            ]
          },
          "metadata": {},
          "execution_count": 232
        }
      ],
      "source": [
        "clfsvc_500_features = svm.SVC(decision_function_shape='ovo')\n",
        "clfsvc_500_features.fit(x_train,y_train)"
      ]
    },
    {
      "cell_type": "code",
      "execution_count": null,
      "metadata": {
        "id": "xx1sqrYOPZ2k"
      },
      "outputs": [],
      "source": [
        "y_pred=clfsvc_500_features.predict(x_test)"
      ]
    },
    {
      "cell_type": "code",
      "execution_count": null,
      "metadata": {
        "id": "vg-82M1aUJnr",
        "outputId": "877b511c-dc71-4186-bf98-8e2304fe7cbe",
        "colab": {
          "base_uri": "https://localhost:8080/",
          "height": 480
        }
      },
      "outputs": [
        {
          "output_type": "display_data",
          "data": {
            "text/plain": [
              "<Figure size 640x480 with 1 Axes>"
            ],
            "image/png": "[encoded data removed]"
          },
          "metadata": {}
        }
      ],
      "source": [
        "matrix11=confusion_matrix(y_test,y_pred, labels=unique_labels)\n",
        "sns.heatmap(matrix11.T, square=True, annot=True, fmt='d', cbar=False,\n",
        "            xticklabels=unique_labels, yticklabels=unique_labels)\n",
        "plt.xlabel('true label')\n",
        "plt.ylabel('predicted label')\n",
        "plt.title('Suport Vector Machine model, 500 feature extraction')\n",
        "plt.show()"
      ]
    },
    {
      "cell_type": "code",
      "execution_count": null,
      "metadata": {
        "id": "hZttGWUhUlYL",
        "outputId": "59b54caa-6f71-454e-836b-7132b9dc2365",
        "colab": {
          "base_uri": "https://localhost:8080/"
        }
      },
      "outputs": [
        {
          "output_type": "execute_result",
          "data": {
            "text/plain": [
              "0.8395471403474527"
            ]
          },
          "metadata": {},
          "execution_count": 236
        }
      ],
      "source": [
        "accuracySVMFeatureExtraction=accuracy_score(y_test, y_pred)\n",
        "accuracySVMFeatureExtraction"
      ]
    },
    {
      "cell_type": "code",
      "execution_count": null,
      "metadata": {
        "id": "SqCzu-eqU7dD",
        "outputId": "f8532e58-845d-48e3-959a-398633e49dd3",
        "colab": {
          "base_uri": "https://localhost:8080/"
        }
      },
      "outputs": [
        {
          "output_type": "execute_result",
          "data": {
            "text/plain": [
              "0.5906668996966675"
            ]
          },
          "metadata": {},
          "execution_count": 237
        }
      ],
      "source": [
        "f1_macroSVMFeatureExtraction=f1_score(y_test, y_pred, average='macro')\n",
        "f1_macroSVMFeatureExtraction"
      ]
    },
    {
      "cell_type": "code",
      "execution_count": null,
      "metadata": {
        "id": "c3b5toz5VY4r",
        "outputId": "08e835c0-5d00-490b-b1b9-ed587fdcfb31",
        "colab": {
          "base_uri": "https://localhost:8080/"
        }
      },
      "outputs": [
        {
          "output_type": "execute_result",
          "data": {
            "text/plain": [
              "array([0.72146739, 0.13680782, 0.91372549])"
            ]
          },
          "metadata": {},
          "execution_count": 238
        }
      ],
      "source": [
        "f1_SVMFeatureExtraction=f1_score(y_test, y_pred, average=None)\n",
        "f1_SVMFeatureExtraction"
      ]
    },
    {
      "cell_type": "markdown",
      "metadata": {
        "id": "gxH8KZtarKKA"
      },
      "source": [
        "#### 5.4. No pre-processs\n",
        "For the last part of the project, instead of building models, we will use already created sentiment analysis models which give a sentiment score to sentences. We will use this score to predict the sentiment of a review and then evaluate its performance. In this case, there is no need for pre-processing.\n",
        "\n",
        "We will try using two lexicon-based models for sentiment analysis:\n",
        "1. TextBlob\n",
        "2. NLTK\n",
        "\n",
        "As we are not training a model, we won't split the data into training and test sets, we will just test the models\n",
        "\n",
        "\n",
        "We will start with the first lexicon model\n",
        "#### 1. TextBlob"
      ]
    },
    {
      "cell_type": "code",
      "execution_count": null,
      "metadata": {
        "id": "UtY8kfLyVjq2"
      },
      "outputs": [],
      "source": [
        "import textblob\n",
        "from textblob import TextBlob"
      ]
    },
    {
      "cell_type": "code",
      "execution_count": null,
      "metadata": {
        "id": "3N3K6ag8V3g0"
      },
      "outputs": [],
      "source": [
        "#define a function to predict the sentiment using the polarity value from the TextBlob model.\n",
        "#The reviews which polarity value are close to 0 will be classified as neutral\n",
        "#The reviews with positive polarity higher than 0.1 will be classified as Positives\n",
        "#And the reviews with negative polarity, lower than 0.1 will be classified as Negatives\n",
        "def predict_sentiment(review):\n",
        "    result=TextBlob(review).sentiment\n",
        "    if result.polarity >0.1:\n",
        "        sentiment='Pos'\n",
        "    elif result.polarity<-0.1:\n",
        "        sentiment='Neg'\n",
        "    else:\n",
        "        sentiment='Neu'\n",
        "    return sentiment"
      ]
    },
    {
      "cell_type": "code",
      "execution_count": null,
      "metadata": {
        "id": "_7FFk98EV51c"
      },
      "outputs": [],
      "source": [
        "#predict the sentiment for each of the reviews\n",
        "text_blob_sentiments=[predict_sentiment(df_shuffled['Review'][i]) for i in range(len(df)) ]"
      ]
    },
    {
      "cell_type": "code",
      "execution_count": null,
      "metadata": {
        "id": "YaFjQGOfV-Ar"
      },
      "outputs": [],
      "source": [
        "#get the real sentiment\n",
        "real_sentiments=list(df_shuffled['sentiment'])"
      ]
    },
    {
      "cell_type": "code",
      "execution_count": null,
      "metadata": {
        "id": "n19WPi3pWHdj",
        "outputId": "8cf3b6cf-686b-404a-e3d6-04a734a7310c",
        "colab": {
          "base_uri": "https://localhost:8080/",
          "height": 480
        }
      },
      "outputs": [
        {
          "output_type": "display_data",
          "data": {
            "text/plain": [
              "<Figure size 640x480 with 1 Axes>"
            ],
            "image/png": "[encoded data removed]"
          },
          "metadata": {}
        }
      ],
      "source": [
        "#visualise the results\n",
        "matrix12=confusion_matrix(real_sentiments,text_blob_sentiments, labels=unique_labels)\n",
        "sns.heatmap(matrix12.T, square=True, annot=True, fmt='d', cbar=False,\n",
        "            xticklabels=unique_labels, yticklabels=unique_labels)\n",
        "plt.xlabel('true label')\n",
        "plt.ylabel('predicted label')\n",
        "plt.title('Textblob lexicon for sentiment analysis')\n",
        "plt.show()"
      ]
    },
    {
      "cell_type": "code",
      "execution_count": null,
      "metadata": {
        "id": "mRD8XnBBWJ3r",
        "outputId": "628c5af4-655a-4e74-b5bd-9a68f2282c9d",
        "colab": {
          "base_uri": "https://localhost:8080/"
        }
      },
      "outputs": [
        {
          "output_type": "execute_result",
          "data": {
            "text/plain": [
              "0.7671172709970231"
            ]
          },
          "metadata": {},
          "execution_count": 245
        }
      ],
      "source": [
        "#get the evaluation metrics\n",
        "accuracyTextBlobLexicon=accuracy_score(real_sentiments, text_blob_sentiments)\n",
        "accuracyTextBlobLexicon"
      ]
    },
    {
      "cell_type": "code",
      "execution_count": null,
      "metadata": {
        "id": "G1LSzfmDW-jL",
        "outputId": "7fb27ddd-6c29-4435-9830-6f58a96ff3bb",
        "colab": {
          "base_uri": "https://localhost:8080/"
        }
      },
      "outputs": [
        {
          "output_type": "execute_result",
          "data": {
            "text/plain": [
              "0.4623651844081122"
            ]
          },
          "metadata": {},
          "execution_count": 246
        }
      ],
      "source": [
        "f1_macroTextBlobLexicon=f1_score(real_sentiments, text_blob_sentiments, average='macro')\n",
        "f1_macroTextBlobLexicon"
      ]
    },
    {
      "cell_type": "code",
      "execution_count": null,
      "metadata": {
        "id": "9RBCEdSjXOKz",
        "outputId": "41ed1b73-38ce-44a6-c317-3841fac35001",
        "colab": {
          "base_uri": "https://localhost:8080/"
        }
      },
      "outputs": [
        {
          "output_type": "execute_result",
          "data": {
            "text/plain": [
              "array([0.30609058, 0.18119736, 0.89980762])"
            ]
          },
          "metadata": {},
          "execution_count": 247
        }
      ],
      "source": [
        "f1_TextBlobLexicon=f1_score(real_sentiments, text_blob_sentiments, average=None)\n",
        "f1_TextBlobLexicon"
      ]
    },
    {
      "cell_type": "markdown",
      "metadata": {
        "id": "7lDInPZErKKB"
      },
      "source": [
        "#### 2. NLTK"
      ]
    },
    {
      "cell_type": "code",
      "execution_count": null,
      "metadata": {
        "id": "vUAjCrblXuT7",
        "outputId": "f191cfdc-29a3-476f-81d3-7cd0b0a8a5cd",
        "colab": {
          "base_uri": "https://localhost:8080/"
        }
      },
      "outputs": [
        {
          "output_type": "stream",
          "name": "stderr",
          "text": [
            "[nltk_data] Downloading package vader_lexicon to /root/nltk_data...\n"
          ]
        }
      ],
      "source": [
        "from nltk.sentiment.vader import SentimentIntensityAnalyzer\n",
        "nltk.download('vader_lexicon')\n",
        "sia=SentimentIntensityAnalyzer()"
      ]
    },
    {
      "cell_type": "code",
      "execution_count": null,
      "metadata": {
        "id": "Xofpmrk7YIL6"
      },
      "outputs": [],
      "source": [
        "#define a function to predict the sentiment using the polarity value from the NLTK model built with Vader lexicon.\n",
        "#The reviews which polarity value are close to 0 will be classified as neutral\n",
        "#The reviews with positive polarity higher than 0.1 will be classified as Positives\n",
        "#And the reviews with negative polarity, lower than 0.1 will be classified as Negatives\n",
        "def predict_vader_sentiment(review):\n",
        "    result=sia.polarity_scores(review)['compound']\n",
        "    if result >0.1:\n",
        "        sentiment='Pos'\n",
        "    elif result <-0.1:\n",
        "        sentiment='Neg'\n",
        "    else:\n",
        "        sentiment='Neu'\n",
        "    return sentiment"
      ]
    },
    {
      "cell_type": "code",
      "execution_count": null,
      "metadata": {
        "id": "qf57SEQpYOKz"
      },
      "outputs": [],
      "source": [
        "vader_sentiments=[predict_vader_sentiment(df_shuffled['Review'][i]) for i in range(len(df))]"
      ]
    },
    {
      "cell_type": "code",
      "execution_count": null,
      "metadata": {
        "id": "_Txyh2QvYQzS",
        "outputId": "0cf7c283-e940-47eb-864c-e01939234378",
        "colab": {
          "base_uri": "https://localhost:8080/",
          "height": 480
        }
      },
      "outputs": [
        {
          "output_type": "display_data",
          "data": {
            "text/plain": [
              "<Figure size 640x480 with 1 Axes>"
            ],
            "image/png": "[encoded data removed]"
          },
          "metadata": {}
        }
      ],
      "source": [
        "matrix13=confusion_matrix(real_sentiments,vader_sentiments, labels=unique_labels)\n",
        "sns.heatmap(matrix13.T, square=True, annot=True, fmt='d', cbar=False,\n",
        "            xticklabels=unique_labels, yticklabels=unique_labels)\n",
        "plt.xlabel('true label')\n",
        "plt.ylabel('predicted label')\n",
        "plt.title('NLTK vader lexicon for sentiment analysis')\n",
        "plt.show()"
      ]
    },
    {
      "cell_type": "code",
      "execution_count": null,
      "metadata": {
        "id": "ESuGLRnqY5WC",
        "outputId": "5f715949-7d8f-4891-a600-aaf2b1500aeb",
        "colab": {
          "base_uri": "https://localhost:8080/"
        }
      },
      "outputs": [
        {
          "output_type": "execute_result",
          "data": {
            "text/plain": [
              "0.794251134644478"
            ]
          },
          "metadata": {},
          "execution_count": 252
        }
      ],
      "source": [
        "accuracyNLTKVaderLexicon=accuracy_score(real_sentiments, vader_sentiments)\n",
        "accuracyNLTKVaderLexicon"
      ]
    },
    {
      "cell_type": "code",
      "execution_count": null,
      "metadata": {
        "id": "vzWrzWNkZMOz",
        "outputId": "427cda74-ff59-40ad-ecaf-540b9435dde2",
        "colab": {
          "base_uri": "https://localhost:8080/"
        }
      },
      "outputs": [
        {
          "output_type": "execute_result",
          "data": {
            "text/plain": [
              "0.48134791744476607"
            ]
          },
          "metadata": {},
          "execution_count": 253
        }
      ],
      "source": [
        "f1_macroNLTKVaderLexicon=f1_score(real_sentiments, vader_sentiments, average='macro')\n",
        "f1_macroNLTKVaderLexicon"
      ]
    },
    {
      "cell_type": "code",
      "execution_count": null,
      "metadata": {
        "id": "h4FdjXPaZs2L",
        "outputId": "4a3f9dd9-b625-4c24-f2fa-edf3f0adedab",
        "colab": {
          "base_uri": "https://localhost:8080/"
        }
      },
      "outputs": [
        {
          "output_type": "execute_result",
          "data": {
            "text/plain": [
              "array([0.53993678, 0.0203476 , 0.88375937])"
            ]
          },
          "metadata": {},
          "execution_count": 254
        }
      ],
      "source": [
        "f1_NLTKVaderLexicon=f1_score(real_sentiments, vader_sentiments, average=None)\n",
        "f1_NLTKVaderLexicon"
      ]
    },
    {
      "cell_type": "markdown",
      "metadata": {
        "id": "delwoVvKe0Gw"
      },
      "source": [
        "# iii. Conclusions\n",
        "## 9. Evaluations\n",
        "In order to evaluate all the models together, we will tabulate all the results in a single DataFrame"
      ]
    },
    {
      "cell_type": "code",
      "execution_count": null,
      "metadata": {
        "id": "BMYgBmGWjoTd"
      },
      "outputs": [],
      "source": [
        "#join all the f1 arrays into a single array\n",
        "f1_summary=np.concatenate((f1NB,f1_GNB,f1_MNNB,f1_DT,f1_SVM,\n",
        "                                  f1_SVMW,f1_LogReg,f1_RanFor,f1_KNN,f1_NBFeatureExtraction,f1_DTFeatureExtraction,\n",
        "                                  f1_SVMFeatureExtraction, f1_TextBlobLexicon, f1_NLTKVaderLexicon), axis=0)\n",
        "#reshape it to the correct shape\n",
        "f1_summary=f1_summary.reshape((14,3))\n",
        "#create a dataframe\n",
        "f1_df=pd.DataFrame(f1_summary, columns=[\"f1_'Neg'\", \"f1_'Neu\",\"f1_'Pos\"])"
      ]
    },
    {
      "cell_type": "code",
      "execution_count": null,
      "metadata": {
        "id": "zwdKe_fjamk7",
        "outputId": "ceacd9c8-4044-4219-cd55-b250406f49aa",
        "colab": {
          "base_uri": "https://localhost:8080/",
          "height": 488
        }
      },
      "outputs": [
        {
          "output_type": "execute_result",
          "data": {
            "text/plain": [
              "                          Pre-processing                    Model  Accuracy  \\\n",
              "0                           bag of words     Gaussian Naive Bayes  0.716768   \n",
              "1                  lemmatisation and BoW     Gaussian Naive Bayes  0.707398   \n",
              "2                  lemmatisation and BoW  Multinomial Naive Bayes  0.821394   \n",
              "3                  lemmatisation and BoW            Decision Tree  0.732774   \n",
              "4                  lemmatisation and BoW   Support Vector Machine  0.860629   \n",
              "5                  lemmatisation and BoW         SVM with weights  0.861800   \n",
              "6                  lemmatisation and BoW      Logistic Regression  0.864533   \n",
              "7                  lemmatisation and BoW            Random Forest  0.763029   \n",
              "8                  lemmatisation and BoW                      KNN  0.793090   \n",
              "9   lemmatisation and feature extraction              Naive Bayes  0.763029   \n",
              "10  lemmatisation and feature extraction            Decision Tree  0.777084   \n",
              "11  lemmatisation and feature extraction   Support Vector Machine  0.839547   \n",
              "12                                               TextBlob Lexicon  0.767117   \n",
              "13                                             NLTK Vader Lexicon  0.794251   \n",
              "\n",
              "    f1_macroaveraging  f1_'Neg'   f1_'Neu   f1_'Pos  \n",
              "0            0.593500  0.648829  0.297899  0.833772  \n",
              "1            0.591772  0.652832  0.297822  0.824660  \n",
              "2            0.519992  0.658711  0.003724  0.897539  \n",
              "3            0.523513  0.521851  0.197209  0.851477  \n",
              "4            0.640390  0.772934  0.218182  0.930053  \n",
              "5            0.621847  0.780395  0.153846  0.931300  \n",
              "6            0.673768  0.783226  0.305819  0.932261  \n",
              "7            0.361620  0.222222  0.000000  0.862639  \n",
              "8            0.537015  0.571429  0.150892  0.888725  \n",
              "9            0.597863  0.657946  0.271605  0.864036  \n",
              "10           0.427817  0.398148  0.010695  0.874608  \n",
              "11           0.590667  0.721467  0.136808  0.913725  \n",
              "12           0.462365  0.306091  0.181197  0.899808  \n",
              "13           0.481348  0.539937  0.020348  0.883759  "
            ],
            "text/html": [
              "\n",
              "  <div id=\"df-7a1b9de6-277a-42cc-a2fb-77446b517a07\">\n",
              "    <div class=\"colab-df-container\">\n",
              "      <div>\n",
              "<style scoped>\n",
              "    .dataframe tbody tr th:only-of-type {\n",
              "        vertical-align: middle;\n",
              "    }\n",
              "\n",
              "    .dataframe tbody tr th {\n",
              "        vertical-align: top;\n",
              "    }\n",
              "\n",
              "    .dataframe thead th {\n",
              "        text-align: right;\n",
              "    }\n",
              "</style>\n",
              "<table border=\"1\" class=\"dataframe\">\n",
              "  <thead>\n",
              "    <tr style=\"text-align: right;\">\n",
              "      <th></th>\n",
              "      <th>Pre-processing</th>\n",
              "      <th>Model</th>\n",
              "      <th>Accuracy</th>\n",
              "      <th>f1_macroaveraging</th>\n",
              "      <th>f1_'Neg'</th>\n",
              "      <th>f1_'Neu</th>\n",
              "      <th>f1_'Pos</th>\n",
              "    </tr>\n",
              "  </thead>\n",
              "  <tbody>\n",
              "    <tr>\n",
              "      <th>0</th>\n",
              "      <td>bag of words</td>\n",
              "      <td>Gaussian Naive Bayes</td>\n",
              "      <td>0.716768</td>\n",
              "      <td>0.593500</td>\n",
              "      <td>0.648829</td>\n",
              "      <td>0.297899</td>\n",
              "      <td>0.833772</td>\n",
              "    </tr>\n",
              "    <tr>\n",
              "      <th>1</th>\n",
              "      <td>lemmatisation and BoW</td>\n",
              "      <td>Gaussian Naive Bayes</td>\n",
              "      <td>0.707398</td>\n",
              "      <td>0.591772</td>\n",
              "      <td>0.652832</td>\n",
              "      <td>0.297822</td>\n",
              "      <td>0.824660</td>\n",
              "    </tr>\n",
              "    <tr>\n",
              "      <th>2</th>\n",
              "      <td>lemmatisation and BoW</td>\n",
              "      <td>Multinomial Naive Bayes</td>\n",
              "      <td>0.821394</td>\n",
              "      <td>0.519992</td>\n",
              "      <td>0.658711</td>\n",
              "      <td>0.003724</td>\n",
              "      <td>0.897539</td>\n",
              "    </tr>\n",
              "    <tr>\n",
              "      <th>3</th>\n",
              "      <td>lemmatisation and BoW</td>\n",
              "      <td>Decision Tree</td>\n",
              "      <td>0.732774</td>\n",
              "      <td>0.523513</td>\n",
              "      <td>0.521851</td>\n",
              "      <td>0.197209</td>\n",
              "      <td>0.851477</td>\n",
              "    </tr>\n",
              "    <tr>\n",
              "      <th>4</th>\n",
              "      <td>lemmatisation and BoW</td>\n",
              "      <td>Support Vector Machine</td>\n",
              "      <td>0.860629</td>\n",
              "      <td>0.640390</td>\n",
              "      <td>0.772934</td>\n",
              "      <td>0.218182</td>\n",
              "      <td>0.930053</td>\n",
              "    </tr>\n",
              "    <tr>\n",
              "      <th>5</th>\n",
              "      <td>lemmatisation and BoW</td>\n",
              "      <td>SVM with weights</td>\n",
              "      <td>0.861800</td>\n",
              "      <td>0.621847</td>\n",
              "      <td>0.780395</td>\n",
              "      <td>0.153846</td>\n",
              "      <td>0.931300</td>\n",
              "    </tr>\n",
              "    <tr>\n",
              "      <th>6</th>\n",
              "      <td>lemmatisation and BoW</td>\n",
              "      <td>Logistic Regression</td>\n",
              "      <td>0.864533</td>\n",
              "      <td>0.673768</td>\n",
              "      <td>0.783226</td>\n",
              "      <td>0.305819</td>\n",
              "      <td>0.932261</td>\n",
              "    </tr>\n",
              "    <tr>\n",
              "      <th>7</th>\n",
              "      <td>lemmatisation and BoW</td>\n",
              "      <td>Random Forest</td>\n",
              "      <td>0.763029</td>\n",
              "      <td>0.361620</td>\n",
              "      <td>0.222222</td>\n",
              "      <td>0.000000</td>\n",
              "      <td>0.862639</td>\n",
              "    </tr>\n",
              "    <tr>\n",
              "      <th>8</th>\n",
              "      <td>lemmatisation and BoW</td>\n",
              "      <td>KNN</td>\n",
              "      <td>0.793090</td>\n",
              "      <td>0.537015</td>\n",
              "      <td>0.571429</td>\n",
              "      <td>0.150892</td>\n",
              "      <td>0.888725</td>\n",
              "    </tr>\n",
              "    <tr>\n",
              "      <th>9</th>\n",
              "      <td>lemmatisation and feature extraction</td>\n",
              "      <td>Naive Bayes</td>\n",
              "      <td>0.763029</td>\n",
              "      <td>0.597863</td>\n",
              "      <td>0.657946</td>\n",
              "      <td>0.271605</td>\n",
              "      <td>0.864036</td>\n",
              "    </tr>\n",
              "    <tr>\n",
              "      <th>10</th>\n",
              "      <td>lemmatisation and feature extraction</td>\n",
              "      <td>Decision Tree</td>\n",
              "      <td>0.777084</td>\n",
              "      <td>0.427817</td>\n",
              "      <td>0.398148</td>\n",
              "      <td>0.010695</td>\n",
              "      <td>0.874608</td>\n",
              "    </tr>\n",
              "    <tr>\n",
              "      <th>11</th>\n",
              "      <td>lemmatisation and feature extraction</td>\n",
              "      <td>Support Vector Machine</td>\n",
              "      <td>0.839547</td>\n",
              "      <td>0.590667</td>\n",
              "      <td>0.721467</td>\n",
              "      <td>0.136808</td>\n",
              "      <td>0.913725</td>\n",
              "    </tr>\n",
              "    <tr>\n",
              "      <th>12</th>\n",
              "      <td></td>\n",
              "      <td>TextBlob Lexicon</td>\n",
              "      <td>0.767117</td>\n",
              "      <td>0.462365</td>\n",
              "      <td>0.306091</td>\n",
              "      <td>0.181197</td>\n",
              "      <td>0.899808</td>\n",
              "    </tr>\n",
              "    <tr>\n",
              "      <th>13</th>\n",
              "      <td></td>\n",
              "      <td>NLTK Vader Lexicon</td>\n",
              "      <td>0.794251</td>\n",
              "      <td>0.481348</td>\n",
              "      <td>0.539937</td>\n",
              "      <td>0.020348</td>\n",
              "      <td>0.883759</td>\n",
              "    </tr>\n",
              "  </tbody>\n",
              "</table>\n",
              "</div>\n",
              "      <button class=\"colab-df-convert\" onclick=\"convertToInteractive('df-7a1b9de6-277a-42cc-a2fb-77446b517a07')\"\n",
              "              title=\"Convert this dataframe to an interactive table.\"\n",
              "              style=\"display:none;\">\n",
              "        \n",
              "  <svg xmlns=\"http://www.w3.org/2000/svg\" height=\"24px\"viewBox=\"0 0 24 24\"\n",
              "       width=\"24px\">\n",
              "    <path d=\"M0 0h24v24H0V0z\" fill=\"none\"/>\n",
              "    <path d=\"M18.56 5.44l.94 2.06.94-2.06 2.06-.94-2.06-.94-.94-2.06-.94 2.06-2.06.94zm-11 1L8.5 8.5l.94-2.06 2.06-.94-2.06-.94L8.5 2.5l-.94 2.06-2.06.94zm10 10l.94 2.06.94-2.06 2.06-.94-2.06-.94-.94-2.06-.94 2.06-2.06.94z\"/><path d=\"M17.41 7.96l-1.37-1.37c-.4-.4-.92-.59-1.43-.59-.52 0-1.04.2-1.43.59L10.3 9.45l-7.72 7.72c-.78.78-.78 2.05 0 2.83L4 21.41c.39.39.9.59 1.41.59.51 0 1.02-.2 1.41-.59l7.78-7.78 2.81-2.81c.8-.78.8-2.07 0-2.86zM5.41 20L4 18.59l7.72-7.72 1.47 1.35L5.41 20z\"/>\n",
              "  </svg>\n",
              "      </button>\n",
              "      \n",
              "  <style>\n",
              "    .colab-df-container {\n",
              "      display:flex;\n",
              "      flex-wrap:wrap;\n",
              "      gap: 12px;\n",
              "    }\n",
              "\n",
              "    .colab-df-convert {\n",
              "      background-color: #E8F0FE;\n",
              "      border: none;\n",
              "      border-radius: 50%;\n",
              "      cursor: pointer;\n",
              "      display: none;\n",
              "      fill: #1967D2;\n",
              "      height: 32px;\n",
              "      padding: 0 0 0 0;\n",
              "      width: 32px;\n",
              "    }\n",
              "\n",
              "    .colab-df-convert:hover {\n",
              "      background-color: #E2EBFA;\n",
              "      box-shadow: 0px 1px 2px rgba(60, 64, 67, 0.3), 0px 1px 3px 1px rgba(60, 64, 67, 0.15);\n",
              "      fill: #174EA6;\n",
              "    }\n",
              "\n",
              "    [theme=dark] .colab-df-convert {\n",
              "      background-color: #3B4455;\n",
              "      fill: #D2E3FC;\n",
              "    }\n",
              "\n",
              "    [theme=dark] .colab-df-convert:hover {\n",
              "      background-color: #434B5C;\n",
              "      box-shadow: 0px 1px 3px 1px rgba(0, 0, 0, 0.15);\n",
              "      filter: drop-shadow(0px 1px 2px rgba(0, 0, 0, 0.3));\n",
              "      fill: #FFFFFF;\n",
              "    }\n",
              "  </style>\n",
              "\n",
              "      <script>\n",
              "        const buttonEl =\n",
              "          document.querySelector('#df-7a1b9de6-277a-42cc-a2fb-77446b517a07 button.colab-df-convert');\n",
              "        buttonEl.style.display =\n",
              "          google.colab.kernel.accessAllowed ? 'block' : 'none';\n",
              "\n",
              "        async function convertToInteractive(key) {\n",
              "          const element = document.querySelector('#df-7a1b9de6-277a-42cc-a2fb-77446b517a07');\n",
              "          const dataTable =\n",
              "            await google.colab.kernel.invokeFunction('convertToInteractive',\n",
              "                                                     [key], {});\n",
              "          if (!dataTable) return;\n",
              "\n",
              "          const docLinkHtml = 'Like what you see? Visit the ' +\n",
              "            '<a target=\"_blank\" href=https://colab.research.google.com/notebooks/data_table.ipynb>data table notebook</a>'\n",
              "            + ' to learn more about interactive tables.';\n",
              "          element.innerHTML = '';\n",
              "          dataTable['output_type'] = 'display_data';\n",
              "          await google.colab.output.renderOutput(dataTable, element);\n",
              "          const docLink = document.createElement('div');\n",
              "          docLink.innerHTML = docLinkHtml;\n",
              "          element.appendChild(docLink);\n",
              "        }\n",
              "      </script>\n",
              "    </div>\n",
              "  </div>\n",
              "  "
            ]
          },
          "metadata": {},
          "execution_count": 306
        }
      ],
      "source": [
        "#create a dataframe to summarise the preprocessing techniques, the models and the evaluation metrics\n",
        "summary=pd.DataFrame({'Pre-processing':['bag of words','lemmatisation and BoW','lemmatisation and BoW',\n",
        "                                       'lemmatisation and BoW','lemmatisation and BoW','lemmatisation and BoW','lemmatisation and BoW','lemmatisation and BoW',\n",
        "                                       'lemmatisation and BoW','lemmatisation and feature extraction',\n",
        "                                       'lemmatisation and feature extraction','lemmatisation and feature extraction',\" \",\" \"],\n",
        "                      'Model':['Gaussian Naive Bayes','Gaussian Naive Bayes','Multinomial Naive Bayes', 'Decision Tree',\n",
        "                               'Support Vector Machine', 'SVM with weights', 'Logistic Regression', 'Random Forest', 'KNN','Naive Bayes','Decision Tree',\n",
        "                               'Support Vector Machine','TextBlob Lexicon', 'NLTK Vader Lexicon'],\n",
        "                      'Accuracy':[accuracyNB,accuracyGNB,accuracyMNNB,accuracyDT,accuracySVM,\n",
        "                                  accuracySVMW,accuracyLogReg,accuracyRanFor,accuracyKNN,accuracyNBFeatureExtraction, accuracyDTFeatureExtraction,\n",
        "                                   accuracySVMFeatureExtraction, accuracyTextBlobLexicon,\n",
        "                                  accuracyNLTKVaderLexicon],\n",
        "                     'f1_macroaveraging':[f1_macroNB,f1_macroGNB,f1_macroMNNB,f1_macroDT,f1_macroSVM,\n",
        "                                  f1_macroSVMW,f1_macroLogReg,f1_macroRanFor,f1_macroKNN,f1_macroNBFeatureExtraction,f1_macroDTFeatureExtraction,\n",
        "                                  f1_macroSVMFeatureExtraction, f1_macroTextBlobLexicon, f1_macroNLTKVaderLexicon]})\n",
        "summary=pd.concat((summary,f1_df), axis=1)\n",
        "summary"
      ]
    },
    {
      "cell_type": "code",
      "source": [
        "import matplotlib.pyplot as plt\n",
        "\n",
        "# create a figure and axis object\n",
        "fig, ax = plt.subplots()\n",
        "\n",
        "# plot the accuracy values as a horizontal bar chart\n",
        "ax.barh(summary.index, summary['Accuracy'])\n",
        "\n",
        "# set the y-axis tick labels to the model names\n",
        "ax.set_yticks(summary.index)\n",
        "ax.set_yticklabels(summary['Model'])\n",
        "\n",
        "# set the axis labels and title\n",
        "ax.set_xlabel('Accuracy')\n",
        "ax.set_ylabel('Model')\n",
        "ax.set_title('Model Accuracy')\n",
        "\n",
        "# display the plot\n",
        "plt.show()\n"
      ],
      "metadata": {
        "colab": {
          "base_uri": "https://localhost:8080/",
          "height": 480
        },
        "id": "IUNGz66JQCC7",
        "outputId": "5f34965a-bfa2-46dc-d37e-7672f332808d"
      },
      "execution_count": null,
      "outputs": [
        {
          "output_type": "display_data",
          "data": {
            "text/plain": [
              "<Figure size 640x480 with 1 Axes>"
            ],
            "image/png": "[encoded data removed]"
          },
          "metadata": {}
        }
      ]
    },
    {
      "cell_type": "code",
      "source": [
        "import matplotlib.pyplot as plt\n",
        "\n",
        "# create a figure and axis object\n",
        "fig, ax = plt.subplots()\n",
        "\n",
        "# plot the f1_macroaveraging values as a horizontal bar chart\n",
        "ax.barh(summary.index, summary['f1_macroaveraging'])\n",
        "\n",
        "# set the y-axis tick labels to the model names\n",
        "ax.set_yticks(summary.index)\n",
        "ax.set_yticklabels(summary['Model'])\n",
        "\n",
        "# set the axis labels and title\n",
        "ax.set_xlabel('f1_macroaveraging')\n",
        "ax.set_ylabel('Model')\n",
        "ax.set_title('Model f1_macroaveraging')\n",
        "\n",
        "# display the plot\n",
        "plt.show()\n"
      ],
      "metadata": {
        "colab": {
          "base_uri": "https://localhost:8080/",
          "height": 480
        },
        "id": "1G8uXTJ8QKt0",
        "outputId": "375f3347-987d-4970-b724-0c52594490e3"
      },
      "execution_count": null,
      "outputs": [
        {
          "output_type": "display_data",
          "data": {
            "text/plain": [
              "<Figure size 640x480 with 1 Axes>"
            ],
            "image/png": "[encoded data removed]"
          },
          "metadata": {}
        }
      ]
    },
    {
      "cell_type": "markdown",
      "metadata": {
        "id": "mUtED8jMrKKD"
      },
      "source": [
        "From the summary table, we can see that most of the models were able to improve the accuracy of the baseline model however, not all of them improved the overall f1 measure when macroaveraging.\n",
        "\n",
        "Most of the models improved the positive’s and negative’s f1 and as well as the accuracy. However, they performed poorly when classifying the neutral reviews. This is because it is a difficult task. Generally, the people who classify something neutral have equally weighted positive and negative thoughts so overall they score their hotel as neutral.\n",
        "\n",
        "From a business point of view, an efficient model is the one capable of classifying positive and negative reviews, hence we would look at the models which were better in this task.\n",
        "\n",
        "In addition, we see that the dataset-trained models performed better than the lexicon-based models that are often used for sentiment analysis, as these are general, while our models are problem-specific.\n",
        "\n",
        "The best models, which have the highest f1 for Negative and Positive reviews, the highest accuracy rates and the highest f1 with macro averaging are the ones that used Support Vector Machines. SVMs are known as one of the most robust machine learning models and they were the most popular before Neural Networks were popularised.\n",
        "Out of the three models with SVM, the models with the pre-processing that involved addition of embedding, lemmatisation and Bag of words, perform better than the model with lemmatisation and feature extractions. These models achieved an f1 for the positive reviews higher than 0.93 and around 0.8 for the negatives. Even though we tried to improve the SVM model by taking into account the imbalance of the dataset, this didn’t help. Hence, the best model is the model with the simple SVM without any hyperparameters, achieving an 86.3% accuracy and an f1 with macroaveraging of 0.64%. This will be the model to be proposed as a sentiment analysis predictor for the accommodation sector in the tourism industry.\n",
        "\n",
        "## 10. Evaluation of the project and its results\n",
        "We have trained and evaluated eleven different combinations of models and pre-processing techniques. From this, we found that the combination of embeddings, lemmatisation and bag of words together with SVM, is the best text classifier model for sentiment analysis. Even though it showed a high percentage accuracy (86.3%), it perform poorly to classify the reviews which were classified as Neutral.\n",
        "\n",
        "The creation of this model fulfils the initial objective: which was to create a sentiment analysis model for the tourism industry, especially for the accommodation sector.\n",
        "\n",
        "We initially stated that the model should have two functions:\n",
        "1.\tIt will potentially show the keywords that are used in negative and positive reviews and\n",
        "2.\tIt will serve as a predictor for the positivity or negativity of future textual reviews from future customers.\n",
        "\n",
        "On one hand, this model fulfils the second function as it will be able to predict the sentiment of textual future reviews. From this, the business could identify better where are the areas of improvement both in its facilities and the services provided. These types of insights could be really useful for any tourism business that wants to improve but is unsure where it should put the effort and resources.\n",
        "\n",
        "On the other hand, the SVM model does not fulfil the first function, as this algorithm works with complicated mathematical formulas which make the model a 'Black Box', meaning that it is hard to be interpreted. Other models are easier to be interpreted and give more insights from learning the features that affect the text classification task. For example, the model made with feature extraction, with Naive Bayes, gave a list of the most informative features. From this, we can understand that 'dirty' and 'rude' are within the 3 most important features that help differentiate between positive and negative reviews. A tourism business should take in mind that it is highly important that the accommodation should look perfectly clean and that the hotel team should be kind and nice at all times. Furthermore, 'spacious' and 'modern' were keywords for positive reviews. These are good insights that the accommodation sector should take into account, especially before refurbishment times.\n",
        "\n",
        "This project has demonstrated that the combination of several techniques can help achieve the final objective which was to give NLP tools that can help a business in the tourism industry position itself ahead in the market. Furthermore, the same preprocessing and model could be applied for a similar dataset for a different sector within the tourism industry, such as excursions and attractions, or for other sentiment analysis tasks, such as movie reviews.\n",
        "\n",
        "\n",
        "## References:\n",
        "1.Kaggle.com. 2020. Trip Advisor Hotel Reviews. [online] Available at: <https://www.kaggle.com/andrewmvd/trip-advisor-hotel-reviews> [Accessed 31 December 2021].\n",
        "\n",
        "2.Jurafsky, D. and J.H. Martin Speech and language processing. (2021; 3rd draft ed.) Chapter 4 Naive Bayes and Sentiment Classification\n",
        "\n",
        "3.Ozen, I. A. (2021). Tourism products and sentiment analysis. In C. Cobanoglu, S. Dogan, K. Berezina, & G. Collins (Eds.), Advances in Hospitality and Tourism Information Technology (pp. 1–44). USF M3 Publishing.\n",
        "https://www.doi.org/10.5038/9781732127586\n"
      ]
    },
    {
      "cell_type": "code",
      "execution_count": null,
      "metadata": {
        "id": "1gtCRx8yrKKE"
      },
      "outputs": [],
      "source": []
    }
  ],
  "metadata": {
    "colab": {
      "provenance": [],
      "include_colab_link": true
    },
    "kernelspec": {
      "display_name": "Python 3 (ipykernel)",
      "language": "python",
      "name": "python3"
    },
    "language_info": {
      "codemirror_mode": {
        "name": "ipython",
        "version": 3
      },
      "file_extension": ".py",
      "mimetype": "text/x-python",
      "name": "python",
      "nbconvert_exporter": "python",
      "pygments_lexer": "ipython3",
      "version": "3.7.4"
    },
    "gpuClass": "standard"
  },
  "nbformat": 4,
  "nbformat_minor": 0
}