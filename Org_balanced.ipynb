{
  "cells": [
    {
      "cell_type": "markdown",
      "metadata": {
        "id": "view-in-github",
        "colab_type": "text"
      },
      "source": [
        "<a href=\"https://colab.research.google.com/github/ChrisDc777/SentimentAnalysis/blob/main/Org_balanced.ipynb\" target=\"_parent\"><img src=\"https://colab.research.google.com/assets/colab-badge.svg\" alt=\"Open In Colab\"/></a>"
      ]
    },
    {
      "cell_type": "markdown",
      "metadata": {
        "id": "AY2NhfjOrKJi"
      },
      "source": [
        "# Sentiment Analysis on Tourist Accomodation Reviews"
      ]
    },
    {
      "cell_type": "code",
      "execution_count": null,
      "metadata": {
        "colab": {
          "base_uri": "https://localhost:8080/"
        },
        "id": "BciyvlJDEvCo",
        "outputId": "15bf0db2-815a-4f74-a9e5-84e157e8d590"
      },
      "outputs": [
        {
          "output_type": "stream",
          "name": "stderr",
          "text": [
            "[nltk_data] Downloading package stopwords to /root/nltk_data...\n",
            "[nltk_data]   Unzipping corpora/stopwords.zip.\n"
          ]
        }
      ],
      "source": [
        "import nltk\n",
        "import pandas as pd\n",
        "import matplotlib.pyplot as plt\n",
        "nltk.download('stopwords')\n",
        "from nltk.corpus import stopwords\n",
        "import re\n",
        "%matplotlib inline\n",
        "import numpy as np\n",
        "seed_val = 0\n",
        "np.random.seed(seed_val)"
      ]
    },
    {
      "cell_type": "code",
      "source": [
        "from sklearn.metrics import confusion_matrix\n",
        "import joblib\n",
        "#import the specific metrics to meausure\n",
        "from sklearn.metrics import f1_score, accuracy_score"
      ],
      "metadata": {
        "id": "-_8FubQH_vTM"
      },
      "execution_count": null,
      "outputs": []
    },
    {
      "cell_type": "code",
      "source": [
        "import seaborn as sns\n",
        "sns.set()"
      ],
      "metadata": {
        "id": "5Lrlr07P_4Cj"
      },
      "execution_count": null,
      "outputs": []
    },
    {
      "cell_type": "markdown",
      "metadata": {
        "id": "WNJ0COjnWwMI"
      },
      "source": [
        "# i. Introduction\n",
        "\n",
        "## 1. Domain Specific Area\n",
        "Holidays are precious days in our lives that are full of experiences. Experiences that we gain by seeing different places, meeting with different people from different cultures, eating different food and staying overnight in a different environment. Tourists always have things to say about their holidays, whether they are good or bad. Tourist online platforms take advantage of this and encourage tourists to leave reviews about the tourism products they consumed while on holiday. These reviews are considered as a rich data source of information both for the tourism industry and for future travellers.\n",
        "\n",
        "For the tourism industry, it is important to analyse the textual reviews so they can improve their products and offer better services which can then lead to attracting more customers and increasing their revenues. Moreover, they can improve their customer relationship management to provide better support and services. Additionally, some tourism businesses can learn, not only from their customers' experiences but also from their competitors’ customers who may leave reviews on the same platform.\n",
        "\n",
        "However, the number of reviews that exist on a single platform is too high to be analysed manually by a team of people. Hence, Natural Language Processing (NLP) techniques together with Machine Learning methods, which were developed in recent years, can help in the analysis process by creating models, classifying texts and presenting the key insights from the huge amount of text data. Working on the task of extracting information about the contentment of the person reflected on the written text, is defined as sentiment analysis.\n",
        "\n",
        "According to Ozen, I. A. (2021), sentiment analysis, which is a sub-field of text mining, is a field of study that analyses people's ideas and thoughts from text-based comments. Sentiment analysis can be applied at the document level, sentence level and aspect-based sentiment levels. Additionally, Jurafsky et al (2021) consider sentiment analysis, as a subfield of text categorisation, where the main task is the extraction of sentiment, which can be either the positive or negative orientation that a writer expresses toward some object.\n",
        "\n",
        "Although the online reviews can benefit a tourism business, they can create the opposite effect: A particular business may receive a low ranking by the tourists, or its competitors receive a much higher ranking. This increase the competitiveness between the tourist product providers. Additionally, the whole touristic industry has tremendously suffered during the COVID-19 pandemic, and it is trying to recover. This is still difficult, as some travel restrictions are still in place and there is still some fear in the society. Therefore, the tourism business, such as accommodation providers should take advantage of the new data science technologies and the existing publicly available reviews datasets to create sentiment analysis models that could help them position themselves ahead in this market.\n",
        "\n",
        "## 2. Objectives\n",
        "The objective of this work is to create a sentiment analysis model for the tourism industry, especially for the accommodation sector which includes hotels, hostels, B&Bs and holidays resorts among others.\n",
        "The model will have two main functions:\n",
        "\n",
        "1.\tIt will potentially show the keywords that are used in negative and positive reviews and\n",
        "2.\tIt will serve as a predictor for the positivity or negativity of future textual reviews from future customers.\n",
        "\n",
        "A business within the tourism industry could potentially understand better what are the main things that affect a tourist experience in holiday accommodation. For example, if many positive reviews have to do with the breakfast, the business could put emphasis on the breakfast, or if it is the bed quality, then the business should realise that it is important to have a good quality mattresses and do replace them when they are worn off. Similarly, if the bad reviews have to do with noise, the business should keep their accommodation as quiet as possible. The model insights will be useful for any tourism business.\n",
        "\n",
        "The second function of the model will be an essential part of the plan in the continuous improvement team of the tourism business.\n",
        "The business could politely request from the customers to write or voice record their experience in their hotel or resort. The business should store this as a privately owned database. Then, they could predict the sentiment analysis from their customers without asking them to give them a ranking, as this could be predicted from the model. These insights could be very useful, so the business, could add this information to other internal work-recording datasets and they would be able to detect specific areas of concern or for improvement within the business, for example, if there was a problem with the reception not being available for public, or if the cleaning staff hasn’t done the job correctly on specific times.\n",
        "\n",
        "## 3. Dataset\n",
        "\n",
        "The dataset is publicly available and it was extracted from Kaggle as a CSV file (Trip Advisor Hotel Reviews, 2020). The dataset was provided by the TripAdvisor Website. TripAdvisor is a leading web platform where people can get information and advice about different tourist destinations, products and services as well as about entertainment activities and restaurants. It is user-generated content as users both look for information and share their experiences and reviews about the different touristic products.\n",
        "This specific dataset contains reviews, which were left by users in TripAdvisor, about different accommodation places around the globe."
      ]
    },
    {
      "cell_type": "code",
      "source": [
        "import pandas as pd\n",
        "from google.colab import drive\n",
        "drive.mount('/content/drive')"
      ],
      "metadata": {
        "colab": {
          "base_uri": "https://localhost:8080/"
        },
        "id": "oQeNTz8ymgET",
        "outputId": "024f7b3a-82fc-4b1d-95ae-4fd12a816f82"
      },
      "execution_count": null,
      "outputs": [
        {
          "output_type": "stream",
          "name": "stdout",
          "text": [
            "Mounted at /content/drive\n"
          ]
        }
      ]
    },
    {
      "cell_type": "code",
      "execution_count": null,
      "metadata": {
        "id": "a-TkUhy_EvC0"
      },
      "outputs": [],
      "source": [
        "#load the dataset\n",
        "df=pd.read_csv('/content/drive/MyDrive/Dataset/tripadvisor_hotel_reviews.csv')"
      ]
    },
    {
      "cell_type": "code",
      "execution_count": null,
      "metadata": {
        "colab": {
          "base_uri": "https://localhost:8080/",
          "height": 206
        },
        "id": "0LXclxPkEvC2",
        "outputId": "a6c75603-8be8-4482-b369-df138861e418"
      },
      "outputs": [
        {
          "output_type": "execute_result",
          "data": {
            "text/plain": [
              "                                              Review  Rating\n",
              "0  nice hotel expensive parking got good deal sta...       4\n",
              "1  ok nothing special charge diamond member hilto...       2\n",
              "2  nice rooms not 4* experience hotel monaco seat...       3\n",
              "3  unique, great stay, wonderful time hotel monac...       5\n",
              "4  great stay great stay, went seahawk game aweso...       5"
            ],
            "text/html": [
              "\n",
              "  <div id=\"df-70bf7701-bc5b-44b6-9c72-0a23862c1920\">\n",
              "    <div class=\"colab-df-container\">\n",
              "      <div>\n",
              "<style scoped>\n",
              "    .dataframe tbody tr th:only-of-type {\n",
              "        vertical-align: middle;\n",
              "    }\n",
              "\n",
              "    .dataframe tbody tr th {\n",
              "        vertical-align: top;\n",
              "    }\n",
              "\n",
              "    .dataframe thead th {\n",
              "        text-align: right;\n",
              "    }\n",
              "</style>\n",
              "<table border=\"1\" class=\"dataframe\">\n",
              "  <thead>\n",
              "    <tr style=\"text-align: right;\">\n",
              "      <th></th>\n",
              "      <th>Review</th>\n",
              "      <th>Rating</th>\n",
              "    </tr>\n",
              "  </thead>\n",
              "  <tbody>\n",
              "    <tr>\n",
              "      <th>0</th>\n",
              "      <td>nice hotel expensive parking got good deal sta...</td>\n",
              "      <td>4</td>\n",
              "    </tr>\n",
              "    <tr>\n",
              "      <th>1</th>\n",
              "      <td>ok nothing special charge diamond member hilto...</td>\n",
              "      <td>2</td>\n",
              "    </tr>\n",
              "    <tr>\n",
              "      <th>2</th>\n",
              "      <td>nice rooms not 4* experience hotel monaco seat...</td>\n",
              "      <td>3</td>\n",
              "    </tr>\n",
              "    <tr>\n",
              "      <th>3</th>\n",
              "      <td>unique, great stay, wonderful time hotel monac...</td>\n",
              "      <td>5</td>\n",
              "    </tr>\n",
              "    <tr>\n",
              "      <th>4</th>\n",
              "      <td>great stay great stay, went seahawk game aweso...</td>\n",
              "      <td>5</td>\n",
              "    </tr>\n",
              "  </tbody>\n",
              "</table>\n",
              "</div>\n",
              "      <button class=\"colab-df-convert\" onclick=\"convertToInteractive('df-70bf7701-bc5b-44b6-9c72-0a23862c1920')\"\n",
              "              title=\"Convert this dataframe to an interactive table.\"\n",
              "              style=\"display:none;\">\n",
              "        \n",
              "  <svg xmlns=\"http://www.w3.org/2000/svg\" height=\"24px\"viewBox=\"0 0 24 24\"\n",
              "       width=\"24px\">\n",
              "    <path d=\"M0 0h24v24H0V0z\" fill=\"none\"/>\n",
              "    <path d=\"M18.56 5.44l.94 2.06.94-2.06 2.06-.94-2.06-.94-.94-2.06-.94 2.06-2.06.94zm-11 1L8.5 8.5l.94-2.06 2.06-.94-2.06-.94L8.5 2.5l-.94 2.06-2.06.94zm10 10l.94 2.06.94-2.06 2.06-.94-2.06-.94-.94-2.06-.94 2.06-2.06.94z\"/><path d=\"M17.41 7.96l-1.37-1.37c-.4-.4-.92-.59-1.43-.59-.52 0-1.04.2-1.43.59L10.3 9.45l-7.72 7.72c-.78.78-.78 2.05 0 2.83L4 21.41c.39.39.9.59 1.41.59.51 0 1.02-.2 1.41-.59l7.78-7.78 2.81-2.81c.8-.78.8-2.07 0-2.86zM5.41 20L4 18.59l7.72-7.72 1.47 1.35L5.41 20z\"/>\n",
              "  </svg>\n",
              "      </button>\n",
              "      \n",
              "  <style>\n",
              "    .colab-df-container {\n",
              "      display:flex;\n",
              "      flex-wrap:wrap;\n",
              "      gap: 12px;\n",
              "    }\n",
              "\n",
              "    .colab-df-convert {\n",
              "      background-color: #E8F0FE;\n",
              "      border: none;\n",
              "      border-radius: 50%;\n",
              "      cursor: pointer;\n",
              "      display: none;\n",
              "      fill: #1967D2;\n",
              "      height: 32px;\n",
              "      padding: 0 0 0 0;\n",
              "      width: 32px;\n",
              "    }\n",
              "\n",
              "    .colab-df-convert:hover {\n",
              "      background-color: #E2EBFA;\n",
              "      box-shadow: 0px 1px 2px rgba(60, 64, 67, 0.3), 0px 1px 3px 1px rgba(60, 64, 67, 0.15);\n",
              "      fill: #174EA6;\n",
              "    }\n",
              "\n",
              "    [theme=dark] .colab-df-convert {\n",
              "      background-color: #3B4455;\n",
              "      fill: #D2E3FC;\n",
              "    }\n",
              "\n",
              "    [theme=dark] .colab-df-convert:hover {\n",
              "      background-color: #434B5C;\n",
              "      box-shadow: 0px 1px 3px 1px rgba(0, 0, 0, 0.15);\n",
              "      filter: drop-shadow(0px 1px 2px rgba(0, 0, 0, 0.3));\n",
              "      fill: #FFFFFF;\n",
              "    }\n",
              "  </style>\n",
              "\n",
              "      <script>\n",
              "        const buttonEl =\n",
              "          document.querySelector('#df-70bf7701-bc5b-44b6-9c72-0a23862c1920 button.colab-df-convert');\n",
              "        buttonEl.style.display =\n",
              "          google.colab.kernel.accessAllowed ? 'block' : 'none';\n",
              "\n",
              "        async function convertToInteractive(key) {\n",
              "          const element = document.querySelector('#df-70bf7701-bc5b-44b6-9c72-0a23862c1920');\n",
              "          const dataTable =\n",
              "            await google.colab.kernel.invokeFunction('convertToInteractive',\n",
              "                                                     [key], {});\n",
              "          if (!dataTable) return;\n",
              "\n",
              "          const docLinkHtml = 'Like what you see? Visit the ' +\n",
              "            '<a target=\"_blank\" href=https://colab.research.google.com/notebooks/data_table.ipynb>data table notebook</a>'\n",
              "            + ' to learn more about interactive tables.';\n",
              "          element.innerHTML = '';\n",
              "          dataTable['output_type'] = 'display_data';\n",
              "          await google.colab.output.renderOutput(dataTable, element);\n",
              "          const docLink = document.createElement('div');\n",
              "          docLink.innerHTML = docLinkHtml;\n",
              "          element.appendChild(docLink);\n",
              "        }\n",
              "      </script>\n",
              "    </div>\n",
              "  </div>\n",
              "  "
            ]
          },
          "metadata": {},
          "execution_count": 5
        }
      ],
      "source": [
        "#look at the dataset\n",
        "df.head()"
      ]
    },
    {
      "cell_type": "code",
      "execution_count": null,
      "metadata": {
        "colab": {
          "base_uri": "https://localhost:8080/"
        },
        "id": "kY-V1VffEvC9",
        "outputId": "a45ca676-b21c-4d53-9702-ffda6132e4fa"
      },
      "outputs": [
        {
          "output_type": "execute_result",
          "data": {
            "text/plain": [
              "20491"
            ]
          },
          "metadata": {},
          "execution_count": 131
        }
      ],
      "source": [
        "#look at the numbers of samples\n",
        "len(df)"
      ]
    },
    {
      "cell_type": "code",
      "execution_count": null,
      "metadata": {
        "colab": {
          "base_uri": "https://localhost:8080/"
        },
        "id": "bNUL0x_JdByh",
        "outputId": "c7dbab8d-3b85-47f8-f06a-30553b52b8d8"
      },
      "outputs": [
        {
          "output_type": "execute_result",
          "data": {
            "text/plain": [
              "Review    object\n",
              "Rating     int64\n",
              "dtype: object"
            ]
          },
          "metadata": {},
          "execution_count": 6
        }
      ],
      "source": [
        "#look at the data types\n",
        "df.dtypes"
      ]
    },
    {
      "cell_type": "code",
      "execution_count": null,
      "metadata": {
        "id": "17suZ2-HrKJp",
        "outputId": "e70e2de9-6e3b-4a0e-c3c7-bf16ae200507",
        "colab": {
          "base_uri": "https://localhost:8080/"
        }
      },
      "outputs": [
        {
          "output_type": "execute_result",
          "data": {
            "text/plain": [
              "0"
            ]
          },
          "metadata": {},
          "execution_count": 6
        }
      ],
      "source": [
        "#checking that there is no missing data\n",
        "df[\"Review\"].isna().sum()\n"
      ]
    },
    {
      "cell_type": "code",
      "execution_count": null,
      "metadata": {
        "id": "j3TlY77CrKJp",
        "outputId": "abf15c26-07eb-4b36-8df0-91656ce91e63",
        "colab": {
          "base_uri": "https://localhost:8080/"
        }
      },
      "outputs": [
        {
          "output_type": "execute_result",
          "data": {
            "text/plain": [
              "0"
            ]
          },
          "metadata": {},
          "execution_count": 9
        }
      ],
      "source": [
        "#checking that there is no missing data\n",
        "df[\"Rating\"].isna().sum()"
      ]
    },
    {
      "cell_type": "code",
      "execution_count": null,
      "metadata": {
        "colab": {
          "base_uri": "https://localhost:8080/"
        },
        "id": "E3VkeGhgY4hP",
        "outputId": "0acda7f3-ca1a-442a-9372-57b153b9f261"
      },
      "outputs": [
        {
          "output_type": "stream",
          "name": "stdout",
          "text": [
            "[1, 2, 3, 4, 5]\n"
          ]
        }
      ],
      "source": [
        "#checking the existing values of 'Rating'\n",
        "print(sorted(df['Rating'].unique()))"
      ]
    },
    {
      "cell_type": "code",
      "execution_count": null,
      "metadata": {
        "colab": {
          "base_uri": "https://localhost:8080/",
          "height": 428
        },
        "id": "a1OvuaTTZKTa",
        "outputId": "e6e788ed-32a1-4cb6-bc98-9deb548d5062"
      },
      "outputs": [
        {
          "output_type": "display_data",
          "data": {
            "text/plain": [
              "<Figure size 640x480 with 1 Axes>"
            ],
            "image/png": "[encoded data removed]"
          },
          "metadata": {}
        }
      ],
      "source": [
        "#looking at the distribution of the different values in rating\n",
        "df['Rating'].value_counts().plot.pie(autopct='%1.1f%%')\n",
        "plt.title('Distribution of the ranking values on the dataset')\n",
        "plt.show()"
      ]
    },
    {
      "cell_type": "code",
      "source": [],
      "metadata": {
        "id": "YwNzZfrujgJY"
      },
      "execution_count": null,
      "outputs": []
    },
    {
      "cell_type": "markdown",
      "metadata": {
        "id": "_JiFfL8dYiUm"
      },
      "source": [
        "It contains almost twenty thousand five hundred reviews. Each of them consists of two items, one for the textual review and the second is the rating, which is an integer value from 1 to 5.\n",
        "From the above pie chart, we can see that the percentage corresponding to each value increases with its ranking. Fewer people give low values reviews and more people give good values reviews. From this, we can conclude that the people are generally happy with the product and services they receive in a holiday accommodation."
      ]
    },
    {
      "cell_type": "markdown",
      "metadata": {
        "id": "7aLToxwRA1tU"
      },
      "source": [
        "## 4. Evaluation method\n",
        "The most common evaluation parameter for classification problems, such as sentiment analysis, is the accuracy percentage. However, it is not a sufficient metric for the efficiency of the model when the data that the model is based on, is unbalanced. In these cases, there are many other metrics that can help determine whether the model is good.  \n",
        "\n",
        "First, we can create a confusion matrix.  It is a 2-dimensional array, where the rows represent the predicted values for each class and the columns represent the true values for each class and the cell is the count of the samples which were originally classified as their column class and predicted as its raw class. Hence, for a model that has a 100% accuracy, we would see numbers in the diagonal from top left to right bottom, and zeros all around the matrix. Similarly, for good models, we would expect high-value numbers in the diagonal and low-value numbers and zeros around.\n",
        "\n",
        "From the confusion matrix, we could calculate the recall and precision as well. The recall (R )  is the percentage of the total number of correctly classified items of a specific class out of all the present items for this class.  The precision (P) is the percentage of the correctly classified items for a particular class out of all the items that were classified as this class. From these two parameters, we can define a third metric that combines the two of them, the F-measure.\n",
        "\n",
        "When we are working with more than two classes, we could calculate an f1 by microaveraging or macroaveraging, when we calculate it by macroaveraging, we average the f1 that was calculated for each class and average them. This way, all the classes have the same weight. On the other hand, if we use the microaverage, we will take into account the initial weight of each class in the dataset, hence, it will be dominated by the most frequent one.\n",
        "\n",
        "For this work, it was decided to take into account both the accuracy and the f1 which was calculated by macroaveraging, as well as the f1 for each of the classes.\n"
      ]
    },
    {
      "cell_type": "markdown",
      "metadata": {
        "id": "uScZ3sGQrKJr"
      },
      "source": [
        "# ii. Implementation\n",
        "### 5. Pre-processing\n",
        "First of all, we would simplify the sentiment analysis task by classifying rankings 4 and 5 as positive sentiments, 1 and 2 as negative sentiments and 3 as neutral sentiments."
      ]
    },
    {
      "cell_type": "code",
      "execution_count": null,
      "metadata": {
        "id": "QwuGZ-qvEvC5"
      },
      "outputs": [],
      "source": [
        "#generate the new 'sentiment' column\n",
        "classification=[]\n",
        "for i in range(len(df)):\n",
        "    if df['Rating'][i]>=4:\n",
        "        rev='Pos'\n",
        "    elif df['Rating'][i]==3:\n",
        "        rev='Neu'\n",
        "    else:\n",
        "        rev='Neg'\n",
        "    classification.append(rev)\n",
        "df['sentiment']=classification"
      ]
    },
    {
      "cell_type": "code",
      "execution_count": null,
      "metadata": {
        "colab": {
          "base_uri": "https://localhost:8080/",
          "height": 206
        },
        "id": "00yQlribEvC7",
        "outputId": "c3eac47c-3213-4d5c-a21d-fd59e8be4b83"
      },
      "outputs": [
        {
          "output_type": "execute_result",
          "data": {
            "text/plain": [
              "                                              Review  Rating sentiment\n",
              "0  nice hotel expensive parking got good deal sta...       4       Pos\n",
              "1  ok nothing special charge diamond member hilto...       2       Neg\n",
              "2  nice rooms not 4* experience hotel monaco seat...       3       Neu\n",
              "3  unique, great stay, wonderful time hotel monac...       5       Pos\n",
              "4  great stay great stay, went seahawk game aweso...       5       Pos"
            ],
            "text/html": [
              "\n",
              "  <div id=\"df-a7bfb988-c408-4135-816f-7b98c7b73cdf\">\n",
              "    <div class=\"colab-df-container\">\n",
              "      <div>\n",
              "<style scoped>\n",
              "    .dataframe tbody tr th:only-of-type {\n",
              "        vertical-align: middle;\n",
              "    }\n",
              "\n",
              "    .dataframe tbody tr th {\n",
              "        vertical-align: top;\n",
              "    }\n",
              "\n",
              "    .dataframe thead th {\n",
              "        text-align: right;\n",
              "    }\n",
              "</style>\n",
              "<table border=\"1\" class=\"dataframe\">\n",
              "  <thead>\n",
              "    <tr style=\"text-align: right;\">\n",
              "      <th></th>\n",
              "      <th>Review</th>\n",
              "      <th>Rating</th>\n",
              "      <th>sentiment</th>\n",
              "    </tr>\n",
              "  </thead>\n",
              "  <tbody>\n",
              "    <tr>\n",
              "      <th>0</th>\n",
              "      <td>nice hotel expensive parking got good deal sta...</td>\n",
              "      <td>4</td>\n",
              "      <td>Pos</td>\n",
              "    </tr>\n",
              "    <tr>\n",
              "      <th>1</th>\n",
              "      <td>ok nothing special charge diamond member hilto...</td>\n",
              "      <td>2</td>\n",
              "      <td>Neg</td>\n",
              "    </tr>\n",
              "    <tr>\n",
              "      <th>2</th>\n",
              "      <td>nice rooms not 4* experience hotel monaco seat...</td>\n",
              "      <td>3</td>\n",
              "      <td>Neu</td>\n",
              "    </tr>\n",
              "    <tr>\n",
              "      <th>3</th>\n",
              "      <td>unique, great stay, wonderful time hotel monac...</td>\n",
              "      <td>5</td>\n",
              "      <td>Pos</td>\n",
              "    </tr>\n",
              "    <tr>\n",
              "      <th>4</th>\n",
              "      <td>great stay great stay, went seahawk game aweso...</td>\n",
              "      <td>5</td>\n",
              "      <td>Pos</td>\n",
              "    </tr>\n",
              "  </tbody>\n",
              "</table>\n",
              "</div>\n",
              "      <button class=\"colab-df-convert\" onclick=\"convertToInteractive('df-a7bfb988-c408-4135-816f-7b98c7b73cdf')\"\n",
              "              title=\"Convert this dataframe to an interactive table.\"\n",
              "              style=\"display:none;\">\n",
              "        \n",
              "  <svg xmlns=\"http://www.w3.org/2000/svg\" height=\"24px\"viewBox=\"0 0 24 24\"\n",
              "       width=\"24px\">\n",
              "    <path d=\"M0 0h24v24H0V0z\" fill=\"none\"/>\n",
              "    <path d=\"M18.56 5.44l.94 2.06.94-2.06 2.06-.94-2.06-.94-.94-2.06-.94 2.06-2.06.94zm-11 1L8.5 8.5l.94-2.06 2.06-.94-2.06-.94L8.5 2.5l-.94 2.06-2.06.94zm10 10l.94 2.06.94-2.06 2.06-.94-2.06-.94-.94-2.06-.94 2.06-2.06.94z\"/><path d=\"M17.41 7.96l-1.37-1.37c-.4-.4-.92-.59-1.43-.59-.52 0-1.04.2-1.43.59L10.3 9.45l-7.72 7.72c-.78.78-.78 2.05 0 2.83L4 21.41c.39.39.9.59 1.41.59.51 0 1.02-.2 1.41-.59l7.78-7.78 2.81-2.81c.8-.78.8-2.07 0-2.86zM5.41 20L4 18.59l7.72-7.72 1.47 1.35L5.41 20z\"/>\n",
              "  </svg>\n",
              "      </button>\n",
              "      \n",
              "  <style>\n",
              "    .colab-df-container {\n",
              "      display:flex;\n",
              "      flex-wrap:wrap;\n",
              "      gap: 12px;\n",
              "    }\n",
              "\n",
              "    .colab-df-convert {\n",
              "      background-color: #E8F0FE;\n",
              "      border: none;\n",
              "      border-radius: 50%;\n",
              "      cursor: pointer;\n",
              "      display: none;\n",
              "      fill: #1967D2;\n",
              "      height: 32px;\n",
              "      padding: 0 0 0 0;\n",
              "      width: 32px;\n",
              "    }\n",
              "\n",
              "    .colab-df-convert:hover {\n",
              "      background-color: #E2EBFA;\n",
              "      box-shadow: 0px 1px 2px rgba(60, 64, 67, 0.3), 0px 1px 3px 1px rgba(60, 64, 67, 0.15);\n",
              "      fill: #174EA6;\n",
              "    }\n",
              "\n",
              "    [theme=dark] .colab-df-convert {\n",
              "      background-color: #3B4455;\n",
              "      fill: #D2E3FC;\n",
              "    }\n",
              "\n",
              "    [theme=dark] .colab-df-convert:hover {\n",
              "      background-color: #434B5C;\n",
              "      box-shadow: 0px 1px 3px 1px rgba(0, 0, 0, 0.15);\n",
              "      filter: drop-shadow(0px 1px 2px rgba(0, 0, 0, 0.3));\n",
              "      fill: #FFFFFF;\n",
              "    }\n",
              "  </style>\n",
              "\n",
              "      <script>\n",
              "        const buttonEl =\n",
              "          document.querySelector('#df-a7bfb988-c408-4135-816f-7b98c7b73cdf button.colab-df-convert');\n",
              "        buttonEl.style.display =\n",
              "          google.colab.kernel.accessAllowed ? 'block' : 'none';\n",
              "\n",
              "        async function convertToInteractive(key) {\n",
              "          const element = document.querySelector('#df-a7bfb988-c408-4135-816f-7b98c7b73cdf');\n",
              "          const dataTable =\n",
              "            await google.colab.kernel.invokeFunction('convertToInteractive',\n",
              "                                                     [key], {});\n",
              "          if (!dataTable) return;\n",
              "\n",
              "          const docLinkHtml = 'Like what you see? Visit the ' +\n",
              "            '<a target=\"_blank\" href=https://colab.research.google.com/notebooks/data_table.ipynb>data table notebook</a>'\n",
              "            + ' to learn more about interactive tables.';\n",
              "          element.innerHTML = '';\n",
              "          dataTable['output_type'] = 'display_data';\n",
              "          await google.colab.output.renderOutput(dataTable, element);\n",
              "          const docLink = document.createElement('div');\n",
              "          docLink.innerHTML = docLinkHtml;\n",
              "          element.appendChild(docLink);\n",
              "        }\n",
              "      </script>\n",
              "    </div>\n",
              "  </div>\n",
              "  "
            ]
          },
          "metadata": {},
          "execution_count": 8
        }
      ],
      "source": [
        "df.head()"
      ]
    },
    {
      "cell_type": "markdown",
      "metadata": {
        "id": "7d41B_UNrKJr"
      },
      "source": [
        "We look back at the distribution of the new feature \"sentiment\""
      ]
    },
    {
      "cell_type": "code",
      "execution_count": null,
      "metadata": {
        "colab": {
          "base_uri": "https://localhost:8080/",
          "height": 428
        },
        "id": "r_lVQBC0EvC-",
        "outputId": "377c8994-7b0f-478e-d652-f57c841d641e"
      },
      "outputs": [
        {
          "output_type": "display_data",
          "data": {
            "text/plain": [
              "<Figure size 640x480 with 1 Axes>"
            ],
            "image/png": "[encoded data removed]"
          },
          "metadata": {}
        }
      ],
      "source": [
        "df['sentiment'].value_counts().plot.pie(autopct='%1.1f%%')\n",
        "plt.title('Distribution of sentiments on the dataset')\n",
        "plt.savefig('sentimentDistribution.png')\n",
        "plt.show()"
      ]
    },
    {
      "cell_type": "code",
      "source": [
        "sns.distplot(df['Rating'])\n",
        "plt.show()"
      ],
      "metadata": {
        "colab": {
          "base_uri": "https://localhost:8080/",
          "height": 640
        },
        "id": "1IzV9cFwnI__",
        "outputId": "b6b5c7ea-c8b6-4bb0-e7f4-739351d543b7"
      },
      "execution_count": null,
      "outputs": [
        {
          "output_type": "stream",
          "name": "stderr",
          "text": [
            "<ipython-input-14-cc046c843659>:1: UserWarning: \n",
            "\n",
            "`distplot` is a deprecated function and will be removed in seaborn v0.14.0.\n",
            "\n",
            "Please adapt your code to use either `displot` (a figure-level function with\n",
            "similar flexibility) or `histplot` (an axes-level function for histograms).\n",
            "\n",
            "For a guide to updating your code to use the new functions, please see\n",
            "https://gist.github.com/mwaskom/de44147ed2974457ad6372750bbe5751\n",
            "\n",
            "  sns.distplot(df['Rating'])\n"
          ]
        },
        {
          "output_type": "display_data",
          "data": {
            "text/plain": [
              "<Figure size 640x480 with 1 Axes>"
            ],
            "image/png": "[encoded data removed]"
          },
          "metadata": {}
        }
      ]
    },
    {
      "cell_type": "markdown",
      "source": [
        "###5.a. Now we look to balance the dataset by oversampling using SMOTE"
      ],
      "metadata": {
        "id": "BiM9KH064v0a"
      }
    },
    {
      "cell_type": "code",
      "source": [
        "import pandas as pd\n",
        "from sklearn.feature_extraction.text import TfidfVectorizer\n",
        "from imblearn.over_sampling import SMOTE\n",
        "\n",
        "# Separate the features (review) and target (sentiment)\n",
        "X = df[\"Review\"]\n",
        "y = df[\"sentiment\"]\n",
        "\n",
        "# Count the number of instances of each sentiment\n",
        "sentiment_counts = y.value_counts()\n",
        "\n",
        "# Print the current distribution of sentiments\n",
        "print(\"Before SMOTE:\")\n",
        "print(sentiment_counts)\n",
        "\n",
        "# Preprocess the text data using TF-IDF\n",
        "vectorizer = TfidfVectorizer()\n",
        "X_tfidf = vectorizer.fit_transform(X)\n",
        "\n",
        "# Save the resampled dataset back to the original file\n",
        "#df_resampled.to_csv(\"your_dataset.csv\", index=False)"
      ],
      "metadata": {
        "colab": {
          "base_uri": "https://localhost:8080/"
        },
        "id": "9YJuEhB-1n4-",
        "outputId": "b8340623-0955-4c62-aae6-059e5a4616d6"
      },
      "execution_count": null,
      "outputs": [
        {
          "output_type": "stream",
          "name": "stdout",
          "text": [
            "Before SMOTE:\n",
            "Pos    15093\n",
            "Neg     3214\n",
            "Neu     2184\n",
            "Name: sentiment, dtype: int64\n"
          ]
        }
      ]
    },
    {
      "cell_type": "code",
      "source": [
        "# Apply SMOTE to balance the dataset. #took 29min\n",
        "smote = SMOTE(random_state=42)\n",
        "X_resampled, y_resampled = smote.fit_resample(X_tfidf, y)\n",
        "\n",
        "# Convert the resampled data back to a DataFrame\n",
        "resampled_reviews = [vectorizer.inverse_transform(row)[0] for row in X_resampled]\n",
        "df_resampled = pd.DataFrame({\"review\": resampled_reviews, \"sentiment\": y_resampled})\n",
        "\n",
        "# Count the number of instances of each sentiment in the resampled dataset\n",
        "resampled_sentiment_counts = df_resampled[\"sentiment\"].value_counts()\n",
        "\n",
        "# Print the new distribution of sentiments\n",
        "print(\"After SMOTE:\")\n",
        "print(resampled_sentiment_counts)"
      ],
      "metadata": {
        "colab": {
          "base_uri": "https://localhost:8080/"
        },
        "id": "xKmd2cvJ31hx",
        "outputId": "06de588d-6604-4b05-8160-9f84a3cbd814"
      },
      "execution_count": null,
      "outputs": [
        {
          "output_type": "stream",
          "name": "stdout",
          "text": [
            "After SMOTE:\n",
            "Pos    15093\n",
            "Neg    15093\n",
            "Neu    15093\n",
            "Name: sentiment, dtype: int64\n"
          ]
        }
      ]
    },
    {
      "cell_type": "code",
      "source": [
        "# Save the resampled dataset back to the file\n",
        "df_resampled.to_csv(\"resampledtry.csv\", index=False)"
      ],
      "metadata": {
        "id": "VpP8Ykof_jk9"
      },
      "execution_count": null,
      "outputs": []
    },
    {
      "cell_type": "code",
      "source": [
        "df_resampled['sentiment'].value_counts().plot.pie(autopct='%1.1f%%')\n",
        "plt.title('Distribution of sentiments on the dataset')\n",
        "plt.savefig('sentimentDistribution.png')\n",
        "plt.show()"
      ],
      "metadata": {
        "colab": {
          "base_uri": "https://localhost:8080/",
          "height": 428
        },
        "id": "tIi3aP0y_Nh6",
        "outputId": "037eec8e-f8bf-4e84-fac9-2279c525fbf2"
      },
      "execution_count": null,
      "outputs": [
        {
          "output_type": "display_data",
          "data": {
            "text/plain": [
              "<Figure size 640x480 with 1 Axes>"
            ],
            "image/png": "[encoded data removed]"
          },
          "metadata": {}
        }
      ]
    },
    {
      "cell_type": "markdown",
      "source": [
        "Now we convert the resampled data back to text"
      ],
      "metadata": {
        "id": "uy9ghEmvLUv_"
      }
    },
    {
      "cell_type": "code",
      "source": [
        "# Convert the resampled data back to a DataFrame. Took 26m 53s\n",
        "df_resampled = pd.DataFrame({\"review\": X_resampled, \"sentiment\": y_resampled})\n",
        "\n",
        "# Convert the resampled data to its original text format\n",
        "reviews = []\n",
        "for row in df_resampled['review']:\n",
        "    words = vectorizer.inverse_transform(row)[0]\n",
        "    review = ' '.join(words)\n",
        "    reviews.append(review)\n",
        "\n",
        "# Add the original text reviews to the DataFrame\n",
        "df_resampled['original_review'] = reviews"
      ],
      "metadata": {
        "id": "mZkwbbF-ElhZ"
      },
      "execution_count": null,
      "outputs": []
    },
    {
      "cell_type": "code",
      "source": [
        "df_resampled.head()"
      ],
      "metadata": {
        "colab": {
          "base_uri": "https://localhost:8080/",
          "height": 206
        },
        "id": "0Mg86Zc9LCm5",
        "outputId": "227341fd-e56f-4169-d745-714e0e9b1eb9"
      },
      "execution_count": null,
      "outputs": [
        {
          "output_type": "execute_result",
          "data": {
            "text/plain": [
              "                                              review sentiment  \\\n",
              "0    (0, 1356)\\t0.11752629120272529\\n  (0, 34777)...       Pos   \n",
              "1    (0, 38027)\\t0.052673518587370495\\n  (0, 4561...       Neg   \n",
              "2    (0, 21527)\\t0.03462331628144898\\n  (0, 51172...       Neu   \n",
              "3    (0, 35184)\\t0.14228003034461043\\n  (0, 44773...       Pos   \n",
              "4    (0, 51331)\\t0.08970463036759245\\n  (0, 48252...       Pos   \n",
              "\n",
              "                                     original_review  \n",
              "0  40 pay having experience overall shopping dist...  \n",
              "1  rates super business this controls tape sensit...  \n",
              "2  going water relax amenities sold surprised fac...  \n",
              "3  personality sterile stars rock feel bathrobes ...  \n",
              "4  websites travel vouchers contains besite deals...  "
            ],
            "text/html": [
              "\n",
              "  <div id=\"df-856708d7-b812-4513-adaa-031fa0c9732c\">\n",
              "    <div class=\"colab-df-container\">\n",
              "      <div>\n",
              "<style scoped>\n",
              "    .dataframe tbody tr th:only-of-type {\n",
              "        vertical-align: middle;\n",
              "    }\n",
              "\n",
              "    .dataframe tbody tr th {\n",
              "        vertical-align: top;\n",
              "    }\n",
              "\n",
              "    .dataframe thead th {\n",
              "        text-align: right;\n",
              "    }\n",
              "</style>\n",
              "<table border=\"1\" class=\"dataframe\">\n",
              "  <thead>\n",
              "    <tr style=\"text-align: right;\">\n",
              "      <th></th>\n",
              "      <th>review</th>\n",
              "      <th>sentiment</th>\n",
              "      <th>original_review</th>\n",
              "    </tr>\n",
              "  </thead>\n",
              "  <tbody>\n",
              "    <tr>\n",
              "      <th>0</th>\n",
              "      <td>(0, 1356)\\t0.11752629120272529\\n  (0, 34777)...</td>\n",
              "      <td>Pos</td>\n",
              "      <td>40 pay having experience overall shopping dist...</td>\n",
              "    </tr>\n",
              "    <tr>\n",
              "      <th>1</th>\n",
              "      <td>(0, 38027)\\t0.052673518587370495\\n  (0, 4561...</td>\n",
              "      <td>Neg</td>\n",
              "      <td>rates super business this controls tape sensit...</td>\n",
              "    </tr>\n",
              "    <tr>\n",
              "      <th>2</th>\n",
              "      <td>(0, 21527)\\t0.03462331628144898\\n  (0, 51172...</td>\n",
              "      <td>Neu</td>\n",
              "      <td>going water relax amenities sold surprised fac...</td>\n",
              "    </tr>\n",
              "    <tr>\n",
              "      <th>3</th>\n",
              "      <td>(0, 35184)\\t0.14228003034461043\\n  (0, 44773...</td>\n",
              "      <td>Pos</td>\n",
              "      <td>personality sterile stars rock feel bathrobes ...</td>\n",
              "    </tr>\n",
              "    <tr>\n",
              "      <th>4</th>\n",
              "      <td>(0, 51331)\\t0.08970463036759245\\n  (0, 48252...</td>\n",
              "      <td>Pos</td>\n",
              "      <td>websites travel vouchers contains besite deals...</td>\n",
              "    </tr>\n",
              "  </tbody>\n",
              "</table>\n",
              "</div>\n",
              "      <button class=\"colab-df-convert\" onclick=\"convertToInteractive('df-856708d7-b812-4513-adaa-031fa0c9732c')\"\n",
              "              title=\"Convert this dataframe to an interactive table.\"\n",
              "              style=\"display:none;\">\n",
              "        \n",
              "  <svg xmlns=\"http://www.w3.org/2000/svg\" height=\"24px\"viewBox=\"0 0 24 24\"\n",
              "       width=\"24px\">\n",
              "    <path d=\"M0 0h24v24H0V0z\" fill=\"none\"/>\n",
              "    <path d=\"M18.56 5.44l.94 2.06.94-2.06 2.06-.94-2.06-.94-.94-2.06-.94 2.06-2.06.94zm-11 1L8.5 8.5l.94-2.06 2.06-.94-2.06-.94L8.5 2.5l-.94 2.06-2.06.94zm10 10l.94 2.06.94-2.06 2.06-.94-2.06-.94-.94-2.06-.94 2.06-2.06.94z\"/><path d=\"M17.41 7.96l-1.37-1.37c-.4-.4-.92-.59-1.43-.59-.52 0-1.04.2-1.43.59L10.3 9.45l-7.72 7.72c-.78.78-.78 2.05 0 2.83L4 21.41c.39.39.9.59 1.41.59.51 0 1.02-.2 1.41-.59l7.78-7.78 2.81-2.81c.8-.78.8-2.07 0-2.86zM5.41 20L4 18.59l7.72-7.72 1.47 1.35L5.41 20z\"/>\n",
              "  </svg>\n",
              "      </button>\n",
              "      \n",
              "  <style>\n",
              "    .colab-df-container {\n",
              "      display:flex;\n",
              "      flex-wrap:wrap;\n",
              "      gap: 12px;\n",
              "    }\n",
              "\n",
              "    .colab-df-convert {\n",
              "      background-color: #E8F0FE;\n",
              "      border: none;\n",
              "      border-radius: 50%;\n",
              "      cursor: pointer;\n",
              "      display: none;\n",
              "      fill: #1967D2;\n",
              "      height: 32px;\n",
              "      padding: 0 0 0 0;\n",
              "      width: 32px;\n",
              "    }\n",
              "\n",
              "    .colab-df-convert:hover {\n",
              "      background-color: #E2EBFA;\n",
              "      box-shadow: 0px 1px 2px rgba(60, 64, 67, 0.3), 0px 1px 3px 1px rgba(60, 64, 67, 0.15);\n",
              "      fill: #174EA6;\n",
              "    }\n",
              "\n",
              "    [theme=dark] .colab-df-convert {\n",
              "      background-color: #3B4455;\n",
              "      fill: #D2E3FC;\n",
              "    }\n",
              "\n",
              "    [theme=dark] .colab-df-convert:hover {\n",
              "      background-color: #434B5C;\n",
              "      box-shadow: 0px 1px 3px 1px rgba(0, 0, 0, 0.15);\n",
              "      filter: drop-shadow(0px 1px 2px rgba(0, 0, 0, 0.3));\n",
              "      fill: #FFFFFF;\n",
              "    }\n",
              "  </style>\n",
              "\n",
              "      <script>\n",
              "        const buttonEl =\n",
              "          document.querySelector('#df-856708d7-b812-4513-adaa-031fa0c9732c button.colab-df-convert');\n",
              "        buttonEl.style.display =\n",
              "          google.colab.kernel.accessAllowed ? 'block' : 'none';\n",
              "\n",
              "        async function convertToInteractive(key) {\n",
              "          const element = document.querySelector('#df-856708d7-b812-4513-adaa-031fa0c9732c');\n",
              "          const dataTable =\n",
              "            await google.colab.kernel.invokeFunction('convertToInteractive',\n",
              "                                                     [key], {});\n",
              "          if (!dataTable) return;\n",
              "\n",
              "          const docLinkHtml = 'Like what you see? Visit the ' +\n",
              "            '<a target=\"_blank\" href=https://colab.research.google.com/notebooks/data_table.ipynb>data table notebook</a>'\n",
              "            + ' to learn more about interactive tables.';\n",
              "          element.innerHTML = '';\n",
              "          dataTable['output_type'] = 'display_data';\n",
              "          await google.colab.output.renderOutput(dataTable, element);\n",
              "          const docLink = document.createElement('div');\n",
              "          docLink.innerHTML = docLinkHtml;\n",
              "          element.appendChild(docLink);\n",
              "        }\n",
              "      </script>\n",
              "    </div>\n",
              "  </div>\n",
              "  "
            ]
          },
          "metadata": {},
          "execution_count": 39
        }
      ]
    },
    {
      "cell_type": "code",
      "source": [
        "# Save the resampled dataset back to the file\n",
        "df_resampled.to_csv(\"resampledtry.csv\", index=False)"
      ],
      "metadata": {
        "id": "5xLGfZuvLOA2"
      },
      "execution_count": null,
      "outputs": []
    },
    {
      "cell_type": "markdown",
      "metadata": {
        "id": "77lpG0YDrKJs"
      },
      "source": [
        "We look at one positive example"
      ]
    },
    {
      "cell_type": "code",
      "execution_count": null,
      "metadata": {
        "colab": {
          "base_uri": "https://localhost:8080/"
        },
        "id": "16FiOMs1EvDB",
        "outputId": "fedf295c-c70f-40f9-8a8f-e09356094d09"
      },
      "outputs": [
        {
          "output_type": "stream",
          "name": "stdout",
          "text": [
            "nice hotel expensive parking got good deal stay hotel anniversary, arrived late evening took advice previous reviews did valet parking, check quick easy, little disappointed non-existent view room room clean nice size, bed comfortable woke stiff neck high pillows, not soundproof like heard music room night morning loud bangs doors opening closing hear people talking hallway, maybe just noisy neighbors, aveda bath products nice, did not goldfish stay nice touch taken advantage staying longer, location great walking distance shopping, overall nice experience having pay 40 parking night,  \n",
            "Pos\n"
          ]
        }
      ],
      "source": [
        "print(df['Review'][0])\n",
        "print(df['sentiment'][0])"
      ]
    },
    {
      "cell_type": "code",
      "source": [
        "print(df_resampled['review'][0])\n",
        "print(df_resampled['sentiment'][0])"
      ],
      "metadata": {
        "colab": {
          "base_uri": "https://localhost:8080/"
        },
        "id": "6pPCWU96BoOR",
        "outputId": "cae646b0-22f9-43e1-dae7-37c117aee9ef"
      },
      "execution_count": null,
      "outputs": [
        {
          "output_type": "stream",
          "name": "stdout",
          "text": [
            "['40' 'pay' 'having' 'experience' 'overall' 'shopping' 'distance'\n",
            " 'walking' 'great' 'location' 'longer' 'staying' 'advantage' 'taken'\n",
            " 'touch' 'goldfish' 'products' 'bath' 'aveda' 'neighbors' 'noisy' 'just'\n",
            " 'maybe' 'hallway' 'talking' 'people' 'hear' 'closing' 'opening' 'doors'\n",
            " 'bangs' 'loud' 'morning' 'night' 'music' 'heard' 'like' 'soundproof'\n",
            " 'not' 'pillows' 'high' 'neck' 'stiff' 'woke' 'comfortable' 'bed' 'size'\n",
            " 'clean' 'room' 'view' 'existent' 'non' 'disappointed' 'little' 'easy'\n",
            " 'quick' 'check' 'valet' 'did' 'reviews' 'previous' 'advice' 'took'\n",
            " 'evening' 'late' 'arrived' 'anniversary' 'stay' 'deal' 'good' 'got'\n",
            " 'parking' 'expensive' 'hotel' 'nice']\n",
            "Pos\n"
          ]
        }
      ]
    },
    {
      "cell_type": "code",
      "source": [
        "print(df_resampled['original_review'][0])\n",
        "print(df_resampled['sentiment'][0])"
      ],
      "metadata": {
        "colab": {
          "base_uri": "https://localhost:8080/"
        },
        "id": "45-NVBjDLgCR",
        "outputId": "96c810e9-eea7-40d4-eed4-f301f5710af6"
      },
      "execution_count": null,
      "outputs": [
        {
          "output_type": "stream",
          "name": "stdout",
          "text": [
            "40 pay having experience overall shopping distance walking great location longer staying advantage taken touch goldfish products bath aveda neighbors noisy just maybe hallway talking people hear closing opening doors bangs loud morning night music heard like soundproof not pillows high neck stiff woke comfortable bed size clean room view existent non disappointed little easy quick check valet did reviews previous advice took evening late arrived anniversary stay deal good got parking expensive hotel nice\n",
            "Pos\n"
          ]
        }
      ]
    },
    {
      "cell_type": "markdown",
      "source": [
        "And one negative example"
      ],
      "metadata": {
        "id": "IaDuqizbL1z3"
      }
    },
    {
      "cell_type": "code",
      "execution_count": null,
      "metadata": {
        "id": "GG-dgobkrKJs",
        "outputId": "f4ef2cab-a00c-4426-f1df-3c4a0c15a988",
        "colab": {
          "base_uri": "https://localhost:8080/"
        }
      },
      "outputs": [
        {
          "output_type": "stream",
          "name": "stdout",
          "text": [
            "ok nothing special charge diamond member hilton decided chain shot 20th anniversary seattle, start booked suite paid extra website description not, suite bedroom bathroom standard hotel room, took printed reservation desk showed said things like tv couch ect desk clerk told oh mixed suites description kimpton website sorry free breakfast, got kidding, embassy suits sitting room bathroom bedroom unlike kimpton calls suite, 5 day stay offer correct false advertising, send kimpton preferred guest website email asking failure provide suite advertised website reservation description furnished hard copy reservation printout website desk manager duty did not reply solution, send email trip guest survey did not follow email mail, guess tell concerned guest.the staff ranged indifferent not helpful, asked desk good breakfast spots neighborhood hood told no hotels, gee best breakfast spots seattle 1/2 block away convenient hotel does not know exist, arrived late night 11 pm inside run bellman busy chating cell phone help bags.prior arrival emailed hotel inform 20th anniversary half really picky wanted make sure good, got nice email saying like deliver bottle champagne chocolate covered strawberries room arrival celebrate, told needed foam pillows, arrival no champagne strawberries no foam pillows great room view alley high rise building good not better housekeeping staff cleaner room property, impressed left morning shopping room got short trips 2 hours, beds comfortable.not good ac-heat control 4 x 4 inch screen bring green shine directly eyes night, light sensitive tape controls.this not 4 start hotel clean business hotel super high rates, better chain hotels seattle,  \n",
            "Neg\n"
          ]
        }
      ],
      "source": [
        "print(df['Review'][1])\n",
        "print(df['sentiment'][1])"
      ]
    },
    {
      "cell_type": "code",
      "source": [
        "print(df_resampled['review'][1])\n",
        "print(df_resampled['sentiment'][1])"
      ],
      "metadata": {
        "colab": {
          "base_uri": "https://localhost:8080/"
        },
        "id": "t7LFKmcKCS_Y",
        "outputId": "741def65-ac0b-4a05-f04b-28e1e53d2235"
      },
      "execution_count": null,
      "outputs": [
        {
          "output_type": "stream",
          "name": "stdout",
          "text": [
            "['rates' 'super' 'business' 'this' 'controls' 'tape' 'sensitive' 'light'\n",
            " 'eyes' 'directly' 'shine' 'green' 'bring' 'screen' 'inch' 'control'\n",
            " 'heat' 'ac' 'beds' 'hours' 'trips' 'short' 'left' 'impressed' 'property'\n",
            " 'cleaner' 'housekeeping' 'better' 'building' 'rise' 'alley' 'foam'\n",
            " 'needed' 'celebrate' 'strawberries' 'covered' 'chocolate' 'champagne'\n",
            " 'bottle' 'deliver' 'saying' 'sure' 'make' 'wanted' 'picky' 'really'\n",
            " 'half' 'inform' 'emailed' 'arrival' 'prior' 'bags' 'help' 'phone' 'cell'\n",
            " 'chating' 'busy' 'bellman' 'run' 'inside' 'pm' '11' 'exist' 'know' 'does'\n",
            " 'convenient' 'away' 'block' 'best' 'gee' 'hotels' 'no' 'hood'\n",
            " 'neighborhood' 'spots' 'asked' 'helpful' 'indifferent' 'ranged' 'staff'\n",
            " 'the' 'concerned' 'tell' 'guess' 'mail' 'follow' 'survey' 'trip'\n",
            " 'solution' 'reply' 'duty' 'manager' 'printout' 'copy' 'hard' 'furnished'\n",
            " 'advertised' 'provide' 'failure' 'asking' 'email' 'guest' 'preferred'\n",
            " 'send' 'advertising' 'false' 'correct' 'offer' 'day' 'calls' 'unlike'\n",
            " 'sitting' 'suits' 'embassy' 'kidding' 'breakfast' 'free' 'sorry'\n",
            " 'kimpton' 'suites' 'mixed' 'oh' 'told' 'clerk' 'ect' 'couch' 'tv'\n",
            " 'things' 'said' 'showed' 'desk' 'reservation' 'printed' 'standard'\n",
            " 'bathroom' 'bedroom' 'description' 'website' 'extra' 'paid' 'suite'\n",
            " 'booked' 'start' 'seattle' '20th' 'shot' 'chain' 'decided' 'hilton'\n",
            " 'member' 'diamond' 'charge' 'special' 'nothing' 'ok' 'shopping' 'great'\n",
            " 'morning' 'night' 'like' 'not' 'pillows' 'high' 'comfortable' 'clean'\n",
            " 'room' 'view' 'did' 'took' 'late' 'arrived' 'anniversary' 'stay' 'good'\n",
            " 'got' 'hotel' 'nice']\n",
            "Neg\n"
          ]
        }
      ]
    },
    {
      "cell_type": "code",
      "source": [
        "print(df_resampled['original_review'][1])\n",
        "print(df_resampled['sentiment'][1])"
      ],
      "metadata": {
        "colab": {
          "base_uri": "https://localhost:8080/"
        },
        "id": "yjKXqaVMLo7W",
        "outputId": "dfc6c068-3af3-474d-b05e-0f0288144cda"
      },
      "execution_count": null,
      "outputs": [
        {
          "output_type": "stream",
          "name": "stdout",
          "text": [
            "rates super business this controls tape sensitive light eyes directly shine green bring screen inch control heat ac beds hours trips short left impressed property cleaner housekeeping better building rise alley foam needed celebrate strawberries covered chocolate champagne bottle deliver saying sure make wanted picky really half inform emailed arrival prior bags help phone cell chating busy bellman run inside pm 11 exist know does convenient away block best gee hotels no hood neighborhood spots asked helpful indifferent ranged staff the concerned tell guess mail follow survey trip solution reply duty manager printout copy hard furnished advertised provide failure asking email guest preferred send advertising false correct offer day calls unlike sitting suits embassy kidding breakfast free sorry kimpton suites mixed oh told clerk ect couch tv things said showed desk reservation printed standard bathroom bedroom description website extra paid suite booked start seattle 20th shot chain decided hilton member diamond charge special nothing ok shopping great morning night like not pillows high comfortable clean room view did took late arrived anniversary stay good got hotel nice\n",
            "Neg\n"
          ]
        }
      ]
    },
    {
      "cell_type": "markdown",
      "source": [
        "## Calling Balanced Dataset\n",
        "#### Apply before using balanced dataset in the following models"
      ],
      "metadata": {
        "id": "BPdzBXTA7D07"
      }
    },
    {
      "cell_type": "code",
      "source": [
        "#load the dataset which was balanced before and converted back to text\n",
        "df_resampled=pd.read_csv('/content/drive/MyDrive/Dataset/resampledtext.csv')"
      ],
      "metadata": {
        "id": "vM8CLTCP6jUe"
      },
      "execution_count": null,
      "outputs": []
    },
    {
      "cell_type": "code",
      "source": [
        "df_resampled['review']=df_resampled['original_review']"
      ],
      "metadata": {
        "id": "lPdRyoITDWyA"
      },
      "execution_count": null,
      "outputs": []
    },
    {
      "cell_type": "code",
      "source": [
        "df_resampled = df_resampled.drop('original_review', axis=1)"
      ],
      "metadata": {
        "id": "-uDiWqCpNOkD"
      },
      "execution_count": null,
      "outputs": []
    },
    {
      "cell_type": "code",
      "source": [
        "df_resampled.head()"
      ],
      "metadata": {
        "colab": {
          "base_uri": "https://localhost:8080/",
          "height": 206
        },
        "id": "FpB0qLrjNMVj",
        "outputId": "9d46b71c-de67-4d20-e406-3ad988140b12"
      },
      "execution_count": null,
      "outputs": [
        {
          "output_type": "execute_result",
          "data": {
            "text/plain": [
              "                                              review sentiment\n",
              "0  40 pay having experience overall shopping dist...       Pos\n",
              "1  rates super business this controls tape sensit...       Neg\n",
              "2  going water relax amenities sold surprised fac...       Neu\n",
              "3  personality sterile stars rock feel bathrobes ...       Pos\n",
              "4  websites travel vouchers contains besite deals...       Pos"
            ],
            "text/html": [
              "\n",
              "  <div id=\"df-0e788348-10ea-4087-938e-f90d5cbac720\">\n",
              "    <div class=\"colab-df-container\">\n",
              "      <div>\n",
              "<style scoped>\n",
              "    .dataframe tbody tr th:only-of-type {\n",
              "        vertical-align: middle;\n",
              "    }\n",
              "\n",
              "    .dataframe tbody tr th {\n",
              "        vertical-align: top;\n",
              "    }\n",
              "\n",
              "    .dataframe thead th {\n",
              "        text-align: right;\n",
              "    }\n",
              "</style>\n",
              "<table border=\"1\" class=\"dataframe\">\n",
              "  <thead>\n",
              "    <tr style=\"text-align: right;\">\n",
              "      <th></th>\n",
              "      <th>review</th>\n",
              "      <th>sentiment</th>\n",
              "    </tr>\n",
              "  </thead>\n",
              "  <tbody>\n",
              "    <tr>\n",
              "      <th>0</th>\n",
              "      <td>40 pay having experience overall shopping dist...</td>\n",
              "      <td>Pos</td>\n",
              "    </tr>\n",
              "    <tr>\n",
              "      <th>1</th>\n",
              "      <td>rates super business this controls tape sensit...</td>\n",
              "      <td>Neg</td>\n",
              "    </tr>\n",
              "    <tr>\n",
              "      <th>2</th>\n",
              "      <td>going water relax amenities sold surprised fac...</td>\n",
              "      <td>Neu</td>\n",
              "    </tr>\n",
              "    <tr>\n",
              "      <th>3</th>\n",
              "      <td>personality sterile stars rock feel bathrobes ...</td>\n",
              "      <td>Pos</td>\n",
              "    </tr>\n",
              "    <tr>\n",
              "      <th>4</th>\n",
              "      <td>websites travel vouchers contains besite deals...</td>\n",
              "      <td>Pos</td>\n",
              "    </tr>\n",
              "  </tbody>\n",
              "</table>\n",
              "</div>\n",
              "      <button class=\"colab-df-convert\" onclick=\"convertToInteractive('df-0e788348-10ea-4087-938e-f90d5cbac720')\"\n",
              "              title=\"Convert this dataframe to an interactive table.\"\n",
              "              style=\"display:none;\">\n",
              "        \n",
              "  <svg xmlns=\"http://www.w3.org/2000/svg\" height=\"24px\"viewBox=\"0 0 24 24\"\n",
              "       width=\"24px\">\n",
              "    <path d=\"M0 0h24v24H0V0z\" fill=\"none\"/>\n",
              "    <path d=\"M18.56 5.44l.94 2.06.94-2.06 2.06-.94-2.06-.94-.94-2.06-.94 2.06-2.06.94zm-11 1L8.5 8.5l.94-2.06 2.06-.94-2.06-.94L8.5 2.5l-.94 2.06-2.06.94zm10 10l.94 2.06.94-2.06 2.06-.94-2.06-.94-.94-2.06-.94 2.06-2.06.94z\"/><path d=\"M17.41 7.96l-1.37-1.37c-.4-.4-.92-.59-1.43-.59-.52 0-1.04.2-1.43.59L10.3 9.45l-7.72 7.72c-.78.78-.78 2.05 0 2.83L4 21.41c.39.39.9.59 1.41.59.51 0 1.02-.2 1.41-.59l7.78-7.78 2.81-2.81c.8-.78.8-2.07 0-2.86zM5.41 20L4 18.59l7.72-7.72 1.47 1.35L5.41 20z\"/>\n",
              "  </svg>\n",
              "      </button>\n",
              "      \n",
              "  <style>\n",
              "    .colab-df-container {\n",
              "      display:flex;\n",
              "      flex-wrap:wrap;\n",
              "      gap: 12px;\n",
              "    }\n",
              "\n",
              "    .colab-df-convert {\n",
              "      background-color: #E8F0FE;\n",
              "      border: none;\n",
              "      border-radius: 50%;\n",
              "      cursor: pointer;\n",
              "      display: none;\n",
              "      fill: #1967D2;\n",
              "      height: 32px;\n",
              "      padding: 0 0 0 0;\n",
              "      width: 32px;\n",
              "    }\n",
              "\n",
              "    .colab-df-convert:hover {\n",
              "      background-color: #E2EBFA;\n",
              "      box-shadow: 0px 1px 2px rgba(60, 64, 67, 0.3), 0px 1px 3px 1px rgba(60, 64, 67, 0.15);\n",
              "      fill: #174EA6;\n",
              "    }\n",
              "\n",
              "    [theme=dark] .colab-df-convert {\n",
              "      background-color: #3B4455;\n",
              "      fill: #D2E3FC;\n",
              "    }\n",
              "\n",
              "    [theme=dark] .colab-df-convert:hover {\n",
              "      background-color: #434B5C;\n",
              "      box-shadow: 0px 1px 3px 1px rgba(0, 0, 0, 0.15);\n",
              "      filter: drop-shadow(0px 1px 2px rgba(0, 0, 0, 0.3));\n",
              "      fill: #FFFFFF;\n",
              "    }\n",
              "  </style>\n",
              "\n",
              "      <script>\n",
              "        const buttonEl =\n",
              "          document.querySelector('#df-0e788348-10ea-4087-938e-f90d5cbac720 button.colab-df-convert');\n",
              "        buttonEl.style.display =\n",
              "          google.colab.kernel.accessAllowed ? 'block' : 'none';\n",
              "\n",
              "        async function convertToInteractive(key) {\n",
              "          const element = document.querySelector('#df-0e788348-10ea-4087-938e-f90d5cbac720');\n",
              "          const dataTable =\n",
              "            await google.colab.kernel.invokeFunction('convertToInteractive',\n",
              "                                                     [key], {});\n",
              "          if (!dataTable) return;\n",
              "\n",
              "          const docLinkHtml = 'Like what you see? Visit the ' +\n",
              "            '<a target=\"_blank\" href=https://colab.research.google.com/notebooks/data_table.ipynb>data table notebook</a>'\n",
              "            + ' to learn more about interactive tables.';\n",
              "          element.innerHTML = '';\n",
              "          dataTable['output_type'] = 'display_data';\n",
              "          await google.colab.output.renderOutput(dataTable, element);\n",
              "          const docLink = document.createElement('div');\n",
              "          docLink.innerHTML = docLinkHtml;\n",
              "          element.appendChild(docLink);\n",
              "        }\n",
              "      </script>\n",
              "    </div>\n",
              "  </div>\n",
              "  "
            ]
          },
          "metadata": {},
          "execution_count": 289
        }
      ]
    },
    {
      "cell_type": "code",
      "source": [
        "df=df_resampled"
      ],
      "metadata": {
        "id": "T_ipXjK4NtvU"
      },
      "execution_count": null,
      "outputs": []
    },
    {
      "cell_type": "markdown",
      "metadata": {
        "id": "xJZujl2-rKJs"
      },
      "source": [
        "### Text preprocessing strategies\n",
        "We plan different strategies of preprocessing text with modelling and then evaluate all of them together.\n",
        "##### 5.1. Simple clean and bag of words for the baseline model\n",
        "##### 5.2. Simple clean, lemmatisation on the text and then proceed with a bag of words, while excluding \"stop words\".\n",
        " This type of preprocessing is generally used for text classification tasks.\n",
        "##### 5.3. Simple clean and lemmatisation, removal of \"stop words\" and counting only once each word that appears in the review, extracting only a few of the most common words in the full text.\n",
        "This type of preprocessing is generally used for sentiment analysis tasks.\n",
        "##### 5.4. No pre-process\n",
        "The un-processed reviews will be used with pre-prepared lexicon-based models for sentiment analysis\n",
        "\n",
        "We will do the preprocessing techniques and apply different machine models to the pre-processed data.\n",
        "We will start with the simple preprocessing strategy that will be used to create a baseline model.\n",
        "##### 5.1. Simple clean and bag of words for the baseline model"
      ]
    },
    {
      "cell_type": "code",
      "execution_count": null,
      "metadata": {
        "id": "uPSsGKGIEvDD"
      },
      "outputs": [],
      "source": [
        "#define the funcrion for initial cleaning\n",
        "def clean_rev_1(text):\n",
        "    text.lower()\n",
        "    #remove everything that are not letters\n",
        "    text=re.sub('[^a-z]', \" \", text)\n",
        "    return text"
      ]
    },
    {
      "cell_type": "code",
      "execution_count": null,
      "metadata": {
        "id": "2gF4NiZTEvDG"
      },
      "outputs": [],
      "source": [
        "#apply cleaning function to the reviews\n",
        "simple_cleaned_reviews=[clean_rev_1(df['review'][i]) for i in range(len(df))]"
      ]
    },
    {
      "cell_type": "code",
      "execution_count": null,
      "metadata": {
        "id": "VmmY7gZVEvDI"
      },
      "outputs": [],
      "source": [
        "#store in the same DataFrame\n",
        "df['simple_cleaned_reviews']=simple_cleaned_reviews"
      ]
    },
    {
      "cell_type": "code",
      "execution_count": null,
      "metadata": {
        "colab": {
          "base_uri": "https://localhost:8080/",
          "height": 206
        },
        "id": "CVt8W_M7EvDK",
        "outputId": "3238d3c9-e1f4-4c5e-9e5b-086a24e90053"
      },
      "outputs": [
        {
          "output_type": "execute_result",
          "data": {
            "text/plain": [
              "                                              review sentiment  \\\n",
              "0  40 pay having experience overall shopping dist...       Pos   \n",
              "1  rates super business this controls tape sensit...       Neg   \n",
              "2  going water relax amenities sold surprised fac...       Neu   \n",
              "3  personality sterile stars rock feel bathrobes ...       Pos   \n",
              "4  websites travel vouchers contains besite deals...       Pos   \n",
              "\n",
              "                              simple_cleaned_reviews  \n",
              "0     pay having experience overall shopping dist...  \n",
              "1  rates super business this controls tape sensit...  \n",
              "2  going water relax amenities sold surprised fac...  \n",
              "3  personality sterile stars rock feel bathrobes ...  \n",
              "4  websites travel vouchers contains besite deals...  "
            ],
            "text/html": [
              "\n",
              "  <div id=\"df-e8c9d3e9-8fba-4772-9e32-9f3c68a79237\">\n",
              "    <div class=\"colab-df-container\">\n",
              "      <div>\n",
              "<style scoped>\n",
              "    .dataframe tbody tr th:only-of-type {\n",
              "        vertical-align: middle;\n",
              "    }\n",
              "\n",
              "    .dataframe tbody tr th {\n",
              "        vertical-align: top;\n",
              "    }\n",
              "\n",
              "    .dataframe thead th {\n",
              "        text-align: right;\n",
              "    }\n",
              "</style>\n",
              "<table border=\"1\" class=\"dataframe\">\n",
              "  <thead>\n",
              "    <tr style=\"text-align: right;\">\n",
              "      <th></th>\n",
              "      <th>review</th>\n",
              "      <th>sentiment</th>\n",
              "      <th>simple_cleaned_reviews</th>\n",
              "    </tr>\n",
              "  </thead>\n",
              "  <tbody>\n",
              "    <tr>\n",
              "      <th>0</th>\n",
              "      <td>40 pay having experience overall shopping dist...</td>\n",
              "      <td>Pos</td>\n",
              "      <td>pay having experience overall shopping dist...</td>\n",
              "    </tr>\n",
              "    <tr>\n",
              "      <th>1</th>\n",
              "      <td>rates super business this controls tape sensit...</td>\n",
              "      <td>Neg</td>\n",
              "      <td>rates super business this controls tape sensit...</td>\n",
              "    </tr>\n",
              "    <tr>\n",
              "      <th>2</th>\n",
              "      <td>going water relax amenities sold surprised fac...</td>\n",
              "      <td>Neu</td>\n",
              "      <td>going water relax amenities sold surprised fac...</td>\n",
              "    </tr>\n",
              "    <tr>\n",
              "      <th>3</th>\n",
              "      <td>personality sterile stars rock feel bathrobes ...</td>\n",
              "      <td>Pos</td>\n",
              "      <td>personality sterile stars rock feel bathrobes ...</td>\n",
              "    </tr>\n",
              "    <tr>\n",
              "      <th>4</th>\n",
              "      <td>websites travel vouchers contains besite deals...</td>\n",
              "      <td>Pos</td>\n",
              "      <td>websites travel vouchers contains besite deals...</td>\n",
              "    </tr>\n",
              "  </tbody>\n",
              "</table>\n",
              "</div>\n",
              "      <button class=\"colab-df-convert\" onclick=\"convertToInteractive('df-e8c9d3e9-8fba-4772-9e32-9f3c68a79237')\"\n",
              "              title=\"Convert this dataframe to an interactive table.\"\n",
              "              style=\"display:none;\">\n",
              "        \n",
              "  <svg xmlns=\"http://www.w3.org/2000/svg\" height=\"24px\"viewBox=\"0 0 24 24\"\n",
              "       width=\"24px\">\n",
              "    <path d=\"M0 0h24v24H0V0z\" fill=\"none\"/>\n",
              "    <path d=\"M18.56 5.44l.94 2.06.94-2.06 2.06-.94-2.06-.94-.94-2.06-.94 2.06-2.06.94zm-11 1L8.5 8.5l.94-2.06 2.06-.94-2.06-.94L8.5 2.5l-.94 2.06-2.06.94zm10 10l.94 2.06.94-2.06 2.06-.94-2.06-.94-.94-2.06-.94 2.06-2.06.94z\"/><path d=\"M17.41 7.96l-1.37-1.37c-.4-.4-.92-.59-1.43-.59-.52 0-1.04.2-1.43.59L10.3 9.45l-7.72 7.72c-.78.78-.78 2.05 0 2.83L4 21.41c.39.39.9.59 1.41.59.51 0 1.02-.2 1.41-.59l7.78-7.78 2.81-2.81c.8-.78.8-2.07 0-2.86zM5.41 20L4 18.59l7.72-7.72 1.47 1.35L5.41 20z\"/>\n",
              "  </svg>\n",
              "      </button>\n",
              "      \n",
              "  <style>\n",
              "    .colab-df-container {\n",
              "      display:flex;\n",
              "      flex-wrap:wrap;\n",
              "      gap: 12px;\n",
              "    }\n",
              "\n",
              "    .colab-df-convert {\n",
              "      background-color: #E8F0FE;\n",
              "      border: none;\n",
              "      border-radius: 50%;\n",
              "      cursor: pointer;\n",
              "      display: none;\n",
              "      fill: #1967D2;\n",
              "      height: 32px;\n",
              "      padding: 0 0 0 0;\n",
              "      width: 32px;\n",
              "    }\n",
              "\n",
              "    .colab-df-convert:hover {\n",
              "      background-color: #E2EBFA;\n",
              "      box-shadow: 0px 1px 2px rgba(60, 64, 67, 0.3), 0px 1px 3px 1px rgba(60, 64, 67, 0.15);\n",
              "      fill: #174EA6;\n",
              "    }\n",
              "\n",
              "    [theme=dark] .colab-df-convert {\n",
              "      background-color: #3B4455;\n",
              "      fill: #D2E3FC;\n",
              "    }\n",
              "\n",
              "    [theme=dark] .colab-df-convert:hover {\n",
              "      background-color: #434B5C;\n",
              "      box-shadow: 0px 1px 3px 1px rgba(0, 0, 0, 0.15);\n",
              "      filter: drop-shadow(0px 1px 2px rgba(0, 0, 0, 0.3));\n",
              "      fill: #FFFFFF;\n",
              "    }\n",
              "  </style>\n",
              "\n",
              "      <script>\n",
              "        const buttonEl =\n",
              "          document.querySelector('#df-e8c9d3e9-8fba-4772-9e32-9f3c68a79237 button.colab-df-convert');\n",
              "        buttonEl.style.display =\n",
              "          google.colab.kernel.accessAllowed ? 'block' : 'none';\n",
              "\n",
              "        async function convertToInteractive(key) {\n",
              "          const element = document.querySelector('#df-e8c9d3e9-8fba-4772-9e32-9f3c68a79237');\n",
              "          const dataTable =\n",
              "            await google.colab.kernel.invokeFunction('convertToInteractive',\n",
              "                                                     [key], {});\n",
              "          if (!dataTable) return;\n",
              "\n",
              "          const docLinkHtml = 'Like what you see? Visit the ' +\n",
              "            '<a target=\"_blank\" href=https://colab.research.google.com/notebooks/data_table.ipynb>data table notebook</a>'\n",
              "            + ' to learn more about interactive tables.';\n",
              "          element.innerHTML = '';\n",
              "          dataTable['output_type'] = 'display_data';\n",
              "          await google.colab.output.renderOutput(dataTable, element);\n",
              "          const docLink = document.createElement('div');\n",
              "          docLink.innerHTML = docLinkHtml;\n",
              "          element.appendChild(docLink);\n",
              "        }\n",
              "      </script>\n",
              "    </div>\n",
              "  </div>\n",
              "  "
            ]
          },
          "metadata": {},
          "execution_count": 157
        }
      ],
      "source": [
        "df.head()"
      ]
    },
    {
      "cell_type": "code",
      "execution_count": null,
      "metadata": {
        "id": "NkpKG8Q0EvDL"
      },
      "outputs": [],
      "source": [
        "#shuffle the data\n",
        "df_shuffled = df.sample(frac=1).reset_index(drop=True)"
      ]
    },
    {
      "cell_type": "markdown",
      "metadata": {
        "id": "nbjQ95TpEvDN"
      },
      "source": [
        "### 6. Build a baseline classifier\n",
        "In this part we will build a baseline model with Naive Bayes, using a Gaussian distribution and 'Bag of words' as preprocessing technique removing the most common words which are generally called \"stop words\".\n",
        "\n",
        "The Naive Bayes model works by calculating the posterior probability of a review to be considered as a specific class, given the evidence of certain features which are the bag of words or scientificaly known tfidf(*term frequency X inverse document frequency*) for each review."
      ]
    },
    {
      "cell_type": "code",
      "execution_count": null,
      "metadata": {
        "id": "3kgzCOJLEvDR"
      },
      "outputs": [],
      "source": [
        "#import the relevant libraries\n",
        "from sklearn.feature_extraction.text import TfidfVectorizer\n",
        "from sklearn.naive_bayes import GaussianNB"
      ]
    },
    {
      "cell_type": "code",
      "execution_count": null,
      "metadata": {
        "id": "wo8yOHdKEvDS"
      },
      "outputs": [],
      "source": [
        "#create a bag of words, which is vectorising the data, we will take the 1500 most commmon features\n",
        "vectorised_data=TfidfVectorizer(max_features=1500, stop_words='english').fit_transform(df_shuffled['simple_cleaned_reviews']).toarray()"
      ]
    },
    {
      "cell_type": "code",
      "execution_count": null,
      "metadata": {
        "id": "3c9Sx69wEvDT"
      },
      "outputs": [],
      "source": [
        "#Create an array with the labels\n",
        "labels=df_shuffled['sentiment'].values"
      ]
    },
    {
      "cell_type": "code",
      "execution_count": null,
      "metadata": {
        "id": "FXQmHzVwEvDV"
      },
      "outputs": [],
      "source": [
        "#Define the sentiment labels in 'sentiment order'\n",
        "unique_labels=['Pos', 'Neu','Neg']"
      ]
    },
    {
      "cell_type": "code",
      "execution_count": null,
      "metadata": {
        "id": "AK9GqvN3EvDW"
      },
      "outputs": [],
      "source": [
        "#split the data into train x and y sets and test x and y sets\n",
        "x_train=vectorised_data[:int(len(df)*0.75)]\n",
        "y_train=labels[:int(len(df)*0.75)]\n",
        "x_test=vectorised_data[int(len(df)*0.75):]\n",
        "y_test=labels[int(len(df)*0.75):]"
      ]
    },
    {
      "cell_type": "code",
      "execution_count": null,
      "metadata": {
        "id": "zYZC9RudEvDX"
      },
      "outputs": [],
      "source": [
        "#Define the classifier, train the classifier and get the predicted values for the x test set\n",
        "clf=GaussianNB()\n",
        "clf.fit(x_train, y_train)\n",
        "y_pred=clf.predict(x_test)"
      ]
    },
    {
      "cell_type": "code",
      "execution_count": null,
      "metadata": {
        "colab": {
          "base_uri": "https://localhost:8080/"
        },
        "id": "A_CUPDSUEvDZ",
        "outputId": "0037859f-efc7-4e46-a361-13939106ca69"
      },
      "outputs": [
        {
          "output_type": "stream",
          "name": "stdout",
          "text": [
            "[[2885  639  249]\n",
            " [ 646 2486  638]\n",
            " [  95  548 3134]]\n"
          ]
        }
      ],
      "source": [
        "#create a confusion matrix\n",
        "from sklearn.metrics import confusion_matrix\n",
        "matrix=confusion_matrix(y_test,y_pred, labels=unique_labels)\n",
        "print(matrix)"
      ]
    },
    {
      "cell_type": "code",
      "execution_count": null,
      "metadata": {
        "colab": {
          "base_uri": "https://localhost:8080/",
          "height": 458
        },
        "id": "tUsAiZ9KEvDb",
        "outputId": "87f47e57-091d-4b03-89ee-dc66d113ce9e"
      },
      "outputs": [
        {
          "output_type": "display_data",
          "data": {
            "text/plain": [
              "<Figure size 640x480 with 1 Axes>"
            ],
            "image/png": "[encoded data removed]"
          },
          "metadata": {}
        }
      ],
      "source": [
        "#visualise the confusion matrix\n",
        "import seaborn as sns\n",
        "sns.set()\n",
        "sns.heatmap(matrix.T, square=True, annot=True, fmt='d', cbar=False,\n",
        "            xticklabels=unique_labels, yticklabels=unique_labels)\n",
        "plt.xlabel('true label')\n",
        "plt.ylabel('predicted label')\n",
        "plt.show()"
      ]
    },
    {
      "cell_type": "code",
      "execution_count": null,
      "metadata": {
        "id": "nxVvq4JJEvDd"
      },
      "outputs": [],
      "source": [
        "#import the specific metrics to meausure\n",
        "from sklearn.metrics import f1_score, accuracy_score"
      ]
    },
    {
      "cell_type": "code",
      "execution_count": null,
      "metadata": {
        "colab": {
          "base_uri": "https://localhost:8080/"
        },
        "id": "6WSbC4mxEvDe",
        "outputId": "09150aca-e385-462d-c71a-e9026b0a6e19"
      },
      "outputs": [
        {
          "output_type": "execute_result",
          "data": {
            "text/plain": [
              "0.7505470562926743"
            ]
          },
          "metadata": {},
          "execution_count": 163
        }
      ],
      "source": [
        "f1_macroNB=f1_score(y_test, y_pred, average='macro')\n",
        "f1_macroNB"
      ]
    },
    {
      "cell_type": "code",
      "execution_count": null,
      "metadata": {
        "colab": {
          "base_uri": "https://localhost:8080/"
        },
        "id": "SWJaYUq2z9Ng",
        "outputId": "c5127640-0edb-4506-e2ad-ee4fa14fb3b8"
      },
      "outputs": [
        {
          "output_type": "execute_result",
          "data": {
            "text/plain": [
              "array([0.80379585, 0.66801021, 0.77983511])"
            ]
          },
          "metadata": {},
          "execution_count": 164
        }
      ],
      "source": [
        "f1NB=f1_score(y_test, y_pred, average=None)\n",
        "f1NB"
      ]
    },
    {
      "cell_type": "code",
      "execution_count": null,
      "metadata": {
        "colab": {
          "base_uri": "https://localhost:8080/"
        },
        "id": "m1SBgxHA0ZcT",
        "outputId": "f614eac5-9b28-41cf-d72b-4212a12321eb"
      },
      "outputs": [
        {
          "output_type": "execute_result",
          "data": {
            "text/plain": [
              "0.7513250883392226"
            ]
          },
          "metadata": {},
          "execution_count": 165
        }
      ],
      "source": [
        "accuracyNB=accuracy_score(y_test, y_pred)\n",
        "accuracyNB"
      ]
    },
    {
      "cell_type": "markdown",
      "metadata": {
        "id": "Vz22_HgnrKJx"
      },
      "source": [
        "From the above confusion matrix, we can see that the baseline classifier has done an acceptable job, classifying well most of the 'reviews'.\n",
        "There was mostly confusion in a big part of the reviews that were classified as neutral. Additionally, most of the negatives were correctly classified. Furthermore, the accuracy was around 75% which is acceptable, which is decent"
      ]
    },
    {
      "cell_type": "markdown",
      "metadata": {
        "id": "4xcVdKbUEvDl"
      },
      "source": [
        "### 7. Developing a better classifier\n",
        "#### Actually removed embeddings too cause of errors and long processing time.\n",
        "From this part, we will look at the different pre-processing strategies with the different classification methods and evaluate them to get the best model.\n",
        "\n",
        "We will start by applying the second pre-processing strategy:\n",
        "##### 5.2. Simple clean, lemmatisation on the text and then proceed with a bag of words, while excluding \"stop words\".\n",
        "\n",
        "In the first part of the pre-processing, we will lemmatise each of the words to get only the important stem of the word.\n",
        "\n",
        "In the last stage, we will create a bag of words, while removing the stop words.\n",
        "\n",
        "Finally, we will separate the data into the training and test sets, separating them into the xs and ys, the xs are the preprocessed text data and the ys are the sentiment labels."
      ]
    },
    {
      "cell_type": "code",
      "execution_count": null,
      "metadata": {
        "id": "ufo9xvwJEvDp",
        "outputId": "6c47647e-b48b-4f40-fa3f-e218ade81960",
        "colab": {
          "base_uri": "https://localhost:8080/"
        }
      },
      "outputs": [
        {
          "output_type": "stream",
          "name": "stderr",
          "text": [
            "[nltk_data] Downloading package punkt to /root/nltk_data...\n",
            "[nltk_data]   Package punkt is already up-to-date!\n",
            "[nltk_data] Downloading package wordnet to /root/nltk_data...\n",
            "[nltk_data]   Package wordnet is already up-to-date!\n"
          ]
        }
      ],
      "source": [
        "from nltk.stem import WordNetLemmatizer\n",
        "from nltk import wordnet\n",
        "nltk.download('punkt')\n",
        "nltk.download('wordnet')\n",
        "wnl=WordNetLemmatizer()"
      ]
    },
    {
      "cell_type": "code",
      "source": [
        "df_shuffled.head()"
      ],
      "metadata": {
        "colab": {
          "base_uri": "https://localhost:8080/",
          "height": 206
        },
        "id": "OhIMW_R6bPcJ",
        "outputId": "05833c83-2dde-42b4-93f9-7eb03ee664d9"
      },
      "execution_count": null,
      "outputs": [
        {
          "output_type": "execute_result",
          "data": {
            "text/plain": [
              "                                              review sentiment  \\\n",
              "0  got took not great experience staff no best ma...       Neg   \n",
              "1  rugby eiffel links euros cheerful cup metro ba...       Pos   \n",
              "2  optimal compaints pretzels roughness diversity...       Neu   \n",
              "3  expensive stay arrived took did check disappoi...       Neu   \n",
              "4  21st nyc heart bedding standards times quiet f...       Pos   \n",
              "\n",
              "                              simple_cleaned_reviews  \n",
              "0  got took not great experience staff no best ma...  \n",
              "1  rugby eiffel links euros cheerful cup metro ba...  \n",
              "2  optimal compaints pretzels roughness diversity...  \n",
              "3  expensive stay arrived took did check disappoi...  \n",
              "4    st nyc heart bedding standards times quiet f...  "
            ],
            "text/html": [
              "\n",
              "  <div id=\"df-cd558e1b-3e26-4120-a182-4d63c9dcbb33\">\n",
              "    <div class=\"colab-df-container\">\n",
              "      <div>\n",
              "<style scoped>\n",
              "    .dataframe tbody tr th:only-of-type {\n",
              "        vertical-align: middle;\n",
              "    }\n",
              "\n",
              "    .dataframe tbody tr th {\n",
              "        vertical-align: top;\n",
              "    }\n",
              "\n",
              "    .dataframe thead th {\n",
              "        text-align: right;\n",
              "    }\n",
              "</style>\n",
              "<table border=\"1\" class=\"dataframe\">\n",
              "  <thead>\n",
              "    <tr style=\"text-align: right;\">\n",
              "      <th></th>\n",
              "      <th>review</th>\n",
              "      <th>sentiment</th>\n",
              "      <th>simple_cleaned_reviews</th>\n",
              "    </tr>\n",
              "  </thead>\n",
              "  <tbody>\n",
              "    <tr>\n",
              "      <th>0</th>\n",
              "      <td>got took not great experience staff no best ma...</td>\n",
              "      <td>Neg</td>\n",
              "      <td>got took not great experience staff no best ma...</td>\n",
              "    </tr>\n",
              "    <tr>\n",
              "      <th>1</th>\n",
              "      <td>rugby eiffel links euros cheerful cup metro ba...</td>\n",
              "      <td>Pos</td>\n",
              "      <td>rugby eiffel links euros cheerful cup metro ba...</td>\n",
              "    </tr>\n",
              "    <tr>\n",
              "      <th>2</th>\n",
              "      <td>optimal compaints pretzels roughness diversity...</td>\n",
              "      <td>Neu</td>\n",
              "      <td>optimal compaints pretzels roughness diversity...</td>\n",
              "    </tr>\n",
              "    <tr>\n",
              "      <th>3</th>\n",
              "      <td>expensive stay arrived took did check disappoi...</td>\n",
              "      <td>Neu</td>\n",
              "      <td>expensive stay arrived took did check disappoi...</td>\n",
              "    </tr>\n",
              "    <tr>\n",
              "      <th>4</th>\n",
              "      <td>21st nyc heart bedding standards times quiet f...</td>\n",
              "      <td>Pos</td>\n",
              "      <td>st nyc heart bedding standards times quiet f...</td>\n",
              "    </tr>\n",
              "  </tbody>\n",
              "</table>\n",
              "</div>\n",
              "      <button class=\"colab-df-convert\" onclick=\"convertToInteractive('df-cd558e1b-3e26-4120-a182-4d63c9dcbb33')\"\n",
              "              title=\"Convert this dataframe to an interactive table.\"\n",
              "              style=\"display:none;\">\n",
              "        \n",
              "  <svg xmlns=\"http://www.w3.org/2000/svg\" height=\"24px\"viewBox=\"0 0 24 24\"\n",
              "       width=\"24px\">\n",
              "    <path d=\"M0 0h24v24H0V0z\" fill=\"none\"/>\n",
              "    <path d=\"M18.56 5.44l.94 2.06.94-2.06 2.06-.94-2.06-.94-.94-2.06-.94 2.06-2.06.94zm-11 1L8.5 8.5l.94-2.06 2.06-.94-2.06-.94L8.5 2.5l-.94 2.06-2.06.94zm10 10l.94 2.06.94-2.06 2.06-.94-2.06-.94-.94-2.06-.94 2.06-2.06.94z\"/><path d=\"M17.41 7.96l-1.37-1.37c-.4-.4-.92-.59-1.43-.59-.52 0-1.04.2-1.43.59L10.3 9.45l-7.72 7.72c-.78.78-.78 2.05 0 2.83L4 21.41c.39.39.9.59 1.41.59.51 0 1.02-.2 1.41-.59l7.78-7.78 2.81-2.81c.8-.78.8-2.07 0-2.86zM5.41 20L4 18.59l7.72-7.72 1.47 1.35L5.41 20z\"/>\n",
              "  </svg>\n",
              "      </button>\n",
              "      \n",
              "  <style>\n",
              "    .colab-df-container {\n",
              "      display:flex;\n",
              "      flex-wrap:wrap;\n",
              "      gap: 12px;\n",
              "    }\n",
              "\n",
              "    .colab-df-convert {\n",
              "      background-color: #E8F0FE;\n",
              "      border: none;\n",
              "      border-radius: 50%;\n",
              "      cursor: pointer;\n",
              "      display: none;\n",
              "      fill: #1967D2;\n",
              "      height: 32px;\n",
              "      padding: 0 0 0 0;\n",
              "      width: 32px;\n",
              "    }\n",
              "\n",
              "    .colab-df-convert:hover {\n",
              "      background-color: #E2EBFA;\n",
              "      box-shadow: 0px 1px 2px rgba(60, 64, 67, 0.3), 0px 1px 3px 1px rgba(60, 64, 67, 0.15);\n",
              "      fill: #174EA6;\n",
              "    }\n",
              "\n",
              "    [theme=dark] .colab-df-convert {\n",
              "      background-color: #3B4455;\n",
              "      fill: #D2E3FC;\n",
              "    }\n",
              "\n",
              "    [theme=dark] .colab-df-convert:hover {\n",
              "      background-color: #434B5C;\n",
              "      box-shadow: 0px 1px 3px 1px rgba(0, 0, 0, 0.15);\n",
              "      filter: drop-shadow(0px 1px 2px rgba(0, 0, 0, 0.3));\n",
              "      fill: #FFFFFF;\n",
              "    }\n",
              "  </style>\n",
              "\n",
              "      <script>\n",
              "        const buttonEl =\n",
              "          document.querySelector('#df-cd558e1b-3e26-4120-a182-4d63c9dcbb33 button.colab-df-convert');\n",
              "        buttonEl.style.display =\n",
              "          google.colab.kernel.accessAllowed ? 'block' : 'none';\n",
              "\n",
              "        async function convertToInteractive(key) {\n",
              "          const element = document.querySelector('#df-cd558e1b-3e26-4120-a182-4d63c9dcbb33');\n",
              "          const dataTable =\n",
              "            await google.colab.kernel.invokeFunction('convertToInteractive',\n",
              "                                                     [key], {});\n",
              "          if (!dataTable) return;\n",
              "\n",
              "          const docLinkHtml = 'Like what you see? Visit the ' +\n",
              "            '<a target=\"_blank\" href=https://colab.research.google.com/notebooks/data_table.ipynb>data table notebook</a>'\n",
              "            + ' to learn more about interactive tables.';\n",
              "          element.innerHTML = '';\n",
              "          dataTable['output_type'] = 'display_data';\n",
              "          await google.colab.output.renderOutput(dataTable, element);\n",
              "          const docLink = document.createElement('div');\n",
              "          docLink.innerHTML = docLinkHtml;\n",
              "          element.appendChild(docLink);\n",
              "        }\n",
              "      </script>\n",
              "    </div>\n",
              "  </div>\n",
              "  "
            ]
          },
          "metadata": {},
          "execution_count": 302
        }
      ]
    },
    {
      "cell_type": "code",
      "execution_count": null,
      "metadata": {
        "id": "WxO3ys25EvDq"
      },
      "outputs": [],
      "source": [
        "def lemmatise_review(review):\n",
        "    word_list = nltk.word_tokenize(review)\n",
        "    lemmatized_review = ' '.join([wnl.lemmatize(w, pos='v') for w in word_list])\n",
        "    return lemmatized_review"
      ]
    },
    {
      "cell_type": "code",
      "execution_count": null,
      "metadata": {
        "id": "QY8e1tFbEvDs"
      },
      "outputs": [],
      "source": [
        "lemmatized_reviewes=[lemmatise_review(df_shuffled['simple_cleaned_reviews'][i]) for i in range(len(df_shuffled))]\n",
        "df_shuffled['lemmatized_reviews']=lemmatized_reviewes"
      ]
    },
    {
      "cell_type": "code",
      "execution_count": null,
      "metadata": {
        "id": "gnAgTJSGrKJy",
        "outputId": "55496d19-a69e-4346-8a65-ee3ac74cab12",
        "colab": {
          "base_uri": "https://localhost:8080/"
        }
      },
      "outputs": [
        {
          "output_type": "stream",
          "name": "stdout",
          "text": [
            "Simple cleaned reviews:\n",
            "hotel got stay not nothing decided reservation no best block half wanted make large concierge use service change came  pm time main answer tasting restaurant ate food definitely plenty job market hour guests restaurants average reserved week difficult checking pick minutes credit spa treated    chairs  nd towels lounge twice hot assist plus tons club spectacular entire garbage assigned eventually    point class promised basic despite towel biggest waste drinking menu attend listening system substandard par interested product presentation honor serving magnificent grille royal surf skin denied sol harass   pm passion severe turf seaweed shaded melia citizens salesman diagnosed abdominal rashes dermatitus nice good reviews did clean night people just touch great suite bathroom free day the staff know really trips party tub amenities water going lobby feel rock went awesome speak right leave activities place beautiful stomach bad ride experienced days  th airport unfortunately dinner vacation program bit jacuzzi worth pool drive perfect amazing seemingly issues attended reading roll rough somewhat mornings temperature including final questions energy poured nightly ocean months themed frequent prevented shows entertaining bottled similiar resort disco beach swim fireworks grounds enjoying opt upbeat cabanas limits luau  am styled brushed harsh flags vomiting cramping drumming therooms itstarted someform periodic usfrom emailme\n",
            "-----\n",
            "lemmatised review:\n",
            "hotel get stay not nothing decide reservation no best block half want make large concierge use service change come pm time main answer taste restaurant eat food definitely plenty job market hour guests restaurants average reserve week difficult check pick minutes credit spa treat chair nd towel lounge twice hot assist plus tons club spectacular entire garbage assign eventually point class promise basic despite towel biggest waste drink menu attend listen system substandard par interest product presentation honor serve magnificent grille royal surf skin deny sol harass pm passion severe turf seaweed shade melia citizens salesman diagnose abdominal rashes dermatitus nice good review do clean night people just touch great suite bathroom free day the staff know really trip party tub amenities water go lobby feel rock go awesome speak right leave activities place beautiful stomach bad ride experience days th airport unfortunately dinner vacation program bite jacuzzi worth pool drive perfect amaze seemingly issue attend read roll rough somewhat mornings temperature include final question energy pour nightly ocean months theme frequent prevent show entertain bottle similiar resort disco beach swim fireworks ground enjoy opt upbeat cabanas limit luau be style brush harsh flag vomit cramp drum therooms itstarted someform periodic usfrom emailme\n"
          ]
        }
      ],
      "source": [
        "print('Simple cleaned reviews:')\n",
        "print(df_shuffled['simple_cleaned_reviews'][15])\n",
        "print('-----')\n",
        "print('lemmatised review:')\n",
        "print(df_shuffled['lemmatized_reviews'][15])"
      ]
    },
    {
      "cell_type": "code",
      "execution_count": null,
      "metadata": {
        "id": "XHil5z9GEvDu",
        "outputId": "dd2fd2e4-8319-447c-f380-62d72ae99caa",
        "colab": {
          "base_uri": "https://localhost:8080/",
          "height": 206
        }
      },
      "outputs": [
        {
          "output_type": "execute_result",
          "data": {
            "text/plain": [
              "                                              review sentiment  \\\n",
              "0  got took not great experience staff no best ma...       Neg   \n",
              "1  rugby eiffel links euros cheerful cup metro ba...       Pos   \n",
              "2  optimal compaints pretzels roughness diversity...       Neu   \n",
              "3  expensive stay arrived took did check disappoi...       Neu   \n",
              "4  21st nyc heart bedding standards times quiet f...       Pos   \n",
              "\n",
              "                              simple_cleaned_reviews  \\\n",
              "0  got took not great experience staff no best ma...   \n",
              "1  rugby eiffel links euros cheerful cup metro ba...   \n",
              "2  optimal compaints pretzels roughness diversity...   \n",
              "3  expensive stay arrived took did check disappoi...   \n",
              "4    st nyc heart bedding standards times quiet f...   \n",
              "\n",
              "                                  lemmatized_reviews  \n",
              "0  get take not great experience staff no best ma...  \n",
              "1  rugby eiffel link euros cheerful cup metro bas...  \n",
              "2  optimal compaints pretzels roughness diversity...  \n",
              "3  expensive stay arrive take do check disappoint...  \n",
              "4  st nyc heart bed standards time quiet floor sq...  "
            ],
            "text/html": [
              "\n",
              "  <div id=\"df-e8444b5a-5c9f-4fd6-bc10-d2d351982ada\">\n",
              "    <div class=\"colab-df-container\">\n",
              "      <div>\n",
              "<style scoped>\n",
              "    .dataframe tbody tr th:only-of-type {\n",
              "        vertical-align: middle;\n",
              "    }\n",
              "\n",
              "    .dataframe tbody tr th {\n",
              "        vertical-align: top;\n",
              "    }\n",
              "\n",
              "    .dataframe thead th {\n",
              "        text-align: right;\n",
              "    }\n",
              "</style>\n",
              "<table border=\"1\" class=\"dataframe\">\n",
              "  <thead>\n",
              "    <tr style=\"text-align: right;\">\n",
              "      <th></th>\n",
              "      <th>review</th>\n",
              "      <th>sentiment</th>\n",
              "      <th>simple_cleaned_reviews</th>\n",
              "      <th>lemmatized_reviews</th>\n",
              "    </tr>\n",
              "  </thead>\n",
              "  <tbody>\n",
              "    <tr>\n",
              "      <th>0</th>\n",
              "      <td>got took not great experience staff no best ma...</td>\n",
              "      <td>Neg</td>\n",
              "      <td>got took not great experience staff no best ma...</td>\n",
              "      <td>get take not great experience staff no best ma...</td>\n",
              "    </tr>\n",
              "    <tr>\n",
              "      <th>1</th>\n",
              "      <td>rugby eiffel links euros cheerful cup metro ba...</td>\n",
              "      <td>Pos</td>\n",
              "      <td>rugby eiffel links euros cheerful cup metro ba...</td>\n",
              "      <td>rugby eiffel link euros cheerful cup metro bas...</td>\n",
              "    </tr>\n",
              "    <tr>\n",
              "      <th>2</th>\n",
              "      <td>optimal compaints pretzels roughness diversity...</td>\n",
              "      <td>Neu</td>\n",
              "      <td>optimal compaints pretzels roughness diversity...</td>\n",
              "      <td>optimal compaints pretzels roughness diversity...</td>\n",
              "    </tr>\n",
              "    <tr>\n",
              "      <th>3</th>\n",
              "      <td>expensive stay arrived took did check disappoi...</td>\n",
              "      <td>Neu</td>\n",
              "      <td>expensive stay arrived took did check disappoi...</td>\n",
              "      <td>expensive stay arrive take do check disappoint...</td>\n",
              "    </tr>\n",
              "    <tr>\n",
              "      <th>4</th>\n",
              "      <td>21st nyc heart bedding standards times quiet f...</td>\n",
              "      <td>Pos</td>\n",
              "      <td>st nyc heart bedding standards times quiet f...</td>\n",
              "      <td>st nyc heart bed standards time quiet floor sq...</td>\n",
              "    </tr>\n",
              "  </tbody>\n",
              "</table>\n",
              "</div>\n",
              "      <button class=\"colab-df-convert\" onclick=\"convertToInteractive('df-e8444b5a-5c9f-4fd6-bc10-d2d351982ada')\"\n",
              "              title=\"Convert this dataframe to an interactive table.\"\n",
              "              style=\"display:none;\">\n",
              "        \n",
              "  <svg xmlns=\"http://www.w3.org/2000/svg\" height=\"24px\"viewBox=\"0 0 24 24\"\n",
              "       width=\"24px\">\n",
              "    <path d=\"M0 0h24v24H0V0z\" fill=\"none\"/>\n",
              "    <path d=\"M18.56 5.44l.94 2.06.94-2.06 2.06-.94-2.06-.94-.94-2.06-.94 2.06-2.06.94zm-11 1L8.5 8.5l.94-2.06 2.06-.94-2.06-.94L8.5 2.5l-.94 2.06-2.06.94zm10 10l.94 2.06.94-2.06 2.06-.94-2.06-.94-.94-2.06-.94 2.06-2.06.94z\"/><path d=\"M17.41 7.96l-1.37-1.37c-.4-.4-.92-.59-1.43-.59-.52 0-1.04.2-1.43.59L10.3 9.45l-7.72 7.72c-.78.78-.78 2.05 0 2.83L4 21.41c.39.39.9.59 1.41.59.51 0 1.02-.2 1.41-.59l7.78-7.78 2.81-2.81c.8-.78.8-2.07 0-2.86zM5.41 20L4 18.59l7.72-7.72 1.47 1.35L5.41 20z\"/>\n",
              "  </svg>\n",
              "      </button>\n",
              "      \n",
              "  <style>\n",
              "    .colab-df-container {\n",
              "      display:flex;\n",
              "      flex-wrap:wrap;\n",
              "      gap: 12px;\n",
              "    }\n",
              "\n",
              "    .colab-df-convert {\n",
              "      background-color: #E8F0FE;\n",
              "      border: none;\n",
              "      border-radius: 50%;\n",
              "      cursor: pointer;\n",
              "      display: none;\n",
              "      fill: #1967D2;\n",
              "      height: 32px;\n",
              "      padding: 0 0 0 0;\n",
              "      width: 32px;\n",
              "    }\n",
              "\n",
              "    .colab-df-convert:hover {\n",
              "      background-color: #E2EBFA;\n",
              "      box-shadow: 0px 1px 2px rgba(60, 64, 67, 0.3), 0px 1px 3px 1px rgba(60, 64, 67, 0.15);\n",
              "      fill: #174EA6;\n",
              "    }\n",
              "\n",
              "    [theme=dark] .colab-df-convert {\n",
              "      background-color: #3B4455;\n",
              "      fill: #D2E3FC;\n",
              "    }\n",
              "\n",
              "    [theme=dark] .colab-df-convert:hover {\n",
              "      background-color: #434B5C;\n",
              "      box-shadow: 0px 1px 3px 1px rgba(0, 0, 0, 0.15);\n",
              "      filter: drop-shadow(0px 1px 2px rgba(0, 0, 0, 0.3));\n",
              "      fill: #FFFFFF;\n",
              "    }\n",
              "  </style>\n",
              "\n",
              "      <script>\n",
              "        const buttonEl =\n",
              "          document.querySelector('#df-e8444b5a-5c9f-4fd6-bc10-d2d351982ada button.colab-df-convert');\n",
              "        buttonEl.style.display =\n",
              "          google.colab.kernel.accessAllowed ? 'block' : 'none';\n",
              "\n",
              "        async function convertToInteractive(key) {\n",
              "          const element = document.querySelector('#df-e8444b5a-5c9f-4fd6-bc10-d2d351982ada');\n",
              "          const dataTable =\n",
              "            await google.colab.kernel.invokeFunction('convertToInteractive',\n",
              "                                                     [key], {});\n",
              "          if (!dataTable) return;\n",
              "\n",
              "          const docLinkHtml = 'Like what you see? Visit the ' +\n",
              "            '<a target=\"_blank\" href=https://colab.research.google.com/notebooks/data_table.ipynb>data table notebook</a>'\n",
              "            + ' to learn more about interactive tables.';\n",
              "          element.innerHTML = '';\n",
              "          dataTable['output_type'] = 'display_data';\n",
              "          await google.colab.output.renderOutput(dataTable, element);\n",
              "          const docLink = document.createElement('div');\n",
              "          docLink.innerHTML = docLinkHtml;\n",
              "          element.appendChild(docLink);\n",
              "        }\n",
              "      </script>\n",
              "    </div>\n",
              "  </div>\n",
              "  "
            ]
          },
          "metadata": {},
          "execution_count": 306
        }
      ],
      "source": [
        "df_shuffled.head()"
      ]
    },
    {
      "cell_type": "code",
      "execution_count": null,
      "metadata": {
        "id": "Yc_SZxKVEvDu"
      },
      "outputs": [],
      "source": [
        "vectorised_cured_data=TfidfVectorizer(max_features=1500, stop_words='english').fit_transform(df_shuffled['lemmatized_reviews']).toarray()"
      ]
    },
    {
      "cell_type": "code",
      "execution_count": null,
      "metadata": {
        "id": "ZMsrCLj6EvDv"
      },
      "outputs": [],
      "source": [
        "x_train=vectorised_cured_data[:int(len(df)*0.75)]\n",
        "y_train=labels[:int(len(df)*0.75)]\n",
        "x_test=vectorised_cured_data[int(len(df)*0.75):]\n",
        "y_test=labels[int(len(df)*0.75):]"
      ]
    },
    {
      "cell_type": "markdown",
      "metadata": {
        "id": "P8QvK3MOrKJz"
      },
      "source": [
        "#### Building the models\n",
        "We choose different machine learning models that we could use to evaluate.\n",
        "##### 1. Gaussian Naive Bayes\n",
        "This is the same model as was used in the baseline, it is generally used for NLP tasks as it can deal with a large number of features and does have many hyperparameters to modify.\n",
        "##### 2. Multinomial Naive Bayes\n",
        "This model works as well with Naive Bayes probability but this time, it assumes a multinomial distribution, which is more suitable for this type of dataset.\n",
        "##### 3. Decision Tree\n",
        "This model works by generating simple rules with True/False decisions on the given data. It can give sometimes good results however, it may suffer from overfitting.\n",
        "##### 4. Support Vector Machine\n",
        "This model generates a classifier by creating hyperplanes on the operational space while maximising the gap between the different classes. It is known to be one of the most powerful machine learning methods.\n",
        "##### 5. Weighted Support Vector Machine\n",
        "As the previous dataset used was unbalanced, we give this additional information as a hyperparameter in the model to maximise its performance.\n",
        "##### 6. Logistic Regression\n",
        "Logistic Regression is a statistical method that is used for binary classification tasks. It models the relationship between a dependent binary variable and one or more independent variables. For sentiment analysis, the dependent variable is the sentiment (positive or negative) of the text data, and the independent variables are the features extracted from the text data.\n",
        "\n",
        "##### 7. Random Forest\n",
        "Random Forest is an ensemble learning method that combines multiple decision trees to produce a more accurate and robust model. Each decision tree is trained on a random subset of the training data and features, and the output of each tree is combined to predict the sentiment of the input text data.\n",
        "\n",
        "##### 8. KNN\n",
        "K-Nearest Neighbors is a non-parametric algorithm that is used for both classification and regression tasks. It works by finding the k-nearest neighbors of a given text data point in the feature space and assigning the same label (sentiment) to the text data point as the majority of its neighbors. The value of k is a hyperparameter that determines the number of neighbors used to classify the text data point.\n",
        "\n",
        "We will train and test each of the models, visualising the confusion matrix and saving the evaluation metric parameters, we will evaluate and compare all the models together at the latest stage, comparing them to the baseline model and will choose the best model.\n",
        "\n",
        "\n",
        "\n",
        "We start with the first model:\n",
        "#### 1. Gaussian Naive Bayes"
      ]
    },
    {
      "cell_type": "code",
      "execution_count": null,
      "metadata": {
        "id": "NrcHcND1hjws",
        "outputId": "4f0572a2-25ff-46ca-b249-cedeb6ff8a58",
        "colab": {
          "base_uri": "https://localhost:8080/",
          "height": 74
        }
      },
      "outputs": [
        {
          "output_type": "execute_result",
          "data": {
            "text/plain": [
              "GaussianNB()"
            ],
            "text/html": [
              "<style>#sk-container-id-9 {color: black;background-color: white;}#sk-container-id-9 pre{padding: 0;}#sk-container-id-9 div.sk-toggleable {background-color: white;}#sk-container-id-9 label.sk-toggleable__label {cursor: pointer;display: block;width: 100%;margin-bottom: 0;padding: 0.3em;box-sizing: border-box;text-align: center;}#sk-container-id-9 label.sk-toggleable__label-arrow:before {content: \"▸\";float: left;margin-right: 0.25em;color: #696969;}#sk-container-id-9 label.sk-toggleable__label-arrow:hover:before {color: black;}#sk-container-id-9 div.sk-estimator:hover label.sk-toggleable__label-arrow:before {color: black;}#sk-container-id-9 div.sk-toggleable__content {max-height: 0;max-width: 0;overflow: hidden;text-align: left;background-color: #f0f8ff;}#sk-container-id-9 div.sk-toggleable__content pre {margin: 0.2em;color: black;border-radius: 0.25em;background-color: #f0f8ff;}#sk-container-id-9 input.sk-toggleable__control:checked~div.sk-toggleable__content {max-height: 200px;max-width: 100%;overflow: auto;}#sk-container-id-9 input.sk-toggleable__control:checked~label.sk-toggleable__label-arrow:before {content: \"▾\";}#sk-container-id-9 div.sk-estimator input.sk-toggleable__control:checked~label.sk-toggleable__label {background-color: #d4ebff;}#sk-container-id-9 div.sk-label input.sk-toggleable__control:checked~label.sk-toggleable__label {background-color: #d4ebff;}#sk-container-id-9 input.sk-hidden--visually {border: 0;clip: rect(1px 1px 1px 1px);clip: rect(1px, 1px, 1px, 1px);height: 1px;margin: -1px;overflow: hidden;padding: 0;position: absolute;width: 1px;}#sk-container-id-9 div.sk-estimator {font-family: monospace;background-color: #f0f8ff;border: 1px dotted black;border-radius: 0.25em;box-sizing: border-box;margin-bottom: 0.5em;}#sk-container-id-9 div.sk-estimator:hover {background-color: #d4ebff;}#sk-container-id-9 div.sk-parallel-item::after {content: \"\";width: 100%;border-bottom: 1px solid gray;flex-grow: 1;}#sk-container-id-9 div.sk-label:hover label.sk-toggleable__label {background-color: #d4ebff;}#sk-container-id-9 div.sk-serial::before {content: \"\";position: absolute;border-left: 1px solid gray;box-sizing: border-box;top: 0;bottom: 0;left: 50%;z-index: 0;}#sk-container-id-9 div.sk-serial {display: flex;flex-direction: column;align-items: center;background-color: white;padding-right: 0.2em;padding-left: 0.2em;position: relative;}#sk-container-id-9 div.sk-item {position: relative;z-index: 1;}#sk-container-id-9 div.sk-parallel {display: flex;align-items: stretch;justify-content: center;background-color: white;position: relative;}#sk-container-id-9 div.sk-item::before, #sk-container-id-9 div.sk-parallel-item::before {content: \"\";position: absolute;border-left: 1px solid gray;box-sizing: border-box;top: 0;bottom: 0;left: 50%;z-index: -1;}#sk-container-id-9 div.sk-parallel-item {display: flex;flex-direction: column;z-index: 1;position: relative;background-color: white;}#sk-container-id-9 div.sk-parallel-item:first-child::after {align-self: flex-end;width: 50%;}#sk-container-id-9 div.sk-parallel-item:last-child::after {align-self: flex-start;width: 50%;}#sk-container-id-9 div.sk-parallel-item:only-child::after {width: 0;}#sk-container-id-9 div.sk-dashed-wrapped {border: 1px dashed gray;margin: 0 0.4em 0.5em 0.4em;box-sizing: border-box;padding-bottom: 0.4em;background-color: white;}#sk-container-id-9 div.sk-label label {font-family: monospace;font-weight: bold;display: inline-block;line-height: 1.2em;}#sk-container-id-9 div.sk-label-container {text-align: center;}#sk-container-id-9 div.sk-container {/* jupyter's `normalize.less` sets `[hidden] { display: none; }` but bootstrap.min.css set `[hidden] { display: none !important; }` so we also need the `!important` here to be able to override the default hidden behavior on the sphinx rendered scikit-learn.org. See: https://github.com/scikit-learn/scikit-learn/issues/21755 */display: inline-block !important;position: relative;}#sk-container-id-9 div.sk-text-repr-fallback {display: none;}</style><div id=\"sk-container-id-9\" class=\"sk-top-container\"><div class=\"sk-text-repr-fallback\"><pre>GaussianNB()</pre><b>In a Jupyter environment, please rerun this cell to show the HTML representation or trust the notebook. <br />On GitHub, the HTML representation is unable to render, please try loading this page with nbviewer.org.</b></div><div class=\"sk-container\" hidden><div class=\"sk-item\"><div class=\"sk-estimator sk-toggleable\"><input class=\"sk-toggleable__control sk-hidden--visually\" id=\"sk-estimator-id-9\" type=\"checkbox\" checked><label for=\"sk-estimator-id-9\" class=\"sk-toggleable__label sk-toggleable__label-arrow\">GaussianNB</label><div class=\"sk-toggleable__content\"><pre>GaussianNB()</pre></div></div></div></div></div>"
            ]
          },
          "metadata": {},
          "execution_count": 309
        }
      ],
      "source": [
        "#train the model\n",
        "clfGNB=GaussianNB()\n",
        "clfGNB.fit(x_train,y_train)"
      ]
    },
    {
      "cell_type": "code",
      "source": [
        "import joblib\n",
        "# save the trained model to a file\n",
        "filename = 'svm_model.sav'\n",
        "joblib.dump(clfGNB, filename)"
      ],
      "metadata": {
        "colab": {
          "base_uri": "https://localhost:8080/"
        },
        "id": "HKnZyKZ7mpaX",
        "outputId": "5f9e4ee9-a4cc-4afc-f415-39c541f70522"
      },
      "execution_count": null,
      "outputs": [
        {
          "output_type": "execute_result",
          "data": {
            "text/plain": [
              "['svm_model.sav']"
            ]
          },
          "metadata": {},
          "execution_count": 109
        }
      ]
    },
    {
      "cell_type": "code",
      "source": [
        "filename = 'svm_model.sav'\n",
        "loaded_model = joblib.load(filename)"
      ],
      "metadata": {
        "id": "Wm1-57jFot_z"
      },
      "execution_count": null,
      "outputs": []
    },
    {
      "cell_type": "code",
      "execution_count": null,
      "metadata": {
        "id": "YuuS61aJh35h",
        "outputId": "cac70355-c6f0-453a-bb25-6ed2f51c1ea7",
        "colab": {
          "base_uri": "https://localhost:8080/",
          "height": 480
        }
      },
      "outputs": [
        {
          "output_type": "display_data",
          "data": {
            "text/plain": [
              "<Figure size 640x480 with 1 Axes>"
            ],
            "image/png": "[encoded data removed]"
          },
          "metadata": {}
        }
      ],
      "source": [
        "#get the predictions and generate the matrix\n",
        "y_pred=clfGNB.predict(x_test)\n",
        "#y_pred=loaded_model.predict(x_test)\n",
        "matrix1=confusion_matrix(y_test,y_pred, labels=unique_labels)\n",
        "sns.heatmap(matrix1.T, square=True, annot=True, fmt='d', cbar=False,\n",
        "            xticklabels=unique_labels, yticklabels=unique_labels)\n",
        "plt.xlabel('true label')\n",
        "plt.ylabel('predicted label')\n",
        "plt.title('Gausian Naive Bayes model')\n",
        "plt.show()"
      ]
    },
    {
      "cell_type": "code",
      "execution_count": null,
      "metadata": {
        "id": "o7W0byYMjIPp",
        "outputId": "e1ce579c-d67c-4189-d902-ef8c9902b7d9",
        "colab": {
          "base_uri": "https://localhost:8080/"
        }
      },
      "outputs": [
        {
          "output_type": "execute_result",
          "data": {
            "text/plain": [
              "0.7554455102274259"
            ]
          },
          "metadata": {},
          "execution_count": 311
        }
      ],
      "source": [
        "#calculate the evaluation metrics\n",
        "f1_macroGNB=f1_score(y_test, y_pred, average='macro')\n",
        "f1_macroGNB"
      ]
    },
    {
      "cell_type": "code",
      "execution_count": null,
      "metadata": {
        "id": "VNZPmIw-jkXm",
        "outputId": "95747c21-0d08-47f4-b0e0-e51865412e7f",
        "colab": {
          "base_uri": "https://localhost:8080/"
        }
      },
      "outputs": [
        {
          "output_type": "execute_result",
          "data": {
            "text/plain": [
              "0.7566254416961131"
            ]
          },
          "metadata": {},
          "execution_count": 312
        }
      ],
      "source": [
        "accuracyGNB=accuracy_score(y_test, y_pred)\n",
        "accuracyGNB"
      ]
    },
    {
      "cell_type": "code",
      "execution_count": null,
      "metadata": {
        "id": "DW5gkfhSj3KN",
        "outputId": "5f3e2c4b-b1fb-4c6b-f123-0fd79f8df25d",
        "colab": {
          "base_uri": "https://localhost:8080/"
        }
      },
      "outputs": [
        {
          "output_type": "execute_result",
          "data": {
            "text/plain": [
              "array([0.80765862, 0.67783331, 0.7808446 ])"
            ]
          },
          "metadata": {},
          "execution_count": 313
        }
      ],
      "source": [
        "f1_GNB=f1_score(y_test, y_pred, average=None)\n",
        "f1_GNB"
      ]
    },
    {
      "cell_type": "markdown",
      "metadata": {
        "id": "eoHDA2aPrKJ0"
      },
      "source": [
        "#### 2. Multinomial Naive Bayes"
      ]
    },
    {
      "cell_type": "code",
      "execution_count": null,
      "metadata": {
        "id": "DZGZN7htEvDw",
        "outputId": "eb5f439f-a104-4c24-c6e7-13f019465375",
        "colab": {
          "base_uri": "https://localhost:8080/",
          "height": 74
        }
      },
      "outputs": [
        {
          "output_type": "execute_result",
          "data": {
            "text/plain": [
              "MultinomialNB()"
            ],
            "text/html": [
              "<style>#sk-container-id-4 {color: black;background-color: white;}#sk-container-id-4 pre{padding: 0;}#sk-container-id-4 div.sk-toggleable {background-color: white;}#sk-container-id-4 label.sk-toggleable__label {cursor: pointer;display: block;width: 100%;margin-bottom: 0;padding: 0.3em;box-sizing: border-box;text-align: center;}#sk-container-id-4 label.sk-toggleable__label-arrow:before {content: \"▸\";float: left;margin-right: 0.25em;color: #696969;}#sk-container-id-4 label.sk-toggleable__label-arrow:hover:before {color: black;}#sk-container-id-4 div.sk-estimator:hover label.sk-toggleable__label-arrow:before {color: black;}#sk-container-id-4 div.sk-toggleable__content {max-height: 0;max-width: 0;overflow: hidden;text-align: left;background-color: #f0f8ff;}#sk-container-id-4 div.sk-toggleable__content pre {margin: 0.2em;color: black;border-radius: 0.25em;background-color: #f0f8ff;}#sk-container-id-4 input.sk-toggleable__control:checked~div.sk-toggleable__content {max-height: 200px;max-width: 100%;overflow: auto;}#sk-container-id-4 input.sk-toggleable__control:checked~label.sk-toggleable__label-arrow:before {content: \"▾\";}#sk-container-id-4 div.sk-estimator input.sk-toggleable__control:checked~label.sk-toggleable__label {background-color: #d4ebff;}#sk-container-id-4 div.sk-label input.sk-toggleable__control:checked~label.sk-toggleable__label {background-color: #d4ebff;}#sk-container-id-4 input.sk-hidden--visually {border: 0;clip: rect(1px 1px 1px 1px);clip: rect(1px, 1px, 1px, 1px);height: 1px;margin: -1px;overflow: hidden;padding: 0;position: absolute;width: 1px;}#sk-container-id-4 div.sk-estimator {font-family: monospace;background-color: #f0f8ff;border: 1px dotted black;border-radius: 0.25em;box-sizing: border-box;margin-bottom: 0.5em;}#sk-container-id-4 div.sk-estimator:hover {background-color: #d4ebff;}#sk-container-id-4 div.sk-parallel-item::after {content: \"\";width: 100%;border-bottom: 1px solid gray;flex-grow: 1;}#sk-container-id-4 div.sk-label:hover label.sk-toggleable__label {background-color: #d4ebff;}#sk-container-id-4 div.sk-serial::before {content: \"\";position: absolute;border-left: 1px solid gray;box-sizing: border-box;top: 0;bottom: 0;left: 50%;z-index: 0;}#sk-container-id-4 div.sk-serial {display: flex;flex-direction: column;align-items: center;background-color: white;padding-right: 0.2em;padding-left: 0.2em;position: relative;}#sk-container-id-4 div.sk-item {position: relative;z-index: 1;}#sk-container-id-4 div.sk-parallel {display: flex;align-items: stretch;justify-content: center;background-color: white;position: relative;}#sk-container-id-4 div.sk-item::before, #sk-container-id-4 div.sk-parallel-item::before {content: \"\";position: absolute;border-left: 1px solid gray;box-sizing: border-box;top: 0;bottom: 0;left: 50%;z-index: -1;}#sk-container-id-4 div.sk-parallel-item {display: flex;flex-direction: column;z-index: 1;position: relative;background-color: white;}#sk-container-id-4 div.sk-parallel-item:first-child::after {align-self: flex-end;width: 50%;}#sk-container-id-4 div.sk-parallel-item:last-child::after {align-self: flex-start;width: 50%;}#sk-container-id-4 div.sk-parallel-item:only-child::after {width: 0;}#sk-container-id-4 div.sk-dashed-wrapped {border: 1px dashed gray;margin: 0 0.4em 0.5em 0.4em;box-sizing: border-box;padding-bottom: 0.4em;background-color: white;}#sk-container-id-4 div.sk-label label {font-family: monospace;font-weight: bold;display: inline-block;line-height: 1.2em;}#sk-container-id-4 div.sk-label-container {text-align: center;}#sk-container-id-4 div.sk-container {/* jupyter's `normalize.less` sets `[hidden] { display: none; }` but bootstrap.min.css set `[hidden] { display: none !important; }` so we also need the `!important` here to be able to override the default hidden behavior on the sphinx rendered scikit-learn.org. See: https://github.com/scikit-learn/scikit-learn/issues/21755 */display: inline-block !important;position: relative;}#sk-container-id-4 div.sk-text-repr-fallback {display: none;}</style><div id=\"sk-container-id-4\" class=\"sk-top-container\"><div class=\"sk-text-repr-fallback\"><pre>MultinomialNB()</pre><b>In a Jupyter environment, please rerun this cell to show the HTML representation or trust the notebook. <br />On GitHub, the HTML representation is unable to render, please try loading this page with nbviewer.org.</b></div><div class=\"sk-container\" hidden><div class=\"sk-item\"><div class=\"sk-estimator sk-toggleable\"><input class=\"sk-toggleable__control sk-hidden--visually\" id=\"sk-estimator-id-4\" type=\"checkbox\" checked><label for=\"sk-estimator-id-4\" class=\"sk-toggleable__label sk-toggleable__label-arrow\">MultinomialNB</label><div class=\"sk-toggleable__content\"><pre>MultinomialNB()</pre></div></div></div></div></div>"
            ]
          },
          "metadata": {},
          "execution_count": 187
        }
      ],
      "source": [
        "#train the model\n",
        "from sklearn.naive_bayes import MultinomialNB\n",
        "clf=MultinomialNB()\n",
        "clf.fit(x_train,y_train)"
      ]
    },
    {
      "cell_type": "code",
      "execution_count": null,
      "metadata": {
        "id": "hxTJR31hEvDy"
      },
      "outputs": [],
      "source": [
        "#get the predictions\n",
        "y_pred=clf.predict(x_test)"
      ]
    },
    {
      "cell_type": "code",
      "execution_count": null,
      "metadata": {
        "id": "iPf9s-WCEvDz"
      },
      "outputs": [],
      "source": [
        " #generate the matrix\n",
        "matrix2=confusion_matrix(y_test,y_pred, labels=unique_labels)\n"
      ]
    },
    {
      "cell_type": "code",
      "execution_count": null,
      "metadata": {
        "id": "Ac1UTXzyEvD0",
        "outputId": "73db1fcd-9e01-43c2-e538-8f1c43ccc525",
        "colab": {
          "base_uri": "https://localhost:8080/",
          "height": 480
        }
      },
      "outputs": [
        {
          "output_type": "display_data",
          "data": {
            "text/plain": [
              "<Figure size 640x480 with 1 Axes>"
            ],
            "image/png": "[encoded data removed]"
          },
          "metadata": {}
        }
      ],
      "source": [
        "#visualise the matrix\n",
        "sns.heatmap(matrix2.T, square=True, annot=True, fmt='d', cbar=False,\n",
        "            xticklabels=unique_labels, yticklabels=unique_labels)\n",
        "plt.xlabel('true label')\n",
        "plt.ylabel('predicted label')\n",
        "plt.title('Multinomial NB model')\n",
        "plt.show()"
      ]
    },
    {
      "cell_type": "code",
      "execution_count": null,
      "metadata": {
        "id": "_rYnepg3DBhr",
        "outputId": "da6f4727-efaf-4c9c-8f77-f7db56eac0df",
        "colab": {
          "base_uri": "https://localhost:8080/"
        }
      },
      "outputs": [
        {
          "output_type": "execute_result",
          "data": {
            "text/plain": [
              "0.7672093608151088"
            ]
          },
          "metadata": {},
          "execution_count": 193
        }
      ],
      "source": [
        "#calculate the evaluation metrics\n",
        "f1_macroMNNB=f1_score(y_test, y_pred, average='macro')\n",
        "f1_macroMNNB"
      ]
    },
    {
      "cell_type": "code",
      "execution_count": null,
      "metadata": {
        "id": "mi_Q5oPbDkkU",
        "outputId": "48ec1987-0aae-4e5b-faf5-e095f95a0e02",
        "colab": {
          "base_uri": "https://localhost:8080/"
        }
      },
      "outputs": [
        {
          "output_type": "execute_result",
          "data": {
            "text/plain": [
              "array([0.80792286, 0.68553208, 0.80817314])"
            ]
          },
          "metadata": {},
          "execution_count": 194
        }
      ],
      "source": [
        "f1_MNNB=f1_score(y_test, y_pred, average=None)\n",
        "f1_MNNB"
      ]
    },
    {
      "cell_type": "code",
      "execution_count": null,
      "metadata": {
        "id": "b8woq7fDDzDy",
        "outputId": "ac4fd9a4-fb3b-4eeb-d86c-ce1b97b48203",
        "colab": {
          "base_uri": "https://localhost:8080/"
        }
      },
      "outputs": [
        {
          "output_type": "execute_result",
          "data": {
            "text/plain": [
              "0.7673144876325089"
            ]
          },
          "metadata": {},
          "execution_count": 195
        }
      ],
      "source": [
        "accuracyMNNB=accuracy_score(y_test, y_pred)\n",
        "accuracyMNNB"
      ]
    },
    {
      "cell_type": "markdown",
      "metadata": {
        "id": "yUCTtxTJrKJ1"
      },
      "source": [
        "#### 3. Decision Tree"
      ]
    },
    {
      "cell_type": "code",
      "execution_count": null,
      "metadata": {
        "id": "belzhaU8EvD1"
      },
      "outputs": [],
      "source": [
        "#import and create the classifier\n",
        "from sklearn.tree import DecisionTreeClassifier\n",
        "DTclf=DecisionTreeClassifier()"
      ]
    },
    {
      "cell_type": "code",
      "execution_count": null,
      "metadata": {
        "id": "9jtXABpyEvD1",
        "outputId": "f79aaf55-3250-4dfc-9bc0-68450a0decb0",
        "colab": {
          "base_uri": "https://localhost:8080/",
          "height": 74
        }
      },
      "outputs": [
        {
          "output_type": "execute_result",
          "data": {
            "text/plain": [
              "DecisionTreeClassifier()"
            ],
            "text/html": [
              "<style>#sk-container-id-5 {color: black;background-color: white;}#sk-container-id-5 pre{padding: 0;}#sk-container-id-5 div.sk-toggleable {background-color: white;}#sk-container-id-5 label.sk-toggleable__label {cursor: pointer;display: block;width: 100%;margin-bottom: 0;padding: 0.3em;box-sizing: border-box;text-align: center;}#sk-container-id-5 label.sk-toggleable__label-arrow:before {content: \"▸\";float: left;margin-right: 0.25em;color: #696969;}#sk-container-id-5 label.sk-toggleable__label-arrow:hover:before {color: black;}#sk-container-id-5 div.sk-estimator:hover label.sk-toggleable__label-arrow:before {color: black;}#sk-container-id-5 div.sk-toggleable__content {max-height: 0;max-width: 0;overflow: hidden;text-align: left;background-color: #f0f8ff;}#sk-container-id-5 div.sk-toggleable__content pre {margin: 0.2em;color: black;border-radius: 0.25em;background-color: #f0f8ff;}#sk-container-id-5 input.sk-toggleable__control:checked~div.sk-toggleable__content {max-height: 200px;max-width: 100%;overflow: auto;}#sk-container-id-5 input.sk-toggleable__control:checked~label.sk-toggleable__label-arrow:before {content: \"▾\";}#sk-container-id-5 div.sk-estimator input.sk-toggleable__control:checked~label.sk-toggleable__label {background-color: #d4ebff;}#sk-container-id-5 div.sk-label input.sk-toggleable__control:checked~label.sk-toggleable__label {background-color: #d4ebff;}#sk-container-id-5 input.sk-hidden--visually {border: 0;clip: rect(1px 1px 1px 1px);clip: rect(1px, 1px, 1px, 1px);height: 1px;margin: -1px;overflow: hidden;padding: 0;position: absolute;width: 1px;}#sk-container-id-5 div.sk-estimator {font-family: monospace;background-color: #f0f8ff;border: 1px dotted black;border-radius: 0.25em;box-sizing: border-box;margin-bottom: 0.5em;}#sk-container-id-5 div.sk-estimator:hover {background-color: #d4ebff;}#sk-container-id-5 div.sk-parallel-item::after {content: \"\";width: 100%;border-bottom: 1px solid gray;flex-grow: 1;}#sk-container-id-5 div.sk-label:hover label.sk-toggleable__label {background-color: #d4ebff;}#sk-container-id-5 div.sk-serial::before {content: \"\";position: absolute;border-left: 1px solid gray;box-sizing: border-box;top: 0;bottom: 0;left: 50%;z-index: 0;}#sk-container-id-5 div.sk-serial {display: flex;flex-direction: column;align-items: center;background-color: white;padding-right: 0.2em;padding-left: 0.2em;position: relative;}#sk-container-id-5 div.sk-item {position: relative;z-index: 1;}#sk-container-id-5 div.sk-parallel {display: flex;align-items: stretch;justify-content: center;background-color: white;position: relative;}#sk-container-id-5 div.sk-item::before, #sk-container-id-5 div.sk-parallel-item::before {content: \"\";position: absolute;border-left: 1px solid gray;box-sizing: border-box;top: 0;bottom: 0;left: 50%;z-index: -1;}#sk-container-id-5 div.sk-parallel-item {display: flex;flex-direction: column;z-index: 1;position: relative;background-color: white;}#sk-container-id-5 div.sk-parallel-item:first-child::after {align-self: flex-end;width: 50%;}#sk-container-id-5 div.sk-parallel-item:last-child::after {align-self: flex-start;width: 50%;}#sk-container-id-5 div.sk-parallel-item:only-child::after {width: 0;}#sk-container-id-5 div.sk-dashed-wrapped {border: 1px dashed gray;margin: 0 0.4em 0.5em 0.4em;box-sizing: border-box;padding-bottom: 0.4em;background-color: white;}#sk-container-id-5 div.sk-label label {font-family: monospace;font-weight: bold;display: inline-block;line-height: 1.2em;}#sk-container-id-5 div.sk-label-container {text-align: center;}#sk-container-id-5 div.sk-container {/* jupyter's `normalize.less` sets `[hidden] { display: none; }` but bootstrap.min.css set `[hidden] { display: none !important; }` so we also need the `!important` here to be able to override the default hidden behavior on the sphinx rendered scikit-learn.org. See: https://github.com/scikit-learn/scikit-learn/issues/21755 */display: inline-block !important;position: relative;}#sk-container-id-5 div.sk-text-repr-fallback {display: none;}</style><div id=\"sk-container-id-5\" class=\"sk-top-container\"><div class=\"sk-text-repr-fallback\"><pre>DecisionTreeClassifier()</pre><b>In a Jupyter environment, please rerun this cell to show the HTML representation or trust the notebook. <br />On GitHub, the HTML representation is unable to render, please try loading this page with nbviewer.org.</b></div><div class=\"sk-container\" hidden><div class=\"sk-item\"><div class=\"sk-estimator sk-toggleable\"><input class=\"sk-toggleable__control sk-hidden--visually\" id=\"sk-estimator-id-5\" type=\"checkbox\" checked><label for=\"sk-estimator-id-5\" class=\"sk-toggleable__label sk-toggleable__label-arrow\">DecisionTreeClassifier</label><div class=\"sk-toggleable__content\"><pre>DecisionTreeClassifier()</pre></div></div></div></div></div>"
            ]
          },
          "metadata": {},
          "execution_count": 197
        }
      ],
      "source": [
        "#train the classifier\n",
        "DTclf.fit(x_train,y_train)"
      ]
    },
    {
      "cell_type": "code",
      "execution_count": null,
      "metadata": {
        "id": "7K77Cn03EvD2"
      },
      "outputs": [],
      "source": [
        "#predict the values\n",
        "y_pred=DTclf.predict(x_test)"
      ]
    },
    {
      "cell_type": "code",
      "execution_count": null,
      "metadata": {
        "id": "Kj680zLPEvD3",
        "outputId": "e3d09bf3-05c8-4213-d5a0-e689cd5ad6a2",
        "colab": {
          "base_uri": "https://localhost:8080/",
          "height": 480
        }
      },
      "outputs": [
        {
          "output_type": "display_data",
          "data": {
            "text/plain": [
              "<Figure size 640x480 with 1 Axes>"
            ],
            "image/png": "[encoded data removed]"
          },
          "metadata": {}
        }
      ],
      "source": [
        "matrix3=confusion_matrix(y_test,y_pred, labels=unique_labels)\n",
        "sns.heatmap(matrix3.T, square=True, annot=True, fmt='d', cbar=False,\n",
        "            xticklabels=unique_labels, yticklabels=unique_labels)\n",
        "plt.xlabel('true label')\n",
        "plt.ylabel('predicted label')\n",
        "plt.title('Decision Tree Model') #just simple cleaned reviews in this\n",
        "plt.show()"
      ]
    },
    {
      "cell_type": "code",
      "execution_count": null,
      "metadata": {
        "id": "aCoQX-jEEjmw",
        "outputId": "bab533e8-72a5-4a3f-e818-f5f2dd6982ee",
        "colab": {
          "base_uri": "https://localhost:8080/"
        }
      },
      "outputs": [
        {
          "output_type": "execute_result",
          "data": {
            "text/plain": [
              "0.8094507289844853"
            ]
          },
          "metadata": {},
          "execution_count": 200
        }
      ],
      "source": [
        "#get the evaluation metrics\n",
        "f1_macroDT=f1_score(y_test, y_pred, average='macro')\n",
        "f1_macroDT"
      ]
    },
    {
      "cell_type": "code",
      "execution_count": null,
      "metadata": {
        "id": "bnaAI7o6E2PO",
        "outputId": "098aaea7-946b-4a96-8462-3db143e1cfc0",
        "colab": {
          "base_uri": "https://localhost:8080/"
        }
      },
      "outputs": [
        {
          "output_type": "execute_result",
          "data": {
            "text/plain": [
              "array([0.83818425, 0.81500383, 0.77516411])"
            ]
          },
          "metadata": {},
          "execution_count": 201
        }
      ],
      "source": [
        "f1_DT=f1_score(y_test, y_pred, average=None)\n",
        "f1_DT"
      ]
    },
    {
      "cell_type": "code",
      "execution_count": null,
      "metadata": {
        "id": "A5I5h1-iFGSX",
        "outputId": "ca366e60-3fa5-4bef-8107-d1a12d63be0a",
        "colab": {
          "base_uri": "https://localhost:8080/"
        }
      },
      "outputs": [
        {
          "output_type": "execute_result",
          "data": {
            "text/plain": [
              "0.8098056537102474"
            ]
          },
          "metadata": {},
          "execution_count": 202
        }
      ],
      "source": [
        "accuracyDT=accuracy_score(y_test, y_pred)\n",
        "accuracyDT"
      ]
    },
    {
      "cell_type": "markdown",
      "metadata": {
        "id": "JepfLCd8rKJ2"
      },
      "source": [
        "#### 4. Suport Vector Machine"
      ]
    },
    {
      "cell_type": "code",
      "execution_count": null,
      "metadata": {
        "id": "yc0xEGJGEvD4"
      },
      "outputs": [],
      "source": [
        "#import and create a classifier\n",
        "from sklearn import svm\n",
        "clfsvc = svm.SVC(decision_function_shape='ovo')"
      ]
    },
    {
      "cell_type": "code",
      "execution_count": null,
      "metadata": {
        "id": "OKvjhMJwEvD5",
        "outputId": "24a2c5f4-02be-47aa-ae8e-d51b52846602",
        "colab": {
          "base_uri": "https://localhost:8080/",
          "height": 74
        }
      },
      "outputs": [
        {
          "output_type": "execute_result",
          "data": {
            "text/plain": [
              "SVC(decision_function_shape='ovo')"
            ],
            "text/html": [
              "<style>#sk-container-id-5 {color: black;background-color: white;}#sk-container-id-5 pre{padding: 0;}#sk-container-id-5 div.sk-toggleable {background-color: white;}#sk-container-id-5 label.sk-toggleable__label {cursor: pointer;display: block;width: 100%;margin-bottom: 0;padding: 0.3em;box-sizing: border-box;text-align: center;}#sk-container-id-5 label.sk-toggleable__label-arrow:before {content: \"▸\";float: left;margin-right: 0.25em;color: #696969;}#sk-container-id-5 label.sk-toggleable__label-arrow:hover:before {color: black;}#sk-container-id-5 div.sk-estimator:hover label.sk-toggleable__label-arrow:before {color: black;}#sk-container-id-5 div.sk-toggleable__content {max-height: 0;max-width: 0;overflow: hidden;text-align: left;background-color: #f0f8ff;}#sk-container-id-5 div.sk-toggleable__content pre {margin: 0.2em;color: black;border-radius: 0.25em;background-color: #f0f8ff;}#sk-container-id-5 input.sk-toggleable__control:checked~div.sk-toggleable__content {max-height: 200px;max-width: 100%;overflow: auto;}#sk-container-id-5 input.sk-toggleable__control:checked~label.sk-toggleable__label-arrow:before {content: \"▾\";}#sk-container-id-5 div.sk-estimator input.sk-toggleable__control:checked~label.sk-toggleable__label {background-color: #d4ebff;}#sk-container-id-5 div.sk-label input.sk-toggleable__control:checked~label.sk-toggleable__label {background-color: #d4ebff;}#sk-container-id-5 input.sk-hidden--visually {border: 0;clip: rect(1px 1px 1px 1px);clip: rect(1px, 1px, 1px, 1px);height: 1px;margin: -1px;overflow: hidden;padding: 0;position: absolute;width: 1px;}#sk-container-id-5 div.sk-estimator {font-family: monospace;background-color: #f0f8ff;border: 1px dotted black;border-radius: 0.25em;box-sizing: border-box;margin-bottom: 0.5em;}#sk-container-id-5 div.sk-estimator:hover {background-color: #d4ebff;}#sk-container-id-5 div.sk-parallel-item::after {content: \"\";width: 100%;border-bottom: 1px solid gray;flex-grow: 1;}#sk-container-id-5 div.sk-label:hover label.sk-toggleable__label {background-color: #d4ebff;}#sk-container-id-5 div.sk-serial::before {content: \"\";position: absolute;border-left: 1px solid gray;box-sizing: border-box;top: 0;bottom: 0;left: 50%;z-index: 0;}#sk-container-id-5 div.sk-serial {display: flex;flex-direction: column;align-items: center;background-color: white;padding-right: 0.2em;padding-left: 0.2em;position: relative;}#sk-container-id-5 div.sk-item {position: relative;z-index: 1;}#sk-container-id-5 div.sk-parallel {display: flex;align-items: stretch;justify-content: center;background-color: white;position: relative;}#sk-container-id-5 div.sk-item::before, #sk-container-id-5 div.sk-parallel-item::before {content: \"\";position: absolute;border-left: 1px solid gray;box-sizing: border-box;top: 0;bottom: 0;left: 50%;z-index: -1;}#sk-container-id-5 div.sk-parallel-item {display: flex;flex-direction: column;z-index: 1;position: relative;background-color: white;}#sk-container-id-5 div.sk-parallel-item:first-child::after {align-self: flex-end;width: 50%;}#sk-container-id-5 div.sk-parallel-item:last-child::after {align-self: flex-start;width: 50%;}#sk-container-id-5 div.sk-parallel-item:only-child::after {width: 0;}#sk-container-id-5 div.sk-dashed-wrapped {border: 1px dashed gray;margin: 0 0.4em 0.5em 0.4em;box-sizing: border-box;padding-bottom: 0.4em;background-color: white;}#sk-container-id-5 div.sk-label label {font-family: monospace;font-weight: bold;display: inline-block;line-height: 1.2em;}#sk-container-id-5 div.sk-label-container {text-align: center;}#sk-container-id-5 div.sk-container {/* jupyter's `normalize.less` sets `[hidden] { display: none; }` but bootstrap.min.css set `[hidden] { display: none !important; }` so we also need the `!important` here to be able to override the default hidden behavior on the sphinx rendered scikit-learn.org. See: https://github.com/scikit-learn/scikit-learn/issues/21755 */display: inline-block !important;position: relative;}#sk-container-id-5 div.sk-text-repr-fallback {display: none;}</style><div id=\"sk-container-id-5\" class=\"sk-top-container\"><div class=\"sk-text-repr-fallback\"><pre>SVC(decision_function_shape=&#x27;ovo&#x27;)</pre><b>In a Jupyter environment, please rerun this cell to show the HTML representation or trust the notebook. <br />On GitHub, the HTML representation is unable to render, please try loading this page with nbviewer.org.</b></div><div class=\"sk-container\" hidden><div class=\"sk-item\"><div class=\"sk-estimator sk-toggleable\"><input class=\"sk-toggleable__control sk-hidden--visually\" id=\"sk-estimator-id-5\" type=\"checkbox\" checked><label for=\"sk-estimator-id-5\" class=\"sk-toggleable__label sk-toggleable__label-arrow\">SVC</label><div class=\"sk-toggleable__content\"><pre>SVC(decision_function_shape=&#x27;ovo&#x27;)</pre></div></div></div></div></div>"
            ]
          },
          "metadata": {},
          "execution_count": 107
        }
      ],
      "source": [
        "#train the classifier #takes 37 mins 21s\n",
        "clfsvc.fit(x_train,y_train)"
      ]
    },
    {
      "cell_type": "markdown",
      "source": [
        "###Saving the SVC trained model"
      ],
      "metadata": {
        "id": "zynW49surVaD"
      }
    },
    {
      "cell_type": "code",
      "source": [
        "import joblib\n",
        "# save the trained model to a file\n",
        "filenamesvm = 'clfsvc_model.sav'\n",
        "joblib.dump(clfsvc, filenamesvm)"
      ],
      "metadata": {
        "colab": {
          "base_uri": "https://localhost:8080/"
        },
        "id": "3c2kyxosmW1t",
        "outputId": "f3a6ab39-fa70-4aba-9b76-1bdda3127014"
      },
      "execution_count": null,
      "outputs": [
        {
          "output_type": "execute_result",
          "data": {
            "text/plain": [
              "['clfsvc_model.sav']"
            ]
          },
          "metadata": {},
          "execution_count": 115
        }
      ]
    },
    {
      "cell_type": "code",
      "source": [
        "filenamesvm = 'clfsvc_model.sav'\n",
        "clfsvc_mod = joblib.load(filenamesvm)"
      ],
      "metadata": {
        "id": "OYGEDFHIqg2g"
      },
      "execution_count": null,
      "outputs": []
    },
    {
      "cell_type": "code",
      "execution_count": null,
      "metadata": {
        "id": "fQ3AOvxZEvD6"
      },
      "outputs": [],
      "source": [
        "#get predictions\n",
        "y_pred=clfsvc_mod.predict(x_test)"
      ]
    },
    {
      "cell_type": "code",
      "source": [
        "y_pred"
      ],
      "metadata": {
        "colab": {
          "base_uri": "https://localhost:8080/"
        },
        "id": "O1SZR8wvtQfY",
        "outputId": "d432c3e2-865d-4abf-fac4-20149a8c60e6"
      },
      "execution_count": null,
      "outputs": [
        {
          "output_type": "execute_result",
          "data": {
            "text/plain": [
              "array(['Neu', 'Neu', 'Neu', ..., 'Neu', 'Neu', 'Neu'], dtype=object)"
            ]
          },
          "metadata": {},
          "execution_count": 207
        }
      ]
    },
    {
      "cell_type": "code",
      "execution_count": null,
      "metadata": {
        "id": "6h7EDrMvEvD6",
        "outputId": "91c4793f-bebb-47e0-f1d5-5afef2e414ca",
        "colab": {
          "base_uri": "https://localhost:8080/",
          "height": 480
        }
      },
      "outputs": [
        {
          "output_type": "display_data",
          "data": {
            "text/plain": [
              "<Figure size 640x480 with 1 Axes>"
            ],
            "image/png": "[encoded data removed]"
          },
          "metadata": {}
        }
      ],
      "source": [
        "#create and visualise the confusion matrix\n",
        "matrix4=confusion_matrix(y_test,y_pred, labels=unique_labels)\n",
        "sns.heatmap(matrix4.T, square=True, annot=True, fmt='d', cbar=False,\n",
        "            xticklabels=unique_labels, yticklabels=unique_labels)\n",
        "plt.xlabel('true label')\n",
        "plt.ylabel('predicted label')\n",
        "plt.title('Support Vector Machine model')\n",
        "plt.savefig('svmConfMatrix.png')\n",
        "plt.show()"
      ]
    },
    {
      "cell_type": "code",
      "execution_count": null,
      "metadata": {
        "id": "UX28ZMBz2i1r",
        "outputId": "a7eac901-04f0-4e52-d045-cbfd7163f221",
        "colab": {
          "base_uri": "https://localhost:8080/"
        }
      },
      "outputs": [
        {
          "output_type": "execute_result",
          "data": {
            "text/plain": [
              "0.9874510546924341"
            ]
          },
          "metadata": {},
          "execution_count": 209
        }
      ],
      "source": [
        "#get the evaluation metrics\n",
        "f1_macroSVM=f1_score(y_test, y_pred, average='macro')\n",
        "f1_macroSVM"
      ]
    },
    {
      "cell_type": "code",
      "execution_count": null,
      "metadata": {
        "id": "X0dvMqsk22Tj",
        "outputId": "a213c965-44b3-4696-d164-2147f487121e",
        "colab": {
          "base_uri": "https://localhost:8080/"
        }
      },
      "outputs": [
        {
          "output_type": "execute_result",
          "data": {
            "text/plain": [
              "array([0.99285714, 0.9867374 , 0.98275862])"
            ]
          },
          "metadata": {},
          "execution_count": 210
        }
      ],
      "source": [
        "f1_SVM=f1_score(y_test, y_pred, average=None)\n",
        "f1_SVM"
      ]
    },
    {
      "cell_type": "code",
      "execution_count": null,
      "metadata": {
        "id": "Br2j3rYY3Eu0",
        "outputId": "c0163b4f-92da-4ba3-a03e-cd721d431d81",
        "colab": {
          "base_uri": "https://localhost:8080/"
        }
      },
      "outputs": [
        {
          "output_type": "execute_result",
          "data": {
            "text/plain": [
              "0.9874558303886926"
            ]
          },
          "metadata": {},
          "execution_count": 211
        }
      ],
      "source": [
        "accuracySVM=accuracy_score(y_test, y_pred)\n",
        "accuracySVM"
      ]
    },
    {
      "cell_type": "markdown",
      "metadata": {
        "id": "uJBk11MmrKJ3"
      },
      "source": [
        "### Used for imbalanced dataset\n",
        "#### 5. Weighted Support Vector Machine"
      ]
    },
    {
      "cell_type": "markdown",
      "source": [
        "Not to be run now. Just for reference"
      ],
      "metadata": {
        "id": "NAxvygXCvNVn"
      }
    },
    {
      "cell_type": "code",
      "execution_count": null,
      "metadata": {
        "id": "YC9i8pQVEvD7"
      },
      "outputs": [],
      "source": [
        "#create the classifier with class weight for unbalance dataset used prev\n",
        "clfsvcW = svm.SVC(decision_function_shape='ovo', class_weight={'Pos':7, 'Neu':1, 'Neg':1.5 })"
      ]
    },
    {
      "cell_type": "code",
      "execution_count": null,
      "metadata": {
        "id": "EG4PB0vhEvD8"
      },
      "outputs": [],
      "source": [
        "#train and predict #takes 5 mins\n",
        "clfsvcW.fit(x_train,y_train)\n",
        "y_pred=clfsvcW.predict(x_test)"
      ]
    },
    {
      "cell_type": "code",
      "execution_count": null,
      "metadata": {
        "id": "ktjqEdq_EvD8",
        "outputId": "aca68843-2d17-4ff9-a3bc-cc2452604717",
        "colab": {
          "base_uri": "https://localhost:8080/",
          "height": 480
        }
      },
      "outputs": [
        {
          "output_type": "display_data",
          "data": {
            "text/plain": [
              "<Figure size 640x480 with 1 Axes>"
            ],
            "image/png": "[encoded data removed]"
          },
          "metadata": {}
        }
      ],
      "source": [
        "#create and visualise matrix\n",
        "matrix5=confusion_matrix(y_test,y_pred, labels=unique_labels)\n",
        "sns.heatmap(matrix5.T, square=True, annot=True, fmt='d', cbar=False,\n",
        "            xticklabels=unique_labels, yticklabels=unique_labels)\n",
        "plt.xlabel('true label')\n",
        "plt.ylabel('predicted label')\n",
        "plt.title('Suport Vector Machine model')\n",
        "plt.show()"
      ]
    },
    {
      "cell_type": "code",
      "execution_count": null,
      "metadata": {
        "id": "wHL-sZEQEvD9",
        "outputId": "b636ff71-c51a-46f2-ea8f-62028362dc34",
        "colab": {
          "base_uri": "https://localhost:8080/"
        }
      },
      "outputs": [
        {
          "output_type": "execute_result",
          "data": {
            "text/plain": [
              "0.6218468033693209"
            ]
          },
          "metadata": {},
          "execution_count": 73
        }
      ],
      "source": [
        "#get the evaluation metrics\n",
        "f1_macroSVMW=f1_score(y_test, y_pred, average='macro')\n",
        "f1_macroSVMW"
      ]
    },
    {
      "cell_type": "code",
      "execution_count": null,
      "metadata": {
        "id": "GHojmRcm5ZME",
        "outputId": "86dfeb54-2f56-4268-c064-7e0a5981a36a",
        "colab": {
          "base_uri": "https://localhost:8080/"
        }
      },
      "outputs": [
        {
          "output_type": "execute_result",
          "data": {
            "text/plain": [
              "array([0.78039465, 0.15384615, 0.9312996 ])"
            ]
          },
          "metadata": {},
          "execution_count": 74
        }
      ],
      "source": [
        "f1_SVMW=f1_score(y_test, y_pred, average=None)\n",
        "f1_SVMW"
      ]
    },
    {
      "cell_type": "code",
      "execution_count": null,
      "metadata": {
        "id": "Hm2iW1WEEvD_",
        "outputId": "bcf49900-0892-47ab-eb60-6e9eda1781ef",
        "colab": {
          "base_uri": "https://localhost:8080/"
        }
      },
      "outputs": [
        {
          "output_type": "execute_result",
          "data": {
            "text/plain": [
              "0.8617997267226235"
            ]
          },
          "metadata": {},
          "execution_count": 75
        }
      ],
      "source": [
        "accuracySVMW=accuracy_score(y_test, y_pred)\n",
        "accuracySVMW"
      ]
    },
    {
      "cell_type": "markdown",
      "source": [
        "#### 6. Logistic Regression"
      ],
      "metadata": {
        "id": "pj4QzPvVWtrV"
      }
    },
    {
      "cell_type": "code",
      "source": [
        "from sklearn.linear_model import LogisticRegression"
      ],
      "metadata": {
        "id": "P7luI08RWzI8"
      },
      "execution_count": null,
      "outputs": []
    },
    {
      "cell_type": "code",
      "source": [
        "# Define the logistic regression model\n",
        "LRclf = LogisticRegression()\n",
        "\n",
        "# Train the model on the training data\n",
        "LRclf.fit(x_train, y_train)"
      ],
      "metadata": {
        "colab": {
          "base_uri": "https://localhost:8080/",
          "height": 213
        },
        "id": "-MRAXDDtW3PT",
        "outputId": "2f0c7e70-b71f-45b3-c654-c37ea600ba7c"
      },
      "execution_count": null,
      "outputs": [
        {
          "output_type": "stream",
          "name": "stderr",
          "text": [
            "/usr/local/lib/python3.9/dist-packages/sklearn/linear_model/_logistic.py:458: ConvergenceWarning: lbfgs failed to converge (status=1):\n",
            "STOP: TOTAL NO. of ITERATIONS REACHED LIMIT.\n",
            "\n",
            "Increase the number of iterations (max_iter) or scale the data as shown in:\n",
            "    https://scikit-learn.org/stable/modules/preprocessing.html\n",
            "Please also refer to the documentation for alternative solver options:\n",
            "    https://scikit-learn.org/stable/modules/linear_model.html#logistic-regression\n",
            "  n_iter_i = _check_optimize_result(\n"
          ]
        },
        {
          "output_type": "execute_result",
          "data": {
            "text/plain": [
              "LogisticRegression()"
            ],
            "text/html": [
              "<style>#sk-container-id-6 {color: black;background-color: white;}#sk-container-id-6 pre{padding: 0;}#sk-container-id-6 div.sk-toggleable {background-color: white;}#sk-container-id-6 label.sk-toggleable__label {cursor: pointer;display: block;width: 100%;margin-bottom: 0;padding: 0.3em;box-sizing: border-box;text-align: center;}#sk-container-id-6 label.sk-toggleable__label-arrow:before {content: \"▸\";float: left;margin-right: 0.25em;color: #696969;}#sk-container-id-6 label.sk-toggleable__label-arrow:hover:before {color: black;}#sk-container-id-6 div.sk-estimator:hover label.sk-toggleable__label-arrow:before {color: black;}#sk-container-id-6 div.sk-toggleable__content {max-height: 0;max-width: 0;overflow: hidden;text-align: left;background-color: #f0f8ff;}#sk-container-id-6 div.sk-toggleable__content pre {margin: 0.2em;color: black;border-radius: 0.25em;background-color: #f0f8ff;}#sk-container-id-6 input.sk-toggleable__control:checked~div.sk-toggleable__content {max-height: 200px;max-width: 100%;overflow: auto;}#sk-container-id-6 input.sk-toggleable__control:checked~label.sk-toggleable__label-arrow:before {content: \"▾\";}#sk-container-id-6 div.sk-estimator input.sk-toggleable__control:checked~label.sk-toggleable__label {background-color: #d4ebff;}#sk-container-id-6 div.sk-label input.sk-toggleable__control:checked~label.sk-toggleable__label {background-color: #d4ebff;}#sk-container-id-6 input.sk-hidden--visually {border: 0;clip: rect(1px 1px 1px 1px);clip: rect(1px, 1px, 1px, 1px);height: 1px;margin: -1px;overflow: hidden;padding: 0;position: absolute;width: 1px;}#sk-container-id-6 div.sk-estimator {font-family: monospace;background-color: #f0f8ff;border: 1px dotted black;border-radius: 0.25em;box-sizing: border-box;margin-bottom: 0.5em;}#sk-container-id-6 div.sk-estimator:hover {background-color: #d4ebff;}#sk-container-id-6 div.sk-parallel-item::after {content: \"\";width: 100%;border-bottom: 1px solid gray;flex-grow: 1;}#sk-container-id-6 div.sk-label:hover label.sk-toggleable__label {background-color: #d4ebff;}#sk-container-id-6 div.sk-serial::before {content: \"\";position: absolute;border-left: 1px solid gray;box-sizing: border-box;top: 0;bottom: 0;left: 50%;z-index: 0;}#sk-container-id-6 div.sk-serial {display: flex;flex-direction: column;align-items: center;background-color: white;padding-right: 0.2em;padding-left: 0.2em;position: relative;}#sk-container-id-6 div.sk-item {position: relative;z-index: 1;}#sk-container-id-6 div.sk-parallel {display: flex;align-items: stretch;justify-content: center;background-color: white;position: relative;}#sk-container-id-6 div.sk-item::before, #sk-container-id-6 div.sk-parallel-item::before {content: \"\";position: absolute;border-left: 1px solid gray;box-sizing: border-box;top: 0;bottom: 0;left: 50%;z-index: -1;}#sk-container-id-6 div.sk-parallel-item {display: flex;flex-direction: column;z-index: 1;position: relative;background-color: white;}#sk-container-id-6 div.sk-parallel-item:first-child::after {align-self: flex-end;width: 50%;}#sk-container-id-6 div.sk-parallel-item:last-child::after {align-self: flex-start;width: 50%;}#sk-container-id-6 div.sk-parallel-item:only-child::after {width: 0;}#sk-container-id-6 div.sk-dashed-wrapped {border: 1px dashed gray;margin: 0 0.4em 0.5em 0.4em;box-sizing: border-box;padding-bottom: 0.4em;background-color: white;}#sk-container-id-6 div.sk-label label {font-family: monospace;font-weight: bold;display: inline-block;line-height: 1.2em;}#sk-container-id-6 div.sk-label-container {text-align: center;}#sk-container-id-6 div.sk-container {/* jupyter's `normalize.less` sets `[hidden] { display: none; }` but bootstrap.min.css set `[hidden] { display: none !important; }` so we also need the `!important` here to be able to override the default hidden behavior on the sphinx rendered scikit-learn.org. See: https://github.com/scikit-learn/scikit-learn/issues/21755 */display: inline-block !important;position: relative;}#sk-container-id-6 div.sk-text-repr-fallback {display: none;}</style><div id=\"sk-container-id-6\" class=\"sk-top-container\"><div class=\"sk-text-repr-fallback\"><pre>LogisticRegression()</pre><b>In a Jupyter environment, please rerun this cell to show the HTML representation or trust the notebook. <br />On GitHub, the HTML representation is unable to render, please try loading this page with nbviewer.org.</b></div><div class=\"sk-container\" hidden><div class=\"sk-item\"><div class=\"sk-estimator sk-toggleable\"><input class=\"sk-toggleable__control sk-hidden--visually\" id=\"sk-estimator-id-6\" type=\"checkbox\" checked><label for=\"sk-estimator-id-6\" class=\"sk-toggleable__label sk-toggleable__label-arrow\">LogisticRegression</label><div class=\"sk-toggleable__content\"><pre>LogisticRegression()</pre></div></div></div></div></div>"
            ]
          },
          "metadata": {},
          "execution_count": 263
        }
      ]
    },
    {
      "cell_type": "code",
      "source": [
        "# Predict the labels of the test data\n",
        "y_pred = LRclf.predict(x_test)"
      ],
      "metadata": {
        "id": "jcETVk1kW5g7"
      },
      "execution_count": null,
      "outputs": []
    },
    {
      "cell_type": "code",
      "source": [
        "#generate the matrix\n",
        "matrix6=confusion_matrix(y_test,y_pred, labels=unique_labels)\n",
        "sns.heatmap(matrix6.T, square=True, annot=True, fmt='d', cbar=False,\n",
        "            xticklabels=unique_labels, yticklabels=unique_labels)\n",
        "plt.xlabel('true label')\n",
        "plt.ylabel('predicted label')\n",
        "plt.title('Suport Vector Machine model for unbalanced dataset, reviews with embeddings')\n",
        "plt.show()"
      ],
      "metadata": {
        "colab": {
          "base_uri": "https://localhost:8080/",
          "height": 480
        },
        "id": "_a1m4vCAW7bq",
        "outputId": "6ac62f14-2826-4cae-c302-bbde6af9ed42"
      },
      "execution_count": null,
      "outputs": [
        {
          "output_type": "display_data",
          "data": {
            "text/plain": [
              "<Figure size 640x480 with 1 Axes>"
            ],
            "image/png": "[encoded data removed]"
          },
          "metadata": {}
        }
      ]
    },
    {
      "cell_type": "code",
      "source": [
        "#get the evaluation metrics\n",
        "f1_macroLogReg=f1_score(y_test, y_pred, average='macro')\n",
        "f1_macroLogReg"
      ],
      "metadata": {
        "colab": {
          "base_uri": "https://localhost:8080/"
        },
        "id": "bNerujUoXBHl",
        "outputId": "91ae8ee5-bc98-45ea-f4be-c19dc9d22277"
      },
      "execution_count": null,
      "outputs": [
        {
          "output_type": "execute_result",
          "data": {
            "text/plain": [
              "0.8270707703654985"
            ]
          },
          "metadata": {},
          "execution_count": 267
        }
      ]
    },
    {
      "cell_type": "code",
      "source": [
        "accuracyLogReg=accuracy_score(y_test, y_pred)\n",
        "accuracyLogReg"
      ],
      "metadata": {
        "colab": {
          "base_uri": "https://localhost:8080/"
        },
        "id": "e2ikcQZ4W_Ks",
        "outputId": "389bcc57-9287-4417-99d6-61ca14be2bbb"
      },
      "execution_count": null,
      "outputs": [
        {
          "output_type": "execute_result",
          "data": {
            "text/plain": [
              "0.8272968197879859"
            ]
          },
          "metadata": {},
          "execution_count": 266
        }
      ]
    },
    {
      "cell_type": "code",
      "source": [
        "f1_LogReg=f1_score(y_test, y_pred, average=None)\n",
        "f1_LogReg"
      ],
      "metadata": {
        "colab": {
          "base_uri": "https://localhost:8080/"
        },
        "id": "E5Y9GEGqXMKI",
        "outputId": "2de3ec3c-e376-49eb-9d62-821548e19ef2"
      },
      "execution_count": null,
      "outputs": [
        {
          "output_type": "execute_result",
          "data": {
            "text/plain": [
              "array([0.84597886, 0.78065723, 0.85457623])"
            ]
          },
          "metadata": {},
          "execution_count": 268
        }
      ]
    },
    {
      "cell_type": "markdown",
      "source": [
        "#### 7. Random Forest"
      ],
      "metadata": {
        "id": "jz_BDT-4XKyK"
      }
    },
    {
      "cell_type": "code",
      "source": [
        "from sklearn.ensemble import RandomForestClassifier\n",
        "\n",
        "# Define the Random Forest model\n",
        "RFclf = RandomForestClassifier(n_estimators=100, max_depth=10, random_state=42)"
      ],
      "metadata": {
        "id": "w_Rv4b2jXHeA"
      },
      "execution_count": null,
      "outputs": []
    },
    {
      "cell_type": "code",
      "source": [
        "# Train the model on the training data\n",
        "RFclf.fit(x_train, y_train)"
      ],
      "metadata": {
        "colab": {
          "base_uri": "https://localhost:8080/",
          "height": 74
        },
        "id": "DW8BXAs_XR_I",
        "outputId": "126ef692-7a78-46aa-b3f2-b73f6081d3cb"
      },
      "execution_count": null,
      "outputs": [
        {
          "output_type": "execute_result",
          "data": {
            "text/plain": [
              "RandomForestClassifier(max_depth=10, random_state=42)"
            ],
            "text/html": [
              "<style>#sk-container-id-7 {color: black;background-color: white;}#sk-container-id-7 pre{padding: 0;}#sk-container-id-7 div.sk-toggleable {background-color: white;}#sk-container-id-7 label.sk-toggleable__label {cursor: pointer;display: block;width: 100%;margin-bottom: 0;padding: 0.3em;box-sizing: border-box;text-align: center;}#sk-container-id-7 label.sk-toggleable__label-arrow:before {content: \"▸\";float: left;margin-right: 0.25em;color: #696969;}#sk-container-id-7 label.sk-toggleable__label-arrow:hover:before {color: black;}#sk-container-id-7 div.sk-estimator:hover label.sk-toggleable__label-arrow:before {color: black;}#sk-container-id-7 div.sk-toggleable__content {max-height: 0;max-width: 0;overflow: hidden;text-align: left;background-color: #f0f8ff;}#sk-container-id-7 div.sk-toggleable__content pre {margin: 0.2em;color: black;border-radius: 0.25em;background-color: #f0f8ff;}#sk-container-id-7 input.sk-toggleable__control:checked~div.sk-toggleable__content {max-height: 200px;max-width: 100%;overflow: auto;}#sk-container-id-7 input.sk-toggleable__control:checked~label.sk-toggleable__label-arrow:before {content: \"▾\";}#sk-container-id-7 div.sk-estimator input.sk-toggleable__control:checked~label.sk-toggleable__label {background-color: #d4ebff;}#sk-container-id-7 div.sk-label input.sk-toggleable__control:checked~label.sk-toggleable__label {background-color: #d4ebff;}#sk-container-id-7 input.sk-hidden--visually {border: 0;clip: rect(1px 1px 1px 1px);clip: rect(1px, 1px, 1px, 1px);height: 1px;margin: -1px;overflow: hidden;padding: 0;position: absolute;width: 1px;}#sk-container-id-7 div.sk-estimator {font-family: monospace;background-color: #f0f8ff;border: 1px dotted black;border-radius: 0.25em;box-sizing: border-box;margin-bottom: 0.5em;}#sk-container-id-7 div.sk-estimator:hover {background-color: #d4ebff;}#sk-container-id-7 div.sk-parallel-item::after {content: \"\";width: 100%;border-bottom: 1px solid gray;flex-grow: 1;}#sk-container-id-7 div.sk-label:hover label.sk-toggleable__label {background-color: #d4ebff;}#sk-container-id-7 div.sk-serial::before {content: \"\";position: absolute;border-left: 1px solid gray;box-sizing: border-box;top: 0;bottom: 0;left: 50%;z-index: 0;}#sk-container-id-7 div.sk-serial {display: flex;flex-direction: column;align-items: center;background-color: white;padding-right: 0.2em;padding-left: 0.2em;position: relative;}#sk-container-id-7 div.sk-item {position: relative;z-index: 1;}#sk-container-id-7 div.sk-parallel {display: flex;align-items: stretch;justify-content: center;background-color: white;position: relative;}#sk-container-id-7 div.sk-item::before, #sk-container-id-7 div.sk-parallel-item::before {content: \"\";position: absolute;border-left: 1px solid gray;box-sizing: border-box;top: 0;bottom: 0;left: 50%;z-index: -1;}#sk-container-id-7 div.sk-parallel-item {display: flex;flex-direction: column;z-index: 1;position: relative;background-color: white;}#sk-container-id-7 div.sk-parallel-item:first-child::after {align-self: flex-end;width: 50%;}#sk-container-id-7 div.sk-parallel-item:last-child::after {align-self: flex-start;width: 50%;}#sk-container-id-7 div.sk-parallel-item:only-child::after {width: 0;}#sk-container-id-7 div.sk-dashed-wrapped {border: 1px dashed gray;margin: 0 0.4em 0.5em 0.4em;box-sizing: border-box;padding-bottom: 0.4em;background-color: white;}#sk-container-id-7 div.sk-label label {font-family: monospace;font-weight: bold;display: inline-block;line-height: 1.2em;}#sk-container-id-7 div.sk-label-container {text-align: center;}#sk-container-id-7 div.sk-container {/* jupyter's `normalize.less` sets `[hidden] { display: none; }` but bootstrap.min.css set `[hidden] { display: none !important; }` so we also need the `!important` here to be able to override the default hidden behavior on the sphinx rendered scikit-learn.org. See: https://github.com/scikit-learn/scikit-learn/issues/21755 */display: inline-block !important;position: relative;}#sk-container-id-7 div.sk-text-repr-fallback {display: none;}</style><div id=\"sk-container-id-7\" class=\"sk-top-container\"><div class=\"sk-text-repr-fallback\"><pre>RandomForestClassifier(max_depth=10, random_state=42)</pre><b>In a Jupyter environment, please rerun this cell to show the HTML representation or trust the notebook. <br />On GitHub, the HTML representation is unable to render, please try loading this page with nbviewer.org.</b></div><div class=\"sk-container\" hidden><div class=\"sk-item\"><div class=\"sk-estimator sk-toggleable\"><input class=\"sk-toggleable__control sk-hidden--visually\" id=\"sk-estimator-id-7\" type=\"checkbox\" checked><label for=\"sk-estimator-id-7\" class=\"sk-toggleable__label sk-toggleable__label-arrow\">RandomForestClassifier</label><div class=\"sk-toggleable__content\"><pre>RandomForestClassifier(max_depth=10, random_state=42)</pre></div></div></div></div></div>"
            ]
          },
          "metadata": {},
          "execution_count": 270
        }
      ]
    },
    {
      "cell_type": "code",
      "source": [
        "# Predict the labels of the test data\n",
        "y_pred = RFclf.predict(x_test)"
      ],
      "metadata": {
        "id": "e6RpGCVuXVfL"
      },
      "execution_count": null,
      "outputs": []
    },
    {
      "cell_type": "code",
      "source": [
        "#generate the matrix\n",
        "matrix7=confusion_matrix(y_test,y_pred, labels=unique_labels)\n",
        "sns.heatmap(matrix7.T, square=True, annot=True, fmt='d', cbar=False,\n",
        "            xticklabels=unique_labels, yticklabels=unique_labels)\n",
        "plt.xlabel('true label')\n",
        "plt.ylabel('predicted label')\n",
        "plt.title('Suport Vector Machine model for unbalanced dataset')\n",
        "plt.show()"
      ],
      "metadata": {
        "colab": {
          "base_uri": "https://localhost:8080/",
          "height": 480
        },
        "id": "gTLCsnyjXYaG",
        "outputId": "9d60f355-b3e4-4aa4-caf7-5bafd662303f"
      },
      "execution_count": null,
      "outputs": [
        {
          "output_type": "display_data",
          "data": {
            "text/plain": [
              "<Figure size 640x480 with 1 Axes>"
            ],
            "image/png": "[encoded data removed]"
          },
          "metadata": {}
        }
      ]
    },
    {
      "cell_type": "code",
      "source": [
        "#get the evaluation metrics\n",
        "f1_macroRanFor=f1_score(y_test, y_pred, average='macro')\n",
        "f1_macroRanFor"
      ],
      "metadata": {
        "colab": {
          "base_uri": "https://localhost:8080/"
        },
        "id": "jok1QUAnXa-z",
        "outputId": "6837a7af-7b03-4bab-a7d9-d9c775030f09"
      },
      "execution_count": null,
      "outputs": [
        {
          "output_type": "execute_result",
          "data": {
            "text/plain": [
              "0.8236655657101634"
            ]
          },
          "metadata": {},
          "execution_count": 273
        }
      ]
    },
    {
      "cell_type": "code",
      "source": [
        "f1_RanFor=f1_score(y_test, y_pred, average=None)\n",
        "f1_RanFor"
      ],
      "metadata": {
        "colab": {
          "base_uri": "https://localhost:8080/"
        },
        "id": "qL9TXHcRXesb",
        "outputId": "c7035d1e-42fd-44db-eacc-00f82674c6c8"
      },
      "execution_count": null,
      "outputs": [
        {
          "output_type": "execute_result",
          "data": {
            "text/plain": [
              "array([0.85814508, 0.81319283, 0.79965879])"
            ]
          },
          "metadata": {},
          "execution_count": 274
        }
      ]
    },
    {
      "cell_type": "code",
      "source": [
        "accuracyRanFor=accuracy_score(y_test, y_pred)\n",
        "accuracyRanFor"
      ],
      "metadata": {
        "colab": {
          "base_uri": "https://localhost:8080/"
        },
        "id": "i6JWCWlVXiMa",
        "outputId": "d84453cf-b3cf-496f-d7bb-91219685a6bd"
      },
      "execution_count": null,
      "outputs": [
        {
          "output_type": "execute_result",
          "data": {
            "text/plain": [
              "0.8224381625441696"
            ]
          },
          "metadata": {},
          "execution_count": 275
        }
      ]
    },
    {
      "cell_type": "markdown",
      "source": [
        "#### 8. KNN"
      ],
      "metadata": {
        "id": "ku8dAcKIXjWL"
      }
    },
    {
      "cell_type": "code",
      "source": [
        "from sklearn.neighbors import KNeighborsClassifier\n",
        "\n",
        "# Define the K-Nearest Neighbors model\n",
        "KNNclf = KNeighborsClassifier(n_neighbors=5)"
      ],
      "metadata": {
        "id": "Q9gf2r5hXmIe"
      },
      "execution_count": null,
      "outputs": []
    },
    {
      "cell_type": "code",
      "source": [
        "# Train the model on the training data\n",
        "KNNclf.fit(x_train, y_train)"
      ],
      "metadata": {
        "colab": {
          "base_uri": "https://localhost:8080/",
          "height": 74
        },
        "id": "NXr8FRUyXybB",
        "outputId": "22c1ce60-d3ba-4473-975f-a66367737673"
      },
      "execution_count": null,
      "outputs": [
        {
          "output_type": "execute_result",
          "data": {
            "text/plain": [
              "KNeighborsClassifier()"
            ],
            "text/html": [
              "<style>#sk-container-id-8 {color: black;background-color: white;}#sk-container-id-8 pre{padding: 0;}#sk-container-id-8 div.sk-toggleable {background-color: white;}#sk-container-id-8 label.sk-toggleable__label {cursor: pointer;display: block;width: 100%;margin-bottom: 0;padding: 0.3em;box-sizing: border-box;text-align: center;}#sk-container-id-8 label.sk-toggleable__label-arrow:before {content: \"▸\";float: left;margin-right: 0.25em;color: #696969;}#sk-container-id-8 label.sk-toggleable__label-arrow:hover:before {color: black;}#sk-container-id-8 div.sk-estimator:hover label.sk-toggleable__label-arrow:before {color: black;}#sk-container-id-8 div.sk-toggleable__content {max-height: 0;max-width: 0;overflow: hidden;text-align: left;background-color: #f0f8ff;}#sk-container-id-8 div.sk-toggleable__content pre {margin: 0.2em;color: black;border-radius: 0.25em;background-color: #f0f8ff;}#sk-container-id-8 input.sk-toggleable__control:checked~div.sk-toggleable__content {max-height: 200px;max-width: 100%;overflow: auto;}#sk-container-id-8 input.sk-toggleable__control:checked~label.sk-toggleable__label-arrow:before {content: \"▾\";}#sk-container-id-8 div.sk-estimator input.sk-toggleable__control:checked~label.sk-toggleable__label {background-color: #d4ebff;}#sk-container-id-8 div.sk-label input.sk-toggleable__control:checked~label.sk-toggleable__label {background-color: #d4ebff;}#sk-container-id-8 input.sk-hidden--visually {border: 0;clip: rect(1px 1px 1px 1px);clip: rect(1px, 1px, 1px, 1px);height: 1px;margin: -1px;overflow: hidden;padding: 0;position: absolute;width: 1px;}#sk-container-id-8 div.sk-estimator {font-family: monospace;background-color: #f0f8ff;border: 1px dotted black;border-radius: 0.25em;box-sizing: border-box;margin-bottom: 0.5em;}#sk-container-id-8 div.sk-estimator:hover {background-color: #d4ebff;}#sk-container-id-8 div.sk-parallel-item::after {content: \"\";width: 100%;border-bottom: 1px solid gray;flex-grow: 1;}#sk-container-id-8 div.sk-label:hover label.sk-toggleable__label {background-color: #d4ebff;}#sk-container-id-8 div.sk-serial::before {content: \"\";position: absolute;border-left: 1px solid gray;box-sizing: border-box;top: 0;bottom: 0;left: 50%;z-index: 0;}#sk-container-id-8 div.sk-serial {display: flex;flex-direction: column;align-items: center;background-color: white;padding-right: 0.2em;padding-left: 0.2em;position: relative;}#sk-container-id-8 div.sk-item {position: relative;z-index: 1;}#sk-container-id-8 div.sk-parallel {display: flex;align-items: stretch;justify-content: center;background-color: white;position: relative;}#sk-container-id-8 div.sk-item::before, #sk-container-id-8 div.sk-parallel-item::before {content: \"\";position: absolute;border-left: 1px solid gray;box-sizing: border-box;top: 0;bottom: 0;left: 50%;z-index: -1;}#sk-container-id-8 div.sk-parallel-item {display: flex;flex-direction: column;z-index: 1;position: relative;background-color: white;}#sk-container-id-8 div.sk-parallel-item:first-child::after {align-self: flex-end;width: 50%;}#sk-container-id-8 div.sk-parallel-item:last-child::after {align-self: flex-start;width: 50%;}#sk-container-id-8 div.sk-parallel-item:only-child::after {width: 0;}#sk-container-id-8 div.sk-dashed-wrapped {border: 1px dashed gray;margin: 0 0.4em 0.5em 0.4em;box-sizing: border-box;padding-bottom: 0.4em;background-color: white;}#sk-container-id-8 div.sk-label label {font-family: monospace;font-weight: bold;display: inline-block;line-height: 1.2em;}#sk-container-id-8 div.sk-label-container {text-align: center;}#sk-container-id-8 div.sk-container {/* jupyter's `normalize.less` sets `[hidden] { display: none; }` but bootstrap.min.css set `[hidden] { display: none !important; }` so we also need the `!important` here to be able to override the default hidden behavior on the sphinx rendered scikit-learn.org. See: https://github.com/scikit-learn/scikit-learn/issues/21755 */display: inline-block !important;position: relative;}#sk-container-id-8 div.sk-text-repr-fallback {display: none;}</style><div id=\"sk-container-id-8\" class=\"sk-top-container\"><div class=\"sk-text-repr-fallback\"><pre>KNeighborsClassifier()</pre><b>In a Jupyter environment, please rerun this cell to show the HTML representation or trust the notebook. <br />On GitHub, the HTML representation is unable to render, please try loading this page with nbviewer.org.</b></div><div class=\"sk-container\" hidden><div class=\"sk-item\"><div class=\"sk-estimator sk-toggleable\"><input class=\"sk-toggleable__control sk-hidden--visually\" id=\"sk-estimator-id-8\" type=\"checkbox\" checked><label for=\"sk-estimator-id-8\" class=\"sk-toggleable__label sk-toggleable__label-arrow\">KNeighborsClassifier</label><div class=\"sk-toggleable__content\"><pre>KNeighborsClassifier()</pre></div></div></div></div></div>"
            ]
          },
          "metadata": {},
          "execution_count": 277
        }
      ]
    },
    {
      "cell_type": "code",
      "source": [
        "# Predict the labels of the test data\n",
        "y_pred = KNNclf.predict(x_test)"
      ],
      "metadata": {
        "id": "m-lnHxFWX2Cz"
      },
      "execution_count": null,
      "outputs": []
    },
    {
      "cell_type": "code",
      "source": [
        "#generate the matrix\n",
        "matrix8=confusion_matrix(y_test,y_pred, labels=unique_labels)\n",
        "sns.heatmap(matrix8.T, square=True, annot=True, fmt='d', cbar=False,\n",
        "            xticklabels=unique_labels, yticklabels=unique_labels)\n",
        "plt.xlabel('true label')\n",
        "plt.ylabel('predicted label')\n",
        "plt.title('KNN model for unbalanced dataset')\n",
        "plt.show()"
      ],
      "metadata": {
        "colab": {
          "base_uri": "https://localhost:8080/",
          "height": 480
        },
        "id": "r-ImKr1iX4Wg",
        "outputId": "970db66c-46f3-4c2b-c8f0-93085510bee8"
      },
      "execution_count": null,
      "outputs": [
        {
          "output_type": "display_data",
          "data": {
            "text/plain": [
              "<Figure size 640x480 with 1 Axes>"
            ],
            "image/png": "[encoded data removed]"
          },
          "metadata": {}
        }
      ]
    },
    {
      "cell_type": "code",
      "source": [
        "#get the evaluation metrics\n",
        "f1_macroKNN=f1_score(y_test, y_pred, average='macro')\n",
        "f1_macroKNN"
      ],
      "metadata": {
        "colab": {
          "base_uri": "https://localhost:8080/"
        },
        "id": "FTfl0SljX6iJ",
        "outputId": "4be654e0-9fe1-443a-8f55-2105ffe62e92"
      },
      "execution_count": null,
      "outputs": [
        {
          "output_type": "execute_result",
          "data": {
            "text/plain": [
              "0.9389066507168039"
            ]
          },
          "metadata": {},
          "execution_count": 280
        }
      ]
    },
    {
      "cell_type": "code",
      "source": [
        "f1_KNN=f1_score(y_test, y_pred, average=None)\n",
        "f1_KNN"
      ],
      "metadata": {
        "colab": {
          "base_uri": "https://localhost:8080/"
        },
        "id": "OMS02PIiX8Dw",
        "outputId": "055974dd-0c1d-4e43-87cd-087414aaa26f"
      },
      "execution_count": null,
      "outputs": [
        {
          "output_type": "execute_result",
          "data": {
            "text/plain": [
              "array([0.94394312, 0.95813333, 0.9146435 ])"
            ]
          },
          "metadata": {},
          "execution_count": 281
        }
      ]
    },
    {
      "cell_type": "code",
      "source": [
        "accuracyKNN=accuracy_score(y_test, y_pred)\n",
        "accuracyKNN"
      ],
      "metadata": {
        "colab": {
          "base_uri": "https://localhost:8080/"
        },
        "id": "iLKVEmJyX9b4",
        "outputId": "9681faaa-aee8-4145-9065-9f80f2abf9d1"
      },
      "execution_count": null,
      "outputs": [
        {
          "output_type": "execute_result",
          "data": {
            "text/plain": [
              "0.9385159010600707"
            ]
          },
          "metadata": {},
          "execution_count": 282
        }
      ]
    },
    {
      "cell_type": "markdown",
      "metadata": {
        "id": "u4FCpwx956NI"
      },
      "source": [
        "#### 5.3. Simple clean and lemmatisation, removal of \"stop words\" and counting only once each word that appears in the review, extracting only a few of the most common words in the full text.\n",
        "In this section, we will proceed with the third pre-processing technique, this technique is generally used for sentiment analysis tasks. It consists in generating a list of the most common words in the text, selecting an 'N' number of the most common words or features, and then generating a dictionary for every review where the keys are the words and the values are a Boolean value indicating whether the feature appears in the review.\n",
        "This method differs from the previous one as we work with a smaller number of features and \"count\" each feature only once.\n",
        "\n",
        "To do this, we start by lemmatising the reviews while removing the \"stop words\". Then we join all the reviews and create a frequency distribution of all the corpus. Then we create a list of the N most common words, in this case, we will use N=500.\n",
        "Then we will extract the features from each review creating a dictionary for each of them.\n",
        "Finally, to process the data in the NLTK machine learning methods, we will create a set of the dictionary with the extracted features together with the review label. Similarly, as in the previous part, we would separate the data into training and test sets."
      ]
    },
    {
      "cell_type": "code",
      "execution_count": null,
      "metadata": {
        "id": "62MuDLCpEvED"
      },
      "outputs": [],
      "source": [
        "#get the stop words\n",
        "stops=set(stopwords.words('english'))"
      ]
    },
    {
      "cell_type": "code",
      "execution_count": null,
      "metadata": {
        "id": "iI1vBs18EvEE"
      },
      "outputs": [],
      "source": [
        "#define a function to lemmatise the reviews\n",
        "def lemmatise_clean_review(review):\n",
        "    word_list = nltk.word_tokenize(review)\n",
        "    lemmatized_review = ' '.join([wnl.lemmatize(w) for w in word_list if w not in stops])\n",
        "    return lemmatized_review"
      ]
    },
    {
      "cell_type": "code",
      "execution_count": null,
      "metadata": {
        "id": "jsoBkxXgEvEE"
      },
      "outputs": [],
      "source": [
        "#lemmatise the reviews\n",
        "cleaned_reviews= [lemmatise_clean_review(review) for review in simple_cleaned_reviews]"
      ]
    },
    {
      "cell_type": "code",
      "execution_count": null,
      "metadata": {
        "id": "NtxO-Ox-EvEF"
      },
      "outputs": [],
      "source": [
        "#join all the corpus in a single string\n",
        "all_reviews=' '.join(cleaned_reviews)"
      ]
    },
    {
      "cell_type": "code",
      "execution_count": null,
      "metadata": {
        "id": "Zw6JVIy2EvEF"
      },
      "outputs": [],
      "source": [
        "#Create a frequency distribution of the words in the corpus\n",
        "all_words = nltk.FreqDist(w for w in all_reviews.split())"
      ]
    },
    {
      "cell_type": "code",
      "execution_count": null,
      "metadata": {
        "id": "Wtac6k5mrKJ6",
        "outputId": "9cffa890-29e9-4cc5-c277-8ae1126a3082",
        "colab": {
          "base_uri": "https://localhost:8080/"
        }
      },
      "outputs": [
        {
          "output_type": "execute_result",
          "data": {
            "text/plain": [
              "FreqDist({'room': 63797, 'hotel': 51002, 'night': 35632, 'day': 30273, 'staff': 29905, 'stay': 29219, 'time': 29191, 'good': 28040, 'great': 26234, 'stayed': 24497, ...})"
            ]
          },
          "metadata": {},
          "execution_count": 217
        }
      ],
      "source": [
        "all_words"
      ]
    },
    {
      "cell_type": "code",
      "execution_count": null,
      "metadata": {
        "id": "StC_0j24EvEH"
      },
      "outputs": [],
      "source": [
        "#generate a list of the 500 most common words\n",
        "N=500\n",
        "word_features = list(all_words)[:N]"
      ]
    },
    {
      "cell_type": "code",
      "execution_count": null,
      "metadata": {
        "id": "zepWdu2TrKJ6",
        "outputId": "4259bec3-ae73-4f08-bfd8-06020744ceca",
        "colab": {
          "base_uri": "https://localhost:8080/"
        }
      },
      "outputs": [
        {
          "output_type": "execute_result",
          "data": {
            "text/plain": [
              "['room',\n",
              " 'hotel',\n",
              " 'night',\n",
              " 'day',\n",
              " 'staff',\n",
              " 'stay',\n",
              " 'time',\n",
              " 'good',\n",
              " 'great',\n",
              " 'stayed',\n",
              " 'restaurant',\n",
              " 'nice',\n",
              " 'place',\n",
              " 'location',\n",
              " 'service',\n",
              " 'clean',\n",
              " 'bed',\n",
              " 'breakfast',\n",
              " 'like',\n",
              " 'bathroom',\n",
              " 'area',\n",
              " 'food',\n",
              " 'small',\n",
              " 'pool',\n",
              " 'bar',\n",
              " 'minute',\n",
              " 'thing',\n",
              " 'really',\n",
              " 'got',\n",
              " 'people']"
            ]
          },
          "metadata": {},
          "execution_count": 219
        }
      ],
      "source": [
        "#show the 30 most common features\n",
        "word_features[:30]"
      ]
    },
    {
      "cell_type": "code",
      "execution_count": null,
      "metadata": {
        "id": "kMSw4VzGEvEI"
      },
      "outputs": [],
      "source": [
        "# build a function to extract the features from each review\n",
        "def review_features(review):\n",
        "    words = nltk.word_tokenize(review)\n",
        "    features = {}\n",
        "    for word in word_features:\n",
        "        features['contains({})'.format(word)] = (word in words)\n",
        "    return features"
      ]
    },
    {
      "cell_type": "code",
      "execution_count": null,
      "metadata": {
        "id": "nqXGiTpNEvEJ"
      },
      "outputs": [],
      "source": [
        "#extract the features from each review and store this in a list\n",
        "feature_reviews =[review_features(df_shuffled['simple_cleaned_reviews'][i]) for i in range(len(df))]"
      ]
    },
    {
      "cell_type": "code",
      "execution_count": null,
      "metadata": {
        "id": "tMH6Ic1WEvEJ"
      },
      "outputs": [],
      "source": [
        "#generate a list of sets\n",
        "features_labels_set=[(feature_reviews[i],df_shuffled['sentiment'][i]) for i in range(len(df))]"
      ]
    },
    {
      "cell_type": "code",
      "execution_count": null,
      "metadata": {
        "id": "t-ebSr6LEvEK"
      },
      "outputs": [],
      "source": [
        "#splitting the data into training and test sets\n",
        "train_data=features_labels_set[:int(len(df)*0.75)]\n",
        "test_data=features_labels_set[int(len(df)*0.75):]"
      ]
    },
    {
      "cell_type": "code",
      "execution_count": null,
      "metadata": {
        "id": "ibYkzGwmEvEN"
      },
      "outputs": [],
      "source": [
        "#generating only the x test set so we will be able to predict the values and evaluate the models on the same way as the previous models\n",
        "x_test=feature_reviews[int(len(df)*0.75):]"
      ]
    },
    {
      "cell_type": "markdown",
      "metadata": {
        "id": "m1Pn0qS9rKJ7"
      },
      "source": [
        "#### Building the models\n",
        "As in the previous section, we will work with similar models as previously used.\n",
        "\n",
        "##### 1. Naive Bayes\n",
        "##### 2. Decision Tree\n",
        "##### 3. Support Vector Machine\n",
        "\n",
        "For the first two, we will use the models as they come from the NLTK library which handles this type of organisation of the data,\n",
        "for the third one, we will process it further to apply it in the sklearn model as this model is not available in NLTK anymore.\n",
        "\n",
        "\n",
        "We will start with Naive Bayes\n",
        "#### 1. Naive Bayes"
      ]
    },
    {
      "cell_type": "code",
      "execution_count": null,
      "metadata": {
        "id": "crS56TLUEvEL"
      },
      "outputs": [],
      "source": [
        "#Generate the model and train it\n",
        "NBclassifier = nltk.NaiveBayesClassifier.train(train_data)"
      ]
    },
    {
      "cell_type": "code",
      "execution_count": null,
      "metadata": {
        "id": "mJk_kqy472Sm"
      },
      "outputs": [],
      "source": [
        "#generate the prediction for the test data\n",
        "y_pred=[NBclassifier.classify(review) for review in x_test]"
      ]
    },
    {
      "cell_type": "code",
      "execution_count": null,
      "metadata": {
        "id": "Ht1NWmND77RY"
      },
      "outputs": [],
      "source": [
        "#transfer it as an array\n",
        "y_pred_array=np.array(y_pred)"
      ]
    },
    {
      "cell_type": "code",
      "execution_count": null,
      "metadata": {
        "id": "MQ6twdEO8D33"
      },
      "outputs": [],
      "source": [
        "#get the real test labels so we will be able to compare\n",
        "y_test=df_shuffled['sentiment'][int(len(df)*0.75):].values"
      ]
    },
    {
      "cell_type": "code",
      "execution_count": null,
      "metadata": {
        "id": "NwF2iMRf8GWn",
        "outputId": "3a4047bd-89b6-4d58-b67a-e1bc3c6b4b50",
        "colab": {
          "base_uri": "https://localhost:8080/",
          "height": 480
        }
      },
      "outputs": [
        {
          "output_type": "display_data",
          "data": {
            "text/plain": [
              "<Figure size 640x480 with 1 Axes>"
            ],
            "image/png": "[encoded data removed]"
          },
          "metadata": {}
        }
      ],
      "source": [
        "#generate the confusion matrix to evaluate\n",
        "matrix6=confusion_matrix(y_test,y_pred_array, labels=unique_labels)\n",
        "sns.heatmap(matrix6.T, square=True, annot=True, fmt='d', cbar=False,\n",
        "            xticklabels=unique_labels, yticklabels=unique_labels)\n",
        "plt.xlabel('true label')\n",
        "plt.ylabel('predicted label')\n",
        "plt.title('Naive Bayes, 500 features extraction')\n",
        "plt.show()"
      ]
    },
    {
      "cell_type": "code",
      "execution_count": null,
      "metadata": {
        "id": "9TY5lwj88p0h",
        "outputId": "326f1919-b9dc-45d4-f052-8e6b9e35162a",
        "colab": {
          "base_uri": "https://localhost:8080/"
        }
      },
      "outputs": [
        {
          "output_type": "execute_result",
          "data": {
            "text/plain": [
              "0.6395759717314488"
            ]
          },
          "metadata": {},
          "execution_count": 230
        }
      ],
      "source": [
        "accuracyNBFeatureExtraction=nltk.classify.accuracy(NBclassifier, test_data)\n",
        "accuracyNBFeatureExtraction"
      ]
    },
    {
      "cell_type": "code",
      "execution_count": null,
      "metadata": {
        "id": "rUYQ3gaiFFtD",
        "outputId": "99fbd4fb-e43e-4425-8521-9ba44a9b0be9",
        "colab": {
          "base_uri": "https://localhost:8080/"
        }
      },
      "outputs": [
        {
          "output_type": "execute_result",
          "data": {
            "text/plain": [
              "0.63601099144271"
            ]
          },
          "metadata": {},
          "execution_count": 231
        }
      ],
      "source": [
        "f1_macroNBFeatureExtraction=f1_score(y_test,y_pred_array, average='macro')\n",
        "f1_macroNBFeatureExtraction"
      ]
    },
    {
      "cell_type": "code",
      "execution_count": null,
      "metadata": {
        "id": "UtnjX3VKCILe",
        "outputId": "ba23235e-e89f-4f71-db20-0863d1370004",
        "colab": {
          "base_uri": "https://localhost:8080/"
        }
      },
      "outputs": [
        {
          "output_type": "execute_result",
          "data": {
            "text/plain": [
              "array([0.65420561, 0.5892266 , 0.66460076])"
            ]
          },
          "metadata": {},
          "execution_count": 232
        }
      ],
      "source": [
        "f1_NBFeatureExtraction=f1_score(y_test,y_pred_array, average=None)\n",
        "f1_NBFeatureExtraction"
      ]
    },
    {
      "cell_type": "markdown",
      "metadata": {
        "id": "jxSdK8OZrKJ9"
      },
      "source": [
        "#### The Naive Bayes classifier is capable of presenting the most informative features"
      ]
    },
    {
      "cell_type": "code",
      "execution_count": null,
      "metadata": {
        "id": "4QGxmWkOH1wA",
        "outputId": "9457f99e-b4b4-418c-9798-cd697af3daf0",
        "colab": {
          "base_uri": "https://localhost:8080/"
        }
      },
      "outputs": [
        {
          "output_type": "stream",
          "name": "stdout",
          "text": [
            "Most Informative Features\n",
            "         contains(dirty) = True              Neg : Pos    =     27.9 : 1.0\n",
            "         contains(worst) = True              Neg : Pos    =     26.4 : 1.0\n",
            "      contains(terrible) = True              Neg : Pos    =     24.2 : 1.0\n",
            "      contains(horrible) = True              Neg : Pos    =     21.3 : 1.0\n",
            "          contains(rude) = True              Neg : Pos    =     15.8 : 1.0\n",
            "         contains(worse) = True              Neg : Pos    =     13.4 : 1.0\n",
            "       contains(finally) = True              Neg : Pos    =     11.7 : 1.0\n",
            "          contains(poor) = True              Neg : Pos    =     10.2 : 1.0\n",
            "       contains(charged) = True              Neg : Pos    =     10.1 : 1.0\n",
            "         contains(sheet) = True              Neg : Pos    =     10.0 : 1.0\n",
            "      contains(employee) = True              Neg : Pos    =      9.8 : 1.0\n",
            "        contains(carpet) = True              Neg : Pos    =      9.8 : 1.0\n",
            "          contains(told) = True              Neg : Pos    =      9.4 : 1.0\n",
            "       contains(manager) = True              Neg : Pos    =      8.9 : 1.0\n",
            "         contains(smell) = True              Neg : Pos    =      8.6 : 1.0\n",
            "      contains(customer) = True              Neg : Pos    =      7.8 : 1.0\n",
            "         contains(moved) = True              Neg : Pos    =      7.4 : 1.0\n",
            "       contains(started) = True              Neg : Pos    =      7.4 : 1.0\n",
            "        contains(toilet) = True              Neg : Pos    =      7.2 : 1.0\n",
            "            contains(ok) = True              Neu : Pos    =      7.2 : 1.0\n",
            "         contains(phone) = True              Neg : Pos    =      7.1 : 1.0\n",
            "          contains(okay) = True              Neu : Pos    =      7.1 : 1.0\n",
            "       contains(average) = True              Neu : Pos    =      6.7 : 1.0\n",
            "          contains(loud) = True              Neu : Pos    =      6.5 : 1.0\n",
            "         contains(towel) = True              Neg : Pos    =      6.4 : 1.0\n",
            "        contains(unless) = True              Neu : Pos    =      6.4 : 1.0\n",
            "    contains(completely) = True              Neg : Pos    =      6.4 : 1.0\n",
            "          contains(lack) = True              Neg : Pos    =      6.3 : 1.0\n",
            "   contains(reservation) = True              Neg : Pos    =      6.3 : 1.0\n",
            "         contains(later) = True              Neg : Pos    =      6.1 : 1.0\n",
            "          contains(tiny) = True              Neg : Pos    =      6.1 : 1.0\n",
            "        contains(trying) = True              Neg : Pos    =      6.0 : 1.0\n",
            "          contains(sick) = True              Neg : Pos    =      5.8 : 1.0\n",
            "       contains(changed) = True              Neg : Pos    =      5.7 : 1.0\n",
            "         contains(guess) = True              Neg : Pos    =      5.7 : 1.0\n",
            "        contains(called) = True              Neg : Pos    =      5.7 : 1.0\n",
            "     contains(bartender) = True              Neu : Pos    =      5.6 : 1.0\n",
            "         contains(woman) = True              Neg : Pos    =      5.5 : 1.0\n",
            "         contains(child) = True              Neu : Pos    =      5.5 : 1.0\n",
            "         contains(ended) = True              Neg : Pos    =      5.5 : 1.0\n",
            "          contains(card) = True              Neg : Pos    =      5.5 : 1.0\n",
            "         contains(basic) = True              Neu : Pos    =      5.5 : 1.0\n",
            "      contains(cleaning) = True              Neg : Pos    =      5.4 : 1.0\n",
            "         contains(avoid) = True              Neg : Pos    =      5.4 : 1.0\n",
            "         contains(tried) = True              Neg : Pos    =      5.3 : 1.0\n",
            "         contains(tired) = True              Neg : Pos    =      5.3 : 1.0\n",
            " contains(unfortunately) = True              Neg : Pos    =      5.3 : 1.0\n",
            "          contains(tell) = True              Neg : Pos    =      5.3 : 1.0\n",
            "          contains(said) = True              Neg : Pos    =      5.3 : 1.0\n",
            "      contains(received) = True              Neg : Pos    =      5.3 : 1.0\n"
          ]
        }
      ],
      "source": [
        "NBclassifier.show_most_informative_features(50)"
      ]
    },
    {
      "cell_type": "markdown",
      "metadata": {
        "id": "atRM_Ma1rKJ9"
      },
      "source": [
        "It is interesting to see that some words are obvious to be in a specific class such as: 'perfect', 'loved', 'superb' as keywords for positive reviews and words such as 'worst','poor','dirty' for negatives but some words that we wouldn't expect, are actually key to classify a class. For example: 'finally' appears to be one of the keywords for negative reviews, meaning that people wrote an experience and commented how it finished. In the same way, the words 'told', 'said' and 'manager' have to do with negative reviews, as people had such bad experiences that needed to speak with the accommodation manager and they write what they were 'told'. Another interesting insight is to see 'Paris' and 'London' as keywords for positive reviews. Obviously, there are good and not so good hotels in both cities, however, people have mainly positive experiences while staying in these cities, this could be due to the high competitiveness in the touristic market and the need to provide higher than expected services to the tourists."
      ]
    },
    {
      "cell_type": "markdown",
      "metadata": {
        "id": "dwwJAZcerKJ9"
      },
      "source": [
        "#### 2. Decision Tree"
      ]
    },
    {
      "cell_type": "code",
      "source": [
        "#Create the Decision Tree classifier, train the data and predict the values for the x_test dataset. # 13mins 30s\n",
        "DTclassifier = nltk.DecisionTreeClassifier.train(train_data)\n",
        "y_pred=[DTclassifier.classify(review) for review in x_test]"
      ],
      "metadata": {
        "id": "er6vIreOS3hn"
      },
      "execution_count": null,
      "outputs": []
    },
    {
      "cell_type": "code",
      "source": [
        "import joblib\n",
        "# save the trained model to a file\n",
        "filenamedt = 'dtlemm_model.sav'\n",
        "joblib.dump(DTclassifier, filenamedt)"
      ],
      "metadata": {
        "id": "8Xd_rUeiS-ez"
      },
      "execution_count": null,
      "outputs": []
    },
    {
      "cell_type": "code",
      "source": [
        "filenamedt = 'dtlemm_model.sav'\n",
        "dt_mod = joblib.load(filenamedt)"
      ],
      "metadata": {
        "id": "C5xZkNbo1apm"
      },
      "execution_count": null,
      "outputs": []
    },
    {
      "cell_type": "code",
      "source": [
        "y_pred=[dt_mod.classify(review) for review in x_test]"
      ],
      "metadata": {
        "id": "FxhFe586TXhH"
      },
      "execution_count": null,
      "outputs": []
    },
    {
      "cell_type": "code",
      "execution_count": null,
      "metadata": {
        "id": "NdWNl3fYI7qW"
      },
      "outputs": [],
      "source": [
        "y_pred_array=np.array(y_pred)"
      ]
    },
    {
      "cell_type": "code",
      "execution_count": null,
      "metadata": {
        "id": "-P9nY_KiJBQ8",
        "outputId": "16db933a-a9c1-4914-f93c-e9c352300368",
        "colab": {
          "base_uri": "https://localhost:8080/",
          "height": 480
        }
      },
      "outputs": [
        {
          "output_type": "display_data",
          "data": {
            "text/plain": [
              "<Figure size 640x480 with 1 Axes>"
            ],
            "image/png": "[encoded data removed]"
          },
          "metadata": {}
        }
      ],
      "source": [
        "#visualise the results\n",
        "matrix7=confusion_matrix(y_test,y_pred_array, labels=unique_labels)\n",
        "sns.heatmap(matrix7.T, square=True, annot=True, fmt='d', cbar=False,\n",
        "            xticklabels=unique_labels, yticklabels=unique_labels)\n",
        "plt.xlabel('true label')\n",
        "plt.ylabel('predicted label')\n",
        "plt.title('Decision Tree model, 500 feature extraction')\n",
        "plt.show()"
      ]
    },
    {
      "cell_type": "code",
      "execution_count": null,
      "metadata": {
        "id": "ZcRwNePwLusr",
        "outputId": "c4af205a-cf16-47e5-98bf-f0ab10120f2b",
        "colab": {
          "base_uri": "https://localhost:8080/"
        }
      },
      "outputs": [
        {
          "output_type": "execute_result",
          "data": {
            "text/plain": [
              "0.7734982332155477"
            ]
          },
          "metadata": {},
          "execution_count": 240
        }
      ],
      "source": [
        "accuracyDTFeatureExtraction=nltk.classify.accuracy(dt_mod, test_data)\n",
        "accuracyDTFeatureExtraction"
      ]
    },
    {
      "cell_type": "code",
      "execution_count": null,
      "metadata": {
        "id": "1N9pZlaIL0xb",
        "outputId": "1adc2334-c2a6-4fce-84f7-b0a0f65eaa36",
        "colab": {
          "base_uri": "https://localhost:8080/"
        }
      },
      "outputs": [
        {
          "output_type": "execute_result",
          "data": {
            "text/plain": [
              "0.7726432737308092"
            ]
          },
          "metadata": {},
          "execution_count": 241
        }
      ],
      "source": [
        "f1_macroDTFeatureExtraction=f1_score(y_test,y_pred_array, average='macro')\n",
        "f1_macroDTFeatureExtraction"
      ]
    },
    {
      "cell_type": "code",
      "execution_count": null,
      "metadata": {
        "id": "e7Cka4dpMC4t",
        "outputId": "6d4c2d84-a8ad-4c5e-a84f-91187921e4d3",
        "colab": {
          "base_uri": "https://localhost:8080/"
        }
      },
      "outputs": [
        {
          "output_type": "execute_result",
          "data": {
            "text/plain": [
              "array([0.78528568, 0.72442675, 0.8082174 ])"
            ]
          },
          "metadata": {},
          "execution_count": 242
        }
      ],
      "source": [
        "f1_DTFeatureExtraction=f1_score(y_test,y_pred_array, average=None)\n",
        "f1_DTFeatureExtraction"
      ]
    },
    {
      "cell_type": "markdown",
      "metadata": {
        "id": "ogNHCh3HrKJ-"
      },
      "source": [
        "#### 3. Suport Vector Machine\n",
        "We are using the SVM from sklearn.\n",
        "But first, we need to convert the list of feature extraction dictionaries into an numpy array.\n",
        "Then, we can split the data as similarly done in the previous sections."
      ]
    },
    {
      "cell_type": "code",
      "execution_count": null,
      "metadata": {
        "id": "lCkcBO4zO2s8"
      },
      "outputs": [],
      "source": [
        "feature_reviews_list_of_list=[list(review.values()) for review in feature_reviews ]"
      ]
    },
    {
      "cell_type": "code",
      "execution_count": null,
      "metadata": {
        "id": "fLCtlrtsPMpM"
      },
      "outputs": [],
      "source": [
        "feature_reviews_array=np.array(feature_reviews_list_of_list)"
      ]
    },
    {
      "cell_type": "code",
      "execution_count": null,
      "metadata": {
        "id": "iuWPZS09PPXG"
      },
      "outputs": [],
      "source": [
        "x_train=feature_reviews_array[:int(len(df)*0.75)]\n",
        "x_test=feature_reviews_array[int(len(df)*0.75):]\n",
        "y_train=labels[:int(len(df)*0.75)]\n",
        "y_test=labels[int(len(df)*0.75):]"
      ]
    },
    {
      "cell_type": "code",
      "execution_count": null,
      "metadata": {
        "id": "norXu_sHPVy8",
        "colab": {
          "base_uri": "https://localhost:8080/",
          "height": 74
        },
        "outputId": "a6d4f901-9307-46ab-df6b-a32fd99316ab"
      },
      "outputs": [
        {
          "output_type": "execute_result",
          "data": {
            "text/plain": [
              "SVC(decision_function_shape='ovo')"
            ],
            "text/html": [
              "<style>#sk-container-id-1 {color: black;background-color: white;}#sk-container-id-1 pre{padding: 0;}#sk-container-id-1 div.sk-toggleable {background-color: white;}#sk-container-id-1 label.sk-toggleable__label {cursor: pointer;display: block;width: 100%;margin-bottom: 0;padding: 0.3em;box-sizing: border-box;text-align: center;}#sk-container-id-1 label.sk-toggleable__label-arrow:before {content: \"▸\";float: left;margin-right: 0.25em;color: #696969;}#sk-container-id-1 label.sk-toggleable__label-arrow:hover:before {color: black;}#sk-container-id-1 div.sk-estimator:hover label.sk-toggleable__label-arrow:before {color: black;}#sk-container-id-1 div.sk-toggleable__content {max-height: 0;max-width: 0;overflow: hidden;text-align: left;background-color: #f0f8ff;}#sk-container-id-1 div.sk-toggleable__content pre {margin: 0.2em;color: black;border-radius: 0.25em;background-color: #f0f8ff;}#sk-container-id-1 input.sk-toggleable__control:checked~div.sk-toggleable__content {max-height: 200px;max-width: 100%;overflow: auto;}#sk-container-id-1 input.sk-toggleable__control:checked~label.sk-toggleable__label-arrow:before {content: \"▾\";}#sk-container-id-1 div.sk-estimator input.sk-toggleable__control:checked~label.sk-toggleable__label {background-color: #d4ebff;}#sk-container-id-1 div.sk-label input.sk-toggleable__control:checked~label.sk-toggleable__label {background-color: #d4ebff;}#sk-container-id-1 input.sk-hidden--visually {border: 0;clip: rect(1px 1px 1px 1px);clip: rect(1px, 1px, 1px, 1px);height: 1px;margin: -1px;overflow: hidden;padding: 0;position: absolute;width: 1px;}#sk-container-id-1 div.sk-estimator {font-family: monospace;background-color: #f0f8ff;border: 1px dotted black;border-radius: 0.25em;box-sizing: border-box;margin-bottom: 0.5em;}#sk-container-id-1 div.sk-estimator:hover {background-color: #d4ebff;}#sk-container-id-1 div.sk-parallel-item::after {content: \"\";width: 100%;border-bottom: 1px solid gray;flex-grow: 1;}#sk-container-id-1 div.sk-label:hover label.sk-toggleable__label {background-color: #d4ebff;}#sk-container-id-1 div.sk-serial::before {content: \"\";position: absolute;border-left: 1px solid gray;box-sizing: border-box;top: 0;bottom: 0;left: 50%;z-index: 0;}#sk-container-id-1 div.sk-serial {display: flex;flex-direction: column;align-items: center;background-color: white;padding-right: 0.2em;padding-left: 0.2em;position: relative;}#sk-container-id-1 div.sk-item {position: relative;z-index: 1;}#sk-container-id-1 div.sk-parallel {display: flex;align-items: stretch;justify-content: center;background-color: white;position: relative;}#sk-container-id-1 div.sk-item::before, #sk-container-id-1 div.sk-parallel-item::before {content: \"\";position: absolute;border-left: 1px solid gray;box-sizing: border-box;top: 0;bottom: 0;left: 50%;z-index: -1;}#sk-container-id-1 div.sk-parallel-item {display: flex;flex-direction: column;z-index: 1;position: relative;background-color: white;}#sk-container-id-1 div.sk-parallel-item:first-child::after {align-self: flex-end;width: 50%;}#sk-container-id-1 div.sk-parallel-item:last-child::after {align-self: flex-start;width: 50%;}#sk-container-id-1 div.sk-parallel-item:only-child::after {width: 0;}#sk-container-id-1 div.sk-dashed-wrapped {border: 1px dashed gray;margin: 0 0.4em 0.5em 0.4em;box-sizing: border-box;padding-bottom: 0.4em;background-color: white;}#sk-container-id-1 div.sk-label label {font-family: monospace;font-weight: bold;display: inline-block;line-height: 1.2em;}#sk-container-id-1 div.sk-label-container {text-align: center;}#sk-container-id-1 div.sk-container {/* jupyter's `normalize.less` sets `[hidden] { display: none; }` but bootstrap.min.css set `[hidden] { display: none !important; }` so we also need the `!important` here to be able to override the default hidden behavior on the sphinx rendered scikit-learn.org. See: https://github.com/scikit-learn/scikit-learn/issues/21755 */display: inline-block !important;position: relative;}#sk-container-id-1 div.sk-text-repr-fallback {display: none;}</style><div id=\"sk-container-id-1\" class=\"sk-top-container\"><div class=\"sk-text-repr-fallback\"><pre>SVC(decision_function_shape=&#x27;ovo&#x27;)</pre><b>In a Jupyter environment, please rerun this cell to show the HTML representation or trust the notebook. <br />On GitHub, the HTML representation is unable to render, please try loading this page with nbviewer.org.</b></div><div class=\"sk-container\" hidden><div class=\"sk-item\"><div class=\"sk-estimator sk-toggleable\"><input class=\"sk-toggleable__control sk-hidden--visually\" id=\"sk-estimator-id-1\" type=\"checkbox\" checked><label for=\"sk-estimator-id-1\" class=\"sk-toggleable__label sk-toggleable__label-arrow\">SVC</label><div class=\"sk-toggleable__content\"><pre>SVC(decision_function_shape=&#x27;ovo&#x27;)</pre></div></div></div></div></div>"
            ]
          },
          "metadata": {},
          "execution_count": 77
        }
      ],
      "source": [
        "clfsvc_500_features = svm.SVC(decision_function_shape='ovo')\n",
        "clfsvc_500_features.fit(x_train,y_train)"
      ]
    },
    {
      "cell_type": "code",
      "source": [
        "import joblib\n",
        "# save the trained model to a file\n",
        "filename_svm = 'svmlemm_model.sav'\n",
        "joblib.dump(clfsvc_500_features, filename_svm)"
      ],
      "metadata": {
        "colab": {
          "base_uri": "https://localhost:8080/"
        },
        "id": "nSpSHC15EJi5",
        "outputId": "5cb0a488-901a-4e5b-9046-0c5a151429b4"
      },
      "execution_count": null,
      "outputs": [
        {
          "output_type": "execute_result",
          "data": {
            "text/plain": [
              "['svmlemm_model.sav']"
            ]
          },
          "metadata": {},
          "execution_count": 84
        }
      ]
    },
    {
      "cell_type": "code",
      "source": [
        "filename_svm = 'svmlemm_model.sav'\n",
        "svmlemm_mod = joblib.load(filename_svm)"
      ],
      "metadata": {
        "id": "rEos8mxSEX31"
      },
      "execution_count": null,
      "outputs": []
    },
    {
      "cell_type": "code",
      "source": [
        "y_pred=svmlemm_mod.predict(x_test)"
      ],
      "metadata": {
        "id": "-WwU9g90TsNZ"
      },
      "execution_count": null,
      "outputs": []
    },
    {
      "cell_type": "code",
      "execution_count": null,
      "metadata": {
        "id": "xx1sqrYOPZ2k"
      },
      "outputs": [],
      "source": [
        "y_pred=clfsvc_500_features.predict(x_test)"
      ]
    },
    {
      "cell_type": "code",
      "execution_count": null,
      "metadata": {
        "id": "vg-82M1aUJnr",
        "outputId": "8a85f0e5-7bb1-46ea-fba5-f9ceaf35327f",
        "colab": {
          "base_uri": "https://localhost:8080/",
          "height": 480
        }
      },
      "outputs": [
        {
          "output_type": "display_data",
          "data": {
            "text/plain": [
              "<Figure size 640x480 with 1 Axes>"
            ],
            "image/png": "[encoded data removed]"
          },
          "metadata": {}
        }
      ],
      "source": [
        "matrix8=confusion_matrix(y_test,y_pred, labels=unique_labels)\n",
        "sns.heatmap(matrix8.T, square=True, annot=True, fmt='d', cbar=False,\n",
        "            xticklabels=unique_labels, yticklabels=unique_labels)\n",
        "plt.xlabel('true label')\n",
        "plt.ylabel('predicted label')\n",
        "plt.title('Suport Vector Machine model, 500 feature extraction')\n",
        "plt.show()"
      ]
    },
    {
      "cell_type": "code",
      "execution_count": null,
      "metadata": {
        "id": "hZttGWUhUlYL",
        "outputId": "afcbaeed-508c-4c24-cf7e-961a5090ddea",
        "colab": {
          "base_uri": "https://localhost:8080/"
        }
      },
      "outputs": [
        {
          "output_type": "execute_result",
          "data": {
            "text/plain": [
              "0.9295936395759717"
            ]
          },
          "metadata": {},
          "execution_count": 249
        }
      ],
      "source": [
        "accuracySVMFeatureExtraction=accuracy_score(y_test, y_pred)\n",
        "accuracySVMFeatureExtraction"
      ]
    },
    {
      "cell_type": "code",
      "execution_count": null,
      "metadata": {
        "id": "SqCzu-eqU7dD",
        "outputId": "b17f6aaf-6a62-4738-b748-c913c8c9cef0",
        "colab": {
          "base_uri": "https://localhost:8080/"
        }
      },
      "outputs": [
        {
          "output_type": "execute_result",
          "data": {
            "text/plain": [
              "0.9295970430950833"
            ]
          },
          "metadata": {},
          "execution_count": 250
        }
      ],
      "source": [
        "f1_macroSVMFeatureExtraction=f1_score(y_test, y_pred, average='macro')\n",
        "f1_macroSVMFeatureExtraction"
      ]
    },
    {
      "cell_type": "code",
      "execution_count": null,
      "metadata": {
        "id": "c3b5toz5VY4r",
        "outputId": "640f7f8e-a43c-41e7-8ee4-c043cca4da93",
        "colab": {
          "base_uri": "https://localhost:8080/"
        }
      },
      "outputs": [
        {
          "output_type": "execute_result",
          "data": {
            "text/plain": [
              "array([0.95103229, 0.92272788, 0.91503096])"
            ]
          },
          "metadata": {},
          "execution_count": 251
        }
      ],
      "source": [
        "f1_SVMFeatureExtraction=f1_score(y_test, y_pred, average=None)\n",
        "f1_SVMFeatureExtraction"
      ]
    },
    {
      "cell_type": "markdown",
      "metadata": {
        "id": "gxH8KZtarKKA"
      },
      "source": [
        "#### 5.4. No pre-processs\n",
        "For the last part of the project, instead of building models, we will use already created sentiment analysis models which give a sentiment score to sentences. We will use this score to predict the sentiment of a review and then evaluate its performance. In this case, there is no need for pre-processing.\n",
        "\n",
        "We will try using two lexicon-based models for sentiment analysis:\n",
        "1. TextBlob\n",
        "2. NLTK\n",
        "\n",
        "As we are not training a model, we won't split the data into training and test sets, we will just test the models\n",
        "\n",
        "\n",
        "We will start with the first lexicon model\n",
        "#### 1. TextBlob"
      ]
    },
    {
      "cell_type": "code",
      "execution_count": null,
      "metadata": {
        "id": "UtY8kfLyVjq2"
      },
      "outputs": [],
      "source": [
        "import textblob\n",
        "from textblob import TextBlob"
      ]
    },
    {
      "cell_type": "code",
      "execution_count": null,
      "metadata": {
        "id": "3N3K6ag8V3g0"
      },
      "outputs": [],
      "source": [
        "#define a function to predict the sentiment using the polarity value from the TextBlob model.\n",
        "#The reviews which polarity value are close to 0 will be classified as neutral\n",
        "#The reviews with positive polarity higher than 0.1 will be classified as Positives\n",
        "#And the reviews with negative polarity, lower than 0.1 will be classified as Negatives\n",
        "def predict_sentiment(review):\n",
        "    result=TextBlob(review).sentiment\n",
        "    if result.polarity >0.1:\n",
        "        sentiment='Pos'\n",
        "    elif result.polarity<-0.1:\n",
        "        sentiment='Neg'\n",
        "    else:\n",
        "        sentiment='Neu'\n",
        "    return sentiment"
      ]
    },
    {
      "cell_type": "code",
      "execution_count": null,
      "metadata": {
        "id": "_7FFk98EV51c"
      },
      "outputs": [],
      "source": [
        "#predict the sentiment for each of the reviews\n",
        "text_blob_sentiments=[predict_sentiment(df_shuffled['review'][i]) for i in range(len(df)) ]"
      ]
    },
    {
      "cell_type": "code",
      "execution_count": null,
      "metadata": {
        "id": "YaFjQGOfV-Ar"
      },
      "outputs": [],
      "source": [
        "#get the real sentiment\n",
        "real_sentiments=list(df_shuffled['sentiment'])"
      ]
    },
    {
      "cell_type": "code",
      "execution_count": null,
      "metadata": {
        "id": "n19WPi3pWHdj",
        "outputId": "4573cbcf-9e5b-4dd4-c347-5fd509943d85",
        "colab": {
          "base_uri": "https://localhost:8080/",
          "height": 480
        }
      },
      "outputs": [
        {
          "output_type": "display_data",
          "data": {
            "text/plain": [
              "<Figure size 640x480 with 1 Axes>"
            ],
            "image/png": "[encoded data removed]"
          },
          "metadata": {}
        }
      ],
      "source": [
        "#visualise the results\n",
        "matrix9=confusion_matrix(real_sentiments,text_blob_sentiments, labels=unique_labels)\n",
        "sns.heatmap(matrix9.T, square=True, annot=True, fmt='d', cbar=False,\n",
        "            xticklabels=unique_labels, yticklabels=unique_labels)\n",
        "plt.xlabel('true label')\n",
        "plt.ylabel('predicted label')\n",
        "plt.title('Textblob lexicon for sentiment analysis')\n",
        "plt.show()"
      ]
    },
    {
      "cell_type": "code",
      "execution_count": null,
      "metadata": {
        "id": "mRD8XnBBWJ3r",
        "outputId": "7d01a370-85ab-4d5c-caf9-8009458191f6",
        "colab": {
          "base_uri": "https://localhost:8080/"
        }
      },
      "outputs": [
        {
          "output_type": "execute_result",
          "data": {
            "text/plain": [
              "0.41984142759336557"
            ]
          },
          "metadata": {},
          "execution_count": 90
        }
      ],
      "source": [
        "#get the evaluation metrics\n",
        "accuracyTextBlobLexicon=accuracy_score(real_sentiments, text_blob_sentiments)\n",
        "accuracyTextBlobLexicon"
      ]
    },
    {
      "cell_type": "code",
      "execution_count": null,
      "metadata": {
        "id": "G1LSzfmDW-jL",
        "outputId": "7b563ee8-6fc9-4d4d-ee99-e45b67d192b1",
        "colab": {
          "base_uri": "https://localhost:8080/"
        }
      },
      "outputs": [
        {
          "output_type": "execute_result",
          "data": {
            "text/plain": [
              "0.33976419891886006"
            ]
          },
          "metadata": {},
          "execution_count": 91
        }
      ],
      "source": [
        "f1_macroTextBlobLexicon=f1_score(real_sentiments, text_blob_sentiments, average='macro')\n",
        "f1_macroTextBlobLexicon"
      ]
    },
    {
      "cell_type": "code",
      "execution_count": null,
      "metadata": {
        "id": "9RBCEdSjXOKz",
        "outputId": "2461f797-3bd5-4582-ac08-e6d53102c45b",
        "colab": {
          "base_uri": "https://localhost:8080/"
        }
      },
      "outputs": [
        {
          "output_type": "execute_result",
          "data": {
            "text/plain": [
              "array([0.16844015, 0.22563954, 0.62521291])"
            ]
          },
          "metadata": {},
          "execution_count": 92
        }
      ],
      "source": [
        "f1_TextBlobLexicon=f1_score(real_sentiments, text_blob_sentiments, average=None)\n",
        "f1_TextBlobLexicon"
      ]
    },
    {
      "cell_type": "markdown",
      "metadata": {
        "id": "7lDInPZErKKB"
      },
      "source": [
        "#### 2. NLTK"
      ]
    },
    {
      "cell_type": "code",
      "execution_count": null,
      "metadata": {
        "id": "vUAjCrblXuT7",
        "outputId": "32a48346-46c8-4682-da15-594baf6f4975",
        "colab": {
          "base_uri": "https://localhost:8080/"
        }
      },
      "outputs": [
        {
          "output_type": "stream",
          "name": "stderr",
          "text": [
            "[nltk_data] Downloading package vader_lexicon to /root/nltk_data...\n"
          ]
        }
      ],
      "source": [
        "from nltk.sentiment.vader import SentimentIntensityAnalyzer\n",
        "nltk.download('vader_lexicon')\n",
        "sia=SentimentIntensityAnalyzer()"
      ]
    },
    {
      "cell_type": "code",
      "execution_count": null,
      "metadata": {
        "id": "Xofpmrk7YIL6"
      },
      "outputs": [],
      "source": [
        "#define a function to predict the sentiment using the polarity value from the NLTK model built with Vader lexicon.\n",
        "#The reviews which polarity value are close to 0 will be classified as neutral\n",
        "#The reviews with positive polarity higher than 0.1 will be classified as Positives\n",
        "#And the reviews with negative polarity, lower than 0.1 will be classified as Negatives\n",
        "def predict_vader_sentiment(review):\n",
        "    result=sia.polarity_scores(review)['compound']\n",
        "    if result >0.1:\n",
        "        sentiment='Pos'\n",
        "    elif result <-0.1:\n",
        "        sentiment='Neg'\n",
        "    else:\n",
        "        sentiment='Neu'\n",
        "    return sentiment"
      ]
    },
    {
      "cell_type": "code",
      "execution_count": null,
      "metadata": {
        "id": "qf57SEQpYOKz"
      },
      "outputs": [],
      "source": [
        "vader_sentiments=[predict_vader_sentiment(df_shuffled['review'][i]) for i in range(len(df))]"
      ]
    },
    {
      "cell_type": "code",
      "execution_count": null,
      "metadata": {
        "id": "_Txyh2QvYQzS",
        "outputId": "99e60c61-aaee-43f6-9069-77439942ecee",
        "colab": {
          "base_uri": "https://localhost:8080/",
          "height": 480
        }
      },
      "outputs": [
        {
          "output_type": "display_data",
          "data": {
            "text/plain": [
              "<Figure size 640x480 with 1 Axes>"
            ],
            "image/png": "[encoded data removed]"
          },
          "metadata": {}
        }
      ],
      "source": [
        "matrix10=confusion_matrix(real_sentiments,vader_sentiments, labels=unique_labels)\n",
        "sns.heatmap(matrix10.T, square=True, annot=True, fmt='d', cbar=False,\n",
        "            xticklabels=unique_labels, yticklabels=unique_labels)\n",
        "plt.xlabel('true label')\n",
        "plt.ylabel('predicted label')\n",
        "plt.title('NLTK vader lexicon for sentiment analysis')\n",
        "plt.show()"
      ]
    },
    {
      "cell_type": "code",
      "execution_count": null,
      "metadata": {
        "id": "ESuGLRnqY5WC",
        "outputId": "f201bbf1-71e3-4062-d845-0984295eb7f0",
        "colab": {
          "base_uri": "https://localhost:8080/"
        }
      },
      "outputs": [
        {
          "output_type": "execute_result",
          "data": {
            "text/plain": [
              "0.4304202831334614"
            ]
          },
          "metadata": {},
          "execution_count": 97
        }
      ],
      "source": [
        "accuracyNLTKVaderLexicon=accuracy_score(real_sentiments, vader_sentiments)\n",
        "accuracyNLTKVaderLexicon"
      ]
    },
    {
      "cell_type": "code",
      "execution_count": null,
      "metadata": {
        "id": "vzWrzWNkZMOz",
        "outputId": "ab2c6d65-9314-426e-8b10-914d6d51525a",
        "colab": {
          "base_uri": "https://localhost:8080/"
        }
      },
      "outputs": [
        {
          "output_type": "execute_result",
          "data": {
            "text/plain": [
              "0.334683630320294"
            ]
          },
          "metadata": {},
          "execution_count": 98
        }
      ],
      "source": [
        "f1_macroNLTKVaderLexicon=f1_score(real_sentiments, vader_sentiments, average='macro')\n",
        "f1_macroNLTKVaderLexicon"
      ]
    },
    {
      "cell_type": "code",
      "execution_count": null,
      "metadata": {
        "id": "h4FdjXPaZs2L",
        "outputId": "8ab843cf-5770-4beb-97a6-3c2ae11724b9",
        "colab": {
          "base_uri": "https://localhost:8080/"
        }
      },
      "outputs": [
        {
          "output_type": "execute_result",
          "data": {
            "text/plain": [
              "array([0.44506231, 0.01492252, 0.54406606])"
            ]
          },
          "metadata": {},
          "execution_count": 99
        }
      ],
      "source": [
        "f1_NLTKVaderLexicon=f1_score(real_sentiments, vader_sentiments, average=None)\n",
        "f1_NLTKVaderLexicon"
      ]
    },
    {
      "cell_type": "markdown",
      "metadata": {
        "id": "delwoVvKe0Gw"
      },
      "source": [
        "# iii. Conclusions\n",
        "## 9. Evaluations\n",
        "In order to evaluate all the models together, we will tabulate all the results in a single DataFrame"
      ]
    },
    {
      "cell_type": "code",
      "source": [
        "#join all the f1 arrays into a single array\n",
        "f1_summary=np.concatenate((f1NB,f1_GNB,f1_MNNB,f1_DT,f1_SVM,\n",
        "                                  f1_LogReg,f1_RanFor,f1_KNN,f1_NBFeatureExtraction,f1_DTFeatureExtraction,\n",
        "                                  f1_SVMFeatureExtraction, f1_TextBlobLexicon, f1_NLTKVaderLexicon), axis=0)\n",
        "#reshape it to the correct shape\n",
        "f1_summary=f1_summary.reshape((13,3))\n",
        "#create a dataframe\n",
        "f1_df=pd.DataFrame(f1_summary, columns=[\"f1_'Neg'\", \"f1_'Neu\",\"f1_'Pos\"])"
      ],
      "metadata": {
        "id": "2c8iK8nqYNsz"
      },
      "execution_count": null,
      "outputs": []
    },
    {
      "cell_type": "code",
      "source": [
        "#create a dataframe to summarise the preprocessing techniques, the models and the evaluation metrics\n",
        "summary=pd.DataFrame({'Pre-processing':['bag of words','lemmatisation and BoW','lemmatisation and BoW',\n",
        "                                       'lemmatisation and BoW','lemmatisation and BoW','lemmatisation and BoW','lemmatisation and BoW',\n",
        "                                       'lemmatisation and BoW','lemmatisation and feature extraction',\n",
        "                                       'lemmatisation and feature extraction','lemmatisation and feature extraction',\" \",\" \"],\n",
        "                      'Model':['Gaussian Naive Bayes','Gaussian Naive Bayes','Multinomial Naive Bayes', 'Decision Tree',\n",
        "                               'Support Vector Machine', 'Logistic Regression', 'Random Forest', 'KNN','Naive Bayes','Decision Tree',\n",
        "                               'Support Vector Machine','TextBlob Lexicon', 'NLTK Vader Lexicon'],\n",
        "                      'Accuracy':[accuracyNB,accuracyGNB,accuracyMNNB,accuracyDT,accuracySVM,\n",
        "                                  accuracyLogReg,accuracyRanFor,accuracyKNN,accuracyNBFeatureExtraction, accuracyDTFeatureExtraction,\n",
        "                                   accuracySVMFeatureExtraction, accuracyTextBlobLexicon,\n",
        "                                  accuracyNLTKVaderLexicon],\n",
        "                     'f1_macroaveraging':[f1_macroNB,f1_macroGNB,f1_macroMNNB,f1_macroDT,f1_macroSVM,\n",
        "                                  f1_macroLogReg,f1_macroRanFor,f1_macroKNN,f1_macroNBFeatureExtraction,f1_macroDTFeatureExtraction,\n",
        "                                  f1_macroSVMFeatureExtraction, f1_macroTextBlobLexicon, f1_macroNLTKVaderLexicon]})\n",
        "summary=pd.concat((summary,f1_df), axis=1)\n",
        "summary"
      ],
      "metadata": {
        "colab": {
          "base_uri": "https://localhost:8080/",
          "height": 457
        },
        "id": "Y1VBazfgYbJz",
        "outputId": "8f58e3c7-2948-4802-87a5-336d60f89e75"
      },
      "execution_count": null,
      "outputs": [
        {
          "output_type": "execute_result",
          "data": {
            "text/plain": [
              "                          Pre-processing                    Model  Accuracy  \\\n",
              "0                           bag of words     Gaussian Naive Bayes  0.751325   \n",
              "1                  lemmatisation and BoW     Gaussian Naive Bayes  0.756625   \n",
              "2                  lemmatisation and BoW  Multinomial Naive Bayes  0.767314   \n",
              "3                  lemmatisation and BoW            Decision Tree  0.809806   \n",
              "4                  lemmatisation and BoW   Support Vector Machine  0.987456   \n",
              "5                  lemmatisation and BoW      Logistic Regression  0.827297   \n",
              "6                  lemmatisation and BoW            Random Forest  0.822438   \n",
              "7                  lemmatisation and BoW                      KNN  0.938516   \n",
              "8   lemmatisation and feature extraction              Naive Bayes  0.639576   \n",
              "9   lemmatisation and feature extraction            Decision Tree  0.773498   \n",
              "10  lemmatisation and feature extraction   Support Vector Machine  0.929594   \n",
              "11                                               TextBlob Lexicon  0.419841   \n",
              "12                                             NLTK Vader Lexicon  0.430420   \n",
              "\n",
              "    f1_macroaveraging  f1_'Neg'   f1_'Neu   f1_'Pos  \n",
              "0            0.750547  0.803796  0.668010  0.779835  \n",
              "1            0.755446  0.807659  0.677833  0.780845  \n",
              "2            0.767209  0.807923  0.685532  0.808173  \n",
              "3            0.809451  0.838184  0.815004  0.775164  \n",
              "4            0.987451  0.992857  0.986737  0.982759  \n",
              "5            0.827071  0.845979  0.780657  0.854576  \n",
              "6            0.823666  0.858145  0.813193  0.799659  \n",
              "7            0.938907  0.943943  0.958133  0.914643  \n",
              "8            0.636011  0.654206  0.589227  0.664601  \n",
              "9            0.772643  0.785286  0.724427  0.808217  \n",
              "10           0.929597  0.951032  0.922728  0.915031  \n",
              "11           0.339764  0.168440  0.225640  0.625213  \n",
              "12           0.334684  0.445062  0.014923  0.544066  "
            ],
            "text/html": [
              "\n",
              "  <div id=\"df-36c08b49-d8c6-46ce-acf6-ac786aff1ea3\">\n",
              "    <div class=\"colab-df-container\">\n",
              "      <div>\n",
              "<style scoped>\n",
              "    .dataframe tbody tr th:only-of-type {\n",
              "        vertical-align: middle;\n",
              "    }\n",
              "\n",
              "    .dataframe tbody tr th {\n",
              "        vertical-align: top;\n",
              "    }\n",
              "\n",
              "    .dataframe thead th {\n",
              "        text-align: right;\n",
              "    }\n",
              "</style>\n",
              "<table border=\"1\" class=\"dataframe\">\n",
              "  <thead>\n",
              "    <tr style=\"text-align: right;\">\n",
              "      <th></th>\n",
              "      <th>Pre-processing</th>\n",
              "      <th>Model</th>\n",
              "      <th>Accuracy</th>\n",
              "      <th>f1_macroaveraging</th>\n",
              "      <th>f1_'Neg'</th>\n",
              "      <th>f1_'Neu</th>\n",
              "      <th>f1_'Pos</th>\n",
              "    </tr>\n",
              "  </thead>\n",
              "  <tbody>\n",
              "    <tr>\n",
              "      <th>0</th>\n",
              "      <td>bag of words</td>\n",
              "      <td>Gaussian Naive Bayes</td>\n",
              "      <td>0.751325</td>\n",
              "      <td>0.750547</td>\n",
              "      <td>0.803796</td>\n",
              "      <td>0.668010</td>\n",
              "      <td>0.779835</td>\n",
              "    </tr>\n",
              "    <tr>\n",
              "      <th>1</th>\n",
              "      <td>lemmatisation and BoW</td>\n",
              "      <td>Gaussian Naive Bayes</td>\n",
              "      <td>0.756625</td>\n",
              "      <td>0.755446</td>\n",
              "      <td>0.807659</td>\n",
              "      <td>0.677833</td>\n",
              "      <td>0.780845</td>\n",
              "    </tr>\n",
              "    <tr>\n",
              "      <th>2</th>\n",
              "      <td>lemmatisation and BoW</td>\n",
              "      <td>Multinomial Naive Bayes</td>\n",
              "      <td>0.767314</td>\n",
              "      <td>0.767209</td>\n",
              "      <td>0.807923</td>\n",
              "      <td>0.685532</td>\n",
              "      <td>0.808173</td>\n",
              "    </tr>\n",
              "    <tr>\n",
              "      <th>3</th>\n",
              "      <td>lemmatisation and BoW</td>\n",
              "      <td>Decision Tree</td>\n",
              "      <td>0.809806</td>\n",
              "      <td>0.809451</td>\n",
              "      <td>0.838184</td>\n",
              "      <td>0.815004</td>\n",
              "      <td>0.775164</td>\n",
              "    </tr>\n",
              "    <tr>\n",
              "      <th>4</th>\n",
              "      <td>lemmatisation and BoW</td>\n",
              "      <td>Support Vector Machine</td>\n",
              "      <td>0.987456</td>\n",
              "      <td>0.987451</td>\n",
              "      <td>0.992857</td>\n",
              "      <td>0.986737</td>\n",
              "      <td>0.982759</td>\n",
              "    </tr>\n",
              "    <tr>\n",
              "      <th>5</th>\n",
              "      <td>lemmatisation and BoW</td>\n",
              "      <td>Logistic Regression</td>\n",
              "      <td>0.827297</td>\n",
              "      <td>0.827071</td>\n",
              "      <td>0.845979</td>\n",
              "      <td>0.780657</td>\n",
              "      <td>0.854576</td>\n",
              "    </tr>\n",
              "    <tr>\n",
              "      <th>6</th>\n",
              "      <td>lemmatisation and BoW</td>\n",
              "      <td>Random Forest</td>\n",
              "      <td>0.822438</td>\n",
              "      <td>0.823666</td>\n",
              "      <td>0.858145</td>\n",
              "      <td>0.813193</td>\n",
              "      <td>0.799659</td>\n",
              "    </tr>\n",
              "    <tr>\n",
              "      <th>7</th>\n",
              "      <td>lemmatisation and BoW</td>\n",
              "      <td>KNN</td>\n",
              "      <td>0.938516</td>\n",
              "      <td>0.938907</td>\n",
              "      <td>0.943943</td>\n",
              "      <td>0.958133</td>\n",
              "      <td>0.914643</td>\n",
              "    </tr>\n",
              "    <tr>\n",
              "      <th>8</th>\n",
              "      <td>lemmatisation and feature extraction</td>\n",
              "      <td>Naive Bayes</td>\n",
              "      <td>0.639576</td>\n",
              "      <td>0.636011</td>\n",
              "      <td>0.654206</td>\n",
              "      <td>0.589227</td>\n",
              "      <td>0.664601</td>\n",
              "    </tr>\n",
              "    <tr>\n",
              "      <th>9</th>\n",
              "      <td>lemmatisation and feature extraction</td>\n",
              "      <td>Decision Tree</td>\n",
              "      <td>0.773498</td>\n",
              "      <td>0.772643</td>\n",
              "      <td>0.785286</td>\n",
              "      <td>0.724427</td>\n",
              "      <td>0.808217</td>\n",
              "    </tr>\n",
              "    <tr>\n",
              "      <th>10</th>\n",
              "      <td>lemmatisation and feature extraction</td>\n",
              "      <td>Support Vector Machine</td>\n",
              "      <td>0.929594</td>\n",
              "      <td>0.929597</td>\n",
              "      <td>0.951032</td>\n",
              "      <td>0.922728</td>\n",
              "      <td>0.915031</td>\n",
              "    </tr>\n",
              "    <tr>\n",
              "      <th>11</th>\n",
              "      <td></td>\n",
              "      <td>TextBlob Lexicon</td>\n",
              "      <td>0.419841</td>\n",
              "      <td>0.339764</td>\n",
              "      <td>0.168440</td>\n",
              "      <td>0.225640</td>\n",
              "      <td>0.625213</td>\n",
              "    </tr>\n",
              "    <tr>\n",
              "      <th>12</th>\n",
              "      <td></td>\n",
              "      <td>NLTK Vader Lexicon</td>\n",
              "      <td>0.430420</td>\n",
              "      <td>0.334684</td>\n",
              "      <td>0.445062</td>\n",
              "      <td>0.014923</td>\n",
              "      <td>0.544066</td>\n",
              "    </tr>\n",
              "  </tbody>\n",
              "</table>\n",
              "</div>\n",
              "      <button class=\"colab-df-convert\" onclick=\"convertToInteractive('df-36c08b49-d8c6-46ce-acf6-ac786aff1ea3')\"\n",
              "              title=\"Convert this dataframe to an interactive table.\"\n",
              "              style=\"display:none;\">\n",
              "        \n",
              "  <svg xmlns=\"http://www.w3.org/2000/svg\" height=\"24px\"viewBox=\"0 0 24 24\"\n",
              "       width=\"24px\">\n",
              "    <path d=\"M0 0h24v24H0V0z\" fill=\"none\"/>\n",
              "    <path d=\"M18.56 5.44l.94 2.06.94-2.06 2.06-.94-2.06-.94-.94-2.06-.94 2.06-2.06.94zm-11 1L8.5 8.5l.94-2.06 2.06-.94-2.06-.94L8.5 2.5l-.94 2.06-2.06.94zm10 10l.94 2.06.94-2.06 2.06-.94-2.06-.94-.94-2.06-.94 2.06-2.06.94z\"/><path d=\"M17.41 7.96l-1.37-1.37c-.4-.4-.92-.59-1.43-.59-.52 0-1.04.2-1.43.59L10.3 9.45l-7.72 7.72c-.78.78-.78 2.05 0 2.83L4 21.41c.39.39.9.59 1.41.59.51 0 1.02-.2 1.41-.59l7.78-7.78 2.81-2.81c.8-.78.8-2.07 0-2.86zM5.41 20L4 18.59l7.72-7.72 1.47 1.35L5.41 20z\"/>\n",
              "  </svg>\n",
              "      </button>\n",
              "      \n",
              "  <style>\n",
              "    .colab-df-container {\n",
              "      display:flex;\n",
              "      flex-wrap:wrap;\n",
              "      gap: 12px;\n",
              "    }\n",
              "\n",
              "    .colab-df-convert {\n",
              "      background-color: #E8F0FE;\n",
              "      border: none;\n",
              "      border-radius: 50%;\n",
              "      cursor: pointer;\n",
              "      display: none;\n",
              "      fill: #1967D2;\n",
              "      height: 32px;\n",
              "      padding: 0 0 0 0;\n",
              "      width: 32px;\n",
              "    }\n",
              "\n",
              "    .colab-df-convert:hover {\n",
              "      background-color: #E2EBFA;\n",
              "      box-shadow: 0px 1px 2px rgba(60, 64, 67, 0.3), 0px 1px 3px 1px rgba(60, 64, 67, 0.15);\n",
              "      fill: #174EA6;\n",
              "    }\n",
              "\n",
              "    [theme=dark] .colab-df-convert {\n",
              "      background-color: #3B4455;\n",
              "      fill: #D2E3FC;\n",
              "    }\n",
              "\n",
              "    [theme=dark] .colab-df-convert:hover {\n",
              "      background-color: #434B5C;\n",
              "      box-shadow: 0px 1px 3px 1px rgba(0, 0, 0, 0.15);\n",
              "      filter: drop-shadow(0px 1px 2px rgba(0, 0, 0, 0.3));\n",
              "      fill: #FFFFFF;\n",
              "    }\n",
              "  </style>\n",
              "\n",
              "      <script>\n",
              "        const buttonEl =\n",
              "          document.querySelector('#df-36c08b49-d8c6-46ce-acf6-ac786aff1ea3 button.colab-df-convert');\n",
              "        buttonEl.style.display =\n",
              "          google.colab.kernel.accessAllowed ? 'block' : 'none';\n",
              "\n",
              "        async function convertToInteractive(key) {\n",
              "          const element = document.querySelector('#df-36c08b49-d8c6-46ce-acf6-ac786aff1ea3');\n",
              "          const dataTable =\n",
              "            await google.colab.kernel.invokeFunction('convertToInteractive',\n",
              "                                                     [key], {});\n",
              "          if (!dataTable) return;\n",
              "\n",
              "          const docLinkHtml = 'Like what you see? Visit the ' +\n",
              "            '<a target=\"_blank\" href=https://colab.research.google.com/notebooks/data_table.ipynb>data table notebook</a>'\n",
              "            + ' to learn more about interactive tables.';\n",
              "          element.innerHTML = '';\n",
              "          dataTable['output_type'] = 'display_data';\n",
              "          await google.colab.output.renderOutput(dataTable, element);\n",
              "          const docLink = document.createElement('div');\n",
              "          docLink.innerHTML = docLinkHtml;\n",
              "          element.appendChild(docLink);\n",
              "        }\n",
              "      </script>\n",
              "    </div>\n",
              "  </div>\n",
              "  "
            ]
          },
          "metadata": {},
          "execution_count": 315
        }
      ]
    },
    {
      "cell_type": "markdown",
      "source": [
        "## Let's Plot the Accuracy and f1_macroavg"
      ],
      "metadata": {
        "id": "zu1KNhvFV6r2"
      }
    },
    {
      "cell_type": "code",
      "source": [
        "import matplotlib.pyplot as plt\n",
        "\n",
        "# create a figure and axis object\n",
        "fig, ax = plt.subplots()\n",
        "\n",
        "# plot the accuracy values as a horizontal bar chart\n",
        "ax.barh(summary.index, summary['Accuracy'])\n",
        "\n",
        "# set the y-axis tick labels to the model names\n",
        "ax.set_yticks(summary.index)\n",
        "ax.set_yticklabels(summary['Model'])\n",
        "\n",
        "# set the axis labels and title\n",
        "ax.set_xlabel('Accuracy')\n",
        "ax.set_ylabel('Model')\n",
        "ax.set_title('Model Accuracy')\n",
        "\n",
        "# display the plot\n",
        "plt.show()"
      ],
      "metadata": {
        "colab": {
          "base_uri": "https://localhost:8080/",
          "height": 480
        },
        "id": "sMHvG0AOVrAv",
        "outputId": "c3ba33ba-4e90-4144-d7b2-a07ff2411840"
      },
      "execution_count": null,
      "outputs": [
        {
          "output_type": "display_data",
          "data": {
            "text/plain": [
              "<Figure size 640x480 with 1 Axes>"
            ],
            "image/png": "[encoded data removed]"
          },
          "metadata": {}
        }
      ]
    },
    {
      "cell_type": "code",
      "source": [
        "import matplotlib.pyplot as plt\n",
        "\n",
        "# create a figure and axis object\n",
        "fig, ax = plt.subplots()\n",
        "\n",
        "# plot the f1_macroaveraging values as a horizontal bar chart\n",
        "ax.barh(summary.index, summary['f1_macroaveraging'])\n",
        "\n",
        "# set the y-axis tick labels to the model names\n",
        "ax.set_yticks(summary.index)\n",
        "ax.set_yticklabels(summary['Model'])\n",
        "\n",
        "# set the axis labels and title\n",
        "ax.set_xlabel('f1_macroaveraging')\n",
        "ax.set_ylabel('Model')\n",
        "ax.set_title('Model f1_macroaveraging')\n",
        "\n",
        "# display the plot\n",
        "plt.show()"
      ],
      "metadata": {
        "colab": {
          "base_uri": "https://localhost:8080/",
          "height": 480
        },
        "id": "Escshe0GVy_t",
        "outputId": "eeb820e9-6150-4708-fab8-de6f8cd68fdc"
      },
      "execution_count": null,
      "outputs": [
        {
          "output_type": "display_data",
          "data": {
            "text/plain": [
              "<Figure size 640x480 with 1 Axes>"
            ],
            "image/png": "[encoded data removed]"
          },
          "metadata": {}
        }
      ]
    },
    {
      "cell_type": "markdown",
      "metadata": {
        "id": "mUtED8jMrKKD"
      },
      "source": [
        "From the summary table, we can see that most of the models were able to improve the accuracy of the baseline model however, not all of them improved the overall f1 measure when macroaveraging.\n",
        "\n",
        "Most of the models improved the positive’s and negative’s f1 and as well as the accuracy. However, they performed poorly when classifying the neutral reviews. This is because it is a difficult task. Generally, the people who classify something neutral have equally weighted positive and negative thoughts so overall they score their hotel as neutral.\n",
        "\n",
        "An efficient model is the one capable of classifying positive and negative reviews, hence we would look at the models which were better in this task.\n",
        "\n",
        "In addition, we see that the dataset-trained models performed better than the lexicon-based models that are often used for sentiment analysis, as these are general, while our models are problem-specific.\n",
        "\n",
        "The best models, which have the highest f1 for Negative and Positive reviews, the highest accuracy rates and the highest f1 with macro averaging are the ones that used Support Vector Machines. SVMs are known as one of the most robust machine learning models and they were the most popular before Neural Networks were popularised.\n",
        "Out of the three models with SVM, the models with the pre-processing that involved addition of lemmatisation and Bag of words, perform better than the model with lemmatisation and feature extractions. These models achieved an f1 for the positive reviews higher than 0.98 and around 0.99 for the negatives. Even though we tried to improve the SVM model by taking into account the imbalance of the dataset, this didn’t help. Hence, the best model is the model with the simple SVM without any hyperparameters, achieving an 98.7% accuracy and an f1 with macroaveraging of 0.98%. This will be the model to be proposed as a sentiment analysis predictor for the accommodation sector in the tourism industry.\n",
        "\n",
        "## 10. Evaluation of the project and its results\n",
        "We have trained and evaluated thirteen different combinations of models and pre-processing techniques. From this, we found that the combination of embeddings, lemmatisation and bag of words together with SVM, is the best text classifier model for sentiment analysis.\n",
        "\n",
        "The creation of this model fulfils the initial objective: which was to create a sentiment analysis model for the tourism industry, especially for the accommodation sector.\n",
        "\n",
        "We initially stated that the model should have two functions:\n",
        "1.\tIt will potentially show the keywords that are used in negative and positive reviews and\n",
        "2.\tIt will serve as a predictor for the positivity or negativity of future textual reviews from future customers.\n",
        "\n",
        "On one hand, this model fulfils the second function as it will be able to predict the sentiment of textual future reviews. From this, the business could identify better where are the areas of improvement both in its facilities and the services provided. These types of insights could be really useful for any tourism business that wants to improve but is unsure where it should put the effort and resources.\n",
        "\n",
        "On the other hand, the SVM model does not fulfil the first function, as this algorithm works with complicated mathematical formulas which make the model a 'Black Box', meaning that it is hard to be interpreted. Other models are easier to be interpreted and give more insights from learning the features that affect the text classification task. For example, the model made with feature extraction, with Naive Bayes, gave a list of the most informative features. From this, we can understand that 'dirty' and 'rude' are within the 3 most important features that help differentiate between positive and negative reviews. A tourism business should take in mind that it is highly important that the accommodation should look perfectly clean and that the hotel team should be kind and nice at all times. Furthermore, 'spacious' and 'modern' were keywords for positive reviews. These are good insights that the accommodation sector should take into account, especially before refurbishment times.\n",
        "\n",
        "This project has demonstrated that the combination of several techniques can help achieve the final objective which was to give NLP tools that can help a business in the tourism industry position itself ahead in the market. Furthermore, the same preprocessing and model could be applied for a similar dataset for a different sector within the tourism industry, such as excursions and attractions, or for other sentiment analysis tasks, such as movie reviews.\n",
        "\n",
        "\n",
        "## References:\n",
        "1.Kaggle.com. 2020. Trip Advisor Hotel Reviews. [online] Available at: <https://www.kaggle.com/andrewmvd/trip-advisor-hotel-reviews>\n"
      ]
    },
    {
      "cell_type": "code",
      "execution_count": null,
      "metadata": {
        "id": "1gtCRx8yrKKE"
      },
      "outputs": [],
      "source": []
    }
  ],
  "metadata": {
    "colab": {
      "provenance": [],
      "include_colab_link": true
    },
    "kernelspec": {
      "display_name": "Python 3 (ipykernel)",
      "language": "python",
      "name": "python3"
    },
    "language_info": {
      "codemirror_mode": {
        "name": "ipython",
        "version": 3
      },
      "file_extension": ".py",
      "mimetype": "text/x-python",
      "name": "python",
      "nbconvert_exporter": "python",
      "pygments_lexer": "ipython3",
      "version": "3.7.4"
    },
    "gpuClass": "standard"
  },
  "nbformat": 4,
  "nbformat_minor": 0
}